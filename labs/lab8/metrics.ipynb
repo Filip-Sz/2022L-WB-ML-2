{
 "cells": [
  {
   "cell_type": "markdown",
   "id": "154c5977",
   "metadata": {},
   "source": [
    "## Jak mierzyć rzeczy?"
   ]
  },
  {
   "cell_type": "code",
   "execution_count": 1,
   "id": "eb6eb3af",
   "metadata": {},
   "outputs": [
    {
     "name": "stderr",
     "output_type": "stream",
     "text": [
      "c:\\users\\beljasiak\\appdata\\local\\programs\\python\\python39\\lib\\site-packages\\pkg_resources\\__init__.py:122: PkgResourcesDeprecationWarning: 0.0.07d6de2784363a81e65d5af245dc41b3e71eb65b5- is an invalid version and will not be supported in a future release\n",
      "  warnings.warn(\n"
     ]
    }
   ],
   "source": [
    "import pandas as pd\n",
    "import numpy as np\n",
    "import matplotlib.pyplot as plt\n",
    "from sklearn.metrics import confusion_matrix, ConfusionMatrixDisplay\n",
    "from sklearn.metrics import recall_score, precision_score, f1_score, matthews_corrcoef, roc_auc_score, roc_curve, plot_roc_curve, plot_precision_recall_curve, accuracy_score\n",
    "from sklearn.linear_model import LogisticRegression\n",
    "from sklearn.model_selection import train_test_split, RandomizedSearchCV, GridSearchCV\n",
    "from sklearn.ensemble import RandomForestClassifier\n",
    "import xgboost as xgb"
   ]
  },
  {
   "cell_type": "markdown",
   "id": "0e8652f2",
   "metadata": {},
   "source": [
    "## Przykład na danych"
   ]
  },
  {
   "cell_type": "code",
   "execution_count": 2,
   "id": "75d36fd9",
   "metadata": {},
   "outputs": [],
   "source": [
    "data = pd.read_csv(\"../data/adult.csv\")"
   ]
  },
  {
   "cell_type": "code",
   "execution_count": 3,
   "id": "2e1fc4d6",
   "metadata": {},
   "outputs": [
    {
     "data": {
      "text/html": [
       "<div>\n",
       "<style scoped>\n",
       "    .dataframe tbody tr th:only-of-type {\n",
       "        vertical-align: middle;\n",
       "    }\n",
       "\n",
       "    .dataframe tbody tr th {\n",
       "        vertical-align: top;\n",
       "    }\n",
       "\n",
       "    .dataframe thead th {\n",
       "        text-align: right;\n",
       "    }\n",
       "</style>\n",
       "<table border=\"1\" class=\"dataframe\">\n",
       "  <thead>\n",
       "    <tr style=\"text-align: right;\">\n",
       "      <th></th>\n",
       "      <th>age</th>\n",
       "      <th>fnlwgt</th>\n",
       "      <th>capital-gain</th>\n",
       "      <th>capital-loss</th>\n",
       "      <th>hours-per-week</th>\n",
       "      <th>workclass_Local-gov</th>\n",
       "      <th>workclass_Never-worked</th>\n",
       "      <th>workclass_Private</th>\n",
       "      <th>workclass_Self-emp-inc</th>\n",
       "      <th>workclass_Self-emp-not-inc</th>\n",
       "      <th>...</th>\n",
       "      <th>race_Black</th>\n",
       "      <th>race_Other</th>\n",
       "      <th>race_White</th>\n",
       "      <th>sex_Male</th>\n",
       "      <th>native-country_Germany</th>\n",
       "      <th>native-country_Mexico</th>\n",
       "      <th>native-country_Philippines</th>\n",
       "      <th>native-country_United-States</th>\n",
       "      <th>native-country_other</th>\n",
       "      <th>pay_&gt;50K</th>\n",
       "    </tr>\n",
       "  </thead>\n",
       "  <tbody>\n",
       "    <tr>\n",
       "      <th>0</th>\n",
       "      <td>39</td>\n",
       "      <td>77516</td>\n",
       "      <td>2174</td>\n",
       "      <td>0</td>\n",
       "      <td>40</td>\n",
       "      <td>0</td>\n",
       "      <td>0</td>\n",
       "      <td>0</td>\n",
       "      <td>0</td>\n",
       "      <td>0</td>\n",
       "      <td>...</td>\n",
       "      <td>0</td>\n",
       "      <td>0</td>\n",
       "      <td>1</td>\n",
       "      <td>1</td>\n",
       "      <td>0</td>\n",
       "      <td>0</td>\n",
       "      <td>0</td>\n",
       "      <td>1</td>\n",
       "      <td>0</td>\n",
       "      <td>0</td>\n",
       "    </tr>\n",
       "    <tr>\n",
       "      <th>1</th>\n",
       "      <td>50</td>\n",
       "      <td>83311</td>\n",
       "      <td>0</td>\n",
       "      <td>0</td>\n",
       "      <td>13</td>\n",
       "      <td>0</td>\n",
       "      <td>0</td>\n",
       "      <td>0</td>\n",
       "      <td>0</td>\n",
       "      <td>1</td>\n",
       "      <td>...</td>\n",
       "      <td>0</td>\n",
       "      <td>0</td>\n",
       "      <td>1</td>\n",
       "      <td>1</td>\n",
       "      <td>0</td>\n",
       "      <td>0</td>\n",
       "      <td>0</td>\n",
       "      <td>1</td>\n",
       "      <td>0</td>\n",
       "      <td>0</td>\n",
       "    </tr>\n",
       "    <tr>\n",
       "      <th>2</th>\n",
       "      <td>38</td>\n",
       "      <td>215646</td>\n",
       "      <td>0</td>\n",
       "      <td>0</td>\n",
       "      <td>40</td>\n",
       "      <td>0</td>\n",
       "      <td>0</td>\n",
       "      <td>1</td>\n",
       "      <td>0</td>\n",
       "      <td>0</td>\n",
       "      <td>...</td>\n",
       "      <td>0</td>\n",
       "      <td>0</td>\n",
       "      <td>1</td>\n",
       "      <td>1</td>\n",
       "      <td>0</td>\n",
       "      <td>0</td>\n",
       "      <td>0</td>\n",
       "      <td>1</td>\n",
       "      <td>0</td>\n",
       "      <td>0</td>\n",
       "    </tr>\n",
       "    <tr>\n",
       "      <th>3</th>\n",
       "      <td>53</td>\n",
       "      <td>234721</td>\n",
       "      <td>0</td>\n",
       "      <td>0</td>\n",
       "      <td>40</td>\n",
       "      <td>0</td>\n",
       "      <td>0</td>\n",
       "      <td>1</td>\n",
       "      <td>0</td>\n",
       "      <td>0</td>\n",
       "      <td>...</td>\n",
       "      <td>1</td>\n",
       "      <td>0</td>\n",
       "      <td>0</td>\n",
       "      <td>1</td>\n",
       "      <td>0</td>\n",
       "      <td>0</td>\n",
       "      <td>0</td>\n",
       "      <td>1</td>\n",
       "      <td>0</td>\n",
       "      <td>0</td>\n",
       "    </tr>\n",
       "    <tr>\n",
       "      <th>4</th>\n",
       "      <td>28</td>\n",
       "      <td>338409</td>\n",
       "      <td>0</td>\n",
       "      <td>0</td>\n",
       "      <td>40</td>\n",
       "      <td>0</td>\n",
       "      <td>0</td>\n",
       "      <td>1</td>\n",
       "      <td>0</td>\n",
       "      <td>0</td>\n",
       "      <td>...</td>\n",
       "      <td>1</td>\n",
       "      <td>0</td>\n",
       "      <td>0</td>\n",
       "      <td>0</td>\n",
       "      <td>0</td>\n",
       "      <td>0</td>\n",
       "      <td>0</td>\n",
       "      <td>0</td>\n",
       "      <td>1</td>\n",
       "      <td>0</td>\n",
       "    </tr>\n",
       "  </tbody>\n",
       "</table>\n",
       "<p>5 rows × 64 columns</p>\n",
       "</div>"
      ],
      "text/plain": [
       "   age  fnlwgt  capital-gain  capital-loss  hours-per-week  \\\n",
       "0   39   77516          2174             0              40   \n",
       "1   50   83311             0             0              13   \n",
       "2   38  215646             0             0              40   \n",
       "3   53  234721             0             0              40   \n",
       "4   28  338409             0             0              40   \n",
       "\n",
       "   workclass_Local-gov  workclass_Never-worked  workclass_Private  \\\n",
       "0                    0                       0                  0   \n",
       "1                    0                       0                  0   \n",
       "2                    0                       0                  1   \n",
       "3                    0                       0                  1   \n",
       "4                    0                       0                  1   \n",
       "\n",
       "   workclass_Self-emp-inc  workclass_Self-emp-not-inc  ...  race_Black  \\\n",
       "0                       0                           0  ...           0   \n",
       "1                       0                           1  ...           0   \n",
       "2                       0                           0  ...           0   \n",
       "3                       0                           0  ...           1   \n",
       "4                       0                           0  ...           1   \n",
       "\n",
       "   race_Other  race_White  sex_Male  native-country_Germany  \\\n",
       "0           0           1         1                       0   \n",
       "1           0           1         1                       0   \n",
       "2           0           1         1                       0   \n",
       "3           0           0         1                       0   \n",
       "4           0           0         0                       0   \n",
       "\n",
       "   native-country_Mexico  native-country_Philippines  \\\n",
       "0                      0                           0   \n",
       "1                      0                           0   \n",
       "2                      0                           0   \n",
       "3                      0                           0   \n",
       "4                      0                           0   \n",
       "\n",
       "   native-country_United-States  native-country_other  pay_>50K  \n",
       "0                             1                     0         0  \n",
       "1                             1                     0         0  \n",
       "2                             1                     0         0  \n",
       "3                             1                     0         0  \n",
       "4                             0                     1         0  \n",
       "\n",
       "[5 rows x 64 columns]"
      ]
     },
     "execution_count": 3,
     "metadata": {},
     "output_type": "execute_result"
    }
   ],
   "source": [
    "data.head()"
   ]
  },
  {
   "cell_type": "code",
   "execution_count": 4,
   "id": "05c52460",
   "metadata": {},
   "outputs": [],
   "source": [
    "y = data[\"pay_>50K\"]\n",
    "X = data.drop(\"pay_>50K\", axis = 1)\n",
    "X_train_val, X_test, y_train_val, y_test = train_test_split(X, y, random_state=420, test_size=0.2)\n",
    "X_train, X_val, y_train, y_val = train_test_split(X_train_val, y_train_val, random_state=420, test_size=0.125)"
   ]
  },
  {
   "cell_type": "code",
   "execution_count": 5,
   "id": "647e226f",
   "metadata": {},
   "outputs": [
    {
     "data": {
      "text/plain": [
       "RandomForestClassifier()"
      ]
     },
     "execution_count": 5,
     "metadata": {},
     "output_type": "execute_result"
    }
   ],
   "source": [
    "rf = RandomForestClassifier()\n",
    "rf.fit(X_train, y_train)"
   ]
  },
  {
   "cell_type": "code",
   "execution_count": 6,
   "id": "de095c53",
   "metadata": {},
   "outputs": [
    {
     "data": {
      "text/plain": [
       "0.9999121844127332"
      ]
     },
     "execution_count": 6,
     "metadata": {},
     "output_type": "execute_result"
    }
   ],
   "source": [
    "accuracy_score(y_train, rf.predict(X_train))"
   ]
  },
  {
   "cell_type": "markdown",
   "id": "07aade23",
   "metadata": {},
   "source": [
    "Accuracy prawie 1, no to fajrant? Jak już dobrze wiemy, no nie do końca\n",
    "\n",
    "Skuteczność mierzyliśmy na zbiorze treningowym, a co gorsza mamy niezbalansowane klasy"
   ]
  },
  {
   "cell_type": "code",
   "execution_count": 7,
   "id": "c2408997",
   "metadata": {},
   "outputs": [
    {
     "data": {
      "text/plain": [
       "(array([0, 1], dtype=int64), array([24698,  7839], dtype=int64))"
      ]
     },
     "execution_count": 7,
     "metadata": {},
     "output_type": "execute_result"
    }
   ],
   "source": [
    "np.unique(data[\"pay_>50K\"], return_counts=True)"
   ]
  },
  {
   "cell_type": "markdown",
   "id": "53d7f08b",
   "metadata": {},
   "source": [
    "Podstawowe accuracy dla tego modelu to ok 75%, bo tyle możemy uzyskać tworząc predykcje z samych zer"
   ]
  },
  {
   "cell_type": "code",
   "execution_count": 8,
   "id": "9cfd8b52",
   "metadata": {},
   "outputs": [
    {
     "data": {
      "text/plain": [
       "0.7590742846605403"
      ]
     },
     "execution_count": 8,
     "metadata": {},
     "output_type": "execute_result"
    }
   ],
   "source": [
    "1 - data[\"pay_>50K\"].mean()"
   ]
  },
  {
   "cell_type": "markdown",
   "id": "94dd1044",
   "metadata": {},
   "source": [
    "## Confussion matrix\n",
    "Całkiem dobry [artykuł](https://en.wikipedia.org/wiki/Confusion_matrix) na wiki\n",
    "\n",
    "Macierz błędów jest prostym narzędziem wizualizacji wyników zwracanych przez nasz model. Natomiast jest ona niejako punktem wyjściowym dla wielu innych metryk w przypadku klasyfikacji binarnej jak i wieloklasowej."
   ]
  },
  {
   "cell_type": "markdown",
   "id": "a3f5ba22",
   "metadata": {},
   "source": [
    "### Klasyfikacja binarna"
   ]
  },
  {
   "cell_type": "code",
   "execution_count": 9,
   "id": "bff6b6ae",
   "metadata": {},
   "outputs": [],
   "source": [
    "y_true = [1, 0, 1, 1, 0]\n",
    "y_pred = [0, 1, 1, 0, 0]\n",
    "cm_vals = confusion_matrix(y_true, y_pred)"
   ]
  },
  {
   "cell_type": "code",
   "execution_count": 10,
   "id": "aaa71e1b",
   "metadata": {},
   "outputs": [
    {
     "data": {
      "image/png": "[encoded data removed]",
      "text/plain": [
       "<Figure size 432x288 with 2 Axes>"
      ]
     },
     "metadata": {
      "needs_background": "light"
     },
     "output_type": "display_data"
    }
   ],
   "source": [
    "cm = ConfusionMatrixDisplay(cm_vals)\n",
    "cm.plot()\n",
    "plt.show()"
   ]
  },
  {
   "cell_type": "code",
   "execution_count": 11,
   "id": "cfda08ae",
   "metadata": {},
   "outputs": [],
   "source": [
    "tn, fp, fn, tp = confusion_matrix(y_true, y_pred).ravel()"
   ]
  },
  {
   "cell_type": "markdown",
   "id": "d1958bf9",
   "metadata": {},
   "source": [
    "### Klasyfikacja wieloklasowa"
   ]
  },
  {
   "cell_type": "code",
   "execution_count": 12,
   "id": "9118d876",
   "metadata": {},
   "outputs": [],
   "source": [
    "y_true = [2, 0, 2, 2, 0, 1]\n",
    "y_pred = [0, 0, 2, 2, 0, 2]\n",
    "cm_vals = confusion_matrix(y_true, y_pred)"
   ]
  },
  {
   "cell_type": "code",
   "execution_count": 13,
   "id": "7aef961a",
   "metadata": {},
   "outputs": [
    {
     "data": {
      "image/png": "[encoded data removed]",
      "text/plain": [
       "<Figure size 432x288 with 2 Axes>"
      ]
     },
     "metadata": {
      "needs_background": "light"
     },
     "output_type": "display_data"
    }
   ],
   "source": [
    "cm = ConfusionMatrixDisplay(cm_vals)\n",
    "cm.plot()\n",
    "plt.show()"
   ]
  },
  {
   "cell_type": "code",
   "execution_count": 14,
   "id": "eaad9b50",
   "metadata": {},
   "outputs": [
    {
     "data": {
      "text/plain": [
       "array([2, 0, 0, 0, 0, 1, 1, 0, 2], dtype=int64)"
      ]
     },
     "execution_count": 14,
     "metadata": {},
     "output_type": "execute_result"
    }
   ],
   "source": [
    "confusion_matrix(y_true, y_pred).ravel()"
   ]
  },
  {
   "cell_type": "markdown",
   "id": "01ead2f9",
   "metadata": {},
   "source": [
    "# Często spotykane miary skuteczności modeli"
   ]
  },
  {
   "cell_type": "markdown",
   "id": "896c1dff",
   "metadata": {},
   "source": [
    "## Klasyfikacja binarna"
   ]
  },
  {
   "cell_type": "markdown",
   "id": "efef572d",
   "metadata": {},
   "source": [
    "- accuracy\n",
    "- balanced_accuracy \n",
    "- precision\n",
    "- recall\n",
    "- f1-score\n",
    "- roc curve\n",
    "- roc auc\n",
    "- precision_recall_curve_auc\n",
    "- jaccard\n",
    "- matthews_corrcoef"
   ]
  },
  {
   "cell_type": "markdown",
   "id": "79283ecc",
   "metadata": {},
   "source": [
    "## Klasyfikacja wieloklasowa\n",
    "Większość z powyższych metryk da się zastosować też do problemów wieloklasowych, natomiast czasami, oznacza to konieczność zastosowania kilku modyfikacji jak np 'micro' i 'macro' dla recall"
   ]
  },
  {
   "cell_type": "markdown",
   "id": "7abc850c",
   "metadata": {},
   "source": [
    "**top_k_accuracy**"
   ]
  },
  {
   "cell_type": "markdown",
   "id": "f3eada03",
   "metadata": {},
   "source": [
    "użycie top k accuracy w artykule [ResNet](https://arxiv.org/pdf/1512.03385.pdf)"
   ]
  },
  {
   "cell_type": "markdown",
   "id": "055abc40",
   "metadata": {},
   "source": [
    "Natomias różnie podchodzi się do problemów klasyfikacji wieloklasowej i często same modele tworzy się w struktórach one vs rest, bądź one vs other"
   ]
  },
  {
   "cell_type": "markdown",
   "id": "bad8227e",
   "metadata": {},
   "source": [
    "## Regresja "
   ]
  },
  {
   "cell_type": "markdown",
   "id": "c4253e5c",
   "metadata": {},
   "source": [
    "- Mean Squared Error (MSE)\n",
    " $$\\frac{1}{n}\\sum^{n}_{i=1}\\left(y_i - \\hat y_i\\right)^2$$\n",
    "- Root Mean Squared Error (RMSE)\n",
    " $$\\sqrt \\frac{1}{n}\\sum^{n}_{i=1}\\left(y_i - \\hat y_i\\right)^2$$\n",
    "\n",
    "- Mean Average Error (MAE)\n",
    " $$\\frac{1}{n}\\sum^{n}_{i=1}\\left|y_i - \\hat y_i\\right|$$\n",
    "\n",
    "- Mean Average Procentage Error (MAPE)\n",
    " $$\\frac{1}{n}\\sum^{n}_{i=1}\\left|\\frac{y_i - \\hat y_i}{y_i}\\right|$$\n",
    " \n",
    " \n",
    " i oczywiście wiele innych, nie jest rzadkim procesem definiowanie miar unikatowych dla problemu\n"
   ]
  },
  {
   "cell_type": "markdown",
   "id": "37c5b3cf",
   "metadata": {},
   "source": [
    "### Zimplementujcie poniższe metryki\n",
    "\n",
    "Polecam poszukać w internecie, albo w [dokumentacji](https://scikit-learn.org/stable/modules/classes.html#module-sklearn.metrics) sklearn, albo w tej [pracy](https://arxiv.org/pdf/2008.05756.pdf)."
   ]
  },
  {
   "cell_type": "code",
   "execution_count": 15,
   "id": "7f3cc650",
   "metadata": {},
   "outputs": [],
   "source": [
    "def lab_recall_score(y_true, y_pred):\n",
    "    pass\n",
    "def lab_precission_score(y_true, y_pred):\n",
    "    pass\n",
    "def lab_f1_score(y_true, y_pred):\n",
    "    pass\n",
    "def lab_matthews_corrcoef(y_true, y_pred):\n",
    "    pass"
   ]
  },
  {
   "cell_type": "markdown",
   "id": "1e143060",
   "metadata": {},
   "source": [
    "### Krzywa ROC"
   ]
  },
  {
   "cell_type": "code",
   "execution_count": 16,
   "id": "9d62efa9",
   "metadata": {},
   "outputs": [],
   "source": [
    "y_pred_proba = rf.predict_proba(X_test)"
   ]
  },
  {
   "cell_type": "code",
   "execution_count": 17,
   "id": "f9dfe204",
   "metadata": {},
   "outputs": [
    {
     "data": {
      "text/plain": [
       "<sklearn.metrics._plot.roc_curve.RocCurveDisplay at 0x164b4c7abe0>"
      ]
     },
     "execution_count": 17,
     "metadata": {},
     "output_type": "execute_result"
    },
    {
     "data": {
      "image/png": "[encoded data removed]",
      "text/plain": [
       "<Figure size 432x288 with 1 Axes>"
      ]
     },
     "metadata": {
      "needs_background": "light"
     },
     "output_type": "display_data"
    }
   ],
   "source": [
    "plot_roc_curve(rf, X_test, y_test)"
   ]
  },
  {
   "cell_type": "markdown",
   "id": "ecd8c98c",
   "metadata": {},
   "source": [
    "### Spróbujmy sami zrozumieć co przedstawia krzywa ROC i ją stworzyć"
   ]
  },
  {
   "cell_type": "code",
   "execution_count": 18,
   "id": "46d15aae",
   "metadata": {},
   "outputs": [],
   "source": [
    "def lab_plot_roc_curve(y_true, y_pred_proba):\n",
    "    pass"
   ]
  },
  {
   "cell_type": "markdown",
   "id": "13122c09",
   "metadata": {},
   "source": [
    "dla chętnych dodatkowa funkcja"
   ]
  },
  {
   "cell_type": "code",
   "execution_count": 33,
   "id": "5834ab99",
   "metadata": {},
   "outputs": [],
   "source": [
    "def lab_roc_auc_score(y_true, y_pred_proba):\n",
    "    pass"
   ]
  },
  {
   "cell_type": "markdown",
   "id": "764e864c",
   "metadata": {},
   "source": [
    "## Funkcje strat (loss functions)\n",
    "\n",
    "Trudno mówić o skutecznosci modeli bez wspomnienia funkcji, które probują one zminimalizować. Większośc modeli, jest tworzona by minimalizować pewną funkcję opisującą jakiegoś rodzaju błąd predykcji.\n",
    "\n",
    "Każdy model, to nieco inna próba matymatycznego opisu konkretnego problemu. Czasami próbująca rozwiązać konkretny problem świata fizycznego badź usprawnić własność innego modelu.\n",
    "\n",
    "Przykład z [SVM](https://en.wikipedia.org/wiki/Support-vector_machine)"
   ]
  },
  {
   "cell_type": "markdown",
   "id": "52435239",
   "metadata": {},
   "source": [
    "### Przykłady\n",
    "\n",
    " MNK -> Lasso i Ridge\n",
    " \n",
    " Drzewa decyzyjne -> Lasy losowe -> XGBoost\n",
    " \n",
    " LDA -> QDA\n",
    " \n",
    " Ale również w sieciach neuronowych\n",
    " \n",
    " [Autoencoders](https://www.tensorflow.org/tutorials/generative/autoencoder) -> [Variational Autoencoders](https://arxiv.org/abs/1312.6114) (VAE) -> [Generative Adversarial Networks](https://arxiv.org/abs/1406.2661) (GAN)\n",
    " \n",
    " "
   ]
  },
  {
   "cell_type": "markdown",
   "id": "49e53e4f",
   "metadata": {},
   "source": [
    "## Modele gradientowe\n",
    "\n",
    "Podobnie ale nieco inaczej wygląda to w modelach gradientowych, które z definicji próbują zminimalizować zdefiniowaną jasno funkcje, która z musi być wypukła i różniczkowalna. Poznaliśmy jeden z modeli wykorzystujący gradient i był to [XGBoost](https://xgboost.readthedocs.io/en/stable/parameter.html#learning-task-parameters)\n",
    "\n",
    "Jest wiele różnych metod optymalizacji wykorzystującej gradienty, Stochastic Gradient Descent, Adam, AdaGrad itd, długo by wymieniać. Natomiast wszystkich można użyć z dowolną funkcją strat i jej gradientem, o ile on istnieje i jesteśmy w stanie go policzyć.\n",
    "\n",
    "### Przykład funkcji celu dla klasycznego GANa\n",
    "Dwa obiekty generator $G$ i discriminator $D$. Gdzie generator próbuję zminimalizować poniższą funkcję, natomiast discriminator zmaksymalizować.\n",
    "\n",
    "$$E_x[log(D(x))] + E_z[log(1-D(G(z)))]$$\n",
    "\n",
    "$D(x)$ to predykcja discriminatora, $G(z)$ to wygenerowany z szumu obraz\n",
    "\n",
    "Czy jest to łatwy problem do optymalizacji? Jak najbardziej, nie natomiast jeżeli rozwiąże się go dobrze, to można uzyskać [ładne zdjęcia](https://github.com/NVlabs/stylegan2) i [różne rzeczy, które nie istnieją](https://thisxdoesnotexist.com/).\n",
    "\n",
    "### Co natomiast zrobić gdy nie możemy uzyskać gradientu?\n",
    "Pozostawiam do zastanowienia"
   ]
  },
  {
   "cell_type": "markdown",
   "id": "25b03d67",
   "metadata": {},
   "source": [
    "## Strojenie hiperparametrów"
   ]
  },
  {
   "cell_type": "markdown",
   "id": "d11c5d42",
   "metadata": {},
   "source": [
    "### Domyślny las losowy"
   ]
  },
  {
   "cell_type": "code",
   "execution_count": 19,
   "id": "bb0bfb48",
   "metadata": {},
   "outputs": [
    {
     "data": {
      "text/plain": [
       "RandomForestClassifier(n_jobs=-1)"
      ]
     },
     "execution_count": 19,
     "metadata": {},
     "output_type": "execute_result"
    }
   ],
   "source": [
    "rf = RandomForestClassifier(n_jobs=-1)\n",
    "rf.fit(X_train, y_train)"
   ]
  },
  {
   "cell_type": "code",
   "execution_count": 20,
   "id": "6156b83a",
   "metadata": {},
   "outputs": [
    {
     "data": {
      "text/plain": [
       "{'bootstrap': True,\n",
       " 'ccp_alpha': 0.0,\n",
       " 'class_weight': None,\n",
       " 'criterion': 'gini',\n",
       " 'max_depth': None,\n",
       " 'max_features': 'auto',\n",
       " 'max_leaf_nodes': None,\n",
       " 'max_samples': None,\n",
       " 'min_impurity_decrease': 0.0,\n",
       " 'min_impurity_split': None,\n",
       " 'min_samples_leaf': 1,\n",
       " 'min_samples_split': 2,\n",
       " 'min_weight_fraction_leaf': 0.0,\n",
       " 'n_estimators': 100,\n",
       " 'n_jobs': -1,\n",
       " 'oob_score': False,\n",
       " 'random_state': None,\n",
       " 'verbose': 0,\n",
       " 'warm_start': False}"
      ]
     },
     "execution_count": 20,
     "metadata": {},
     "output_type": "execute_result"
    }
   ],
   "source": [
    "rf.get_params()"
   ]
  },
  {
   "cell_type": "code",
   "execution_count": 21,
   "id": "edbd2468",
   "metadata": {},
   "outputs": [],
   "source": [
    "def plot_cm_and_recall(model, X_train, X_test, y_train, y_test):\n",
    "    \n",
    "    y_pred_train = model.predict(X_train)\n",
    "    y_pred_test = model.predict(X_test)\n",
    "    train_recall = recall_score(y_train, y_pred_train)\n",
    "    test_recall = recall_score(y_test, y_pred_test)\n",
    "    \n",
    "    fig, axs = plt.subplots(ncols=2)\n",
    "    cm = ConfusionMatrixDisplay(confusion_matrix(y_train, y_pred_train))\n",
    "    cm.plot(colorbar=False, ax=axs[0])\n",
    "    axs[0].set_title(f\"Train (recall {train_recall:.03f})\")\n",
    "    \n",
    "    cm = ConfusionMatrixDisplay(confusion_matrix(y_test, y_pred_test))\n",
    "    cm.plot(colorbar=False, ax=axs[1])\n",
    "    axs[1].set_title(f\"Test (recall {test_recall:.03f})\")\n",
    "    plt.show()\n",
    "    "
   ]
  },
  {
   "cell_type": "code",
   "execution_count": 22,
   "id": "8e816cbb",
   "metadata": {},
   "outputs": [
    {
     "data": {
      "image/png": "[encoded data removed]",
      "text/plain": [
       "<Figure size 432x288 with 2 Axes>"
      ]
     },
     "metadata": {
      "needs_background": "light"
     },
     "output_type": "display_data"
    }
   ],
   "source": [
    "plot_cm_and_recall(rf, X_train, X_test, y_train, y_test)"
   ]
  },
  {
   "cell_type": "markdown",
   "id": "7ddf0ca6",
   "metadata": {},
   "source": [
    "### Spróbujmy znaleźc lepsze hiperparametry"
   ]
  },
  {
   "cell_type": "code",
   "execution_count": 23,
   "id": "36ef9e01",
   "metadata": {},
   "outputs": [],
   "source": [
    "search_space = {\"max_depth\": [None, 2, 4, 8, 10],\n",
    "               \"n_estimators\": [10,20,50,100],\n",
    "               \"class_weight\": [None, \"balanced\", \"balanced_subsample\"]}"
   ]
  },
  {
   "cell_type": "code",
   "execution_count": 24,
   "id": "f639d636",
   "metadata": {},
   "outputs": [],
   "source": [
    "rf2 = RandomForestClassifier(n_jobs=-1)"
   ]
  },
  {
   "cell_type": "markdown",
   "id": "06fe98ef",
   "metadata": {},
   "source": [
    "## Random Serach"
   ]
  },
  {
   "cell_type": "code",
   "execution_count": 25,
   "id": "6adc8d3b",
   "metadata": {},
   "outputs": [],
   "source": [
    "rscv = RandomizedSearchCV(rf2, search_space, scoring=\"recall\", verbose = 2, n_jobs=-1)"
   ]
  },
  {
   "cell_type": "code",
   "execution_count": 26,
   "id": "50bd8c2c",
   "metadata": {},
   "outputs": [
    {
     "name": "stdout",
     "output_type": "stream",
     "text": [
      "Fitting 5 folds for each of 10 candidates, totalling 50 fits\n"
     ]
    },
    {
     "data": {
      "text/plain": [
       "RandomizedSearchCV(estimator=RandomForestClassifier(n_jobs=-1), n_jobs=-1,\n",
       "                   param_distributions={'class_weight': [None, 'balanced',\n",
       "                                                         'balanced_subsample'],\n",
       "                                        'max_depth': [None, 2, 4, 8, 10],\n",
       "                                        'n_estimators': [10, 20, 50, 100]},\n",
       "                   scoring='recall', verbose=2)"
      ]
     },
     "execution_count": 26,
     "metadata": {},
     "output_type": "execute_result"
    }
   ],
   "source": [
    "rscv.fit(X_train, y_train)"
   ]
  },
  {
   "cell_type": "code",
   "execution_count": 27,
   "id": "e1437674",
   "metadata": {},
   "outputs": [
    {
     "data": {
      "text/plain": [
       "{'n_estimators': 100, 'max_depth': 8, 'class_weight': 'balanced_subsample'}"
      ]
     },
     "execution_count": 27,
     "metadata": {},
     "output_type": "execute_result"
    }
   ],
   "source": [
    "rscv.best_params_"
   ]
  },
  {
   "cell_type": "code",
   "execution_count": 28,
   "id": "68c47671",
   "metadata": {},
   "outputs": [
    {
     "data": {
      "image/png": "[encoded data removed]",
      "text/plain": [
       "<Figure size 432x288 with 2 Axes>"
      ]
     },
     "metadata": {
      "needs_background": "light"
     },
     "output_type": "display_data"
    }
   ],
   "source": [
    "plot_cm_and_recall(rscv.best_estimator_, X_train, X_test, y_train, y_test)"
   ]
  },
  {
   "cell_type": "markdown",
   "id": "ae3de827",
   "metadata": {},
   "source": [
    "### Grid Search"
   ]
  },
  {
   "cell_type": "code",
   "execution_count": 29,
   "id": "64e0cf1b",
   "metadata": {},
   "outputs": [],
   "source": [
    "gscv = GridSearchCV(rf2, search_space, scoring=\"recall\", verbose = 2, n_jobs=-1)"
   ]
  },
  {
   "cell_type": "code",
   "execution_count": 30,
   "id": "d8e19de0",
   "metadata": {},
   "outputs": [
    {
     "name": "stdout",
     "output_type": "stream",
     "text": [
      "Fitting 5 folds for each of 60 candidates, totalling 300 fits\n"
     ]
    },
    {
     "data": {
      "text/plain": [
       "GridSearchCV(estimator=RandomForestClassifier(n_jobs=-1), n_jobs=-1,\n",
       "             param_grid={'class_weight': [None, 'balanced',\n",
       "                                          'balanced_subsample'],\n",
       "                         'max_depth': [None, 2, 4, 8, 10],\n",
       "                         'n_estimators': [10, 20, 50, 100]},\n",
       "             scoring='recall', verbose=2)"
      ]
     },
     "execution_count": 30,
     "metadata": {},
     "output_type": "execute_result"
    }
   ],
   "source": [
    "gscv.fit(X_train, y_train)"
   ]
  },
  {
   "cell_type": "code",
   "execution_count": 31,
   "id": "a10c222e",
   "metadata": {},
   "outputs": [
    {
     "data": {
      "text/plain": [
       "{'class_weight': 'balanced_subsample', 'max_depth': 8, 'n_estimators': 10}"
      ]
     },
     "execution_count": 31,
     "metadata": {},
     "output_type": "execute_result"
    }
   ],
   "source": [
    "gscv.best_params_"
   ]
  },
  {
   "cell_type": "code",
   "execution_count": 32,
   "id": "219c25eb",
   "metadata": {},
   "outputs": [
    {
     "data": {
      "image/png": "[encoded data removed]",
      "text/plain": [
       "<Figure size 432x288 with 2 Axes>"
      ]
     },
     "metadata": {
      "needs_background": "light"
     },
     "output_type": "display_data"
    }
   ],
   "source": [
    "plot_cm_and_recall(gscv.best_estimator_, X_train, X_test, y_train, y_test)"
   ]
  }
 ],
 "metadata": {
  "kernelspec": {
   "display_name": "Python 3 (ipykernel)",
   "language": "python",
   "name": "python3"
  },
  "language_info": {
   "codemirror_mode": {
    "name": "ipython",
    "version": 3
   },
   "file_extension": ".py",
   "mimetype": "text/x-python",
   "name": "python",
   "nbconvert_exporter": "python",
   "pygments_lexer": "ipython3",
   "version": "3.9.6"
  }
 },
 "nbformat": 4,
 "nbformat_minor": 5
}
