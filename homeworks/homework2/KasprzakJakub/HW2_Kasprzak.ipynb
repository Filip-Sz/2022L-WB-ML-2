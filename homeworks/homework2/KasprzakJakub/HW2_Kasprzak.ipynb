{
 "cells": [
  {
   "cell_type": "markdown",
   "metadata": {
    "datalore": {
     "hide_input_from_viewers": false,
     "hide_output_from_viewers": false,
     "type": "MD"
    }
   },
   "source": [
    "## Import bibliotek i ładowanie danych"
   ]
  },
  {
   "cell_type": "code",
   "execution_count": 81,
   "metadata": {
    "datalore": {
     "hide_input_from_viewers": false,
     "hide_output_from_viewers": false,
     "type": "CODE"
    }
   },
   "outputs": [],
   "source": [
    "import xgboost as xgb\n",
    "import pandas as pd\n",
    "import numpy as np\n",
    "import matplotlib.pyplot as plt\n",
    "import seaborn as sns\n",
    "from sklearn.model_selection import train_test_split\n",
    "from sklearn.datasets import make_regression\n",
    "from sklearn.preprocessing import StandardScaler\n",
    "from sklearn.pipeline import Pipeline\n",
    "from sklearn.preprocessing import OneHotEncoder\n",
    "\n",
    "from tqdm.notebook import tqdm\n",
    "\n",
    "from sklearn.metrics import roc_auc_score, accuracy_score, f1_score, roc_curve\n",
    "from sklearn.tree import DecisionTreeClassifier, DecisionTreeRegressor, plot_tree\n",
    "from sklearn.ensemble import RandomForestClassifier, RandomForestRegressor, BaggingClassifier\n",
    "\n",
    "from sklearn.svm import SVC\n",
    "from sklearn.linear_model import LogisticRegression\n",
    "\n",
    "from sklearn.model_selection import cross_val_score\n",
    "from sklearn.model_selection import StratifiedKFold, KFold\n",
    "\n",
    "from sklearn.model_selection import GridSearchCV, RandomizedSearchCV\n",
    "\n",
    "import timeit\n",
    "\n",
    "# ustawia domyślną wielkość wykresów\n",
    "plt.rcParams['figure.figsize'] = (12,8)\n",
    "# to samo tylko dla tekstu\n",
    "plt.rcParams['font.size'] = 10"
   ]
  },
  {
   "cell_type": "code",
   "execution_count": 82,
   "metadata": {
    "datalore": {
     "hide_input_from_viewers": false,
     "hide_output_from_viewers": false,
     "type": "CODE"
    }
   },
   "outputs": [],
   "source": [
    "airline_test = pd.read_csv(\"./data/airline_passenger_satisfaction/test.csv\")\n",
    "airline_train = pd.read_csv(\"./data/airline_passenger_satisfaction/train.csv\")"
   ]
  },
  {
   "cell_type": "code",
   "execution_count": 146,
   "metadata": {
    "datalore": {
     "hide_input_from_viewers": false,
     "hide_output_from_viewers": false,
     "type": "CODE"
    }
   },
   "outputs": [],
   "source": [
    "cars = pd.read_csv(\"./data/car_prices_poland/Car_Prices_Poland.csv\")"
   ]
  },
  {
   "cell_type": "code",
   "execution_count": 147,
   "metadata": {},
   "outputs": [],
   "source": [
    "miasta = pd.read_csv(\"./data/car_prices_poland/miasta.csv\")"
   ]
  },
  {
   "cell_type": "markdown",
   "metadata": {
    "datalore": {
     "hide_input_from_viewers": false,
     "hide_output_from_viewers": false,
     "type": "MD"
    }
   },
   "source": [
    "## Dataset `airline_passenger_satisfaction`"
   ]
  },
  {
   "cell_type": "markdown",
   "metadata": {
    "datalore": {
     "hide_input_from_viewers": false,
     "hide_output_from_viewers": false,
     "type": "MD"
    }
   },
   "source": [
    "### Obróbka danych"
   ]
  },
  {
   "cell_type": "code",
   "execution_count": 236,
   "metadata": {
    "datalore": {
     "hide_input_from_viewers": false,
     "hide_output_from_viewers": false,
     "type": "CODE"
    }
   },
   "outputs": [
    {
     "data": {
      "text/plain": [
       "(103904, 25)"
      ]
     },
     "execution_count": 236,
     "metadata": {},
     "output_type": "execute_result"
    }
   ],
   "source": [
    "airline_train.shape"
   ]
  },
  {
   "cell_type": "code",
   "execution_count": 237,
   "metadata": {
    "datalore": {
     "hide_input_from_viewers": false,
     "hide_output_from_viewers": false,
     "type": "CODE"
    }
   },
   "outputs": [
    {
     "data": {
      "text/plain": [
       "(25976, 25)"
      ]
     },
     "execution_count": 237,
     "metadata": {},
     "output_type": "execute_result"
    }
   ],
   "source": [
    "airline_test.shape"
   ]
  },
  {
   "cell_type": "markdown",
   "metadata": {
    "datalore": {
     "hide_input_from_viewers": false,
     "hide_output_from_viewers": false,
     "type": "MD"
    }
   },
   "source": [
    "Zbiór danych jest podzielony w stosunku 4:1."
   ]
  },
  {
   "cell_type": "code",
   "execution_count": 238,
   "metadata": {
    "datalore": {
     "hide_input_from_viewers": false,
     "hide_output_from_viewers": false,
     "type": "CODE"
    }
   },
   "outputs": [
    {
     "name": "stdout",
     "output_type": "stream",
     "text": [
      "<class 'pandas.core.frame.DataFrame'>\n",
      "RangeIndex: 103904 entries, 0 to 103903\n",
      "Data columns (total 25 columns):\n",
      " #   Column                             Non-Null Count   Dtype  \n",
      "---  ------                             --------------   -----  \n",
      " 0   Unnamed: 0                         103904 non-null  int64  \n",
      " 1   id                                 103904 non-null  int64  \n",
      " 2   Gender                             103904 non-null  object \n",
      " 3   Customer Type                      103904 non-null  object \n",
      " 4   Age                                103904 non-null  int64  \n",
      " 5   Type of Travel                     103904 non-null  object \n",
      " 6   Class                              103904 non-null  object \n",
      " 7   Flight Distance                    103904 non-null  int64  \n",
      " 8   Inflight wifi service              103904 non-null  int64  \n",
      " 9   Departure/Arrival time convenient  103904 non-null  int64  \n",
      " 10  Ease of Online booking             103904 non-null  int64  \n",
      " 11  Gate location                      103904 non-null  int64  \n",
      " 12  Food and drink                     103904 non-null  int64  \n",
      " 13  Online boarding                    103904 non-null  int64  \n",
      " 14  Seat comfort                       103904 non-null  int64  \n",
      " 15  Inflight entertainment             103904 non-null  int64  \n",
      " 16  On-board service                   103904 non-null  int64  \n",
      " 17  Leg room service                   103904 non-null  int64  \n",
      " 18  Baggage handling                   103904 non-null  int64  \n",
      " 19  Checkin service                    103904 non-null  int64  \n",
      " 20  Inflight service                   103904 non-null  int64  \n",
      " 21  Cleanliness                        103904 non-null  int64  \n",
      " 22  Departure Delay in Minutes         103904 non-null  int64  \n",
      " 23  Arrival Delay in Minutes           103594 non-null  float64\n",
      " 24  satisfaction                       103904 non-null  object \n",
      "dtypes: float64(1), int64(19), object(5)\n",
      "memory usage: 19.8+ MB\n"
     ]
    }
   ],
   "source": [
    "airline_train.info()"
   ]
  },
  {
   "cell_type": "code",
   "execution_count": 239,
   "metadata": {
    "datalore": {
     "hide_input_from_viewers": false,
     "hide_output_from_viewers": false,
     "type": "CODE"
    }
   },
   "outputs": [
    {
     "data": {
      "text/html": [
       "<div>\n",
       "<style scoped>\n",
       "    .dataframe tbody tr th:only-of-type {\n",
       "        vertical-align: middle;\n",
       "    }\n",
       "\n",
       "    .dataframe tbody tr th {\n",
       "        vertical-align: top;\n",
       "    }\n",
       "\n",
       "    .dataframe thead th {\n",
       "        text-align: right;\n",
       "    }\n",
       "</style>\n",
       "<table border=\"1\" class=\"dataframe\">\n",
       "  <thead>\n",
       "    <tr style=\"text-align: right;\">\n",
       "      <th></th>\n",
       "      <th>Unnamed: 0</th>\n",
       "      <th>id</th>\n",
       "      <th>Gender</th>\n",
       "      <th>Customer Type</th>\n",
       "      <th>Age</th>\n",
       "      <th>Type of Travel</th>\n",
       "      <th>Class</th>\n",
       "      <th>Flight Distance</th>\n",
       "      <th>Inflight wifi service</th>\n",
       "      <th>Departure/Arrival time convenient</th>\n",
       "      <th>...</th>\n",
       "      <th>Inflight entertainment</th>\n",
       "      <th>On-board service</th>\n",
       "      <th>Leg room service</th>\n",
       "      <th>Baggage handling</th>\n",
       "      <th>Checkin service</th>\n",
       "      <th>Inflight service</th>\n",
       "      <th>Cleanliness</th>\n",
       "      <th>Departure Delay in Minutes</th>\n",
       "      <th>Arrival Delay in Minutes</th>\n",
       "      <th>satisfaction</th>\n",
       "    </tr>\n",
       "  </thead>\n",
       "  <tbody>\n",
       "    <tr>\n",
       "      <th>0</th>\n",
       "      <td>0</td>\n",
       "      <td>70172</td>\n",
       "      <td>Male</td>\n",
       "      <td>Loyal Customer</td>\n",
       "      <td>13</td>\n",
       "      <td>Personal Travel</td>\n",
       "      <td>Eco Plus</td>\n",
       "      <td>460</td>\n",
       "      <td>3</td>\n",
       "      <td>4</td>\n",
       "      <td>...</td>\n",
       "      <td>5</td>\n",
       "      <td>4</td>\n",
       "      <td>3</td>\n",
       "      <td>4</td>\n",
       "      <td>4</td>\n",
       "      <td>5</td>\n",
       "      <td>5</td>\n",
       "      <td>25</td>\n",
       "      <td>18.0</td>\n",
       "      <td>neutral or dissatisfied</td>\n",
       "    </tr>\n",
       "    <tr>\n",
       "      <th>1</th>\n",
       "      <td>1</td>\n",
       "      <td>5047</td>\n",
       "      <td>Male</td>\n",
       "      <td>disloyal Customer</td>\n",
       "      <td>25</td>\n",
       "      <td>Business travel</td>\n",
       "      <td>Business</td>\n",
       "      <td>235</td>\n",
       "      <td>3</td>\n",
       "      <td>2</td>\n",
       "      <td>...</td>\n",
       "      <td>1</td>\n",
       "      <td>1</td>\n",
       "      <td>5</td>\n",
       "      <td>3</td>\n",
       "      <td>1</td>\n",
       "      <td>4</td>\n",
       "      <td>1</td>\n",
       "      <td>1</td>\n",
       "      <td>6.0</td>\n",
       "      <td>neutral or dissatisfied</td>\n",
       "    </tr>\n",
       "    <tr>\n",
       "      <th>2</th>\n",
       "      <td>2</td>\n",
       "      <td>110028</td>\n",
       "      <td>Female</td>\n",
       "      <td>Loyal Customer</td>\n",
       "      <td>26</td>\n",
       "      <td>Business travel</td>\n",
       "      <td>Business</td>\n",
       "      <td>1142</td>\n",
       "      <td>2</td>\n",
       "      <td>2</td>\n",
       "      <td>...</td>\n",
       "      <td>5</td>\n",
       "      <td>4</td>\n",
       "      <td>3</td>\n",
       "      <td>4</td>\n",
       "      <td>4</td>\n",
       "      <td>4</td>\n",
       "      <td>5</td>\n",
       "      <td>0</td>\n",
       "      <td>0.0</td>\n",
       "      <td>satisfied</td>\n",
       "    </tr>\n",
       "    <tr>\n",
       "      <th>3</th>\n",
       "      <td>3</td>\n",
       "      <td>24026</td>\n",
       "      <td>Female</td>\n",
       "      <td>Loyal Customer</td>\n",
       "      <td>25</td>\n",
       "      <td>Business travel</td>\n",
       "      <td>Business</td>\n",
       "      <td>562</td>\n",
       "      <td>2</td>\n",
       "      <td>5</td>\n",
       "      <td>...</td>\n",
       "      <td>2</td>\n",
       "      <td>2</td>\n",
       "      <td>5</td>\n",
       "      <td>3</td>\n",
       "      <td>1</td>\n",
       "      <td>4</td>\n",
       "      <td>2</td>\n",
       "      <td>11</td>\n",
       "      <td>9.0</td>\n",
       "      <td>neutral or dissatisfied</td>\n",
       "    </tr>\n",
       "    <tr>\n",
       "      <th>4</th>\n",
       "      <td>4</td>\n",
       "      <td>119299</td>\n",
       "      <td>Male</td>\n",
       "      <td>Loyal Customer</td>\n",
       "      <td>61</td>\n",
       "      <td>Business travel</td>\n",
       "      <td>Business</td>\n",
       "      <td>214</td>\n",
       "      <td>3</td>\n",
       "      <td>3</td>\n",
       "      <td>...</td>\n",
       "      <td>3</td>\n",
       "      <td>3</td>\n",
       "      <td>4</td>\n",
       "      <td>4</td>\n",
       "      <td>3</td>\n",
       "      <td>3</td>\n",
       "      <td>3</td>\n",
       "      <td>0</td>\n",
       "      <td>0.0</td>\n",
       "      <td>satisfied</td>\n",
       "    </tr>\n",
       "  </tbody>\n",
       "</table>\n",
       "<p>5 rows × 25 columns</p>\n",
       "</div>"
      ],
      "text/plain": [
       "   Unnamed: 0      id  Gender      Customer Type  Age   Type of Travel  \\\n",
       "0           0   70172    Male     Loyal Customer   13  Personal Travel   \n",
       "1           1    5047    Male  disloyal Customer   25  Business travel   \n",
       "2           2  110028  Female     Loyal Customer   26  Business travel   \n",
       "3           3   24026  Female     Loyal Customer   25  Business travel   \n",
       "4           4  119299    Male     Loyal Customer   61  Business travel   \n",
       "\n",
       "      Class  Flight Distance  Inflight wifi service  \\\n",
       "0  Eco Plus              460                      3   \n",
       "1  Business              235                      3   \n",
       "2  Business             1142                      2   \n",
       "3  Business              562                      2   \n",
       "4  Business              214                      3   \n",
       "\n",
       "   Departure/Arrival time convenient  ...  Inflight entertainment  \\\n",
       "0                                  4  ...                       5   \n",
       "1                                  2  ...                       1   \n",
       "2                                  2  ...                       5   \n",
       "3                                  5  ...                       2   \n",
       "4                                  3  ...                       3   \n",
       "\n",
       "   On-board service  Leg room service  Baggage handling  Checkin service  \\\n",
       "0                 4                 3                 4                4   \n",
       "1                 1                 5                 3                1   \n",
       "2                 4                 3                 4                4   \n",
       "3                 2                 5                 3                1   \n",
       "4                 3                 4                 4                3   \n",
       "\n",
       "   Inflight service  Cleanliness  Departure Delay in Minutes  \\\n",
       "0                 5            5                          25   \n",
       "1                 4            1                           1   \n",
       "2                 4            5                           0   \n",
       "3                 4            2                          11   \n",
       "4                 3            3                           0   \n",
       "\n",
       "   Arrival Delay in Minutes             satisfaction  \n",
       "0                      18.0  neutral or dissatisfied  \n",
       "1                       6.0  neutral or dissatisfied  \n",
       "2                       0.0                satisfied  \n",
       "3                       9.0  neutral or dissatisfied  \n",
       "4                       0.0                satisfied  \n",
       "\n",
       "[5 rows x 25 columns]"
      ]
     },
     "execution_count": 239,
     "metadata": {},
     "output_type": "execute_result"
    }
   ],
   "source": [
    "airline_train.head()"
   ]
  },
  {
   "cell_type": "markdown",
   "metadata": {
    "datalore": {
     "hide_input_from_viewers": false,
     "hide_output_from_viewers": false,
     "type": "MD"
    }
   },
   "source": [
    "Sprawdzam rozkłady zmiennych tekstowych."
   ]
  },
  {
   "cell_type": "code",
   "execution_count": 240,
   "metadata": {
    "datalore": {
     "hide_input_from_viewers": false,
     "hide_output_from_viewers": false,
     "type": "CODE"
    }
   },
   "outputs": [
    {
     "data": {
      "text/plain": [
       "neutral or dissatisfied    58879\n",
       "satisfied                  45025\n",
       "Name: satisfaction, dtype: int64"
      ]
     },
     "execution_count": 240,
     "metadata": {},
     "output_type": "execute_result"
    }
   ],
   "source": [
    "airline_train['satisfaction'].value_counts()"
   ]
  },
  {
   "cell_type": "markdown",
   "metadata": {
    "datalore": {
     "hide_input_from_viewers": false,
     "hide_output_from_viewers": false,
     "type": "MD"
    }
   },
   "source": [
    "Zmienną objaśnianą w naszym przypadku będzie `satisfaction`. Ma dwie różne wartości, więc naszym zadaniem będzie klasyfikacja."
   ]
  },
  {
   "cell_type": "code",
   "execution_count": 241,
   "metadata": {
    "datalore": {
     "hide_input_from_viewers": false,
     "hide_output_from_viewers": false,
     "type": "CODE"
    }
   },
   "outputs": [
    {
     "data": {
      "text/plain": [
       "Loyal Customer       84923\n",
       "disloyal Customer    18981\n",
       "Name: Customer Type, dtype: int64"
      ]
     },
     "execution_count": 241,
     "metadata": {},
     "output_type": "execute_result"
    }
   ],
   "source": [
    "airline_train['Customer Type'].value_counts()"
   ]
  },
  {
   "cell_type": "code",
   "execution_count": 242,
   "metadata": {
    "datalore": {
     "hide_input_from_viewers": false,
     "hide_output_from_viewers": false,
     "type": "CODE"
    }
   },
   "outputs": [
    {
     "data": {
      "text/plain": [
       "Business travel    71655\n",
       "Personal Travel    32249\n",
       "Name: Type of Travel, dtype: int64"
      ]
     },
     "execution_count": 242,
     "metadata": {},
     "output_type": "execute_result"
    }
   ],
   "source": [
    "airline_train['Type of Travel'].value_counts()"
   ]
  },
  {
   "cell_type": "code",
   "execution_count": 243,
   "metadata": {
    "datalore": {
     "hide_input_from_viewers": false,
     "hide_output_from_viewers": false,
     "type": "CODE"
    }
   },
   "outputs": [
    {
     "data": {
      "text/plain": [
       "Business    49665\n",
       "Eco         46745\n",
       "Eco Plus     7494\n",
       "Name: Class, dtype: int64"
      ]
     },
     "execution_count": 243,
     "metadata": {},
     "output_type": "execute_result"
    }
   ],
   "source": [
    "airline_train['Class'].value_counts()"
   ]
  },
  {
   "cell_type": "code",
   "execution_count": 244,
   "metadata": {
    "datalore": {
     "hide_input_from_viewers": false,
     "hide_output_from_viewers": false,
     "type": "CODE"
    }
   },
   "outputs": [
    {
     "data": {
      "text/plain": [
       "4.973859489931849"
      ]
     },
     "execution_count": 244,
     "metadata": {},
     "output_type": "execute_result"
    }
   ],
   "source": [
    "np.abs(airline_train['Arrival Delay in Minutes'] - airline_train['Departure Delay in Minutes']).mean()"
   ]
  },
  {
   "cell_type": "code",
   "execution_count": 245,
   "metadata": {
    "datalore": {
     "hide_input_from_viewers": false,
     "hide_output_from_viewers": false,
     "type": "CODE"
    }
   },
   "outputs": [],
   "source": [
    "# koduję zmienne tekstowe\n",
    "# zmienne binarne koduję zero-jedynkowo\n",
    "airline_train['satisfaction'] = (airline_train['satisfaction'] == 'satisfied') * 1\n",
    "airline_train['Customer Type'] = (airline_train['Customer Type'] == 'Loyal Customer') * 1\n",
    "airline_train['Type of Travel'] = (airline_train['Type of Travel'] == 'Business travel') * 1\n",
    "airline_train['Gender'] = (airline_train['Gender'] == 'female') * 1\n",
    "# zmienną Class koduję 0-1-2 w zależności od ceny, im niżej, tym taniej\n",
    "airline_train['Class'] = airline_train['Class'].map({'Business' : 2, 'Eco Plus' : 1, 'Eco' : 0})\n",
    "\n",
    "# zastępuję braki danych w kolumnie 'Arrival Delay in Minutes' wartościami z kolumny 'Departure Delay in Minutes',\n",
    "# bo w większości są bardzo zbliżone\n",
    "airline_train.loc[airline_train['Arrival Delay in Minutes'].isna(),'Arrival Delay in Minutes'] = airline_train['Departure Delay in Minutes']\n",
    "\n",
    "# zmienne 'Unnamed : 0' i 'id' nie niosą ze sobą żadnej wartości, więc można się ich pozbyć\n",
    "airline_train = airline_train.drop(['Unnamed: 0', 'id'], axis = 1)\n",
    "\n",
    "# skaluję zmienne przyjmujące wiele różnych wartości\n",
    "for col in ['Age','Flight Distance','Departure Delay in Minutes', 'Arrival Delay in Minutes']:\n",
    "    transf = airline_train[col].values.reshape(-1,1)\n",
    "    scaler = StandardScaler().fit(transf)\n",
    "    airline_train[col] = scaler.transform(transf)"
   ]
  },
  {
   "cell_type": "code",
   "execution_count": 246,
   "metadata": {
    "datalore": {
     "hide_input_from_viewers": false,
     "hide_output_from_viewers": false,
     "type": "CODE"
    }
   },
   "outputs": [],
   "source": [
    "# podobnie przekształcam zbiór walidacyjny\n",
    "airline_test['satisfaction'] = (airline_test['satisfaction'] == 'satisfied') * 1\n",
    "airline_test['Customer Type'] = (airline_test['Customer Type'] == 'Loyal Customer') * 1\n",
    "airline_test['Type of Travel'] = (airline_test['Type of Travel'] == 'Business travel') * 1\n",
    "airline_test['Gender'] = (airline_test['Gender'] == 'female') * 1\n",
    "\n",
    "airline_test['Class'] = airline_test['Class'].map({'Business' : 2, 'Eco Plus' : 1, 'Eco' : 0})\n",
    "\n",
    "airline_test.loc[airline_test['Arrival Delay in Minutes'].isna(),'Arrival Delay in Minutes'] = airline_test['Departure Delay in Minutes']\n",
    "\n",
    "airline_test = airline_test.drop(['Unnamed: 0', 'id'], axis = 1)\n",
    "\n",
    "for col in ['Age','Flight Distance','Departure Delay in Minutes', 'Arrival Delay in Minutes']:\n",
    "    transf = airline_test[col].values.reshape(-1,1)\n",
    "    scaler = StandardScaler().fit(transf)\n",
    "    airline_test[col] = scaler.transform(transf)"
   ]
  },
  {
   "cell_type": "markdown",
   "metadata": {
    "datalore": {
     "hide_input_from_viewers": false,
     "hide_output_from_viewers": false,
     "type": "MD"
    }
   },
   "source": [
    "### Random forest"
   ]
  },
  {
   "cell_type": "code",
   "execution_count": 247,
   "metadata": {
    "datalore": {
     "hide_input_from_viewers": false,
     "hide_output_from_viewers": false,
     "type": "CODE"
    }
   },
   "outputs": [],
   "source": [
    "airline_train = airline_train[['Gender', 'Customer Type', 'Age', 'Type of Travel', 'Class', 'Flight Distance', 'Departure Delay in Minutes', 'Arrival Delay in Minutes', 'satisfaction']]\n",
    "airline_test = airline_test[['Gender', 'Customer Type', 'Age', 'Type of Travel', 'Class', 'Flight Distance', 'Departure Delay in Minutes', 'Arrival Delay in Minutes', 'satisfaction']]"
   ]
  },
  {
   "cell_type": "code",
   "execution_count": 248,
   "metadata": {
    "datalore": {
     "hide_input_from_viewers": false,
     "hide_output_from_viewers": false,
     "type": "CODE"
    }
   },
   "outputs": [],
   "source": [
    "airline_train_y = airline_train['satisfaction']\n",
    "airline_train_x = airline_train.drop('satisfaction', axis = 1)\n",
    "airline_test_y = airline_test['satisfaction']\n",
    "airline_test_x = airline_test.drop('satisfaction', axis = 1)"
   ]
  },
  {
   "cell_type": "markdown",
   "metadata": {
    "datalore": {
     "hide_input_from_viewers": false,
     "hide_output_from_viewers": false,
     "type": "MD"
    }
   },
   "source": [
    "#### Wpływ `n_estimators` na wynik"
   ]
  },
  {
   "cell_type": "code",
   "execution_count": 249,
   "metadata": {
    "datalore": {
     "hide_input_from_viewers": false,
     "hide_output_from_viewers": false,
     "type": "CODE"
    }
   },
   "outputs": [
    {
     "name": "stdout",
     "output_type": "stream",
     "text": [
      "0.7631659993840468\n",
      "0.7556975669849092\n",
      "0.7634739759778257\n",
      "0.7629350169387127\n"
     ]
    }
   ],
   "source": [
    "rf = RandomForestClassifier(\n",
    "                            n_estimators = 100,\n",
    "                            max_depth = None,\n",
    "                            random_state = 17)\n",
    "print(rf.fit(airline_train_x, airline_train_y).score(airline_test_x, airline_test_y))\n",
    "\n",
    "rf = RandomForestClassifier(\n",
    "                            n_estimators = 10,\n",
    "                            max_depth = None,\n",
    "                            random_state = 17)\n",
    "\n",
    "print(rf.fit(airline_train_x, airline_train_y).score(airline_test_x, airline_test_y))\n",
    "\n",
    "rf = RandomForestClassifier(\n",
    "                            n_estimators = 500,\n",
    "                            max_depth = None,\n",
    "                            random_state = 17)\n",
    "print(rf.fit(airline_train_x, airline_train_y).score(airline_test_x, airline_test_y))\n",
    "\n",
    "rf = RandomForestClassifier(\n",
    "                            n_estimators = 1000,\n",
    "                            max_depth = None,\n",
    "                            random_state = 17)\n",
    "print(rf.fit(airline_train_x, airline_train_y).score(airline_test_x, airline_test_y))"
   ]
  },
  {
   "cell_type": "markdown",
   "metadata": {
    "datalore": {
     "hide_input_from_viewers": false,
     "hide_output_from_viewers": false,
     "type": "MD"
    }
   },
   "source": [
    "#### Wpływ `max_depth` na wynik"
   ]
  },
  {
   "cell_type": "code",
   "execution_count": 250,
   "metadata": {
    "datalore": {
     "hide_input_from_viewers": false,
     "hide_output_from_viewers": false,
     "type": "CODE"
    }
   },
   "outputs": [
    {
     "name": "stdout",
     "output_type": "stream",
     "text": [
      "0.7631659993840468\n",
      "0.7708269171542963\n",
      "0.7991222667077302\n",
      "0.8014705882352942\n",
      "0.7959270095472744\n"
     ]
    }
   ],
   "source": [
    "rf = RandomForestClassifier(\n",
    "                            n_estimators = 100,\n",
    "                            max_depth = None,\n",
    "                            random_state = 17)\n",
    "print(rf.fit(airline_train_x, airline_train_y).score(airline_test_x, airline_test_y))\n",
    "\n",
    "rf = RandomForestClassifier(\n",
    "                            n_estimators = 100,\n",
    "                            max_depth = 2,\n",
    "                            random_state = 17)\n",
    "print(rf.fit(airline_train_x, airline_train_y).score(airline_test_x, airline_test_y))\n",
    "\n",
    "rf = RandomForestClassifier(\n",
    "                            n_estimators = 100,\n",
    "                            max_depth = 8,\n",
    "                            random_state = 17)\n",
    "print(rf.fit(airline_train_x, airline_train_y).score(airline_test_x, airline_test_y))\n",
    "\n",
    "rf = RandomForestClassifier(\n",
    "                            n_estimators = 100,\n",
    "                            max_depth = 14,\n",
    "                            random_state = 17)\n",
    "print(rf.fit(airline_train_x, airline_train_y).score(airline_test_x, airline_test_y))\n",
    "\n",
    "rf = RandomForestClassifier(\n",
    "                            n_estimators = 100,\n",
    "                            max_depth = 20,\n",
    "                            random_state = 17)\n",
    "print(rf.fit(airline_train_x, airline_train_y).score(airline_test_x, airline_test_y))"
   ]
  },
  {
   "cell_type": "markdown",
   "metadata": {
    "datalore": {
     "hide_input_from_viewers": false,
     "hide_output_from_viewers": false,
     "type": "MD"
    }
   },
   "source": [
    "#### Wybór najlepszego zestawu parametrów – `n_estimators`=100, `max_depth`=14"
   ]
  },
  {
   "cell_type": "code",
   "execution_count": 266,
   "metadata": {
    "datalore": {
     "hide_input_from_viewers": false,
     "hide_output_from_viewers": false,
     "type": "CODE"
    }
   },
   "outputs": [
    {
     "name": "stdout",
     "output_type": "stream",
     "text": [
      "0.8012781028641823\n"
     ]
    }
   ],
   "source": [
    "rf = RandomForestClassifier(\n",
    "                            n_estimators = 500,\n",
    "                            max_depth = 14,\n",
    "                            random_state = 17)\n",
    "print(rf.fit(airline_train_x, airline_train_y).score(airline_test_x, airline_test_y))"
   ]
  },
  {
   "cell_type": "markdown",
   "metadata": {
    "datalore": {
     "hide_input_from_viewers": false,
     "hide_output_from_viewers": false,
     "type": "MD"
    }
   },
   "source": [
    "Otrzymany score faktycznie jest najlepszym z dotychczas obliczonych. Widać jednak, że liczba estymatorów powyżej pewnej granicy nie zmienia go w znaczący sposób (wydłuża jednak wyraźnie czas obliczeń). Ustawienie `max_depth` natomiast zwiększyło score na próbce walidacyjnej w każdym przypadku, co sugeruje, że nie ograniczanie maksymalnej głębokości drzew doprowadza do tego, że bardzo mocno dopasowują się do danych treningowych, więc działają gorzej na niezależnej próbce walidacyjnej."
   ]
  },
  {
   "cell_type": "markdown",
   "metadata": {
    "datalore": {
     "hide_input_from_viewers": false,
     "hide_output_from_viewers": false,
     "type": "MD"
    }
   },
   "source": [
    "### XGBoost"
   ]
  },
  {
   "cell_type": "code",
   "execution_count": 252,
   "metadata": {
    "datalore": {
     "hide_input_from_viewers": false,
     "hide_output_from_viewers": false,
     "type": "CODE"
    }
   },
   "outputs": [],
   "source": [
    "xgb_cls = xgb.XGBClassifier(objective=\"binary:logistic\", use_label_encoder=False)"
   ]
  },
  {
   "cell_type": "code",
   "execution_count": 253,
   "metadata": {
    "datalore": {
     "hide_input_from_viewers": false,
     "hide_output_from_viewers": false,
     "type": "CODE"
    }
   },
   "outputs": [],
   "source": [
    "X_train, X_val, y_train, y_val = train_test_split(airline_train_x, airline_train_y, test_size=0.125)"
   ]
  },
  {
   "cell_type": "code",
   "execution_count": 254,
   "metadata": {
    "datalore": {
     "hide_input_from_viewers": false,
     "hide_output_from_viewers": false,
     "type": "CODE"
    }
   },
   "outputs": [
    {
     "name": "stdout",
     "output_type": "stream",
     "text": [
      "[0]\tvalidation_0-error:0.19379\n",
      "[1]\tvalidation_0-error:0.19426\n",
      "[2]\tvalidation_0-error:0.19372\n",
      "[3]\tvalidation_0-error:0.19272\n",
      "[4]\tvalidation_0-error:0.19179\n",
      "[5]\tvalidation_0-error:0.19264\n",
      "[6]\tvalidation_0-error:0.19279\n",
      "[7]\tvalidation_0-error:0.19248\n",
      "[8]\tvalidation_0-error:0.19287\n",
      "[9]\tvalidation_0-error:0.19272\n"
     ]
    },
    {
     "data": {
      "text/plain": [
       "XGBClassifier(base_score=0.5, booster='gbtree', colsample_bylevel=1,\n",
       "              colsample_bynode=1, colsample_bytree=1, enable_categorical=False,\n",
       "              gamma=0, gpu_id=-1, importance_type=None,\n",
       "              interaction_constraints='', learning_rate=0.300000012,\n",
       "              max_delta_step=0, max_depth=6, min_child_weight=1, missing=nan,\n",
       "              monotone_constraints='()', n_estimators=100, n_jobs=4,\n",
       "              num_parallel_tree=1, predictor='auto', random_state=0,\n",
       "              reg_alpha=0, reg_lambda=1, scale_pos_weight=1, subsample=1,\n",
       "              tree_method='exact', use_label_encoder=False,\n",
       "              validate_parameters=1, verbosity=None)"
      ]
     },
     "execution_count": 254,
     "metadata": {},
     "output_type": "execute_result"
    }
   ],
   "source": [
    "xgb_cls.fit(X_train, y_train, verbose=True, early_stopping_rounds=5, eval_metric=\"error\", eval_set=[(X_val, y_val)])"
   ]
  },
  {
   "cell_type": "code",
   "execution_count": 255,
   "metadata": {
    "datalore": {
     "hide_input_from_viewers": false,
     "hide_output_from_viewers": false,
     "type": "CODE"
    }
   },
   "outputs": [
    {
     "data": {
      "text/plain": [
       "0.8010086233446259"
      ]
     },
     "execution_count": 255,
     "metadata": {},
     "output_type": "execute_result"
    }
   ],
   "source": [
    "xgb_cls.score(airline_test_x, airline_test_y)"
   ]
  },
  {
   "cell_type": "code",
   "execution_count": 256,
   "metadata": {
    "datalore": {
     "hide_input_from_viewers": false,
     "hide_output_from_viewers": false,
     "type": "CODE"
    }
   },
   "outputs": [
    {
     "data": {
      "text/plain": [
       "<AxesSubplot:title={'center':'Feature importance'}, xlabel='F score', ylabel='Features'>"
      ]
     },
     "execution_count": 256,
     "metadata": {},
     "output_type": "execute_result"
    },
    {
     "data": {
      "image/png": "[encoded data removed]",
      "text/plain": [
       "<Figure size 864x576 with 1 Axes>"
      ]
     },
     "metadata": {
      "needs_background": "light"
     },
     "output_type": "display_data"
    }
   ],
   "source": [
    "xgb.plot_importance(xgb_cls)"
   ]
  },
  {
   "cell_type": "code",
   "execution_count": 257,
   "metadata": {
    "datalore": {
     "hide_input_from_viewers": false,
     "hide_output_from_viewers": false,
     "type": "CODE"
    }
   },
   "outputs": [
    {
     "data": {
      "text/plain": [
       "{'objective': 'binary:logistic',\n",
       " 'use_label_encoder': False,\n",
       " 'base_score': 0.5,\n",
       " 'booster': 'gbtree',\n",
       " 'colsample_bylevel': 1,\n",
       " 'colsample_bynode': 1,\n",
       " 'colsample_bytree': 1,\n",
       " 'enable_categorical': False,\n",
       " 'gamma': 0,\n",
       " 'gpu_id': -1,\n",
       " 'importance_type': None,\n",
       " 'interaction_constraints': '',\n",
       " 'learning_rate': 0.300000012,\n",
       " 'max_delta_step': 0,\n",
       " 'max_depth': 6,\n",
       " 'min_child_weight': 1,\n",
       " 'missing': nan,\n",
       " 'monotone_constraints': '()',\n",
       " 'n_estimators': 100,\n",
       " 'n_jobs': 4,\n",
       " 'num_parallel_tree': 1,\n",
       " 'predictor': 'auto',\n",
       " 'random_state': 0,\n",
       " 'reg_alpha': 0,\n",
       " 'reg_lambda': 1,\n",
       " 'scale_pos_weight': 1,\n",
       " 'subsample': 1,\n",
       " 'tree_method': 'exact',\n",
       " 'validate_parameters': 1,\n",
       " 'verbosity': None}"
      ]
     },
     "execution_count": 257,
     "metadata": {},
     "output_type": "execute_result"
    }
   ],
   "source": [
    "xgb_cls.get_params()"
   ]
  },
  {
   "cell_type": "code",
   "execution_count": 258,
   "metadata": {
    "datalore": {
     "hide_input_from_viewers": false,
     "hide_output_from_viewers": false,
     "type": "CODE"
    }
   },
   "outputs": [],
   "source": [
    "%%capture\n",
    "xgb_cls.fit(X_train, y_train, verbose=True, early_stopping_rounds=5, eval_metric=[\"error\", 'rmse'], eval_set=[(X_val, y_val)])\n",
    "\n",
    "esr5 = xgb_cls.score(airline_test_x, airline_test_y)\n",
    "\n",
    "xgb_cls.fit(X_train, y_train, verbose=True, early_stopping_rounds=30, eval_metric=\"error\", eval_set=[(X_val, y_val)])\n",
    "\n",
    "esr30 = xgb_cls.score(airline_test_x, airline_test_y)\n",
    "\n",
    "xgb_cls.fit(X_train, y_train, verbose=True, early_stopping_rounds=50, eval_metric=\"error\", eval_set=[(X_val, y_val)])\n",
    "\n",
    "esr50 = xgb_cls.score(airline_test_x, airline_test_y)\n",
    "\n",
    "xgb_cls.fit(X_train, y_train, verbose=True, early_stopping_rounds=75, eval_metric=\"error\", eval_set=[(X_val, y_val)])\n",
    "\n",
    "esr75 = xgb_cls.score(airline_test_x, airline_test_y)\n",
    "\n",
    "xgb_cls.fit(X_train, y_train, verbose=True, eval_metric=\"rmse\", eval_set=[(X_val, y_val)])\n",
    "\n",
    "esr = xgb_cls.score(airline_test_x, airline_test_y)"
   ]
  },
  {
   "cell_type": "code",
   "execution_count": 259,
   "metadata": {
    "datalore": {
     "hide_input_from_viewers": false,
     "hide_output_from_viewers": false,
     "type": "CODE"
    }
   },
   "outputs": [
    {
     "name": "stdout",
     "output_type": "stream",
     "text": [
      "0.8021635355712966\n",
      "0.8020865414228519\n",
      "0.8020865414228519\n",
      "0.8020865414228519\n",
      "0.8011626116415153\n"
     ]
    }
   ],
   "source": [
    "print(esr5)\n",
    "print(esr30)\n",
    "print(esr50)\n",
    "print(esr75)\n",
    "print(esr)"
   ]
  },
  {
   "cell_type": "markdown",
   "metadata": {
    "datalore": {
     "hide_input_from_viewers": false,
     "hide_output_from_viewers": false,
     "type": "MD"
    }
   },
   "source": [
    "Wygląda na to, że od pewnej wartości `early_stopping_rounds` score zaczyna spadać, ale aż do tego momentu dokładna wartość parametru nie ma znaczenia."
   ]
  },
  {
   "cell_type": "code",
   "execution_count": 260,
   "metadata": {
    "datalore": {
     "hide_input_from_viewers": false,
     "hide_output_from_viewers": false,
     "type": "CODE"
    }
   },
   "outputs": [],
   "source": [
    "%%capture\n",
    "xgb_cls.set_params(max_depth = 4)\n",
    "xgb_cls.fit(X_train, y_train, verbose=True, early_stopping_rounds=10, eval_metric=\"error\", eval_set=[(X_val, y_val)])\n",
    "\n",
    "md4 = xgb_cls.score(airline_test_x, airline_test_y)\n",
    "\n",
    "xgb_cls.set_params(max_depth = 6)\n",
    "xgb_cls.fit(X_train, y_train, verbose=True, early_stopping_rounds=10, eval_metric=\"error\", eval_set=[(X_val, y_val)])\n",
    "\n",
    "md6 = xgb_cls.score(airline_test_x, airline_test_y)\n",
    "\n",
    "xgb_cls.set_params(max_depth = 8)\n",
    "xgb_cls.fit(X_train, y_train, verbose=True, early_stopping_rounds=10, eval_metric=\"error\", eval_set=[(X_val, y_val)])\n",
    "\n",
    "md8 = xgb_cls.score(airline_test_x, airline_test_y)\n",
    "\n",
    "xgb_cls.set_params(max_depth = 10)\n",
    "xgb_cls.fit(X_train, y_train, verbose=True, early_stopping_rounds=10, eval_metric=\"error\", eval_set=[(X_val, y_val)])\n",
    "\n",
    "md10 = xgb_cls.score(airline_test_x, airline_test_y)\n",
    "\n",
    "xgb_cls.set_params(max_depth = 12)\n",
    "xgb_cls.fit(X_train, y_train, verbose=True, early_stopping_rounds=10, eval_metric=\"error\", eval_set=[(X_val, y_val)])\n",
    "\n",
    "md12 = xgb_cls.score(airline_test_x, airline_test_y)"
   ]
  },
  {
   "cell_type": "code",
   "execution_count": 261,
   "metadata": {
    "datalore": {
     "hide_input_from_viewers": false,
     "hide_output_from_viewers": false,
     "type": "CODE"
    }
   },
   "outputs": [
    {
     "name": "stdout",
     "output_type": "stream",
     "text": [
      "0.8010856174930705\n",
      "0.8020865414228519\n",
      "0.802856482907299\n",
      "0.8003541730828457\n",
      "0.798352325223283\n"
     ]
    }
   ],
   "source": [
    "print(md4)\n",
    "print(md6)\n",
    "print(md8)\n",
    "print(md10)\n",
    "print(md12)"
   ]
  },
  {
   "cell_type": "markdown",
   "metadata": {
    "datalore": {
     "hide_input_from_viewers": false,
     "hide_output_from_viewers": false,
     "type": "MD"
    }
   },
   "source": [
    "Zbyt małe `max_depth` prawdopodobnie prowadzi do underfittingu, a zbyt duże do overfittingu. Domyślną wartością parametru jest 6, co, jak widać na tym przykładzie, jest dość dobrą wartością. W tym przypadku nie jest jednak najlepsza."
   ]
  },
  {
   "cell_type": "code",
   "execution_count": 262,
   "metadata": {
    "datalore": {
     "hide_input_from_viewers": false,
     "hide_output_from_viewers": false,
     "type": "CODE"
    }
   },
   "outputs": [],
   "source": [
    "%%capture\n",
    "xgb_cls.set_params(n_estimators = 10)\n",
    "xgb_cls.fit(X_train, y_train, verbose=True, eval_metric=\"error\", eval_set=[(X_val, y_val)])\n",
    "\n",
    "nest10 = xgb_cls.score(airline_test_x, airline_test_y)\n",
    "\n",
    "xgb_cls.set_params(n_estimators = 100)\n",
    "xgb_cls.fit(X_train, y_train, verbose=True, early_stopping_rounds=10, eval_metric=\"error\", eval_set=[(X_val, y_val)])\n",
    "\n",
    "nest100 = xgb_cls.score(airline_test_x, airline_test_y)\n",
    "\n",
    "xgb_cls.set_params(n_estimators = 500)\n",
    "xgb_cls.fit(X_train, y_train, verbose=True, early_stopping_rounds=50, eval_metric=\"error\", eval_set=[(X_val, y_val)])\n",
    "\n",
    "nest500 = xgb_cls.score(airline_test_x, airline_test_y)\n",
    "\n",
    "xgb_cls.set_params(n_estimators = 1000)\n",
    "xgb_cls.fit(X_train, y_train, verbose=True, early_stopping_rounds=100, eval_metric=\"error\", eval_set=[(X_val, y_val)])\n",
    "\n",
    "nest1000 = xgb_cls.score(airline_test_x, airline_test_y)\n",
    "\n",
    "xgb_cls.set_params(n_estimators = 10000)\n",
    "xgb_cls.fit(X_train, y_train, verbose=True, early_stopping_rounds=100, eval_metric=\"error\", eval_set=[(X_val, y_val)])\n",
    "\n",
    "nest10000 = xgb_cls.score(airline_test_x, airline_test_y)"
   ]
  },
  {
   "cell_type": "code",
   "execution_count": 263,
   "metadata": {
    "datalore": {
     "hide_input_from_viewers": false,
     "hide_output_from_viewers": false,
     "type": "CODE"
    }
   },
   "outputs": [
    {
     "name": "stdout",
     "output_type": "stream",
     "text": [
      "0.798352325223283\n",
      "0.798352325223283\n",
      "0.7967739451801663\n",
      "0.7967739451801663\n",
      "0.7967739451801663\n"
     ]
    }
   ],
   "source": [
    "print(nest10)\n",
    "print(nest100)\n",
    "print(nest500)\n",
    "print(nest1000)\n",
    "print(nest10000)"
   ]
  },
  {
   "cell_type": "markdown",
   "metadata": {
    "datalore": {
     "hide_input_from_viewers": false,
     "hide_output_from_viewers": false,
     "type": "MD"
    }
   },
   "source": [
    "Podobnie do `max_depth`, mamy tu do czynienia z under- i overfittingiem przy małych i dużych wartościach. Powyżej `n_estimators` = 500 wygląda na to, że score osiąga wartość asymptotyczną."
   ]
  },
  {
   "cell_type": "markdown",
   "metadata": {
    "datalore": {
     "hide_input_from_viewers": false,
     "hide_output_from_viewers": false,
     "type": "MD"
    }
   },
   "source": [
    "#### Wybór najlepszego spośród sprawdzonych zestawu parametrów – `early_stopping_rounds` = 50, `max_depth` = 8, `n_estimators` = 500"
   ]
  },
  {
   "cell_type": "code",
   "execution_count": 264,
   "metadata": {
    "datalore": {
     "hide_input_from_viewers": false,
     "hide_output_from_viewers": false,
     "type": "CODE"
    }
   },
   "outputs": [],
   "source": [
    "%%capture\n",
    "xgb_cls.set_params(n_estimators = 500, max_depth = 8)\n",
    "xgb_cls.fit(X_train, y_train, verbose=True, early_stopping_rounds=50, eval_metric=\"error\", eval_set=[(X_val, y_val)])\n",
    "\n",
    "best = xgb_cls.score(airline_test_x, airline_test_y)"
   ]
  },
  {
   "cell_type": "code",
   "execution_count": 265,
   "metadata": {
    "datalore": {
     "hide_input_from_viewers": false,
     "hide_output_from_viewers": false,
     "type": "CODE"
    }
   },
   "outputs": [
    {
     "name": "stdout",
     "output_type": "stream",
     "text": [
      "0.802856482907299\n"
     ]
    }
   ],
   "source": [
    "print(best)"
   ]
  },
  {
   "cell_type": "markdown",
   "metadata": {
    "datalore": {
     "hide_input_from_viewers": false,
     "hide_output_from_viewers": false,
     "type": "MD"
    }
   },
   "source": [
    "## Dataset `car_prices_poland`"
   ]
  },
  {
   "cell_type": "markdown",
   "metadata": {
    "datalore": {
     "hide_input_from_viewers": false,
     "hide_output_from_viewers": false,
     "type": "MD"
    }
   },
   "source": [
    "### Obróbka danych"
   ]
  },
  {
   "cell_type": "code",
   "execution_count": 148,
   "metadata": {
    "datalore": {
     "hide_input_from_viewers": false,
     "hide_output_from_viewers": false,
     "type": "CODE"
    }
   },
   "outputs": [
    {
     "data": {
      "text/plain": [
       "(117927, 11)"
      ]
     },
     "execution_count": 148,
     "metadata": {},
     "output_type": "execute_result"
    }
   ],
   "source": [
    "cars.shape"
   ]
  },
  {
   "cell_type": "code",
   "execution_count": 150,
   "metadata": {
    "datalore": {
     "hide_input_from_viewers": false,
     "hide_output_from_viewers": false,
     "type": "CODE"
    }
   },
   "outputs": [
    {
     "name": "stdout",
     "output_type": "stream",
     "text": [
      "<class 'pandas.core.frame.DataFrame'>\n",
      "RangeIndex: 117927 entries, 0 to 117926\n",
      "Data columns (total 11 columns):\n",
      " #   Column           Non-Null Count   Dtype \n",
      "---  ------           --------------   ----- \n",
      " 0   Unnamed: 0       117927 non-null  int64 \n",
      " 1   mark             117927 non-null  object\n",
      " 2   model            117927 non-null  object\n",
      " 3   generation_name  87842 non-null   object\n",
      " 4   year             117927 non-null  int64 \n",
      " 5   mileage          117927 non-null  int64 \n",
      " 6   vol_engine       117927 non-null  int64 \n",
      " 7   fuel             117927 non-null  object\n",
      " 8   city             117927 non-null  object\n",
      " 9   province         117927 non-null  object\n",
      " 10  price            117927 non-null  int64 \n",
      "dtypes: int64(5), object(6)\n",
      "memory usage: 9.9+ MB\n"
     ]
    }
   ],
   "source": [
    "cars.info()"
   ]
  },
  {
   "cell_type": "code",
   "execution_count": 151,
   "metadata": {
    "datalore": {
     "hide_input_from_viewers": false,
     "hide_output_from_viewers": false,
     "type": "CODE"
    }
   },
   "outputs": [
    {
     "data": {
      "text/html": [
       "<div>\n",
       "<style scoped>\n",
       "    .dataframe tbody tr th:only-of-type {\n",
       "        vertical-align: middle;\n",
       "    }\n",
       "\n",
       "    .dataframe tbody tr th {\n",
       "        vertical-align: top;\n",
       "    }\n",
       "\n",
       "    .dataframe thead th {\n",
       "        text-align: right;\n",
       "    }\n",
       "</style>\n",
       "<table border=\"1\" class=\"dataframe\">\n",
       "  <thead>\n",
       "    <tr style=\"text-align: right;\">\n",
       "      <th></th>\n",
       "      <th>Unnamed: 0</th>\n",
       "      <th>year</th>\n",
       "      <th>mileage</th>\n",
       "      <th>vol_engine</th>\n",
       "      <th>price</th>\n",
       "    </tr>\n",
       "  </thead>\n",
       "  <tbody>\n",
       "    <tr>\n",
       "      <th>count</th>\n",
       "      <td>117927.000000</td>\n",
       "      <td>117927.000000</td>\n",
       "      <td>1.179270e+05</td>\n",
       "      <td>117927.000000</td>\n",
       "      <td>1.179270e+05</td>\n",
       "    </tr>\n",
       "    <tr>\n",
       "      <th>mean</th>\n",
       "      <td>58963.000000</td>\n",
       "      <td>2012.925259</td>\n",
       "      <td>1.409768e+05</td>\n",
       "      <td>1812.057782</td>\n",
       "      <td>7.029988e+04</td>\n",
       "    </tr>\n",
       "    <tr>\n",
       "      <th>std</th>\n",
       "      <td>34042.736935</td>\n",
       "      <td>5.690135</td>\n",
       "      <td>9.236936e+04</td>\n",
       "      <td>643.613438</td>\n",
       "      <td>8.482458e+04</td>\n",
       "    </tr>\n",
       "    <tr>\n",
       "      <th>min</th>\n",
       "      <td>0.000000</td>\n",
       "      <td>1945.000000</td>\n",
       "      <td>0.000000e+00</td>\n",
       "      <td>0.000000</td>\n",
       "      <td>5.000000e+02</td>\n",
       "    </tr>\n",
       "    <tr>\n",
       "      <th>25%</th>\n",
       "      <td>29481.500000</td>\n",
       "      <td>2009.000000</td>\n",
       "      <td>6.700000e+04</td>\n",
       "      <td>1461.000000</td>\n",
       "      <td>2.100000e+04</td>\n",
       "    </tr>\n",
       "    <tr>\n",
       "      <th>50%</th>\n",
       "      <td>58963.000000</td>\n",
       "      <td>2013.000000</td>\n",
       "      <td>1.462690e+05</td>\n",
       "      <td>1796.000000</td>\n",
       "      <td>4.190000e+04</td>\n",
       "    </tr>\n",
       "    <tr>\n",
       "      <th>75%</th>\n",
       "      <td>88444.500000</td>\n",
       "      <td>2018.000000</td>\n",
       "      <td>2.030000e+05</td>\n",
       "      <td>1995.000000</td>\n",
       "      <td>8.360000e+04</td>\n",
       "    </tr>\n",
       "    <tr>\n",
       "      <th>max</th>\n",
       "      <td>117926.000000</td>\n",
       "      <td>2022.000000</td>\n",
       "      <td>2.800000e+06</td>\n",
       "      <td>7600.000000</td>\n",
       "      <td>2.399900e+06</td>\n",
       "    </tr>\n",
       "  </tbody>\n",
       "</table>\n",
       "</div>"
      ],
      "text/plain": [
       "          Unnamed: 0           year       mileage     vol_engine         price\n",
       "count  117927.000000  117927.000000  1.179270e+05  117927.000000  1.179270e+05\n",
       "mean    58963.000000    2012.925259  1.409768e+05    1812.057782  7.029988e+04\n",
       "std     34042.736935       5.690135  9.236936e+04     643.613438  8.482458e+04\n",
       "min         0.000000    1945.000000  0.000000e+00       0.000000  5.000000e+02\n",
       "25%     29481.500000    2009.000000  6.700000e+04    1461.000000  2.100000e+04\n",
       "50%     58963.000000    2013.000000  1.462690e+05    1796.000000  4.190000e+04\n",
       "75%     88444.500000    2018.000000  2.030000e+05    1995.000000  8.360000e+04\n",
       "max    117926.000000    2022.000000  2.800000e+06    7600.000000  2.399900e+06"
      ]
     },
     "execution_count": 151,
     "metadata": {},
     "output_type": "execute_result"
    }
   ],
   "source": [
    "cars.describe()"
   ]
  },
  {
   "cell_type": "code",
   "execution_count": 152,
   "metadata": {
    "datalore": {
     "hide_input_from_viewers": false,
     "hide_output_from_viewers": false,
     "type": "CODE"
    }
   },
   "outputs": [
    {
     "data": {
      "text/plain": [
       "<AxesSubplot:>"
      ]
     },
     "execution_count": 152,
     "metadata": {},
     "output_type": "execute_result"
    },
    {
     "data": {
      "image/png": "[encoded data removed]",
      "text/plain": [
       "<Figure size 864x576 with 1 Axes>"
      ]
     },
     "metadata": {
      "needs_background": "light"
     },
     "output_type": "display_data"
    }
   ],
   "source": [
    "cars.price.hist(bins = 1000)"
   ]
  },
  {
   "cell_type": "code",
   "execution_count": 153,
   "metadata": {
    "datalore": {
     "hide_input_from_viewers": false,
     "hide_output_from_viewers": false,
     "type": "CODE"
    }
   },
   "outputs": [
    {
     "data": {
      "text/html": [
       "<div>\n",
       "<style scoped>\n",
       "    .dataframe tbody tr th:only-of-type {\n",
       "        vertical-align: middle;\n",
       "    }\n",
       "\n",
       "    .dataframe tbody tr th {\n",
       "        vertical-align: top;\n",
       "    }\n",
       "\n",
       "    .dataframe thead th {\n",
       "        text-align: right;\n",
       "    }\n",
       "</style>\n",
       "<table border=\"1\" class=\"dataframe\">\n",
       "  <thead>\n",
       "    <tr style=\"text-align: right;\">\n",
       "      <th></th>\n",
       "      <th>Unnamed: 0</th>\n",
       "      <th>year</th>\n",
       "      <th>mileage</th>\n",
       "      <th>vol_engine</th>\n",
       "      <th>price</th>\n",
       "    </tr>\n",
       "  </thead>\n",
       "  <tbody>\n",
       "    <tr>\n",
       "      <th>Unnamed: 0</th>\n",
       "      <td>1.000000</td>\n",
       "      <td>0.101061</td>\n",
       "      <td>-0.114396</td>\n",
       "      <td>-0.141628</td>\n",
       "      <td>0.015414</td>\n",
       "    </tr>\n",
       "    <tr>\n",
       "      <th>year</th>\n",
       "      <td>0.101061</td>\n",
       "      <td>1.000000</td>\n",
       "      <td>-0.777957</td>\n",
       "      <td>-0.145760</td>\n",
       "      <td>0.867978</td>\n",
       "    </tr>\n",
       "    <tr>\n",
       "      <th>mileage</th>\n",
       "      <td>-0.114396</td>\n",
       "      <td>-0.777957</td>\n",
       "      <td>1.000000</td>\n",
       "      <td>0.263786</td>\n",
       "      <td>-0.680324</td>\n",
       "    </tr>\n",
       "    <tr>\n",
       "      <th>vol_engine</th>\n",
       "      <td>-0.141628</td>\n",
       "      <td>-0.145760</td>\n",
       "      <td>0.263786</td>\n",
       "      <td>1.000000</td>\n",
       "      <td>0.190013</td>\n",
       "    </tr>\n",
       "    <tr>\n",
       "      <th>price</th>\n",
       "      <td>0.015414</td>\n",
       "      <td>0.867978</td>\n",
       "      <td>-0.680324</td>\n",
       "      <td>0.190013</td>\n",
       "      <td>1.000000</td>\n",
       "    </tr>\n",
       "  </tbody>\n",
       "</table>\n",
       "</div>"
      ],
      "text/plain": [
       "            Unnamed: 0      year   mileage  vol_engine     price\n",
       "Unnamed: 0    1.000000  0.101061 -0.114396   -0.141628  0.015414\n",
       "year          0.101061  1.000000 -0.777957   -0.145760  0.867978\n",
       "mileage      -0.114396 -0.777957  1.000000    0.263786 -0.680324\n",
       "vol_engine   -0.141628 -0.145760  0.263786    1.000000  0.190013\n",
       "price         0.015414  0.867978 -0.680324    0.190013  1.000000"
      ]
     },
     "execution_count": 153,
     "metadata": {},
     "output_type": "execute_result"
    }
   ],
   "source": [
    "cars.corr(method = 'spearman')"
   ]
  },
  {
   "cell_type": "code",
   "execution_count": 154,
   "metadata": {
    "datalore": {
     "hide_input_from_viewers": false,
     "hide_output_from_viewers": false,
     "type": "CODE"
    }
   },
   "outputs": [],
   "source": [
    "cars = cars.drop('Unnamed: 0', axis = 1)"
   ]
  },
  {
   "cell_type": "markdown",
   "metadata": {},
   "source": [
    "##### Podejście 1\n",
    "\n",
    "##### Zamiana nazw miast na kategorie"
   ]
  },
  {
   "cell_type": "code",
   "execution_count": 155,
   "metadata": {},
   "outputs": [
    {
     "data": {
      "text/plain": [
       "<10k     559\n",
       ">10k     312\n",
       ">50k      46\n",
       ">100k     26\n",
       ">250k      6\n",
       ">500k      5\n",
       "Name: Kategoria, dtype: int64"
      ]
     },
     "execution_count": 155,
     "metadata": {},
     "output_type": "execute_result"
    }
   ],
   "source": [
    "miasta.Kategoria.value_counts()"
   ]
  },
  {
   "cell_type": "code",
   "execution_count": 156,
   "metadata": {},
   "outputs": [],
   "source": [
    "miasta = miasta[['Miasto', 'Kategoria']]\n",
    "miasta.columns = ['city', 'category']"
   ]
  },
  {
   "cell_type": "code",
   "execution_count": 157,
   "metadata": {},
   "outputs": [
    {
     "data": {
      "text/html": [
       "<div>\n",
       "<style scoped>\n",
       "    .dataframe tbody tr th:only-of-type {\n",
       "        vertical-align: middle;\n",
       "    }\n",
       "\n",
       "    .dataframe tbody tr th {\n",
       "        vertical-align: top;\n",
       "    }\n",
       "\n",
       "    .dataframe thead th {\n",
       "        text-align: right;\n",
       "    }\n",
       "</style>\n",
       "<table border=\"1\" class=\"dataframe\">\n",
       "  <thead>\n",
       "    <tr style=\"text-align: right;\">\n",
       "      <th></th>\n",
       "      <th>city</th>\n",
       "      <th>category</th>\n",
       "    </tr>\n",
       "  </thead>\n",
       "  <tbody>\n",
       "    <tr>\n",
       "      <th>0</th>\n",
       "      <td>Aleksandrów Kujawski</td>\n",
       "      <td>&gt;10k</td>\n",
       "    </tr>\n",
       "    <tr>\n",
       "      <th>1</th>\n",
       "      <td>Aleksandrów Łódzki</td>\n",
       "      <td>&gt;10k</td>\n",
       "    </tr>\n",
       "    <tr>\n",
       "      <th>2</th>\n",
       "      <td>Alwernia</td>\n",
       "      <td>&lt;10k</td>\n",
       "    </tr>\n",
       "    <tr>\n",
       "      <th>3</th>\n",
       "      <td>Andrychów</td>\n",
       "      <td>&gt;10k</td>\n",
       "    </tr>\n",
       "    <tr>\n",
       "      <th>4</th>\n",
       "      <td>Annopol</td>\n",
       "      <td>&lt;10k</td>\n",
       "    </tr>\n",
       "  </tbody>\n",
       "</table>\n",
       "</div>"
      ],
      "text/plain": [
       "                   city category\n",
       "0  Aleksandrów Kujawski     >10k\n",
       "1    Aleksandrów Łódzki     >10k\n",
       "2              Alwernia     <10k\n",
       "3             Andrychów     >10k\n",
       "4               Annopol     <10k"
      ]
     },
     "execution_count": 157,
     "metadata": {},
     "output_type": "execute_result"
    }
   ],
   "source": [
    "miasta.head()"
   ]
  },
  {
   "cell_type": "code",
   "execution_count": 158,
   "metadata": {},
   "outputs": [],
   "source": [
    "cars = pd.merge(left = cars, right = miasta, how = 'left', left_on = 'city', right_on = 'city')"
   ]
  },
  {
   "cell_type": "code",
   "execution_count": 159,
   "metadata": {},
   "outputs": [],
   "source": [
    "cars['category'] = cars.apply(lambda x: '<10k' if pd.isna(x['category']) == True else x['category'], axis = 1)"
   ]
  },
  {
   "cell_type": "markdown",
   "metadata": {},
   "source": [
    "Miejscowości, których nie było w ramce, prawdopodobnie są bardzo małe, więc ustawiam ich kategorię na `<10k`."
   ]
  },
  {
   "cell_type": "code",
   "execution_count": 161,
   "metadata": {},
   "outputs": [],
   "source": [
    "cars['category'] = cars['category'].map({\n",
    "    '<10k' : 1,\n",
    "    '>10k' : 2,\n",
    "    '>50k' : 3,\n",
    "    '>100k' : 4,\n",
    "    '>250k' : 5,\n",
    "    '>500k' : 6\n",
    "})"
   ]
  },
  {
   "cell_type": "code",
   "execution_count": 162,
   "metadata": {},
   "outputs": [
    {
     "data": {
      "text/html": [
       "<div>\n",
       "<style scoped>\n",
       "    .dataframe tbody tr th:only-of-type {\n",
       "        vertical-align: middle;\n",
       "    }\n",
       "\n",
       "    .dataframe tbody tr th {\n",
       "        vertical-align: top;\n",
       "    }\n",
       "\n",
       "    .dataframe thead th {\n",
       "        text-align: right;\n",
       "    }\n",
       "</style>\n",
       "<table border=\"1\" class=\"dataframe\">\n",
       "  <thead>\n",
       "    <tr style=\"text-align: right;\">\n",
       "      <th></th>\n",
       "      <th>mark</th>\n",
       "      <th>model</th>\n",
       "      <th>generation_name</th>\n",
       "      <th>year</th>\n",
       "      <th>mileage</th>\n",
       "      <th>vol_engine</th>\n",
       "      <th>fuel</th>\n",
       "      <th>city</th>\n",
       "      <th>province</th>\n",
       "      <th>price</th>\n",
       "      <th>category</th>\n",
       "    </tr>\n",
       "  </thead>\n",
       "  <tbody>\n",
       "    <tr>\n",
       "      <th>0</th>\n",
       "      <td>opel</td>\n",
       "      <td>combo</td>\n",
       "      <td>gen-d-2011</td>\n",
       "      <td>2015</td>\n",
       "      <td>139568</td>\n",
       "      <td>1248</td>\n",
       "      <td>Diesel</td>\n",
       "      <td>Janki</td>\n",
       "      <td>Mazowieckie</td>\n",
       "      <td>35900</td>\n",
       "      <td>1</td>\n",
       "    </tr>\n",
       "    <tr>\n",
       "      <th>1</th>\n",
       "      <td>opel</td>\n",
       "      <td>combo</td>\n",
       "      <td>gen-d-2011</td>\n",
       "      <td>2018</td>\n",
       "      <td>31991</td>\n",
       "      <td>1499</td>\n",
       "      <td>Diesel</td>\n",
       "      <td>Katowice</td>\n",
       "      <td>Śląskie</td>\n",
       "      <td>78501</td>\n",
       "      <td>5</td>\n",
       "    </tr>\n",
       "    <tr>\n",
       "      <th>2</th>\n",
       "      <td>opel</td>\n",
       "      <td>combo</td>\n",
       "      <td>gen-d-2011</td>\n",
       "      <td>2015</td>\n",
       "      <td>278437</td>\n",
       "      <td>1598</td>\n",
       "      <td>Diesel</td>\n",
       "      <td>Brzeg</td>\n",
       "      <td>Opolskie</td>\n",
       "      <td>27000</td>\n",
       "      <td>2</td>\n",
       "    </tr>\n",
       "    <tr>\n",
       "      <th>3</th>\n",
       "      <td>opel</td>\n",
       "      <td>combo</td>\n",
       "      <td>gen-d-2011</td>\n",
       "      <td>2016</td>\n",
       "      <td>47600</td>\n",
       "      <td>1248</td>\n",
       "      <td>Diesel</td>\n",
       "      <td>Korfantów</td>\n",
       "      <td>Opolskie</td>\n",
       "      <td>30800</td>\n",
       "      <td>1</td>\n",
       "    </tr>\n",
       "    <tr>\n",
       "      <th>4</th>\n",
       "      <td>opel</td>\n",
       "      <td>combo</td>\n",
       "      <td>gen-d-2011</td>\n",
       "      <td>2014</td>\n",
       "      <td>103000</td>\n",
       "      <td>1400</td>\n",
       "      <td>CNG</td>\n",
       "      <td>Tarnowskie Góry</td>\n",
       "      <td>Śląskie</td>\n",
       "      <td>35900</td>\n",
       "      <td>3</td>\n",
       "    </tr>\n",
       "  </tbody>\n",
       "</table>\n",
       "</div>"
      ],
      "text/plain": [
       "   mark  model generation_name  year  mileage  vol_engine    fuel  \\\n",
       "0  opel  combo      gen-d-2011  2015   139568        1248  Diesel   \n",
       "1  opel  combo      gen-d-2011  2018    31991        1499  Diesel   \n",
       "2  opel  combo      gen-d-2011  2015   278437        1598  Diesel   \n",
       "3  opel  combo      gen-d-2011  2016    47600        1248  Diesel   \n",
       "4  opel  combo      gen-d-2011  2014   103000        1400     CNG   \n",
       "\n",
       "              city     province  price  category  \n",
       "0            Janki  Mazowieckie  35900         1  \n",
       "1         Katowice      Śląskie  78501         5  \n",
       "2            Brzeg     Opolskie  27000         2  \n",
       "3        Korfantów     Opolskie  30800         1  \n",
       "4  Tarnowskie Góry      Śląskie  35900         3  "
      ]
     },
     "execution_count": 162,
     "metadata": {},
     "output_type": "execute_result"
    }
   ],
   "source": [
    "cars.head()"
   ]
  },
  {
   "cell_type": "code",
   "execution_count": 163,
   "metadata": {},
   "outputs": [],
   "source": [
    "cars = cars.drop('city', axis = 1)"
   ]
  },
  {
   "cell_type": "markdown",
   "metadata": {
    "datalore": {
     "hide_input_from_viewers": false,
     "hide_output_from_viewers": false,
     "type": "MD"
    }
   },
   "source": [
    "Zamieniam rekordy bez wartości `generation_name` na kategorię `other`, bo jest ich znacznie więcej niż innych nazwanych kategorii, więc nie można się ich pozbyć."
   ]
  },
  {
   "cell_type": "code",
   "execution_count": 164,
   "metadata": {
    "datalore": {
     "hide_input_from_viewers": false,
     "hide_output_from_viewers": false,
     "type": "CODE"
    }
   },
   "outputs": [
    {
     "data": {
      "text/plain": [
       "30130"
      ]
     },
     "execution_count": 164,
     "metadata": {},
     "output_type": "execute_result"
    }
   ],
   "source": [
    "cars[cars.generation_name.isna() == True].shape[0]"
   ]
  },
  {
   "cell_type": "code",
   "execution_count": 165,
   "metadata": {
    "datalore": {
     "hide_input_from_viewers": false,
     "hide_output_from_viewers": false,
     "type": "CODE"
    }
   },
   "outputs": [],
   "source": [
    "cars['generation_name'] = cars.apply(lambda x: 'other' if isinstance(x['generation_name'], str) == False else x['generation_name'], axis = 1)"
   ]
  },
  {
   "cell_type": "code",
   "execution_count": 166,
   "metadata": {
    "datalore": {
     "hide_input_from_viewers": false,
     "hide_output_from_viewers": false,
     "type": "CODE"
    }
   },
   "outputs": [
    {
     "data": {
      "text/plain": [
       "array(['Diesel', 'CNG', 'Gasoline', 'LPG', 'Hybrid', 'Electric'],\n",
       "      dtype=object)"
      ]
     },
     "execution_count": 166,
     "metadata": {},
     "output_type": "execute_result"
    }
   ],
   "source": [
    "cars.fuel.unique()"
   ]
  },
  {
   "cell_type": "code",
   "execution_count": 167,
   "metadata": {
    "datalore": {
     "hide_input_from_viewers": false,
     "hide_output_from_viewers": false,
     "type": "CODE"
    }
   },
   "outputs": [],
   "source": [
    "encoder = OneHotEncoder(handle_unknown='ignore')\n",
    "encoder_df = pd.DataFrame(encoder.fit_transform(cars[['mark', 'model', 'generation_name', 'province', 'fuel']]).toarray())\n",
    "cars = cars.join(encoder_df)\n",
    "cars = cars.drop(['mark', 'model', 'generation_name', 'province', 'fuel'], axis = 1)"
   ]
  },
  {
   "cell_type": "code",
   "execution_count": 168,
   "metadata": {
    "datalore": {
     "hide_input_from_viewers": false,
     "hide_output_from_viewers": false,
     "type": "CODE"
    }
   },
   "outputs": [
    {
     "data": {
      "text/plain": [
       "(118163, 750)"
      ]
     },
     "execution_count": 168,
     "metadata": {},
     "output_type": "execute_result"
    }
   ],
   "source": [
    "cars.shape"
   ]
  },
  {
   "cell_type": "markdown",
   "metadata": {
    "datalore": {
     "hide_input_from_viewers": false,
     "hide_output_from_viewers": false,
     "type": "MD"
    }
   },
   "source": [
    "### Random forest"
   ]
  },
  {
   "cell_type": "code",
   "execution_count": 169,
   "metadata": {
    "datalore": {
     "hide_input_from_viewers": false,
     "hide_output_from_viewers": false,
     "type": "CODE"
    }
   },
   "outputs": [],
   "source": [
    "y = cars.price\n",
    "cars = cars.drop('price', axis = 1)\n",
    "X_train, X_val, y_train, y_val = train_test_split(cars, y, test_size=0.3)"
   ]
  },
  {
   "cell_type": "markdown",
   "metadata": {
    "datalore": {
     "hide_input_from_viewers": false,
     "hide_output_from_viewers": false,
     "type": "MD"
    }
   },
   "source": [
    "#### Wpływ `n_estimators` na wynik"
   ]
  },
  {
   "cell_type": "code",
   "execution_count": 170,
   "metadata": {},
   "outputs": [
    {
     "name": "stdout",
     "output_type": "stream",
     "text": [
      "0.9136644730593637\n"
     ]
    }
   ],
   "source": [
    "rf = RandomForestRegressor(\n",
    "                            n_estimators = 10,\n",
    "                            max_features = 'sqrt',\n",
    "                            random_state = 17\n",
    ")\n",
    "print(rf.fit(X_train, y_train).score(X_val, y_val))"
   ]
  },
  {
   "cell_type": "code",
   "execution_count": 171,
   "metadata": {
    "datalore": {
     "hide_input_from_viewers": false,
     "hide_output_from_viewers": false,
     "type": "CODE"
    }
   },
   "outputs": [
    {
     "name": "stdout",
     "output_type": "stream",
     "text": [
      "0.9230450359650959\n"
     ]
    }
   ],
   "source": [
    "rf = RandomForestRegressor(\n",
    "                            n_estimators = 100,\n",
    "                            max_features = 'sqrt',\n",
    "                            random_state = 17\n",
    ")\n",
    "print(rf.fit(X_train, y_train).score(X_val, y_val))"
   ]
  },
  {
   "cell_type": "code",
   "execution_count": 172,
   "metadata": {},
   "outputs": [
    {
     "name": "stdout",
     "output_type": "stream",
     "text": [
      "0.9239502112883892\n"
     ]
    }
   ],
   "source": [
    "rf = RandomForestRegressor(\n",
    "                            n_estimators = 300,\n",
    "                            max_features = 'sqrt',\n",
    "                            random_state = 17\n",
    ")\n",
    "print(rf.fit(X_train, y_train).score(X_val, y_val))"
   ]
  },
  {
   "cell_type": "markdown",
   "metadata": {},
   "source": [
    "#### Wpływ `max_depth` na wynik"
   ]
  },
  {
   "cell_type": "code",
   "execution_count": 173,
   "metadata": {},
   "outputs": [
    {
     "name": "stdout",
     "output_type": "stream",
     "text": [
      "0.15309086218349155\n"
     ]
    }
   ],
   "source": [
    "rf = RandomForestRegressor(\n",
    "                            n_estimators = 100,\n",
    "                            max_depth = 2,\n",
    "                            max_features = 'sqrt',\n",
    "                            random_state = 17\n",
    ")\n",
    "print(rf.fit(X_train, y_train).score(X_val, y_val))"
   ]
  },
  {
   "cell_type": "code",
   "execution_count": 174,
   "metadata": {},
   "outputs": [
    {
     "name": "stdout",
     "output_type": "stream",
     "text": [
      "0.4136884016484518\n"
     ]
    }
   ],
   "source": [
    "rf = RandomForestRegressor(\n",
    "                            n_estimators = 100,\n",
    "                            max_depth = 6,\n",
    "                            max_features = 'sqrt',\n",
    "                            random_state = 17\n",
    ")\n",
    "print(rf.fit(X_train, y_train).score(X_val, y_val))"
   ]
  },
  {
   "cell_type": "code",
   "execution_count": 175,
   "metadata": {},
   "outputs": [
    {
     "name": "stdout",
     "output_type": "stream",
     "text": [
      "0.5988575817105766\n"
     ]
    }
   ],
   "source": [
    "rf = RandomForestRegressor(\n",
    "                            n_estimators = 100,\n",
    "                            max_depth = 10,\n",
    "                            max_features = 'sqrt',\n",
    "                            random_state = 17\n",
    ")\n",
    "print(rf.fit(X_train, y_train).score(X_val, y_val))"
   ]
  },
  {
   "cell_type": "code",
   "execution_count": 176,
   "metadata": {},
   "outputs": [
    {
     "name": "stdout",
     "output_type": "stream",
     "text": [
      "0.7550600482865643\n"
     ]
    }
   ],
   "source": [
    "rf = RandomForestRegressor(\n",
    "                            n_estimators = 100,\n",
    "                            max_depth = 16,\n",
    "                            max_features = 'sqrt',\n",
    "                            random_state = 17\n",
    ")\n",
    "print(rf.fit(X_train, y_train).score(X_val, y_val))"
   ]
  },
  {
   "cell_type": "code",
   "execution_count": 177,
   "metadata": {},
   "outputs": [
    {
     "name": "stdout",
     "output_type": "stream",
     "text": [
      "0.9230450359650959\n"
     ]
    }
   ],
   "source": [
    "rf = RandomForestRegressor(\n",
    "                            n_estimators = 100,\n",
    "                            max_depth = None,\n",
    "                            max_features = 'sqrt',\n",
    "                            random_state = 17\n",
    ")\n",
    "print(rf.fit(X_train, y_train).score(X_val, y_val))"
   ]
  },
  {
   "cell_type": "markdown",
   "metadata": {},
   "source": [
    "Mamy na tyle dużo zmiennych, że wygląda na to że warto dać drzewom rozrastać się tak długo jak chcą, bo podnosi to score."
   ]
  },
  {
   "cell_type": "code",
   "execution_count": 178,
   "metadata": {},
   "outputs": [
    {
     "name": "stdout",
     "output_type": "stream",
     "text": [
      "0.918928507788879\n"
     ]
    }
   ],
   "source": [
    "rf = RandomForestRegressor(\n",
    "                            n_estimators = 100,\n",
    "                            max_depth = None,\n",
    "                            max_features = 'log2',\n",
    "                            random_state = 17\n",
    ")\n",
    "print(rf.fit(X_train, y_train).score(X_val, y_val))"
   ]
  },
  {
   "cell_type": "code",
   "execution_count": 179,
   "metadata": {},
   "outputs": [
    {
     "name": "stdout",
     "output_type": "stream",
     "text": [
      "0.9307401996845251\n"
     ]
    }
   ],
   "source": [
    "rf = RandomForestRegressor(\n",
    "                            n_estimators = 100,\n",
    "                            max_depth = None,\n",
    "                            max_features = None,\n",
    "                            random_state = 17\n",
    ")\n",
    "\n",
    "print(rf.fit(X_train, y_train).score(X_val, y_val))"
   ]
  },
  {
   "cell_type": "markdown",
   "metadata": {},
   "source": [
    "Najlepsze wyniki otrzymujemy z `n_estimators` = 100, `max_depth` = None i `max_features` = None (czyli bez ograniczeń przy wyborze kolumn)."
   ]
  },
  {
   "cell_type": "markdown",
   "metadata": {},
   "source": [
    "### XGBoost"
   ]
  },
  {
   "cell_type": "code",
   "execution_count": 180,
   "metadata": {},
   "outputs": [],
   "source": [
    "X_train, X_test, y_train, y_test = train_test_split(X_train, y_train, test_size=0.125)"
   ]
  },
  {
   "cell_type": "code",
   "execution_count": 181,
   "metadata": {},
   "outputs": [],
   "source": [
    "xgb_reg = xgb.XGBRegressor(objective=\"reg:squarederror\", use_label_encoder=False)"
   ]
  },
  {
   "cell_type": "markdown",
   "metadata": {},
   "source": [
    "#### Wpływ `n_estimators` na wynik"
   ]
  },
  {
   "cell_type": "code",
   "execution_count": 182,
   "metadata": {
    "scrolled": true
   },
   "outputs": [],
   "source": [
    "%%capture\n",
    "xgb_reg.set_params(n_estimators = 10)\n",
    "xgb_reg.fit(X_train, y_train, verbose=True, early_stopping_rounds=5, eval_set=[(X_test, y_test)])"
   ]
  },
  {
   "cell_type": "code",
   "execution_count": 183,
   "metadata": {},
   "outputs": [
    {
     "data": {
      "text/plain": [
       "0.894704800945457"
      ]
     },
     "execution_count": 183,
     "metadata": {},
     "output_type": "execute_result"
    }
   ],
   "source": [
    "xgb_reg.score(X_val, y_val)"
   ]
  },
  {
   "cell_type": "code",
   "execution_count": 184,
   "metadata": {
    "scrolled": true
   },
   "outputs": [],
   "source": [
    "%%capture\n",
    "xgb_reg.set_params(n_estimators = 100)\n",
    "xgb_reg.fit(X_train, y_train, verbose=True, early_stopping_rounds=5, eval_set=[(X_test, y_test)])"
   ]
  },
  {
   "cell_type": "code",
   "execution_count": 185,
   "metadata": {},
   "outputs": [
    {
     "data": {
      "text/plain": [
       "0.9268406441195025"
      ]
     },
     "execution_count": 185,
     "metadata": {},
     "output_type": "execute_result"
    }
   ],
   "source": [
    "xgb_reg.score(X_val, y_val)"
   ]
  },
  {
   "cell_type": "code",
   "execution_count": 186,
   "metadata": {},
   "outputs": [],
   "source": [
    "%%capture\n",
    "xgb_reg.set_params(n_estimators = 500)\n",
    "xgb_reg.fit(X_train, y_train, verbose=True, early_stopping_rounds=5, eval_set=[(X_test, y_test)])"
   ]
  },
  {
   "cell_type": "code",
   "execution_count": 187,
   "metadata": {},
   "outputs": [
    {
     "data": {
      "text/plain": [
       "0.9298541975318171"
      ]
     },
     "execution_count": 187,
     "metadata": {},
     "output_type": "execute_result"
    }
   ],
   "source": [
    "xgb_reg.score(X_val, y_val)"
   ]
  },
  {
   "cell_type": "markdown",
   "metadata": {},
   "source": [
    "#### Wpływ `max_depth` na wynik"
   ]
  },
  {
   "cell_type": "code",
   "execution_count": 188,
   "metadata": {},
   "outputs": [],
   "source": [
    "%%capture\n",
    "xgb_reg.set_params(n_estimators = 100, max_depth = 2)\n",
    "xgb_reg.fit(X_train, y_train, verbose=True, early_stopping_rounds=5, eval_set=[(X_test, y_test)])"
   ]
  },
  {
   "cell_type": "code",
   "execution_count": 189,
   "metadata": {},
   "outputs": [
    {
     "data": {
      "text/plain": [
       "0.8842091841794509"
      ]
     },
     "execution_count": 189,
     "metadata": {},
     "output_type": "execute_result"
    }
   ],
   "source": [
    "xgb_reg.score(X_val, y_val)"
   ]
  },
  {
   "cell_type": "code",
   "execution_count": 190,
   "metadata": {},
   "outputs": [],
   "source": [
    "%%capture\n",
    "xgb_reg.set_params(max_depth = 8)\n",
    "xgb_reg.fit(X_train, y_train, verbose=True, early_stopping_rounds=5, eval_set=[(X_test, y_test)])"
   ]
  },
  {
   "cell_type": "code",
   "execution_count": 191,
   "metadata": {},
   "outputs": [
    {
     "data": {
      "text/plain": [
       "0.9310721087354805"
      ]
     },
     "execution_count": 191,
     "metadata": {},
     "output_type": "execute_result"
    }
   ],
   "source": [
    "xgb_reg.score(X_val, y_val)"
   ]
  },
  {
   "cell_type": "code",
   "execution_count": 192,
   "metadata": {},
   "outputs": [],
   "source": [
    "%%capture\n",
    "xgb_reg.set_params(max_depth = 16)\n",
    "xgb_reg.fit(X_train, y_train, verbose=True, early_stopping_rounds=5, eval_set=[(X_test, y_test)])"
   ]
  },
  {
   "cell_type": "code",
   "execution_count": 193,
   "metadata": {},
   "outputs": [
    {
     "data": {
      "text/plain": [
       "0.9286338050359628"
      ]
     },
     "execution_count": 193,
     "metadata": {},
     "output_type": "execute_result"
    }
   ],
   "source": [
    "xgb_reg.score(X_val, y_val)"
   ]
  },
  {
   "cell_type": "code",
   "execution_count": 194,
   "metadata": {},
   "outputs": [],
   "source": [
    "%%capture\n",
    "xgb_reg.set_params(max_depth = None)\n",
    "xgb_reg.fit(X_train, y_train, verbose=True, early_stopping_rounds=5, eval_set=[(X_test, y_test)])"
   ]
  },
  {
   "cell_type": "code",
   "execution_count": 195,
   "metadata": {},
   "outputs": [
    {
     "data": {
      "text/plain": [
       "0.9286338050359628"
      ]
     },
     "execution_count": 195,
     "metadata": {},
     "output_type": "execute_result"
    }
   ],
   "source": [
    "xgb_reg.score(X_val, y_val)"
   ]
  },
  {
   "cell_type": "markdown",
   "metadata": {},
   "source": [
    "Najlepsze wyniki osiągam dla `n_estimators` = 500 i `max_depth` = 8."
   ]
  },
  {
   "cell_type": "code",
   "execution_count": 196,
   "metadata": {},
   "outputs": [],
   "source": [
    "%%capture\n",
    "xgb_reg.set_params(n_estimators = 500, max_depth = 8)\n",
    "xgb_reg.fit(X_train, y_train, verbose=True, early_stopping_rounds=5, eval_set=[(X_test, y_test)])"
   ]
  },
  {
   "cell_type": "code",
   "execution_count": 197,
   "metadata": {},
   "outputs": [
    {
     "data": {
      "text/plain": [
       "0.9339199423290979"
      ]
     },
     "execution_count": 197,
     "metadata": {},
     "output_type": "execute_result"
    }
   ],
   "source": [
    "xgb_reg.score(X_val, y_val)"
   ]
  },
  {
   "cell_type": "markdown",
   "metadata": {},
   "source": [
    "##### Podejście 2\n",
    "\n",
    "##### Zastosowanie one-hot encoding na kolumnie miast"
   ]
  },
  {
   "cell_type": "code",
   "execution_count": 198,
   "metadata": {},
   "outputs": [],
   "source": [
    "cars = pd.read_csv(\"./data/car_prices_poland/Car_Prices_Poland.csv\")"
   ]
  },
  {
   "cell_type": "code",
   "execution_count": 199,
   "metadata": {},
   "outputs": [],
   "source": [
    "cars = cars.drop('Unnamed: 0', axis = 1)"
   ]
  },
  {
   "cell_type": "code",
   "execution_count": 200,
   "metadata": {},
   "outputs": [
    {
     "data": {
      "text/plain": [
       "Warszawa         7972\n",
       "Łódź             3341\n",
       "Kraków           2936\n",
       "Wrocław          2764\n",
       "Poznań           2382\n",
       "                 ... \n",
       "Słopsk              1\n",
       "Giełczyn            1\n",
       "Strumyk             1\n",
       "Czestków F          1\n",
       "Kraśnik Dolny       1\n",
       "Name: city, Length: 4427, dtype: int64"
      ]
     },
     "execution_count": 200,
     "metadata": {},
     "output_type": "execute_result"
    }
   ],
   "source": [
    "cars.city.value_counts()"
   ]
  },
  {
   "cell_type": "markdown",
   "metadata": {},
   "source": [
    "Jest bardzo dużo unikalnych miast, zamienię część z nich o najmniejszej częstości występowania na kategorię `other`."
   ]
  },
  {
   "cell_type": "code",
   "execution_count": 201,
   "metadata": {},
   "outputs": [],
   "source": [
    "cities_to_other = pd.DataFrame(cars.city.value_counts())\n",
    "cities_to_other = cities_to_other[cities_to_other['city'] <= 50].reset_index()['index']\n",
    "\n",
    "cities_to_other = list(cities_to_other)\n",
    "\n",
    "cars.city = cars.apply(lambda x: 'other' if x['city'] in cities_to_other else x['city'], axis = 1)"
   ]
  },
  {
   "cell_type": "code",
   "execution_count": 202,
   "metadata": {},
   "outputs": [
    {
     "data": {
      "text/plain": [
       "other       22251\n",
       "Warszawa     7972\n",
       "Łódź         3341\n",
       "Kraków       2936\n",
       "Wrocław      2764\n",
       "            ...  \n",
       "Paczkowo       51\n",
       "Klaudyn        51\n",
       "Knurów         51\n",
       "Miechów        51\n",
       "Błonie         51\n",
       "Name: city, Length: 350, dtype: int64"
      ]
     },
     "execution_count": 202,
     "metadata": {},
     "output_type": "execute_result"
    }
   ],
   "source": [
    "cars.city.value_counts()"
   ]
  },
  {
   "cell_type": "code",
   "execution_count": 203,
   "metadata": {},
   "outputs": [
    {
     "data": {
      "text/plain": [
       "30085"
      ]
     },
     "execution_count": 203,
     "metadata": {},
     "output_type": "execute_result"
    }
   ],
   "source": [
    "cars[cars.generation_name.isna() == True].shape[0]"
   ]
  },
  {
   "cell_type": "markdown",
   "metadata": {},
   "source": [
    "Zamieniam rekordy bez wartości `generation_name` na kategorię `other`, bo jest ich znacznie więcej niż innych nazwanych kategorii, więc nie można się ich pozbyć."
   ]
  },
  {
   "cell_type": "code",
   "execution_count": 204,
   "metadata": {},
   "outputs": [],
   "source": [
    "cars['generation_name'] = cars.apply(lambda x: 'other' if isinstance(x['generation_name'], str) == False else x['generation_name'], axis = 1)"
   ]
  },
  {
   "cell_type": "code",
   "execution_count": 205,
   "metadata": {},
   "outputs": [],
   "source": [
    "encoder = OneHotEncoder(handle_unknown='ignore')\n",
    "encoder_df = pd.DataFrame(encoder.fit_transform(cars[['mark', 'model', 'generation_name', 'city', 'province', 'fuel']]).toarray())\n",
    "cars = cars.join(encoder_df)\n",
    "cars = cars.drop(['mark', 'model', 'generation_name', 'city', 'province', 'fuel'], axis = 1)"
   ]
  },
  {
   "cell_type": "markdown",
   "metadata": {},
   "source": [
    "### Random forest"
   ]
  },
  {
   "cell_type": "code",
   "execution_count": 206,
   "metadata": {},
   "outputs": [],
   "source": [
    "y = cars.price\n",
    "cars = cars.drop('price', axis = 1)\n",
    "X_train, X_val, y_train, y_val = train_test_split(cars, y, test_size=0.3)"
   ]
  },
  {
   "cell_type": "markdown",
   "metadata": {},
   "source": [
    "#### Wpływ `n_estimators` na wynik"
   ]
  },
  {
   "cell_type": "code",
   "execution_count": 208,
   "metadata": {},
   "outputs": [
    {
     "name": "stdout",
     "output_type": "stream",
     "text": [
      "0.9335169712353752\n"
     ]
    }
   ],
   "source": [
    "rf = RandomForestRegressor(\n",
    "                            n_estimators = 10,\n",
    "                            max_features = 'sqrt',\n",
    "                            random_state = 17\n",
    ")\n",
    "print(rf.fit(X_train, y_train).score(X_val, y_val))"
   ]
  },
  {
   "cell_type": "code",
   "execution_count": 209,
   "metadata": {
    "datalore": {
     "hide_input_from_viewers": false,
     "hide_output_from_viewers": false,
     "type": "CODE"
    }
   },
   "outputs": [
    {
     "name": "stdout",
     "output_type": "stream",
     "text": [
      "0.9440835667902296\n"
     ]
    }
   ],
   "source": [
    "rf = RandomForestRegressor(\n",
    "                            n_estimators = 100,\n",
    "                            max_features = 'sqrt',\n",
    "                            random_state = 17\n",
    ")\n",
    "print(rf.fit(X_train, y_train).score(X_val, y_val))"
   ]
  },
  {
   "cell_type": "code",
   "execution_count": 210,
   "metadata": {},
   "outputs": [
    {
     "name": "stdout",
     "output_type": "stream",
     "text": [
      "0.9451005899791806\n"
     ]
    }
   ],
   "source": [
    "rf = RandomForestRegressor(\n",
    "                            n_estimators = 300,\n",
    "                            max_features = 'sqrt',\n",
    "                            random_state = 17\n",
    ")\n",
    "print(rf.fit(X_train, y_train).score(X_val, y_val))"
   ]
  },
  {
   "cell_type": "markdown",
   "metadata": {},
   "source": [
    "#### Wpływ `max_depth` na wynik"
   ]
  },
  {
   "cell_type": "code",
   "execution_count": 211,
   "metadata": {},
   "outputs": [
    {
     "name": "stdout",
     "output_type": "stream",
     "text": [
      "0.1364300493520979\n"
     ]
    }
   ],
   "source": [
    "rf = RandomForestRegressor(\n",
    "                            n_estimators = 100,\n",
    "                            max_depth = 2,\n",
    "                            max_features = 'sqrt',\n",
    "                            random_state = 17\n",
    ")\n",
    "print(rf.fit(X_train, y_train).score(X_val, y_val))"
   ]
  },
  {
   "cell_type": "code",
   "execution_count": 212,
   "metadata": {},
   "outputs": [
    {
     "name": "stdout",
     "output_type": "stream",
     "text": [
      "0.34442675300006775\n"
     ]
    }
   ],
   "source": [
    "rf = RandomForestRegressor(\n",
    "                            n_estimators = 100,\n",
    "                            max_depth = 6,\n",
    "                            max_features = 'sqrt',\n",
    "                            random_state = 17\n",
    ")\n",
    "print(rf.fit(X_train, y_train).score(X_val, y_val))"
   ]
  },
  {
   "cell_type": "code",
   "execution_count": 213,
   "metadata": {},
   "outputs": [
    {
     "name": "stdout",
     "output_type": "stream",
     "text": [
      "0.5299334658048596\n"
     ]
    }
   ],
   "source": [
    "rf = RandomForestRegressor(\n",
    "                            n_estimators = 100,\n",
    "                            max_depth = 10,\n",
    "                            max_features = 'sqrt',\n",
    "                            random_state = 17\n",
    ")\n",
    "print(rf.fit(X_train, y_train).score(X_val, y_val))"
   ]
  },
  {
   "cell_type": "code",
   "execution_count": 214,
   "metadata": {},
   "outputs": [
    {
     "name": "stdout",
     "output_type": "stream",
     "text": [
      "0.7184809173229444\n"
     ]
    }
   ],
   "source": [
    "rf = RandomForestRegressor(\n",
    "                            n_estimators = 100,\n",
    "                            max_depth = 16,\n",
    "                            max_features = 'sqrt',\n",
    "                            random_state = 17\n",
    ")\n",
    "print(rf.fit(X_train, y_train).score(X_val, y_val))"
   ]
  },
  {
   "cell_type": "code",
   "execution_count": 215,
   "metadata": {},
   "outputs": [
    {
     "name": "stdout",
     "output_type": "stream",
     "text": [
      "0.9440835667902296\n"
     ]
    }
   ],
   "source": [
    "rf = RandomForestRegressor(\n",
    "                            n_estimators = 100,\n",
    "                            max_depth = None,\n",
    "                            max_features = 'sqrt',\n",
    "                            random_state = 17\n",
    ")\n",
    "print(rf.fit(X_train, y_train).score(X_val, y_val))"
   ]
  },
  {
   "cell_type": "markdown",
   "metadata": {},
   "source": [
    "Sprawdzam inne wartości `max_features`."
   ]
  },
  {
   "cell_type": "code",
   "execution_count": 216,
   "metadata": {},
   "outputs": [
    {
     "name": "stdout",
     "output_type": "stream",
     "text": [
      "0.9363137239321804\n"
     ]
    }
   ],
   "source": [
    "rf = RandomForestRegressor(\n",
    "                            n_estimators = 100,\n",
    "                            max_depth = None,\n",
    "                            max_features = 'log2',\n",
    "                            random_state = 17\n",
    ")\n",
    "print(rf.fit(X_train, y_train).score(X_val, y_val))"
   ]
  },
  {
   "cell_type": "code",
   "execution_count": 217,
   "metadata": {},
   "outputs": [
    {
     "name": "stdout",
     "output_type": "stream",
     "text": [
      "0.944587758594579\n"
     ]
    }
   ],
   "source": [
    "rf = RandomForestRegressor(\n",
    "                            n_estimators = 100,\n",
    "                            max_depth = None,\n",
    "                            max_features = None,\n",
    "                            random_state = 17\n",
    ")\n",
    "\n",
    "print(rf.fit(X_train, y_train).score(X_val, y_val))"
   ]
  },
  {
   "cell_type": "markdown",
   "metadata": {},
   "source": [
    "### XGBoost"
   ]
  },
  {
   "cell_type": "code",
   "execution_count": 218,
   "metadata": {},
   "outputs": [],
   "source": [
    "X_train, X_test, y_train, y_test = train_test_split(X_train, y_train, test_size=0.125)"
   ]
  },
  {
   "cell_type": "code",
   "execution_count": 219,
   "metadata": {},
   "outputs": [],
   "source": [
    "xgb_reg = xgb.XGBRegressor(objective=\"reg:squarederror\", use_label_encoder=False)"
   ]
  },
  {
   "cell_type": "markdown",
   "metadata": {},
   "source": [
    "#### Wpływ `n_estimators` na wynik"
   ]
  },
  {
   "cell_type": "code",
   "execution_count": 220,
   "metadata": {
    "scrolled": true
   },
   "outputs": [],
   "source": [
    "%%capture\n",
    "xgb_reg.set_params(n_estimators = 10)\n",
    "xgb_reg.fit(X_train, y_train, verbose=True, early_stopping_rounds=5, eval_set=[(X_test, y_test)])"
   ]
  },
  {
   "cell_type": "code",
   "execution_count": 221,
   "metadata": {},
   "outputs": [
    {
     "data": {
      "text/plain": [
       "0.9115155351464613"
      ]
     },
     "execution_count": 221,
     "metadata": {},
     "output_type": "execute_result"
    }
   ],
   "source": [
    "xgb_reg.score(X_val, y_val)"
   ]
  },
  {
   "cell_type": "code",
   "execution_count": 222,
   "metadata": {
    "scrolled": true
   },
   "outputs": [],
   "source": [
    "%%capture\n",
    "xgb_reg.set_params(n_estimators = 100)\n",
    "xgb_reg.fit(X_train, y_train, verbose=True, early_stopping_rounds=5, eval_set=[(X_test, y_test)])"
   ]
  },
  {
   "cell_type": "code",
   "execution_count": 223,
   "metadata": {},
   "outputs": [
    {
     "data": {
      "text/plain": [
       "0.9396538382591455"
      ]
     },
     "execution_count": 223,
     "metadata": {},
     "output_type": "execute_result"
    }
   ],
   "source": [
    "xgb_reg.score(X_val, y_val)"
   ]
  },
  {
   "cell_type": "code",
   "execution_count": 224,
   "metadata": {},
   "outputs": [],
   "source": [
    "%%capture\n",
    "xgb_reg.set_params(n_estimators = 500)\n",
    "xgb_reg.fit(X_train, y_train, verbose=True, early_stopping_rounds=5, eval_set=[(X_test, y_test)])"
   ]
  },
  {
   "cell_type": "code",
   "execution_count": 225,
   "metadata": {},
   "outputs": [
    {
     "data": {
      "text/plain": [
       "0.9451351993837036"
      ]
     },
     "execution_count": 225,
     "metadata": {},
     "output_type": "execute_result"
    }
   ],
   "source": [
    "xgb_reg.score(X_val, y_val)"
   ]
  },
  {
   "cell_type": "markdown",
   "metadata": {},
   "source": [
    "#### Wpływ `max_depth` na wynik"
   ]
  },
  {
   "cell_type": "code",
   "execution_count": 226,
   "metadata": {},
   "outputs": [],
   "source": [
    "%%capture\n",
    "xgb_reg.set_params(n_estimators = 100, max_depth = 2)\n",
    "xgb_reg.fit(X_train, y_train, verbose=True, early_stopping_rounds=5, eval_set=[(X_test, y_test)])"
   ]
  },
  {
   "cell_type": "code",
   "execution_count": 227,
   "metadata": {},
   "outputs": [
    {
     "data": {
      "text/plain": [
       "0.9014600926549413"
      ]
     },
     "execution_count": 227,
     "metadata": {},
     "output_type": "execute_result"
    }
   ],
   "source": [
    "xgb_reg.score(X_val, y_val)"
   ]
  },
  {
   "cell_type": "code",
   "execution_count": 228,
   "metadata": {},
   "outputs": [],
   "source": [
    "%%capture\n",
    "xgb_reg.set_params(max_depth = 8)\n",
    "xgb_reg.fit(X_train, y_train, verbose=True, early_stopping_rounds=5, eval_set=[(X_test, y_test)])"
   ]
  },
  {
   "cell_type": "code",
   "execution_count": 229,
   "metadata": {},
   "outputs": [
    {
     "data": {
      "text/plain": [
       "0.9427537419250528"
      ]
     },
     "execution_count": 229,
     "metadata": {},
     "output_type": "execute_result"
    }
   ],
   "source": [
    "xgb_reg.score(X_val, y_val)"
   ]
  },
  {
   "cell_type": "code",
   "execution_count": 230,
   "metadata": {},
   "outputs": [],
   "source": [
    "%%capture\n",
    "xgb_reg.set_params(max_depth = 16)\n",
    "xgb_reg.fit(X_train, y_train, verbose=True, early_stopping_rounds=5, eval_set=[(X_test, y_test)])"
   ]
  },
  {
   "cell_type": "code",
   "execution_count": 231,
   "metadata": {},
   "outputs": [
    {
     "data": {
      "text/plain": [
       "0.9407140677702152"
      ]
     },
     "execution_count": 231,
     "metadata": {},
     "output_type": "execute_result"
    }
   ],
   "source": [
    "xgb_reg.score(X_val, y_val)"
   ]
  },
  {
   "cell_type": "code",
   "execution_count": 232,
   "metadata": {},
   "outputs": [],
   "source": [
    "%%capture\n",
    "xgb_reg.set_params(max_depth = None)\n",
    "xgb_reg.fit(X_train, y_train, verbose=True, early_stopping_rounds=5, eval_set=[(X_test, y_test)])"
   ]
  },
  {
   "cell_type": "code",
   "execution_count": 233,
   "metadata": {},
   "outputs": [
    {
     "data": {
      "text/plain": [
       "0.9407140677702152"
      ]
     },
     "execution_count": 233,
     "metadata": {},
     "output_type": "execute_result"
    }
   ],
   "source": [
    "xgb_reg.score(X_val, y_val)"
   ]
  },
  {
   "cell_type": "markdown",
   "metadata": {},
   "source": [
    "Najlepsze wyniki osiągam osobno dla `n_estimators` = 500 i `max_depth` = 8."
   ]
  },
  {
   "cell_type": "code",
   "execution_count": 234,
   "metadata": {},
   "outputs": [],
   "source": [
    "%%capture\n",
    "xgb_reg.set_params(n_estimators = 500, max_depth = 8)\n",
    "xgb_reg.fit(X_train, y_train, verbose=True, early_stopping_rounds=5, eval_set=[(X_test, y_test)])"
   ]
  },
  {
   "cell_type": "code",
   "execution_count": 235,
   "metadata": {},
   "outputs": [
    {
     "data": {
      "text/plain": [
       "0.9443136908661456"
      ]
     },
     "execution_count": 235,
     "metadata": {},
     "output_type": "execute_result"
    }
   ],
   "source": [
    "xgb_reg.score(X_val, y_val)"
   ]
  },
  {
   "cell_type": "markdown",
   "metadata": {},
   "source": [
    "Widać jednak, że lepszy score uzyskałem dla `n_estimators` = 500 i `max_depth` = None, był on równy 0.9451351993837036. Widać wyraźnie, że drugie podejście dało lepsze wyniki niż pierwsze."
   ]
  },
  {
   "cell_type": "markdown",
   "metadata": {},
   "source": [
    "## Wnioski"
   ]
  },
  {
   "cell_type": "markdown",
   "metadata": {},
   "source": [
    "Wszystkie sprawdzone przeze mnie parametry zauważalnie wpływają na wartość score przy odpowiednich modelach. W obu scenariuszach lepiej sprawdził się XGBoost, ale wyniki są na tyle zbliżone, że dokładne dobranie odpowiednich mogłoby to potencjalnie odwrócić."
   ]
  }
 ],
 "metadata": {
  "datalore": {
   "base_environment": "default",
   "computation_mode": "JUPYTER",
   "package_manager": "pip",
   "packages": [],
   "version": 1
  },
  "kernelspec": {
   "display_name": "Python 3",
   "language": "python",
   "name": "python3"
  },
  "language_info": {
   "codemirror_mode": {
    "name": "ipython",
    "version": 3
   },
   "file_extension": ".py",
   "mimetype": "text/x-python",
   "name": "python",
   "nbconvert_exporter": "python",
   "pygments_lexer": "ipython3",
   "version": "3.8.8"
  }
 },
 "nbformat": 4,
 "nbformat_minor": 4
}
