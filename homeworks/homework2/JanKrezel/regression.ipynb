{
 "cells": [
  {
   "cell_type": "markdown",
   "metadata": {},
   "source": [
    "#### HW2 - Regresja\n",
    "RandomForestRegressor i XGBRegressor\\\n",
    "Jan Krężel"
   ]
  },
  {
   "cell_type": "code",
   "execution_count": 2,
   "metadata": {},
   "outputs": [],
   "source": [
    "import pandas as pd\n",
    "import numpy as np\n",
    "import matplotlib.pyplot as plt\n",
    "import seaborn as sns\n",
    "from sklearn.model_selection import train_test_split\n",
    "from sklearn.tree import plot_tree\n",
    "\n",
    "import xgboost as xgb\n",
    "from sklearn.ensemble import RandomForestRegressor\n",
    "# from sklearn.ensemble import RandomForestClassifier\n",
    "\n",
    "# from sklearn.preprocessing import LabelEncoder\n",
    "from sklearn.preprocessing import OneHotEncoder"
   ]
  },
  {
   "cell_type": "markdown",
   "metadata": {},
   "source": [
    "### Car Prices\n",
    "Wpierw zajmę się zbiorem car prices. Zaczynam od wczytania danych i prostej obróbki"
   ]
  },
  {
   "cell_type": "code",
   "execution_count": 3,
   "metadata": {},
   "outputs": [],
   "source": [
    "car_prices = pd.read_csv(\"data/Car_Prices_Poland.csv\", index_col=0)"
   ]
  },
  {
   "cell_type": "code",
   "execution_count": 4,
   "metadata": {},
   "outputs": [
    {
     "data": {
      "text/plain": [
       "(117927, 10)"
      ]
     },
     "execution_count": 4,
     "metadata": {},
     "output_type": "execute_result"
    }
   ],
   "source": [
    "car_prices.shape"
   ]
  },
  {
   "cell_type": "code",
   "execution_count": 220,
   "metadata": {},
   "outputs": [
    {
     "data": {
      "text/plain": [
       "mark               False\n",
       "model              False\n",
       "generation_name     True\n",
       "year               False\n",
       "mileage            False\n",
       "vol_engine         False\n",
       "fuel               False\n",
       "city               False\n",
       "province           False\n",
       "price              False\n",
       "dtype: bool"
      ]
     },
     "execution_count": 220,
     "metadata": {},
     "output_type": "execute_result"
    }
   ],
   "source": [
    "car_prices.isna().any()"
   ]
  },
  {
   "cell_type": "code",
   "execution_count": 221,
   "metadata": {},
   "outputs": [
    {
     "data": {
      "text/plain": [
       "0.2551154527801097"
      ]
     },
     "execution_count": 221,
     "metadata": {},
     "output_type": "execute_result"
    }
   ],
   "source": [
    "car_prices['generation_name'].isna().sum() / car_prices['generation_name'].shape[0]"
   ]
  },
  {
   "cell_type": "markdown",
   "metadata": {},
   "source": [
    "Aż 25% danych w kolumnie ```generation_name``` jest brakujących. Ponadto ta kolumna ma wiele klas (pokazane później) i ciężko ją wykorzystać w sposób informatywny. Najlepiej będzie ją wyrzucić."
   ]
  },
  {
   "cell_type": "code",
   "execution_count": 222,
   "metadata": {},
   "outputs": [
    {
     "data": {
      "text/html": [
       "<div>\n",
       "<style scoped>\n",
       "    .dataframe tbody tr th:only-of-type {\n",
       "        vertical-align: middle;\n",
       "    }\n",
       "\n",
       "    .dataframe tbody tr th {\n",
       "        vertical-align: top;\n",
       "    }\n",
       "\n",
       "    .dataframe thead th {\n",
       "        text-align: right;\n",
       "    }\n",
       "</style>\n",
       "<table border=\"1\" class=\"dataframe\">\n",
       "  <thead>\n",
       "    <tr style=\"text-align: right;\">\n",
       "      <th></th>\n",
       "      <th>mark</th>\n",
       "      <th>model</th>\n",
       "      <th>generation_name</th>\n",
       "      <th>year</th>\n",
       "      <th>mileage</th>\n",
       "      <th>vol_engine</th>\n",
       "      <th>fuel</th>\n",
       "      <th>city</th>\n",
       "      <th>province</th>\n",
       "      <th>price</th>\n",
       "    </tr>\n",
       "  </thead>\n",
       "  <tbody>\n",
       "    <tr>\n",
       "      <th>0</th>\n",
       "      <td>opel</td>\n",
       "      <td>combo</td>\n",
       "      <td>gen-d-2011</td>\n",
       "      <td>2015</td>\n",
       "      <td>139568</td>\n",
       "      <td>1248</td>\n",
       "      <td>Diesel</td>\n",
       "      <td>Janki</td>\n",
       "      <td>Mazowieckie</td>\n",
       "      <td>35900</td>\n",
       "    </tr>\n",
       "    <tr>\n",
       "      <th>1</th>\n",
       "      <td>opel</td>\n",
       "      <td>combo</td>\n",
       "      <td>gen-d-2011</td>\n",
       "      <td>2018</td>\n",
       "      <td>31991</td>\n",
       "      <td>1499</td>\n",
       "      <td>Diesel</td>\n",
       "      <td>Katowice</td>\n",
       "      <td>Śląskie</td>\n",
       "      <td>78501</td>\n",
       "    </tr>\n",
       "    <tr>\n",
       "      <th>2</th>\n",
       "      <td>opel</td>\n",
       "      <td>combo</td>\n",
       "      <td>gen-d-2011</td>\n",
       "      <td>2015</td>\n",
       "      <td>278437</td>\n",
       "      <td>1598</td>\n",
       "      <td>Diesel</td>\n",
       "      <td>Brzeg</td>\n",
       "      <td>Opolskie</td>\n",
       "      <td>27000</td>\n",
       "    </tr>\n",
       "    <tr>\n",
       "      <th>3</th>\n",
       "      <td>opel</td>\n",
       "      <td>combo</td>\n",
       "      <td>gen-d-2011</td>\n",
       "      <td>2016</td>\n",
       "      <td>47600</td>\n",
       "      <td>1248</td>\n",
       "      <td>Diesel</td>\n",
       "      <td>Korfantów</td>\n",
       "      <td>Opolskie</td>\n",
       "      <td>30800</td>\n",
       "    </tr>\n",
       "    <tr>\n",
       "      <th>4</th>\n",
       "      <td>opel</td>\n",
       "      <td>combo</td>\n",
       "      <td>gen-d-2011</td>\n",
       "      <td>2014</td>\n",
       "      <td>103000</td>\n",
       "      <td>1400</td>\n",
       "      <td>CNG</td>\n",
       "      <td>Tarnowskie Góry</td>\n",
       "      <td>Śląskie</td>\n",
       "      <td>35900</td>\n",
       "    </tr>\n",
       "    <tr>\n",
       "      <th>5</th>\n",
       "      <td>opel</td>\n",
       "      <td>combo</td>\n",
       "      <td>gen-d-2011</td>\n",
       "      <td>2017</td>\n",
       "      <td>121203</td>\n",
       "      <td>1598</td>\n",
       "      <td>Diesel</td>\n",
       "      <td>Warszawa</td>\n",
       "      <td>Mazowieckie</td>\n",
       "      <td>51900</td>\n",
       "    </tr>\n",
       "    <tr>\n",
       "      <th>6</th>\n",
       "      <td>opel</td>\n",
       "      <td>combo</td>\n",
       "      <td>gen-d-2011</td>\n",
       "      <td>2017</td>\n",
       "      <td>119965</td>\n",
       "      <td>1248</td>\n",
       "      <td>Diesel</td>\n",
       "      <td>Wrocław</td>\n",
       "      <td>Dolnośląskie</td>\n",
       "      <td>44700</td>\n",
       "    </tr>\n",
       "    <tr>\n",
       "      <th>7</th>\n",
       "      <td>opel</td>\n",
       "      <td>combo</td>\n",
       "      <td>gen-d-2011</td>\n",
       "      <td>2016</td>\n",
       "      <td>201658</td>\n",
       "      <td>1248</td>\n",
       "      <td>Diesel</td>\n",
       "      <td>Lublin</td>\n",
       "      <td>Lubelskie</td>\n",
       "      <td>29000</td>\n",
       "    </tr>\n",
       "    <tr>\n",
       "      <th>8</th>\n",
       "      <td>opel</td>\n",
       "      <td>combo</td>\n",
       "      <td>gen-d-2011</td>\n",
       "      <td>2014</td>\n",
       "      <td>178666</td>\n",
       "      <td>1598</td>\n",
       "      <td>Diesel</td>\n",
       "      <td>Złotów</td>\n",
       "      <td>Wielkopolskie</td>\n",
       "      <td>28900</td>\n",
       "    </tr>\n",
       "    <tr>\n",
       "      <th>9</th>\n",
       "      <td>opel</td>\n",
       "      <td>combo</td>\n",
       "      <td>gen-d-2011</td>\n",
       "      <td>2015</td>\n",
       "      <td>113000</td>\n",
       "      <td>1248</td>\n",
       "      <td>Diesel</td>\n",
       "      <td>Strzyżew</td>\n",
       "      <td>Mazowieckie</td>\n",
       "      <td>34900</td>\n",
       "    </tr>\n",
       "  </tbody>\n",
       "</table>\n",
       "</div>"
      ],
      "text/plain": [
       "   mark  model generation_name  year  mileage  vol_engine    fuel  \\\n",
       "0  opel  combo      gen-d-2011  2015   139568        1248  Diesel   \n",
       "1  opel  combo      gen-d-2011  2018    31991        1499  Diesel   \n",
       "2  opel  combo      gen-d-2011  2015   278437        1598  Diesel   \n",
       "3  opel  combo      gen-d-2011  2016    47600        1248  Diesel   \n",
       "4  opel  combo      gen-d-2011  2014   103000        1400     CNG   \n",
       "5  opel  combo      gen-d-2011  2017   121203        1598  Diesel   \n",
       "6  opel  combo      gen-d-2011  2017   119965        1248  Diesel   \n",
       "7  opel  combo      gen-d-2011  2016   201658        1248  Diesel   \n",
       "8  opel  combo      gen-d-2011  2014   178666        1598  Diesel   \n",
       "9  opel  combo      gen-d-2011  2015   113000        1248  Diesel   \n",
       "\n",
       "              city       province  price  \n",
       "0            Janki    Mazowieckie  35900  \n",
       "1         Katowice        Śląskie  78501  \n",
       "2            Brzeg       Opolskie  27000  \n",
       "3        Korfantów       Opolskie  30800  \n",
       "4  Tarnowskie Góry        Śląskie  35900  \n",
       "5         Warszawa    Mazowieckie  51900  \n",
       "6          Wrocław   Dolnośląskie  44700  \n",
       "7           Lublin      Lubelskie  29000  \n",
       "8           Złotów  Wielkopolskie  28900  \n",
       "9         Strzyżew    Mazowieckie  34900  "
      ]
     },
     "execution_count": 222,
     "metadata": {},
     "output_type": "execute_result"
    }
   ],
   "source": [
    "car_prices.head(10)"
   ]
  },
  {
   "cell_type": "markdown",
   "metadata": {},
   "source": [
    "#### Obróbka danych\n",
    "Sprawdźmy szybko ile jest różnych klas dla zmiennych kategorycznych"
   ]
  },
  {
   "cell_type": "code",
   "execution_count": 7,
   "metadata": {},
   "outputs": [],
   "source": [
    "def class_count(df, cat_cols):\n",
    "    for col in cat_cols:\n",
    "        print(f\"{col} has {df[col].unique().shape[0]} unique classes\")"
   ]
  },
  {
   "cell_type": "code",
   "execution_count": 8,
   "metadata": {},
   "outputs": [
    {
     "name": "stdout",
     "output_type": "stream",
     "text": [
      "mark has 23 unique classes\n",
      "model has 328 unique classes\n",
      "generation_name has 365 unique classes\n",
      "fuel has 6 unique classes\n",
      "city has 4427 unique classes\n",
      "province has 23 unique classes\n"
     ]
    }
   ],
   "source": [
    "cat_cols = ['mark', 'model', 'generation_name', 'fuel', 'city', 'province']\n",
    "class_count(car_prices, cat_cols)"
   ]
  },
  {
   "cell_type": "markdown",
   "metadata": {},
   "source": [
    "Część kolumn ma bardzo dużą liczbę klas i prawdopodobnie nie będą wystarczająco predykcyjne. Sprawdźmy czy istnieje jakaś zależność między atrybutami a ceną."
   ]
  },
  {
   "cell_type": "code",
   "execution_count": 129,
   "metadata": {},
   "outputs": [],
   "source": [
    "def plot_price_vs_col(df, cat_cols):\n",
    "    fig, axes = plt.subplots(len(cat_cols), 1, figsize=(8, len(cat_cols)*5))\n",
    "    plt.subplots_adjust(hspace=0.5)\n",
    "    for i, col in enumerate(cat_cols):\n",
    "        price_median = car_prices.groupby(col)['price'].median()\n",
    "        price_mean = car_prices.groupby(col)['price'].mean()\n",
    "\n",
    "        sorted_idx = price_median.argsort()\n",
    "\n",
    "        price_median = price_median[sorted_idx]\n",
    "        price_mean = price_mean[sorted_idx]\n",
    "\n",
    "        axes[i].tick_params(axis='x', rotation=90)\n",
    "        sns.lineplot(x = price_median.index.to_list(),  y = price_median.values,    ax = axes[i])\n",
    "        sns.lineplot(x = price_mean.index.to_list(),    y = price_mean.values,      ax = axes[i])"
   ]
  },
  {
   "cell_type": "code",
   "execution_count": 132,
   "metadata": {},
   "outputs": [
    {
     "data": {
      "image/png": "[encoded data removed]",
      "text/plain": [
       "<Figure size 576x1080 with 3 Axes>"
      ]
     },
     "metadata": {
      "needs_background": "light"
     },
     "output_type": "display_data"
    }
   ],
   "source": [
    "plot_price_vs_col(car_prices, ['mark', 'fuel', 'province'])"
   ]
  },
  {
   "cell_type": "markdown",
   "metadata": {},
   "source": [
    "Atrybut ```province``` jest rozłożony dość równomiernie. Skoki na krańcach są spowodowane małą liczbą danych (np. widać, że mediana i średnia się pokrywają). Z uwagi na to, że klas jest dość dużo można spróbować ten parametr pominąć.\n",
    "\n",
    "Jeśli chodzi o markę samochodu to niektóre marki są z reguły droższe. Można spróbować je zakodować i sprawdzić czy model na tym zyska.\n",
    "\n",
    "W przypadku atrybutu ```fuel``` zakoduję go binarnie według kryterium \"is hybrid or electric\", ponieważ dla tych dwóch klas ceny się znacznie różnią w porównaniu do pozostałych. Jednocześnie wewnątrz tak stworzonych dwóch klas nie ma dużej wariancji."
   ]
  },
  {
   "cell_type": "markdown",
   "metadata": {},
   "source": [
    "Wpierw jednak pozbądźmy się niepotrzebnych kolumn"
   ]
  },
  {
   "cell_type": "code",
   "execution_count": 5,
   "metadata": {},
   "outputs": [],
   "source": [
    "car_prices = car_prices.drop(['model', 'generation_name', 'city', 'province'], axis=1)"
   ]
  },
  {
   "cell_type": "code",
   "execution_count": 6,
   "metadata": {},
   "outputs": [],
   "source": [
    "# Zmiana fuel na binary\n",
    "# jedynka dodana, aby przy ponownym uruchomieniu komórki nie wyzerowały się wszystkie wiersze\n",
    "car_prices['fuel'] = car_prices['fuel'].isin(['Hybrid', 'Electric', 1]).astype(int)"
   ]
  },
  {
   "cell_type": "code",
   "execution_count": 7,
   "metadata": {},
   "outputs": [
    {
     "data": {
      "text/html": [
       "<div>\n",
       "<style scoped>\n",
       "    .dataframe tbody tr th:only-of-type {\n",
       "        vertical-align: middle;\n",
       "    }\n",
       "\n",
       "    .dataframe tbody tr th {\n",
       "        vertical-align: top;\n",
       "    }\n",
       "\n",
       "    .dataframe thead th {\n",
       "        text-align: right;\n",
       "    }\n",
       "</style>\n",
       "<table border=\"1\" class=\"dataframe\">\n",
       "  <thead>\n",
       "    <tr style=\"text-align: right;\">\n",
       "      <th></th>\n",
       "      <th>mark</th>\n",
       "      <th>year</th>\n",
       "      <th>mileage</th>\n",
       "      <th>vol_engine</th>\n",
       "      <th>fuel</th>\n",
       "      <th>price</th>\n",
       "    </tr>\n",
       "  </thead>\n",
       "  <tbody>\n",
       "    <tr>\n",
       "      <th>0</th>\n",
       "      <td>opel</td>\n",
       "      <td>2015</td>\n",
       "      <td>139568</td>\n",
       "      <td>1248</td>\n",
       "      <td>0</td>\n",
       "      <td>35900</td>\n",
       "    </tr>\n",
       "    <tr>\n",
       "      <th>1</th>\n",
       "      <td>opel</td>\n",
       "      <td>2018</td>\n",
       "      <td>31991</td>\n",
       "      <td>1499</td>\n",
       "      <td>0</td>\n",
       "      <td>78501</td>\n",
       "    </tr>\n",
       "    <tr>\n",
       "      <th>2</th>\n",
       "      <td>opel</td>\n",
       "      <td>2015</td>\n",
       "      <td>278437</td>\n",
       "      <td>1598</td>\n",
       "      <td>0</td>\n",
       "      <td>27000</td>\n",
       "    </tr>\n",
       "    <tr>\n",
       "      <th>3</th>\n",
       "      <td>opel</td>\n",
       "      <td>2016</td>\n",
       "      <td>47600</td>\n",
       "      <td>1248</td>\n",
       "      <td>0</td>\n",
       "      <td>30800</td>\n",
       "    </tr>\n",
       "    <tr>\n",
       "      <th>4</th>\n",
       "      <td>opel</td>\n",
       "      <td>2014</td>\n",
       "      <td>103000</td>\n",
       "      <td>1400</td>\n",
       "      <td>0</td>\n",
       "      <td>35900</td>\n",
       "    </tr>\n",
       "    <tr>\n",
       "      <th>...</th>\n",
       "      <td>...</td>\n",
       "      <td>...</td>\n",
       "      <td>...</td>\n",
       "      <td>...</td>\n",
       "      <td>...</td>\n",
       "      <td>...</td>\n",
       "    </tr>\n",
       "    <tr>\n",
       "      <th>117922</th>\n",
       "      <td>volvo</td>\n",
       "      <td>2020</td>\n",
       "      <td>40000</td>\n",
       "      <td>1969</td>\n",
       "      <td>1</td>\n",
       "      <td>222790</td>\n",
       "    </tr>\n",
       "    <tr>\n",
       "      <th>117923</th>\n",
       "      <td>volvo</td>\n",
       "      <td>2017</td>\n",
       "      <td>51000</td>\n",
       "      <td>1969</td>\n",
       "      <td>0</td>\n",
       "      <td>229900</td>\n",
       "    </tr>\n",
       "    <tr>\n",
       "      <th>117924</th>\n",
       "      <td>volvo</td>\n",
       "      <td>2016</td>\n",
       "      <td>83500</td>\n",
       "      <td>1969</td>\n",
       "      <td>0</td>\n",
       "      <td>135000</td>\n",
       "    </tr>\n",
       "    <tr>\n",
       "      <th>117925</th>\n",
       "      <td>volvo</td>\n",
       "      <td>2017</td>\n",
       "      <td>174000</td>\n",
       "      <td>1969</td>\n",
       "      <td>0</td>\n",
       "      <td>154500</td>\n",
       "    </tr>\n",
       "    <tr>\n",
       "      <th>117926</th>\n",
       "      <td>volvo</td>\n",
       "      <td>2016</td>\n",
       "      <td>189020</td>\n",
       "      <td>1969</td>\n",
       "      <td>0</td>\n",
       "      <td>130000</td>\n",
       "    </tr>\n",
       "  </tbody>\n",
       "</table>\n",
       "<p>117927 rows × 6 columns</p>\n",
       "</div>"
      ],
      "text/plain": [
       "         mark  year  mileage  vol_engine  fuel   price\n",
       "0        opel  2015   139568        1248     0   35900\n",
       "1        opel  2018    31991        1499     0   78501\n",
       "2        opel  2015   278437        1598     0   27000\n",
       "3        opel  2016    47600        1248     0   30800\n",
       "4        opel  2014   103000        1400     0   35900\n",
       "...       ...   ...      ...         ...   ...     ...\n",
       "117922  volvo  2020    40000        1969     1  222790\n",
       "117923  volvo  2017    51000        1969     0  229900\n",
       "117924  volvo  2016    83500        1969     0  135000\n",
       "117925  volvo  2017   174000        1969     0  154500\n",
       "117926  volvo  2016   189020        1969     0  130000\n",
       "\n",
       "[117927 rows x 6 columns]"
      ]
     },
     "execution_count": 7,
     "metadata": {},
     "output_type": "execute_result"
    }
   ],
   "source": [
    "car_prices"
   ]
  },
  {
   "cell_type": "code",
   "execution_count": 8,
   "metadata": {},
   "outputs": [],
   "source": [
    "# Sprawdzimy też jaka jest różnica między modelem uwzględniającym ```model``` i tym nie uwzględniającym\n",
    "car_prices_mark = car_prices"
   ]
  },
  {
   "cell_type": "code",
   "execution_count": 9,
   "metadata": {},
   "outputs": [],
   "source": [
    "# One-hot encoding dla mark\n",
    "enc = OneHotEncoder(handle_unknown='ignore')\n",
    "enc.fit(car_prices_mark['mark'].values.reshape(-1, 1))\n",
    "t = enc.transform(car_prices_mark['mark'].values.reshape(-1, 1))\n",
    "for i, col in enumerate(enc.categories_[0]):\n",
    "    car_prices_mark[col] = t[:,i].toarray()\n",
    "# car_prices_mark = car_prices_mark.drop('mark', axis=1)"
   ]
  },
  {
   "cell_type": "code",
   "execution_count": 94,
   "metadata": {},
   "outputs": [
    {
     "data": {
      "text/html": [
       "<div>\n",
       "<style scoped>\n",
       "    .dataframe tbody tr th:only-of-type {\n",
       "        vertical-align: middle;\n",
       "    }\n",
       "\n",
       "    .dataframe tbody tr th {\n",
       "        vertical-align: top;\n",
       "    }\n",
       "\n",
       "    .dataframe thead th {\n",
       "        text-align: right;\n",
       "    }\n",
       "</style>\n",
       "<table border=\"1\" class=\"dataframe\">\n",
       "  <thead>\n",
       "    <tr style=\"text-align: right;\">\n",
       "      <th></th>\n",
       "      <th>mark</th>\n",
       "      <th>year</th>\n",
       "      <th>mileage</th>\n",
       "      <th>vol_engine</th>\n",
       "      <th>fuel</th>\n",
       "      <th>price</th>\n",
       "      <th>alfa-romeo</th>\n",
       "      <th>audi</th>\n",
       "      <th>bmw</th>\n",
       "      <th>chevrolet</th>\n",
       "      <th>...</th>\n",
       "      <th>mitsubishi</th>\n",
       "      <th>nissan</th>\n",
       "      <th>opel</th>\n",
       "      <th>peugeot</th>\n",
       "      <th>renault</th>\n",
       "      <th>seat</th>\n",
       "      <th>skoda</th>\n",
       "      <th>toyota</th>\n",
       "      <th>volkswagen</th>\n",
       "      <th>volvo</th>\n",
       "    </tr>\n",
       "  </thead>\n",
       "  <tbody>\n",
       "    <tr>\n",
       "      <th>0</th>\n",
       "      <td>opel</td>\n",
       "      <td>2015</td>\n",
       "      <td>139568</td>\n",
       "      <td>1248</td>\n",
       "      <td>0</td>\n",
       "      <td>35900</td>\n",
       "      <td>0.0</td>\n",
       "      <td>0.0</td>\n",
       "      <td>0.0</td>\n",
       "      <td>0.0</td>\n",
       "      <td>...</td>\n",
       "      <td>0.0</td>\n",
       "      <td>0.0</td>\n",
       "      <td>1.0</td>\n",
       "      <td>0.0</td>\n",
       "      <td>0.0</td>\n",
       "      <td>0.0</td>\n",
       "      <td>0.0</td>\n",
       "      <td>0.0</td>\n",
       "      <td>0.0</td>\n",
       "      <td>0.0</td>\n",
       "    </tr>\n",
       "    <tr>\n",
       "      <th>1</th>\n",
       "      <td>opel</td>\n",
       "      <td>2018</td>\n",
       "      <td>31991</td>\n",
       "      <td>1499</td>\n",
       "      <td>0</td>\n",
       "      <td>78501</td>\n",
       "      <td>0.0</td>\n",
       "      <td>0.0</td>\n",
       "      <td>0.0</td>\n",
       "      <td>0.0</td>\n",
       "      <td>...</td>\n",
       "      <td>0.0</td>\n",
       "      <td>0.0</td>\n",
       "      <td>1.0</td>\n",
       "      <td>0.0</td>\n",
       "      <td>0.0</td>\n",
       "      <td>0.0</td>\n",
       "      <td>0.0</td>\n",
       "      <td>0.0</td>\n",
       "      <td>0.0</td>\n",
       "      <td>0.0</td>\n",
       "    </tr>\n",
       "    <tr>\n",
       "      <th>2</th>\n",
       "      <td>opel</td>\n",
       "      <td>2015</td>\n",
       "      <td>278437</td>\n",
       "      <td>1598</td>\n",
       "      <td>0</td>\n",
       "      <td>27000</td>\n",
       "      <td>0.0</td>\n",
       "      <td>0.0</td>\n",
       "      <td>0.0</td>\n",
       "      <td>0.0</td>\n",
       "      <td>...</td>\n",
       "      <td>0.0</td>\n",
       "      <td>0.0</td>\n",
       "      <td>1.0</td>\n",
       "      <td>0.0</td>\n",
       "      <td>0.0</td>\n",
       "      <td>0.0</td>\n",
       "      <td>0.0</td>\n",
       "      <td>0.0</td>\n",
       "      <td>0.0</td>\n",
       "      <td>0.0</td>\n",
       "    </tr>\n",
       "    <tr>\n",
       "      <th>3</th>\n",
       "      <td>opel</td>\n",
       "      <td>2016</td>\n",
       "      <td>47600</td>\n",
       "      <td>1248</td>\n",
       "      <td>0</td>\n",
       "      <td>30800</td>\n",
       "      <td>0.0</td>\n",
       "      <td>0.0</td>\n",
       "      <td>0.0</td>\n",
       "      <td>0.0</td>\n",
       "      <td>...</td>\n",
       "      <td>0.0</td>\n",
       "      <td>0.0</td>\n",
       "      <td>1.0</td>\n",
       "      <td>0.0</td>\n",
       "      <td>0.0</td>\n",
       "      <td>0.0</td>\n",
       "      <td>0.0</td>\n",
       "      <td>0.0</td>\n",
       "      <td>0.0</td>\n",
       "      <td>0.0</td>\n",
       "    </tr>\n",
       "    <tr>\n",
       "      <th>4</th>\n",
       "      <td>opel</td>\n",
       "      <td>2014</td>\n",
       "      <td>103000</td>\n",
       "      <td>1400</td>\n",
       "      <td>0</td>\n",
       "      <td>35900</td>\n",
       "      <td>0.0</td>\n",
       "      <td>0.0</td>\n",
       "      <td>0.0</td>\n",
       "      <td>0.0</td>\n",
       "      <td>...</td>\n",
       "      <td>0.0</td>\n",
       "      <td>0.0</td>\n",
       "      <td>1.0</td>\n",
       "      <td>0.0</td>\n",
       "      <td>0.0</td>\n",
       "      <td>0.0</td>\n",
       "      <td>0.0</td>\n",
       "      <td>0.0</td>\n",
       "      <td>0.0</td>\n",
       "      <td>0.0</td>\n",
       "    </tr>\n",
       "    <tr>\n",
       "      <th>...</th>\n",
       "      <td>...</td>\n",
       "      <td>...</td>\n",
       "      <td>...</td>\n",
       "      <td>...</td>\n",
       "      <td>...</td>\n",
       "      <td>...</td>\n",
       "      <td>...</td>\n",
       "      <td>...</td>\n",
       "      <td>...</td>\n",
       "      <td>...</td>\n",
       "      <td>...</td>\n",
       "      <td>...</td>\n",
       "      <td>...</td>\n",
       "      <td>...</td>\n",
       "      <td>...</td>\n",
       "      <td>...</td>\n",
       "      <td>...</td>\n",
       "      <td>...</td>\n",
       "      <td>...</td>\n",
       "      <td>...</td>\n",
       "      <td>...</td>\n",
       "    </tr>\n",
       "    <tr>\n",
       "      <th>117922</th>\n",
       "      <td>volvo</td>\n",
       "      <td>2020</td>\n",
       "      <td>40000</td>\n",
       "      <td>1969</td>\n",
       "      <td>1</td>\n",
       "      <td>222790</td>\n",
       "      <td>0.0</td>\n",
       "      <td>0.0</td>\n",
       "      <td>0.0</td>\n",
       "      <td>0.0</td>\n",
       "      <td>...</td>\n",
       "      <td>0.0</td>\n",
       "      <td>0.0</td>\n",
       "      <td>0.0</td>\n",
       "      <td>0.0</td>\n",
       "      <td>0.0</td>\n",
       "      <td>0.0</td>\n",
       "      <td>0.0</td>\n",
       "      <td>0.0</td>\n",
       "      <td>0.0</td>\n",
       "      <td>1.0</td>\n",
       "    </tr>\n",
       "    <tr>\n",
       "      <th>117923</th>\n",
       "      <td>volvo</td>\n",
       "      <td>2017</td>\n",
       "      <td>51000</td>\n",
       "      <td>1969</td>\n",
       "      <td>0</td>\n",
       "      <td>229900</td>\n",
       "      <td>0.0</td>\n",
       "      <td>0.0</td>\n",
       "      <td>0.0</td>\n",
       "      <td>0.0</td>\n",
       "      <td>...</td>\n",
       "      <td>0.0</td>\n",
       "      <td>0.0</td>\n",
       "      <td>0.0</td>\n",
       "      <td>0.0</td>\n",
       "      <td>0.0</td>\n",
       "      <td>0.0</td>\n",
       "      <td>0.0</td>\n",
       "      <td>0.0</td>\n",
       "      <td>0.0</td>\n",
       "      <td>1.0</td>\n",
       "    </tr>\n",
       "    <tr>\n",
       "      <th>117924</th>\n",
       "      <td>volvo</td>\n",
       "      <td>2016</td>\n",
       "      <td>83500</td>\n",
       "      <td>1969</td>\n",
       "      <td>0</td>\n",
       "      <td>135000</td>\n",
       "      <td>0.0</td>\n",
       "      <td>0.0</td>\n",
       "      <td>0.0</td>\n",
       "      <td>0.0</td>\n",
       "      <td>...</td>\n",
       "      <td>0.0</td>\n",
       "      <td>0.0</td>\n",
       "      <td>0.0</td>\n",
       "      <td>0.0</td>\n",
       "      <td>0.0</td>\n",
       "      <td>0.0</td>\n",
       "      <td>0.0</td>\n",
       "      <td>0.0</td>\n",
       "      <td>0.0</td>\n",
       "      <td>1.0</td>\n",
       "    </tr>\n",
       "    <tr>\n",
       "      <th>117925</th>\n",
       "      <td>volvo</td>\n",
       "      <td>2017</td>\n",
       "      <td>174000</td>\n",
       "      <td>1969</td>\n",
       "      <td>0</td>\n",
       "      <td>154500</td>\n",
       "      <td>0.0</td>\n",
       "      <td>0.0</td>\n",
       "      <td>0.0</td>\n",
       "      <td>0.0</td>\n",
       "      <td>...</td>\n",
       "      <td>0.0</td>\n",
       "      <td>0.0</td>\n",
       "      <td>0.0</td>\n",
       "      <td>0.0</td>\n",
       "      <td>0.0</td>\n",
       "      <td>0.0</td>\n",
       "      <td>0.0</td>\n",
       "      <td>0.0</td>\n",
       "      <td>0.0</td>\n",
       "      <td>1.0</td>\n",
       "    </tr>\n",
       "    <tr>\n",
       "      <th>117926</th>\n",
       "      <td>volvo</td>\n",
       "      <td>2016</td>\n",
       "      <td>189020</td>\n",
       "      <td>1969</td>\n",
       "      <td>0</td>\n",
       "      <td>130000</td>\n",
       "      <td>0.0</td>\n",
       "      <td>0.0</td>\n",
       "      <td>0.0</td>\n",
       "      <td>0.0</td>\n",
       "      <td>...</td>\n",
       "      <td>0.0</td>\n",
       "      <td>0.0</td>\n",
       "      <td>0.0</td>\n",
       "      <td>0.0</td>\n",
       "      <td>0.0</td>\n",
       "      <td>0.0</td>\n",
       "      <td>0.0</td>\n",
       "      <td>0.0</td>\n",
       "      <td>0.0</td>\n",
       "      <td>1.0</td>\n",
       "    </tr>\n",
       "  </tbody>\n",
       "</table>\n",
       "<p>117927 rows × 29 columns</p>\n",
       "</div>"
      ],
      "text/plain": [
       "         mark  year  mileage  vol_engine  fuel   price  alfa-romeo  audi  bmw  \\\n",
       "0        opel  2015   139568        1248     0   35900         0.0   0.0  0.0   \n",
       "1        opel  2018    31991        1499     0   78501         0.0   0.0  0.0   \n",
       "2        opel  2015   278437        1598     0   27000         0.0   0.0  0.0   \n",
       "3        opel  2016    47600        1248     0   30800         0.0   0.0  0.0   \n",
       "4        opel  2014   103000        1400     0   35900         0.0   0.0  0.0   \n",
       "...       ...   ...      ...         ...   ...     ...         ...   ...  ...   \n",
       "117922  volvo  2020    40000        1969     1  222790         0.0   0.0  0.0   \n",
       "117923  volvo  2017    51000        1969     0  229900         0.0   0.0  0.0   \n",
       "117924  volvo  2016    83500        1969     0  135000         0.0   0.0  0.0   \n",
       "117925  volvo  2017   174000        1969     0  154500         0.0   0.0  0.0   \n",
       "117926  volvo  2016   189020        1969     0  130000         0.0   0.0  0.0   \n",
       "\n",
       "        chevrolet  ...  mitsubishi  nissan  opel  peugeot  renault  seat  \\\n",
       "0             0.0  ...         0.0     0.0   1.0      0.0      0.0   0.0   \n",
       "1             0.0  ...         0.0     0.0   1.0      0.0      0.0   0.0   \n",
       "2             0.0  ...         0.0     0.0   1.0      0.0      0.0   0.0   \n",
       "3             0.0  ...         0.0     0.0   1.0      0.0      0.0   0.0   \n",
       "4             0.0  ...         0.0     0.0   1.0      0.0      0.0   0.0   \n",
       "...           ...  ...         ...     ...   ...      ...      ...   ...   \n",
       "117922        0.0  ...         0.0     0.0   0.0      0.0      0.0   0.0   \n",
       "117923        0.0  ...         0.0     0.0   0.0      0.0      0.0   0.0   \n",
       "117924        0.0  ...         0.0     0.0   0.0      0.0      0.0   0.0   \n",
       "117925        0.0  ...         0.0     0.0   0.0      0.0      0.0   0.0   \n",
       "117926        0.0  ...         0.0     0.0   0.0      0.0      0.0   0.0   \n",
       "\n",
       "        skoda  toyota  volkswagen  volvo  \n",
       "0         0.0     0.0         0.0    0.0  \n",
       "1         0.0     0.0         0.0    0.0  \n",
       "2         0.0     0.0         0.0    0.0  \n",
       "3         0.0     0.0         0.0    0.0  \n",
       "4         0.0     0.0         0.0    0.0  \n",
       "...       ...     ...         ...    ...  \n",
       "117922    0.0     0.0         0.0    1.0  \n",
       "117923    0.0     0.0         0.0    1.0  \n",
       "117924    0.0     0.0         0.0    1.0  \n",
       "117925    0.0     0.0         0.0    1.0  \n",
       "117926    0.0     0.0         0.0    1.0  \n",
       "\n",
       "[117927 rows x 29 columns]"
      ]
     },
     "execution_count": 94,
     "metadata": {},
     "output_type": "execute_result"
    }
   ],
   "source": [
    "car_prices_mark"
   ]
  },
  {
   "cell_type": "markdown",
   "metadata": {},
   "source": [
    "Podział zbioru na 70/20/10"
   ]
  },
  {
   "cell_type": "code",
   "execution_count": 10,
   "metadata": {},
   "outputs": [],
   "source": [
    "def train_val_test_split(X, y, test_size = 0.1, val_size = 0.2):\n",
    "    X_train, X_test, y_train, y_test = train_test_split(X, y, test_size=test_size)\n",
    "    X_train, X_val, y_train, y_val = train_test_split(X_train, y_train, test_size=val_size / (1 - test_size))\n",
    "    return X_train, X_val, X_test, y_train, y_val, y_test"
   ]
  },
  {
   "cell_type": "markdown",
   "metadata": {},
   "source": [
    "Wpierw zajmę się ramką z zakodowaną marką samochodu"
   ]
  },
  {
   "cell_type": "code",
   "execution_count": 11,
   "metadata": {},
   "outputs": [],
   "source": [
    "X = car_prices_mark.drop(['price', 'mark'], axis=1)\n",
    "y = car_prices_mark['price']\n",
    "X_train, X_val, X_test, y_train, y_val, y_test = train_val_test_split(X, y)"
   ]
  },
  {
   "cell_type": "markdown",
   "metadata": {},
   "source": [
    "## Random Forest Regressor"
   ]
  },
  {
   "cell_type": "code",
   "execution_count": 320,
   "metadata": {},
   "outputs": [
    {
     "data": {
      "text/plain": [
       "RandomForestRegressor(n_estimators=20)"
      ]
     },
     "execution_count": 320,
     "metadata": {},
     "output_type": "execute_result"
    }
   ],
   "source": [
    "rfr = RandomForestRegressor(n_estimators=20)\n",
    "rfr.fit(X_train, y_train)"
   ]
  },
  {
   "cell_type": "code",
   "execution_count": 322,
   "metadata": {},
   "outputs": [
    {
     "data": {
      "text/plain": [
       "0.8999963485499686"
      ]
     },
     "execution_count": 322,
     "metadata": {},
     "output_type": "execute_result"
    }
   ],
   "source": [
    "rfr.score(X_val, y_val)"
   ]
  },
  {
   "cell_type": "markdown",
   "metadata": {},
   "source": [
    "Gird search do wyszukiwania hiperparamtrów"
   ]
  },
  {
   "cell_type": "code",
   "execution_count": 387,
   "metadata": {},
   "outputs": [],
   "source": [
    "max_depths = np.arange(5, 76, 5)\n",
    "min_splits = np.logspace(start = -5, stop = -2, num=10)\n",
    "scores_train = np.empty(shape=(len(max_depths), len(min_splits)))       # bias\n",
    "scores_val = np.empty(shape=(len(max_depths), len(min_splits)))         # variance"
   ]
  },
  {
   "cell_type": "markdown",
   "metadata": {},
   "source": [
    "### ! Długi czas wykonywania !"
   ]
  },
  {
   "cell_type": "code",
   "execution_count": 15,
   "metadata": {},
   "outputs": [],
   "source": [
    "from IPython.display import clear_output"
   ]
  },
  {
   "cell_type": "code",
   "execution_count": 427,
   "metadata": {},
   "outputs": [
    {
     "name": "stdout",
     "output_type": "stream",
     "text": [
      "Evaluating 149 model...\n",
      "\n"
     ]
    }
   ],
   "source": [
    "for i, depth in enumerate(max_depths):\n",
    "    for j, split in enumerate(min_splits):\n",
    "        # Korzystam tylko z 5, aby przyspieszyć proces\n",
    "        clear_output(wait=True)\n",
    "        print(f\"Evaluating {i * 10 + j} model...\\n\")\n",
    "        rfr = RandomForestRegressor(n_estimators=5, max_depth=depth, min_samples_split=split)\n",
    "        rfr.fit(X_train, y_train)\n",
    "        scores_train[i, j] = rfr.score(X_train, y_train)\n",
    "        scores_val[i, j] = rfr.score(X_val, y_val)\n"
   ]
  },
  {
   "cell_type": "code",
   "execution_count": 444,
   "metadata": {},
   "outputs": [
    {
     "data": {
      "image/png": "[encoded data removed]",
      "text/plain": [
       "<Figure size 1152x432 with 4 Axes>"
      ]
     },
     "metadata": {
      "needs_background": "light"
     },
     "output_type": "display_data"
    }
   ],
   "source": [
    "fig, axes = plt.subplots(1, 2, figsize=(16, 6))\n",
    "axes[0].title.set_text(\"Score measured on training set\")\n",
    "axes[1].title.set_text(\"Score measured on validating set\")\n",
    "\n",
    "# Ucinam outlierów, aby lepiej było widać skalę problemu\n",
    "sns.heatmap(ax = axes[0], data = scores_train[1:,:8], xticklabels=np.log10(min_splits[:8]).round(2), yticklabels=max_depths[1:])\n",
    "sns.heatmap(ax = axes[1], data = scores_val[1:,:8], xticklabels=np.log10(min_splits[:8]).round(2), yticklabels=max_depths[1:])\n",
    "axes[0].set(xlabel=\"Log10 of minimum split ratio\", ylabel=\"Max depth\")\n",
    "axes[1].set(xlabel=\"Log10 of minimum split ratio\", ylabel=\"Max depth\")\n",
    "plt.show()\n"
   ]
  },
  {
   "cell_type": "markdown",
   "metadata": {},
   "source": [
    "Widzimy tutaj wyraźne przeuczenie modelu, gdy pozwolimy mu dzielić bardzo małe grupki danych. Patrząc na wynik na zbiorze walidacyjnym widzimy, że optymalny minimalny podział próbek to około 0.0002 (0.02%) liczby wszystkich danych"
   ]
  },
  {
   "cell_type": "code",
   "execution_count": 448,
   "metadata": {},
   "outputs": [
    {
     "data": {
      "image/png": "[encoded data removed]",
      "text/plain": [
       "<Figure size 432x288 with 2 Axes>"
      ]
     },
     "metadata": {
      "needs_background": "light"
     },
     "output_type": "display_data"
    }
   ],
   "source": [
    "sns.heatmap(data = scores_val[1:,:8] - scores_train[1:,:8], xticklabels=np.log10(min_splits[:8]).round(2), yticklabels=max_depths[1:])\n",
    "plt.xlabel(\"Log10 of minimum split ratio\")\n",
    "plt.ylabel(\"Max depth\")\n",
    "plt.title(\"Difference between training score and validating score\")\n",
    "plt.show()"
   ]
  },
  {
   "cell_type": "code",
   "execution_count": 479,
   "metadata": {},
   "outputs": [
    {
     "data": {
      "text/plain": [
       "(1, 4)"
      ]
     },
     "execution_count": 479,
     "metadata": {},
     "output_type": "execute_result"
    }
   ],
   "source": [
    "np.unravel_index(scores_val[1:,:8].argmax(), (14, 8))"
   ]
  },
  {
   "cell_type": "markdown",
   "metadata": {},
   "source": [
    "Najlepszymi parametrami wydają się być ```MathDepth``` = 15 i ```MinSplit``` = 10e-3.67\n",
    "\n",
    "Sprawdźmy te parametry na zbiorze testowym"
   ]
  },
  {
   "cell_type": "code",
   "execution_count": 458,
   "metadata": {},
   "outputs": [
    {
     "data": {
      "text/plain": [
       "RandomForestRegressor(max_depth=15, min_samples_split=0.00021379620895022324)"
      ]
     },
     "execution_count": 458,
     "metadata": {},
     "output_type": "execute_result"
    }
   ],
   "source": [
    "rfr = RandomForestRegressor(n_estimators=100, max_depth=15, min_samples_split=np.power(10, -3.67))\n",
    "rfr.fit(X_train, y_train)"
   ]
  },
  {
   "cell_type": "code",
   "execution_count": 464,
   "metadata": {},
   "outputs": [
    {
     "data": {
      "text/plain": [
       "0.9081640419066123"
      ]
     },
     "execution_count": 464,
     "metadata": {},
     "output_type": "execute_result"
    }
   ],
   "source": [
    "rfr.score(X_val, y_val)"
   ]
  },
  {
   "cell_type": "code",
   "execution_count": 460,
   "metadata": {},
   "outputs": [
    {
     "data": {
      "text/plain": [
       "0.9125580882971802"
      ]
     },
     "execution_count": 460,
     "metadata": {},
     "output_type": "execute_result"
    }
   ],
   "source": [
    "rfr.score(X_test, y_test)"
   ]
  },
  {
   "cell_type": "markdown",
   "metadata": {},
   "source": [
    "Uzyskaliśmy nawet lepszy wynik niż na zbiorze walidacyjnym. "
   ]
  },
  {
   "cell_type": "markdown",
   "metadata": {},
   "source": [
    "## XGBoost"
   ]
  },
  {
   "cell_type": "markdown",
   "metadata": {},
   "source": [
    "Zacznę od domyślnego modelu"
   ]
  },
  {
   "cell_type": "code",
   "execution_count": 167,
   "metadata": {},
   "outputs": [
    {
     "data": {
      "text/plain": [
       "XGBRegressor(base_score=0.5, booster='gbtree', colsample_bylevel=1,\n",
       "             colsample_bynode=1, colsample_bytree=1, enable_categorical=False,\n",
       "             gamma=0, gpu_id=-1, importance_type=None,\n",
       "             interaction_constraints='', learning_rate=0.300000012,\n",
       "             max_delta_step=0, max_depth=6, min_child_weight=1, missing=nan,\n",
       "             monotone_constraints='()', n_estimators=100, n_jobs=8,\n",
       "             num_parallel_tree=1, predictor='auto', random_state=0, reg_alpha=0,\n",
       "             reg_lambda=1, scale_pos_weight=1, subsample=1, tree_method='exact',\n",
       "             validate_parameters=1, verbosity=None)"
      ]
     },
     "execution_count": 167,
     "metadata": {},
     "output_type": "execute_result"
    }
   ],
   "source": [
    "xgbr = xgb.XGBRegressor(objective=\"reg:squarederror\")\n",
    "xgbr.fit(X_train, y_train)"
   ]
  },
  {
   "cell_type": "code",
   "execution_count": 168,
   "metadata": {},
   "outputs": [
    {
     "data": {
      "text/plain": [
       "0.9085882726147934"
      ]
     },
     "execution_count": 168,
     "metadata": {},
     "output_type": "execute_result"
    }
   ],
   "source": [
    "xgbr.score(X_val, y_val)"
   ]
  },
  {
   "cell_type": "code",
   "execution_count": 169,
   "metadata": {},
   "outputs": [
    {
     "data": {
      "text/plain": [
       "0.9081384700251519"
      ]
     },
     "execution_count": 169,
     "metadata": {},
     "output_type": "execute_result"
    }
   ],
   "source": [
    "xgbr.score(X_test, y_test)"
   ]
  },
  {
   "cell_type": "markdown",
   "metadata": {},
   "source": [
    "Na powitanie otrzymujemy niemal identyczny (ale minimalnie gorszy) wynik do wcześniej otrzymanego wyniku na zbiorze walidacyjnym.\n",
    "\n",
    "Teraz przejdę do dostrajania hiperparametrów. Będę badał parametr ```max_depth``` oraz ```learning_rate```."
   ]
  },
  {
   "cell_type": "code",
   "execution_count": 130,
   "metadata": {},
   "outputs": [],
   "source": [
    "max_depths = np.arange(4, 24, 1)\n",
    "learning_rates = np.logspace(-0.5, 0.2, 20)\n",
    "\n",
    "scores_train = np.empty(shape=(len(max_depths), len(learning_rates)))       # bias\n",
    "scores_val = np.empty(shape=(len(max_depths), len(learning_rates)))         # variance"
   ]
  },
  {
   "cell_type": "code",
   "execution_count": 131,
   "metadata": {},
   "outputs": [
    {
     "name": "stdout",
     "output_type": "stream",
     "text": [
      "Evaluating model 399 of 400...\n",
      "\n"
     ]
    }
   ],
   "source": [
    "for i, depth in enumerate(max_depths):\n",
    "    for j, lr in enumerate(learning_rates):\n",
    "        clear_output(wait=True)\n",
    "        print(f\"Evaluating model {i * len(learning_rates) + j} of {len(learning_rates) * len(max_depths)}...\\n\")\n",
    "        xgbr = xgb.XGBRegressor(max_depth=depth, learning_rate=lr, n_estimators=5)\n",
    "        xgbr.fit(X_train, y_train)\n",
    "        scores_train[i, j] = xgbr.score(X_train, y_train)\n",
    "        scores_val[i, j] = xgbr.score(X_val, y_val)\n"
   ]
  },
  {
   "cell_type": "code",
   "execution_count": 132,
   "metadata": {},
   "outputs": [
    {
     "data": {
      "image/png": "[encoded data removed]",
      "text/plain": [
       "<Figure size 1152x432 with 4 Axes>"
      ]
     },
     "metadata": {
      "needs_background": "light"
     },
     "output_type": "display_data"
    }
   ],
   "source": [
    "fig, axes = plt.subplots(1, 2, figsize=(16, 6))\n",
    "axes[0].title.set_text(\"Score measured on training set\")\n",
    "axes[1].title.set_text(\"Score measured on validating set\")\n",
    "\n",
    "# Ucinam outlierów, aby lepiej było widać skalę problemu\n",
    "sns.heatmap(ax = axes[0], data = scores_train, xticklabels=np.log10(learning_rates).round(2), yticklabels=max_depths)\n",
    "sns.heatmap(ax = axes[1], data = scores_val, xticklabels=np.log10(learning_rates).round(2), yticklabels=max_depths)\n",
    "axes[0].set(xlabel=\"Learning Rate\", ylabel=\"Max Depth\")\n",
    "axes[1].set(xlabel=\"Learning Rate\", ylabel=\"Max Depth\")\n",
    "plt.show()"
   ]
  },
  {
   "cell_type": "markdown",
   "metadata": {},
   "source": [
    "Znów widzimy efekty przeuczenia. Najlepsze parametry dla zbioru walidacyjnego to"
   ]
  },
  {
   "cell_type": "code",
   "execution_count": 135,
   "metadata": {},
   "outputs": [
    {
     "data": {
      "text/plain": [
       "(11, 0.6233570019315556)"
      ]
     },
     "execution_count": 135,
     "metadata": {},
     "output_type": "execute_result"
    }
   ],
   "source": [
    "idxmax = np.unravel_index(scores_val.argmax(), (20, 20))\n",
    "argmax = max_depths[idxmax[0]], learning_rates[idxmax[1]]\n",
    "argmax"
   ]
  },
  {
   "cell_type": "code",
   "execution_count": 161,
   "metadata": {},
   "outputs": [],
   "source": [
    "committee_size = np.logspace(0.5, 1.7, 10)\n",
    "size_score = np.empty(committee_size.shape[0])\n",
    "for i, cs in enumerate(committee_size):\n",
    "    xgbr = xgb.XGBRegressor(max_depth=argmax[0], learning_rate=argmax[1], n_estimators=np.int32(cs))\n",
    "    xgbr.fit(X_train, y_train)\n",
    "    size_score[i] = xgbr.score(X_val, y_val)"
   ]
  },
  {
   "cell_type": "markdown",
   "metadata": {},
   "source": [
    "Sprawdzę jeszcze jak liczba estymatorów wpływa na model"
   ]
  },
  {
   "cell_type": "code",
   "execution_count": 162,
   "metadata": {},
   "outputs": [
    {
     "data": {
      "text/plain": [
       "<AxesSubplot:>"
      ]
     },
     "execution_count": 162,
     "metadata": {},
     "output_type": "execute_result"
    },
    {
     "data": {
      "image/png": "[encoded data removed]",
      "text/plain": [
       "<Figure size 432x288 with 1 Axes>"
      ]
     },
     "metadata": {
      "needs_background": "light"
     },
     "output_type": "display_data"
    }
   ],
   "source": [
    "sns.lineplot(x=committee_size, y=size_score)"
   ]
  },
  {
   "cell_type": "markdown",
   "metadata": {},
   "source": [
    "Widać, że nie koniecznie nim więcej tym lepiej. Najlepszy wynik uzyskaliśmy dla"
   ]
  },
  {
   "cell_type": "code",
   "execution_count": 164,
   "metadata": {},
   "outputs": [
    {
     "data": {
      "text/plain": [
       "6.0"
      ]
     },
     "execution_count": 164,
     "metadata": {},
     "output_type": "execute_result"
    }
   ],
   "source": [
    "np.round(committee_size[size_score.argmax()])"
   ]
  },
  {
   "cell_type": "code",
   "execution_count": 165,
   "metadata": {},
   "outputs": [
    {
     "data": {
      "text/plain": [
       "0.9031500127987185"
      ]
     },
     "execution_count": 165,
     "metadata": {},
     "output_type": "execute_result"
    }
   ],
   "source": [
    "xgbr = xgb.XGBRegressor(max_depth=argmax[0], learning_rate=argmax[1], n_estimators=6)\n",
    "xgbr.fit(X_train, y_train)\n",
    "xgbr.score(X_test, y_test)"
   ]
  },
  {
   "cell_type": "markdown",
   "metadata": {},
   "source": [
    "Niestety wynik jest tylko gorszy. Domyślne wartości XGBoosta dają minimalnie lepsze (ale nadal lepsze) wyniki."
   ]
  }
 ],
 "metadata": {
  "interpreter": {
   "hash": "a86d6995c4a3d5e5d6a3be0ad1c79c34b50ddef33180595fb16542ce4a11a154"
  },
  "kernelspec": {
   "display_name": "Python 3.8.8 ('base')",
   "language": "python",
   "name": "python3"
  },
  "language_info": {
   "codemirror_mode": {
    "name": "ipython",
    "version": 3
   },
   "file_extension": ".py",
   "mimetype": "text/x-python",
   "name": "python",
   "nbconvert_exporter": "python",
   "pygments_lexer": "ipython3",
   "version": "3.8.8"
  },
  "orig_nbformat": 4
 },
 "nbformat": 4,
 "nbformat_minor": 2
}
