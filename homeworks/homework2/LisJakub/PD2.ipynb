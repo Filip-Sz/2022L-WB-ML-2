{
 "cells": [
  {
   "cell_type": "markdown",
   "id": "english-juice",
   "metadata": {},
   "source": [
    "# Praca domowa nr 2\n",
    "## Jakub Lis"
   ]
  },
  {
   "cell_type": "code",
   "execution_count": 1,
   "id": "spectacular-telephone",
   "metadata": {},
   "outputs": [],
   "source": [
    "import pandas as pd\n",
    "import numpy as np\n",
    "import xgboost as xgb\n",
    "from category_encoders import TargetEncoder\n",
    "from sklearn.ensemble import RandomForestClassifier, RandomForestRegressor\n",
    "from sklearn.model_selection import train_test_split\n",
    "from sklearn.metrics import mean_squared_error, f1_score, accuracy_score\n",
    "import warnings\n",
    "warnings.filterwarnings('ignore')"
   ]
  },
  {
   "cell_type": "markdown",
   "id": "active-norfolk",
   "metadata": {},
   "source": [
    "# Przygotowanie zbioru car_prices_poland"
   ]
  },
  {
   "cell_type": "code",
   "execution_count": 2,
   "id": "downtown-valuation",
   "metadata": {},
   "outputs": [],
   "source": [
    "# wczytanie danych cars\n",
    "cars = pd.read_csv('car_prices_poland/Car_Prices_Poland.csv')\n",
    "\n",
    "cars.drop(columns=cars.columns[0], axis=1, inplace=True)"
   ]
  },
  {
   "cell_type": "code",
   "execution_count": 3,
   "id": "arctic-arrow",
   "metadata": {},
   "outputs": [],
   "source": [
    "# przekształcenie danych cars do postaci uczącej\n",
    "\n",
    "# generation_name posiada braki danych, to jest zmienna kategoryczna, więc braki uzupełnie stringiem 'BRAK'\n",
    "\n",
    "cars.loc[cars['generation_name'].isna(), 'generation_name'] = 'BRAK'\n",
    "\n",
    "# w province pojawiają się: Moravian-Silesian Region (35 wystapien), Berlin (3),\n",
    "# Wiedeń (2), Trenczyn (1), Niedersachsen (1), Nordrhein-Westfalen (1), ( (1) - najpewniej błąd w danych\n",
    "# Warto je zgrupowac do jednej kategorii\n",
    "\n",
    "abroad = ['Trenczyn', 'Wiedeń', 'Niedersachsen', 'Nordrhein-Westfalen', \n",
    "          'Moravian-Silesian Region', 'Berlin', '(']\n",
    "cars.loc[cars['province'].isin(abroad), 'province'] = 'abroad'\n",
    "\n",
    "# mark, fuel, province - unikalnych wartosci jest akceptowalnie nieduzo, wiec uzylem one hot encodera\n",
    "\n",
    "encoded = pd.get_dummies(cars[['mark', 'fuel', 'province']].astype(str))\n",
    "encoded.drop(['mark_alfa-romeo', 'fuel_CNG', 'province_abroad'], axis=1, inplace=True)\n",
    "cars.drop(['mark', 'fuel', 'province'], axis=1, inplace=True)\n",
    "cars = pd.concat([cars, encoded], axis=1)\n",
    "\n",
    "# w przypadku pozostalych zmiennych kategorycznych uzywam target encodera\n",
    "\n",
    "y_cars = cars['price']\n",
    "X_cars = cars.drop('price', axis=1)\n",
    "encoder = TargetEncoder(cols=['model', 'generation_name', 'city'])\n",
    "X_cars = encoder.fit_transform(X_cars, y_cars)"
   ]
  },
  {
   "cell_type": "code",
   "execution_count": 4,
   "id": "dominican-theology",
   "metadata": {},
   "outputs": [],
   "source": [
    "# podział na zbiory: treningowy, testowy i walidacyjny (w proporcjach 70%, 20%, 10%)\n",
    "\n",
    "X_train_val_c, X_test_c, y_train_val_c, y_test_c = train_test_split(X_cars, y_cars, \n",
    "                                                                    random_state=420, test_size=0.2)\n",
    "X_train_c, X_val_c, y_train_c, y_val_c = train_test_split(X_train_val_c, y_train_val_c, \n",
    "                                                          random_state=420, test_size=0.125)"
   ]
  },
  {
   "cell_type": "markdown",
   "id": "9963017c",
   "metadata": {},
   "source": [
    "# Przygotowanie zbioru airline_passenger_satisfaction"
   ]
  },
  {
   "cell_type": "code",
   "execution_count": 5,
   "id": "05a87f54",
   "metadata": {},
   "outputs": [],
   "source": [
    "airline_train = pd.read_csv('airline_passenger_satisfaction/train.csv')\n",
    "airline_test = pd.read_csv('airline_passenger_satisfaction/test.csv')\n",
    "\n",
    "airline_train.drop(columns=airline_train.columns[0], axis=1, inplace=True)\n",
    "airline_test.drop(columns=airline_test.columns[0], axis=1, inplace=True)"
   ]
  },
  {
   "cell_type": "code",
   "execution_count": 6,
   "id": "9d3d60c6",
   "metadata": {},
   "outputs": [
    {
     "name": "stdout",
     "output_type": "stream",
     "text": [
      "<class 'pandas.core.frame.DataFrame'>\n",
      "RangeIndex: 103904 entries, 0 to 103903\n",
      "Data columns (total 24 columns):\n",
      " #   Column                             Non-Null Count   Dtype  \n",
      "---  ------                             --------------   -----  \n",
      " 0   id                                 103904 non-null  int64  \n",
      " 1   Gender                             103904 non-null  object \n",
      " 2   Customer Type                      103904 non-null  object \n",
      " 3   Age                                103904 non-null  int64  \n",
      " 4   Type of Travel                     103904 non-null  object \n",
      " 5   Class                              103904 non-null  object \n",
      " 6   Flight Distance                    103904 non-null  int64  \n",
      " 7   Inflight wifi service              103904 non-null  int64  \n",
      " 8   Departure/Arrival time convenient  103904 non-null  int64  \n",
      " 9   Ease of Online booking             103904 non-null  int64  \n",
      " 10  Gate location                      103904 non-null  int64  \n",
      " 11  Food and drink                     103904 non-null  int64  \n",
      " 12  Online boarding                    103904 non-null  int64  \n",
      " 13  Seat comfort                       103904 non-null  int64  \n",
      " 14  Inflight entertainment             103904 non-null  int64  \n",
      " 15  On-board service                   103904 non-null  int64  \n",
      " 16  Leg room service                   103904 non-null  int64  \n",
      " 17  Baggage handling                   103904 non-null  int64  \n",
      " 18  Checkin service                    103904 non-null  int64  \n",
      " 19  Inflight service                   103904 non-null  int64  \n",
      " 20  Cleanliness                        103904 non-null  int64  \n",
      " 21  Departure Delay in Minutes         103904 non-null  int64  \n",
      " 22  Arrival Delay in Minutes           103594 non-null  float64\n",
      " 23  satisfaction                       103904 non-null  object \n",
      "dtypes: float64(1), int64(18), object(5)\n",
      "memory usage: 19.0+ MB\n"
     ]
    }
   ],
   "source": [
    "airline_train.info() # braki tylko w kolumnie Arrival Delay in Minutes, takze w zbiorze testowym"
   ]
  },
  {
   "cell_type": "code",
   "execution_count": 7,
   "id": "393b7f87",
   "metadata": {},
   "outputs": [],
   "source": [
    "# zlacze zbior treningowy z testowym na czas przeksztalcen, \n",
    "# nie bedzie potrzeby wykonywania tych samych czynnosci na obu zbiorach\n",
    "# dodaje kolumne odpowiadajaca za info czy dany wiersz byl ze zbioru treningowego\n",
    "\n",
    "airline_train['train'] = True\n",
    "airline_test['train'] = False\n",
    "\n",
    "airline = pd.concat([airline_train, airline_test], axis=0)"
   ]
  },
  {
   "cell_type": "code",
   "execution_count": 8,
   "id": "65f69cc8",
   "metadata": {},
   "outputs": [],
   "source": [
    "# transformacja kolumn z tylko dwiema kategoriami\n",
    "\n",
    "airline['Gender'] = (airline['Gender'] == 'Female')*1\n",
    "airline['Customer Type'] = (airline['Customer Type'] == 'Loyal Customer')*1\n",
    "airline['Type of Travel'] = (airline['Type of Travel'] == 'Personal Travel')*1\n",
    "airline['satisfaction'] = (airline['satisfaction'] == 'satisfied')*1\n",
    "\n",
    "# uzupelnienie brakow danych srednia\n",
    "\n",
    "airline.loc[airline['Arrival Delay in Minutes'].isna(), \n",
    "            'Arrival Delay in Minutes'] = airline['Arrival Delay in Minutes'].mean()\n",
    "\n",
    "# one hot encoder\n",
    "\n",
    "encoded = pd.get_dummies(airline[['Class']].astype(str))\n",
    "encoded.drop(['Class_Eco Plus'], axis=1, inplace=True)\n",
    "airline.drop(['Class'], axis=1, inplace=True)\n",
    "airline = pd.concat([airline, encoded], axis=1)\n",
    "\n",
    "# usuniecie kolumny id\n",
    "\n",
    "airline.drop(['id'], axis=1, inplace=True)"
   ]
  },
  {
   "cell_type": "code",
   "execution_count": 9,
   "id": "69d049ed",
   "metadata": {},
   "outputs": [],
   "source": [
    "# podział na zbiory: treningowy, testowy i walidacyjny (70%/20%/10%)\n",
    "# zmienną predykowaną będzie satisfaction\n",
    "\n",
    "airline_train = airline.loc[airline.train == True].drop(['train'], axis=1)\n",
    "airline_test = airline.loc[airline.train == False].drop(['train'], axis=1)\n",
    "\n",
    "X_test_a = airline_test.drop(['satisfaction'], axis=1)\n",
    "y_test_a = airline_test['satisfaction']\n",
    "\n",
    "# ze zbioru treningowego wydzielimy jeszcze zbior walidacyjny\n",
    "\n",
    "X_train_val_a = airline_train.drop(['satisfaction'], axis=1)\n",
    "y_train_val_a = airline_train['satisfaction']\n",
    "\n",
    "X_train_a, X_val_a, y_train_a, y_val_a = train_test_split(X_train_val_a, y_train_val_a, \n",
    "                                                          random_state=420, test_size=0.125)"
   ]
  },
  {
   "cell_type": "markdown",
   "id": "following-minimum",
   "metadata": {},
   "source": [
    "# Random Forest"
   ]
  },
  {
   "cell_type": "markdown",
   "id": "78f6d022",
   "metadata": {},
   "source": [
    "## Zbiór car_prices (regresja)"
   ]
  },
  {
   "cell_type": "markdown",
   "id": "4cabc96b",
   "metadata": {},
   "source": [
    "### Ręczne testowanie różnych parametrów"
   ]
  },
  {
   "cell_type": "code",
   "execution_count": 10,
   "id": "higher-fetish",
   "metadata": {},
   "outputs": [
    {
     "data": {
      "text/plain": [
       "RandomForestRegressor(max_depth=5, min_samples_split=3, random_state=42)"
      ]
     },
     "execution_count": 10,
     "metadata": {},
     "output_type": "execute_result"
    }
   ],
   "source": [
    "# Będziemy szukać parametrów spośród: n_estimators, min_samples_split, max_depth\n",
    "# Na początek ustawmy: n_estimators=100, min_samples_split=3, max_depth=5\n",
    "rf1 = RandomForestRegressor(n_estimators=100, min_samples_split=3,\n",
    "                           max_depth=5, random_state = 42)\n",
    "rf1.fit(X_train_c, y_train_c)"
   ]
  },
  {
   "cell_type": "code",
   "execution_count": 11,
   "id": "unexpected-disney",
   "metadata": {},
   "outputs": [
    {
     "name": "stdout",
     "output_type": "stream",
     "text": [
      "RMSE: 28622.32\n"
     ]
    }
   ],
   "source": [
    "predictions = rf1.predict(X_val_c)\n",
    "mse = mean_squared_error(y_val_c, predictions, squared=False)\n",
    "print('RMSE:', round(mse, 2))"
   ]
  },
  {
   "cell_type": "code",
   "execution_count": 12,
   "id": "manufactured-formation",
   "metadata": {},
   "outputs": [
    {
     "name": "stdout",
     "output_type": "stream",
     "text": [
      "RMSE: 28617.04\n"
     ]
    }
   ],
   "source": [
    "# n_estimators=100, min_samples_split=6, max_depth=5\n",
    "rf2 = RandomForestRegressor(n_estimators=100, min_samples_split=6,\n",
    "                           max_depth=5, random_state = 42)\n",
    "rf2.fit(X_train_c, y_train_c)\n",
    "\n",
    "predictions = rf2.predict(X_val_c)\n",
    "mse = mean_squared_error(y_val_c, predictions, squared=False)\n",
    "print('RMSE:', round(mse, 2))"
   ]
  },
  {
   "cell_type": "code",
   "execution_count": 13,
   "id": "d4f12c54",
   "metadata": {},
   "outputs": [
    {
     "name": "stdout",
     "output_type": "stream",
     "text": [
      "RMSE: 20434.13\n"
     ]
    }
   ],
   "source": [
    "# n_estimators=100, min_samples_split=3, max_depth=10\n",
    "rf3 = RandomForestRegressor(n_estimators=100, min_samples_split=3,\n",
    "                           max_depth=10, random_state = 42)\n",
    "rf3.fit(X_train_c, y_train_c)\n",
    "\n",
    "predictions = rf3.predict(X_val_c)\n",
    "mse = mean_squared_error(y_val_c, predictions, squared=False)\n",
    "print('RMSE:', round(mse, 2))"
   ]
  },
  {
   "cell_type": "code",
   "execution_count": 14,
   "id": "40d0f153",
   "metadata": {},
   "outputs": [
    {
     "name": "stdout",
     "output_type": "stream",
     "text": [
      "RMSE: 18608.68\n"
     ]
    }
   ],
   "source": [
    "# n_estimators=100, min_samples_split=3, max_depth=15\n",
    "rf4 = RandomForestRegressor(n_estimators=100, min_samples_split=3,\n",
    "                           max_depth=15, random_state = 42)\n",
    "rf4.fit(X_train_c, y_train_c)\n",
    "\n",
    "predictions = rf4.predict(X_val_c)\n",
    "mse = mean_squared_error(y_val_c, predictions, squared=False)\n",
    "print('RMSE:', round(mse, 2))"
   ]
  },
  {
   "cell_type": "code",
   "execution_count": 15,
   "id": "b5f15c49",
   "metadata": {},
   "outputs": [
    {
     "name": "stdout",
     "output_type": "stream",
     "text": [
      "RMSE: 18705.27\n"
     ]
    }
   ],
   "source": [
    "# n_estimators=500, min_samples_split=3, max_depth=15\n",
    "rf5 = RandomForestRegressor(n_estimators=500, min_samples_split=3,\n",
    "                           max_depth=15, random_state = 42)\n",
    "rf5.fit(X_train_c, y_train_c)\n",
    "\n",
    "predictions = rf5.predict(X_val_c)\n",
    "mse = mean_squared_error(y_val_c, predictions, squared=False)\n",
    "print('RMSE:', round(mse, 2))"
   ]
  },
  {
   "cell_type": "code",
   "execution_count": 16,
   "id": "c132da13",
   "metadata": {},
   "outputs": [
    {
     "name": "stdout",
     "output_type": "stream",
     "text": [
      "RMSE: 18705.27\n"
     ]
    }
   ],
   "source": [
    "# n_estimators=500, min_samples_split=2, max_depth=15\n",
    "rf6 = RandomForestRegressor(n_estimators=500, min_samples_split=2,\n",
    "                           max_depth=15, random_state = 42)\n",
    "rf6.fit(X_train_c, y_train_c)\n",
    "\n",
    "predictions = rf5.predict(X_val_c)\n",
    "mse = mean_squared_error(y_val_c, predictions, squared=False)\n",
    "print('RMSE:', round(mse, 2))"
   ]
  },
  {
   "cell_type": "markdown",
   "id": "3e838fcb",
   "metadata": {},
   "source": [
    "Najniższe RMSE dał model rf4 na zbiorze walidacyjnym, policzymy więc dla tego modelu RMSE na zbiorze testowym."
   ]
  },
  {
   "cell_type": "code",
   "execution_count": 17,
   "id": "aaca5f4e",
   "metadata": {},
   "outputs": [
    {
     "name": "stdout",
     "output_type": "stream",
     "text": [
      "RMSE: 20946.95\n"
     ]
    }
   ],
   "source": [
    "predictions = rf4.predict(X_test_c)\n",
    "mse = mean_squared_error(y_test_c, predictions, squared=False)\n",
    "print('RMSE:', round(mse, 2))"
   ]
  },
  {
   "cell_type": "markdown",
   "id": "ebe7d23e",
   "metadata": {},
   "source": [
    "## Zbiór airline_passenger_satisfaction (klasyfikacja)"
   ]
  },
  {
   "cell_type": "code",
   "execution_count": 18,
   "id": "7e3deb89",
   "metadata": {},
   "outputs": [
    {
     "data": {
      "text/plain": [
       "RandomForestClassifier(max_depth=5, min_samples_split=3, random_state=42)"
      ]
     },
     "execution_count": 18,
     "metadata": {},
     "output_type": "execute_result"
    }
   ],
   "source": [
    "rf1 = RandomForestClassifier(n_estimators=100, min_samples_split=3,\n",
    "                             max_depth=5, random_state = 42)\n",
    "rf1.fit(X_train_a, y_train_a)"
   ]
  },
  {
   "cell_type": "code",
   "execution_count": 19,
   "id": "5c361578",
   "metadata": {},
   "outputs": [
    {
     "name": "stdout",
     "output_type": "stream",
     "text": [
      "F1-score: 0.9079\n"
     ]
    }
   ],
   "source": [
    "predictions = rf1.predict(X_val_a)\n",
    "f1 = f1_score(y_val_a, predictions)\n",
    "print('F1-score:', round(f1, 4))"
   ]
  },
  {
   "cell_type": "code",
   "execution_count": 20,
   "id": "50cac42c",
   "metadata": {},
   "outputs": [
    {
     "name": "stdout",
     "output_type": "stream",
     "text": [
      "F1-score: 0.909\n"
     ]
    }
   ],
   "source": [
    "# zwiekszmy n_estimators\n",
    "\n",
    "rf2 = RandomForestClassifier(n_estimators=1000, min_samples_split=3,\n",
    "                             max_depth=5, random_state = 42)\n",
    "rf2.fit(X_train_a, y_train_a)\n",
    "\n",
    "predictions = rf2.predict(X_val_a)\n",
    "f1 = f1_score(y_val_a, predictions)\n",
    "print('F1-score:', round(f1, 4))"
   ]
  },
  {
   "cell_type": "code",
   "execution_count": 21,
   "id": "ac0a9749",
   "metadata": {},
   "outputs": [
    {
     "name": "stdout",
     "output_type": "stream",
     "text": [
      "F1-score: 0.9338\n"
     ]
    }
   ],
   "source": [
    "# zwiekszenie n_estimators nie pomoglo znaczaco, zwiekszmy glebokosc drzew\n",
    "\n",
    "rf3 = RandomForestClassifier(n_estimators=200, min_samples_split=3,\n",
    "                             max_depth=10, random_state = 42)\n",
    "rf3.fit(X_train_a, y_train_a)\n",
    "\n",
    "predictions = rf3.predict(X_val_a)\n",
    "f1 = f1_score(y_val_a, predictions)\n",
    "print('F1-score:', round(f1, 4))"
   ]
  },
  {
   "cell_type": "code",
   "execution_count": 22,
   "id": "530c46cb",
   "metadata": {},
   "outputs": [
    {
     "name": "stdout",
     "output_type": "stream",
     "text": [
      "F1-score: 0.9518\n"
     ]
    }
   ],
   "source": [
    "# poniewaz przy 3-cim modelu zwiekszenie glebokosci polepszylo wynik, to sprobujmy jeszcze ja zwiekszyc\n",
    "\n",
    "rf4 = RandomForestClassifier(n_estimators=200, min_samples_split=3,\n",
    "                             max_depth=15, random_state = 42)\n",
    "rf4.fit(X_train_a, y_train_a)\n",
    "\n",
    "predictions = rf4.predict(X_val_a)\n",
    "f1 = f1_score(y_val_a, predictions)\n",
    "print('F1-score:', round(f1, 4))"
   ]
  },
  {
   "cell_type": "code",
   "execution_count": 23,
   "id": "54f37594",
   "metadata": {},
   "outputs": [
    {
     "name": "stdout",
     "output_type": "stream",
     "text": [
      "F1-score: 0.9522\n"
     ]
    }
   ],
   "source": [
    "# pozostaje pozmieniac troche min_samples_split\n",
    "\n",
    "rf5 = RandomForestClassifier(n_estimators=200, min_samples_split=2,\n",
    "                             max_depth=15, random_state = 42)\n",
    "rf5.fit(X_train_a, y_train_a)\n",
    "\n",
    "predictions = rf5.predict(X_val_a)\n",
    "f1 = f1_score(y_val_a, predictions)\n",
    "print('F1-score:', round(f1, 4))"
   ]
  },
  {
   "cell_type": "code",
   "execution_count": 24,
   "id": "da4aa284",
   "metadata": {},
   "outputs": [
    {
     "name": "stdout",
     "output_type": "stream",
     "text": [
      "F1-score: 0.9516\n"
     ]
    }
   ],
   "source": [
    "# i jeszcze przy zwiekszonym min_samples_split\n",
    "\n",
    "rf6 = RandomForestClassifier(n_estimators=200, min_samples_split=5,\n",
    "                             max_depth=15, random_state = 42)\n",
    "rf6.fit(X_train_a, y_train_a)\n",
    "\n",
    "predictions = rf6.predict(X_val_a)\n",
    "f1 = f1_score(y_val_a, predictions)\n",
    "print('F1-score:', round(f1, 4))"
   ]
  },
  {
   "cell_type": "code",
   "execution_count": 25,
   "id": "7146554d",
   "metadata": {},
   "outputs": [
    {
     "name": "stdout",
     "output_type": "stream",
     "text": [
      "F1-score: 0.9527\n"
     ]
    }
   ],
   "source": [
    "# najlepsze wyniki dal ostatni model, wiec dla niego wyznaczmy jeszcze wartosc na zbiorze testowym\n",
    "\n",
    "predictions = rf5.predict(X_test_a)\n",
    "f1 = f1_score(y_test_a, predictions)\n",
    "print('F1-score:', round(f1, 4))"
   ]
  },
  {
   "cell_type": "code",
   "execution_count": 26,
   "id": "0b76bb00",
   "metadata": {},
   "outputs": [
    {
     "name": "stdout",
     "output_type": "stream",
     "text": [
      "Accuracy: 0.959\n"
     ]
    }
   ],
   "source": [
    "# przy wyborze modelu sugerowalismy sie F1-score, ale mozemy jeszcze policzyc na zbiorze\n",
    "# testowym wartosc accuracy\n",
    "\n",
    "acc = accuracy_score(y_test_a, predictions)\n",
    "print('Accuracy:', round(acc, 4))"
   ]
  },
  {
   "cell_type": "markdown",
   "id": "e5f05f39",
   "metadata": {},
   "source": [
    "# XGBoost"
   ]
  },
  {
   "cell_type": "markdown",
   "id": "b4506ccc",
   "metadata": {},
   "source": [
    "## Zbiór car_prices"
   ]
  },
  {
   "cell_type": "code",
   "execution_count": 27,
   "id": "1e14b756",
   "metadata": {
    "scrolled": true
   },
   "outputs": [
    {
     "name": "stdout",
     "output_type": "stream",
     "text": [
      "[0]\tvalidation_0-rmse:102841.49219\n",
      "[1]\tvalidation_0-rmse:94502.55469\n",
      "[2]\tvalidation_0-rmse:86842.00781\n",
      "[3]\tvalidation_0-rmse:80047.47656\n",
      "[4]\tvalidation_0-rmse:73797.69531\n",
      "[5]\tvalidation_0-rmse:68418.00000\n",
      "[6]\tvalidation_0-rmse:63422.94531\n",
      "[7]\tvalidation_0-rmse:58945.41797\n",
      "[8]\tvalidation_0-rmse:55042.80859\n",
      "[9]\tvalidation_0-rmse:51486.74609\n",
      "[10]\tvalidation_0-rmse:48304.72656\n",
      "[11]\tvalidation_0-rmse:45474.54297\n",
      "[12]\tvalidation_0-rmse:43101.23047\n",
      "[13]\tvalidation_0-rmse:40919.07031\n",
      "[14]\tvalidation_0-rmse:38946.36328\n",
      "[15]\tvalidation_0-rmse:37162.58594\n",
      "[16]\tvalidation_0-rmse:35612.57812\n",
      "[17]\tvalidation_0-rmse:34287.75781\n",
      "[18]\tvalidation_0-rmse:33178.92188\n",
      "[19]\tvalidation_0-rmse:32166.65820\n",
      "[20]\tvalidation_0-rmse:31208.36719\n",
      "[21]\tvalidation_0-rmse:30351.55664\n",
      "[22]\tvalidation_0-rmse:29646.26953\n",
      "[23]\tvalidation_0-rmse:29075.87695\n",
      "[24]\tvalidation_0-rmse:28565.76562\n",
      "[25]\tvalidation_0-rmse:28027.60156\n",
      "[26]\tvalidation_0-rmse:27673.65430\n",
      "[27]\tvalidation_0-rmse:27290.28711\n",
      "[28]\tvalidation_0-rmse:26985.54102\n",
      "[29]\tvalidation_0-rmse:26751.66016\n",
      "[30]\tvalidation_0-rmse:26546.72656\n",
      "[31]\tvalidation_0-rmse:26324.35156\n",
      "[32]\tvalidation_0-rmse:26074.29102\n",
      "[33]\tvalidation_0-rmse:25916.87305\n",
      "[34]\tvalidation_0-rmse:25741.74609\n",
      "[35]\tvalidation_0-rmse:25568.99805\n",
      "[36]\tvalidation_0-rmse:25455.71680\n",
      "[37]\tvalidation_0-rmse:25307.84961\n",
      "[38]\tvalidation_0-rmse:25149.73828\n",
      "[39]\tvalidation_0-rmse:25053.82422\n",
      "[40]\tvalidation_0-rmse:24969.28320\n",
      "[41]\tvalidation_0-rmse:24870.99414\n",
      "[42]\tvalidation_0-rmse:24827.08203\n",
      "[43]\tvalidation_0-rmse:24779.89062\n",
      "[44]\tvalidation_0-rmse:24724.16602\n",
      "[45]\tvalidation_0-rmse:24640.18945\n",
      "[46]\tvalidation_0-rmse:24590.56250\n",
      "[47]\tvalidation_0-rmse:24545.23633\n",
      "[48]\tvalidation_0-rmse:24498.73828\n",
      "[49]\tvalidation_0-rmse:24461.94141\n",
      "[50]\tvalidation_0-rmse:24392.74219\n",
      "[51]\tvalidation_0-rmse:24473.03516\n",
      "[52]\tvalidation_0-rmse:24432.45117\n",
      "[53]\tvalidation_0-rmse:24439.66797\n",
      "[54]\tvalidation_0-rmse:24411.71680\n",
      "[55]\tvalidation_0-rmse:24354.51953\n",
      "[56]\tvalidation_0-rmse:24328.15430\n",
      "[57]\tvalidation_0-rmse:24345.87109\n",
      "[58]\tvalidation_0-rmse:24330.14648\n",
      "[59]\tvalidation_0-rmse:24290.50195\n",
      "[60]\tvalidation_0-rmse:24252.19922\n",
      "[61]\tvalidation_0-rmse:24222.57812\n",
      "[62]\tvalidation_0-rmse:24253.10742\n",
      "[63]\tvalidation_0-rmse:24232.48633\n",
      "[64]\tvalidation_0-rmse:24178.25781\n",
      "[65]\tvalidation_0-rmse:24135.75391\n",
      "[66]\tvalidation_0-rmse:24121.45898\n",
      "[67]\tvalidation_0-rmse:24098.27344\n",
      "[68]\tvalidation_0-rmse:24091.31445\n",
      "[69]\tvalidation_0-rmse:24077.59961\n",
      "[70]\tvalidation_0-rmse:24027.40430\n",
      "[71]\tvalidation_0-rmse:24161.12109\n",
      "[72]\tvalidation_0-rmse:24134.86914\n",
      "[73]\tvalidation_0-rmse:24098.00000\n",
      "[74]\tvalidation_0-rmse:24060.97461\n"
     ]
    },
    {
     "data": {
      "text/plain": [
       "XGBRegressor(base_score=0.5, booster='gbtree', colsample_bylevel=1,\n",
       "             colsample_bynode=1, colsample_bytree=1, enable_categorical=False,\n",
       "             gamma=0, gpu_id=-1, importance_type=None,\n",
       "             interaction_constraints='', learning_rate=0.1, max_delta_step=0,\n",
       "             max_depth=3, min_child_weight=1, missing=nan,\n",
       "             monotone_constraints='()', n_estimators=100, n_jobs=4,\n",
       "             num_parallel_tree=1, predictor='auto', random_state=42,\n",
       "             reg_alpha=0, reg_lambda=1, scale_pos_weight=1, seed=42,\n",
       "             subsample=1, tree_method='exact', use_label_encoder=False,\n",
       "             validate_parameters=1, verbosity=None)"
      ]
     },
     "execution_count": 27,
     "metadata": {},
     "output_type": "execute_result"
    }
   ],
   "source": [
    "xgb1 = xgb.XGBRegressor(max_depth=3, seed=42, use_label_encoder=False,\n",
    "                        learning_rate=0.1, min_child_weight=1)\n",
    "\n",
    "xgb1.fit(X_train_c, y_train_c, verbose=True, early_stopping_rounds=5, eval_set=[(X_val_c, y_val_c)])"
   ]
  },
  {
   "cell_type": "code",
   "execution_count": 28,
   "id": "e1f20520",
   "metadata": {},
   "outputs": [
    {
     "name": "stdout",
     "output_type": "stream",
     "text": [
      "RMSE: 24027.41\n"
     ]
    }
   ],
   "source": [
    "predictions = xgb1.predict(X_val_c)\n",
    "mse = mean_squared_error(y_val_c, predictions, squared=False)\n",
    "print('RMSE:', round(mse, 2))"
   ]
  },
  {
   "cell_type": "code",
   "execution_count": 29,
   "id": "e5de3c83",
   "metadata": {},
   "outputs": [
    {
     "name": "stdout",
     "output_type": "stream",
     "text": [
      "[0]\tvalidation_0-rmse:101793.05469\n",
      "[1]\tvalidation_0-rmse:92419.85938\n",
      "[2]\tvalidation_0-rmse:84038.06250\n",
      "[3]\tvalidation_0-rmse:76581.49219\n",
      "[4]\tvalidation_0-rmse:69928.48438\n",
      "[5]\tvalidation_0-rmse:63923.45312\n",
      "[6]\tvalidation_0-rmse:58616.49609\n",
      "[7]\tvalidation_0-rmse:53864.31250\n",
      "[8]\tvalidation_0-rmse:49663.16016\n",
      "[9]\tvalidation_0-rmse:45944.17578\n",
      "[10]\tvalidation_0-rmse:42626.22656\n",
      "[11]\tvalidation_0-rmse:39750.31641\n",
      "[12]\tvalidation_0-rmse:37181.19531\n",
      "[13]\tvalidation_0-rmse:34898.74219\n",
      "[14]\tvalidation_0-rmse:32949.61719\n",
      "[15]\tvalidation_0-rmse:31242.51758\n",
      "[16]\tvalidation_0-rmse:29754.50977\n",
      "[17]\tvalidation_0-rmse:28481.95117\n",
      "[18]\tvalidation_0-rmse:27389.55859\n",
      "[19]\tvalidation_0-rmse:26455.64648\n",
      "[20]\tvalidation_0-rmse:25631.84961\n",
      "[21]\tvalidation_0-rmse:24966.11328\n",
      "[22]\tvalidation_0-rmse:24339.56836\n",
      "[23]\tvalidation_0-rmse:23870.72461\n",
      "[24]\tvalidation_0-rmse:23432.08008\n",
      "[25]\tvalidation_0-rmse:23028.31055\n",
      "[26]\tvalidation_0-rmse:22705.52148\n",
      "[27]\tvalidation_0-rmse:22447.22070\n",
      "[28]\tvalidation_0-rmse:22176.73047\n",
      "[29]\tvalidation_0-rmse:21987.96094\n",
      "[30]\tvalidation_0-rmse:21824.96094\n",
      "[31]\tvalidation_0-rmse:21692.14453\n",
      "[32]\tvalidation_0-rmse:21553.24219\n",
      "[33]\tvalidation_0-rmse:21460.37109\n",
      "[34]\tvalidation_0-rmse:21360.43750\n",
      "[35]\tvalidation_0-rmse:21251.46484\n",
      "[36]\tvalidation_0-rmse:21167.99609\n",
      "[37]\tvalidation_0-rmse:21094.99414\n",
      "[38]\tvalidation_0-rmse:21029.25977\n",
      "[39]\tvalidation_0-rmse:20984.52539\n",
      "[40]\tvalidation_0-rmse:20923.20703\n",
      "[41]\tvalidation_0-rmse:20861.36328\n",
      "[42]\tvalidation_0-rmse:20827.61719\n",
      "[43]\tvalidation_0-rmse:20771.14062\n",
      "[44]\tvalidation_0-rmse:20727.78516\n",
      "[45]\tvalidation_0-rmse:20713.72266\n",
      "[46]\tvalidation_0-rmse:20685.68750\n",
      "[47]\tvalidation_0-rmse:20659.21875\n",
      "[48]\tvalidation_0-rmse:20628.75781\n",
      "[49]\tvalidation_0-rmse:20615.15234\n",
      "[50]\tvalidation_0-rmse:20599.43359\n",
      "[51]\tvalidation_0-rmse:20597.95117\n",
      "[52]\tvalidation_0-rmse:20554.96289\n",
      "[53]\tvalidation_0-rmse:20539.07617\n",
      "[54]\tvalidation_0-rmse:20518.18359\n",
      "[55]\tvalidation_0-rmse:20508.26172\n",
      "[56]\tvalidation_0-rmse:20477.65234\n",
      "[57]\tvalidation_0-rmse:20459.55078\n",
      "[58]\tvalidation_0-rmse:20436.82812\n",
      "[59]\tvalidation_0-rmse:20417.63867\n",
      "[60]\tvalidation_0-rmse:20407.86133\n",
      "[61]\tvalidation_0-rmse:20351.52734\n",
      "[62]\tvalidation_0-rmse:20347.45703\n",
      "[63]\tvalidation_0-rmse:20335.08984\n",
      "[64]\tvalidation_0-rmse:20318.72070\n",
      "[65]\tvalidation_0-rmse:20307.61914\n",
      "[66]\tvalidation_0-rmse:20299.43945\n",
      "[67]\tvalidation_0-rmse:20284.92188\n",
      "[68]\tvalidation_0-rmse:20285.62500\n",
      "[69]\tvalidation_0-rmse:20231.55078\n",
      "[70]\tvalidation_0-rmse:20225.09375\n",
      "[71]\tvalidation_0-rmse:20208.54883\n",
      "[72]\tvalidation_0-rmse:20199.45508\n",
      "[73]\tvalidation_0-rmse:20192.70703\n",
      "[74]\tvalidation_0-rmse:20182.33594\n",
      "[75]\tvalidation_0-rmse:20142.26562\n",
      "[76]\tvalidation_0-rmse:20135.96875\n",
      "[77]\tvalidation_0-rmse:20130.64258\n",
      "[78]\tvalidation_0-rmse:20108.07422\n",
      "[79]\tvalidation_0-rmse:20089.39844\n",
      "[80]\tvalidation_0-rmse:20088.00000\n",
      "[81]\tvalidation_0-rmse:20094.45703\n",
      "[82]\tvalidation_0-rmse:20078.01953\n",
      "[83]\tvalidation_0-rmse:20044.58203\n",
      "[84]\tvalidation_0-rmse:20043.06836\n",
      "[85]\tvalidation_0-rmse:20034.21680\n",
      "[86]\tvalidation_0-rmse:20012.10938\n",
      "[87]\tvalidation_0-rmse:20002.46680\n",
      "[88]\tvalidation_0-rmse:19985.78906\n",
      "[89]\tvalidation_0-rmse:19974.19531\n",
      "[90]\tvalidation_0-rmse:19970.83398\n",
      "[91]\tvalidation_0-rmse:19956.66992\n",
      "[92]\tvalidation_0-rmse:19941.63867\n",
      "[93]\tvalidation_0-rmse:19927.23633\n",
      "[94]\tvalidation_0-rmse:19915.09375\n",
      "[95]\tvalidation_0-rmse:19908.02930\n",
      "[96]\tvalidation_0-rmse:19911.24805\n",
      "[97]\tvalidation_0-rmse:19910.27344\n",
      "[98]\tvalidation_0-rmse:19886.71289\n",
      "[99]\tvalidation_0-rmse:19880.53516\n"
     ]
    },
    {
     "data": {
      "text/plain": [
       "XGBRegressor(base_score=0.5, booster='gbtree', colsample_bylevel=1,\n",
       "             colsample_bynode=1, colsample_bytree=1, enable_categorical=False,\n",
       "             gamma=0, gpu_id=-1, importance_type=None,\n",
       "             interaction_constraints='', learning_rate=0.1, max_delta_step=0,\n",
       "             max_depth=6, min_child_weight=1, missing=nan,\n",
       "             monotone_constraints='()', n_estimators=100, n_jobs=4,\n",
       "             num_parallel_tree=1, predictor='auto', random_state=42,\n",
       "             reg_alpha=0, reg_lambda=1, scale_pos_weight=1, seed=42,\n",
       "             subsample=1, tree_method='exact', use_label_encoder=False,\n",
       "             validate_parameters=1, verbosity=None)"
      ]
     },
     "execution_count": 29,
     "metadata": {},
     "output_type": "execute_result"
    }
   ],
   "source": [
    "# zwiekszamy max_depth\n",
    "\n",
    "xgb2 = xgb.XGBRegressor(max_depth=6, seed=42, use_label_encoder=False,\n",
    "                        learning_rate=0.1, min_child_weight=1)\n",
    "\n",
    "xgb2.fit(X_train_c, y_train_c, verbose=True, early_stopping_rounds=5, eval_set=[(X_val_c, y_val_c)])"
   ]
  },
  {
   "cell_type": "code",
   "execution_count": 30,
   "id": "fbdd1b13",
   "metadata": {},
   "outputs": [
    {
     "name": "stdout",
     "output_type": "stream",
     "text": [
      "RMSE: 19880.54\n"
     ]
    }
   ],
   "source": [
    "predictions = xgb2.predict(X_val_c)\n",
    "mse = mean_squared_error(y_val_c, predictions, squared=False)\n",
    "print('RMSE:', round(mse, 2))"
   ]
  },
  {
   "cell_type": "code",
   "execution_count": 31,
   "id": "a8cc3cd0",
   "metadata": {},
   "outputs": [
    {
     "name": "stdout",
     "output_type": "stream",
     "text": [
      "[0]\tvalidation_0-rmse:101638.07812\n",
      "[1]\tvalidation_0-rmse:92132.62500\n",
      "[2]\tvalidation_0-rmse:83614.71875\n",
      "[3]\tvalidation_0-rmse:75974.99219\n",
      "[4]\tvalidation_0-rmse:69118.21094\n",
      "[5]\tvalidation_0-rmse:63014.29297\n",
      "[6]\tvalidation_0-rmse:57624.79297\n",
      "[7]\tvalidation_0-rmse:52802.51953\n",
      "[8]\tvalidation_0-rmse:48463.77344\n",
      "[9]\tvalidation_0-rmse:44594.93359\n",
      "[10]\tvalidation_0-rmse:41199.75781\n",
      "[11]\tvalidation_0-rmse:38166.15625\n",
      "[12]\tvalidation_0-rmse:35524.33203\n",
      "[13]\tvalidation_0-rmse:33162.82422\n",
      "[14]\tvalidation_0-rmse:31135.09766\n",
      "[15]\tvalidation_0-rmse:29366.90039\n",
      "[16]\tvalidation_0-rmse:27804.28906\n",
      "[17]\tvalidation_0-rmse:26451.78516\n",
      "[18]\tvalidation_0-rmse:25324.10547\n",
      "[19]\tvalidation_0-rmse:24331.21289\n",
      "[20]\tvalidation_0-rmse:23455.57812\n",
      "[21]\tvalidation_0-rmse:22699.50391\n",
      "[22]\tvalidation_0-rmse:22047.32422\n",
      "[23]\tvalidation_0-rmse:21515.02930\n",
      "[24]\tvalidation_0-rmse:21046.53320\n",
      "[25]\tvalidation_0-rmse:20679.68359\n",
      "[26]\tvalidation_0-rmse:20371.77734\n",
      "[27]\tvalidation_0-rmse:20092.66992\n",
      "[28]\tvalidation_0-rmse:19866.62109\n",
      "[29]\tvalidation_0-rmse:19684.81641\n",
      "[30]\tvalidation_0-rmse:19568.62305\n",
      "[31]\tvalidation_0-rmse:19446.31836\n",
      "[32]\tvalidation_0-rmse:19317.61133\n",
      "[33]\tvalidation_0-rmse:19211.22266\n",
      "[34]\tvalidation_0-rmse:19092.70898\n",
      "[35]\tvalidation_0-rmse:19016.53711\n",
      "[36]\tvalidation_0-rmse:18946.96094\n",
      "[37]\tvalidation_0-rmse:18880.25586\n",
      "[38]\tvalidation_0-rmse:18800.72266\n",
      "[39]\tvalidation_0-rmse:18738.48242\n",
      "[40]\tvalidation_0-rmse:18695.35547\n",
      "[41]\tvalidation_0-rmse:18669.94336\n",
      "[42]\tvalidation_0-rmse:18623.66406\n",
      "[43]\tvalidation_0-rmse:18613.02539\n",
      "[44]\tvalidation_0-rmse:18581.00586\n",
      "[45]\tvalidation_0-rmse:18550.79102\n",
      "[46]\tvalidation_0-rmse:18532.80078\n",
      "[47]\tvalidation_0-rmse:18504.04297\n",
      "[48]\tvalidation_0-rmse:18471.84180\n",
      "[49]\tvalidation_0-rmse:18466.07812\n",
      "[50]\tvalidation_0-rmse:18448.39062\n",
      "[51]\tvalidation_0-rmse:18400.46094\n",
      "[52]\tvalidation_0-rmse:18370.62695\n",
      "[53]\tvalidation_0-rmse:18347.07422\n",
      "[54]\tvalidation_0-rmse:18329.59570\n",
      "[55]\tvalidation_0-rmse:18310.21875\n",
      "[56]\tvalidation_0-rmse:18300.38086\n",
      "[57]\tvalidation_0-rmse:18277.99023\n",
      "[58]\tvalidation_0-rmse:18251.22461\n",
      "[59]\tvalidation_0-rmse:18238.98242\n",
      "[60]\tvalidation_0-rmse:18225.92578\n",
      "[61]\tvalidation_0-rmse:18222.63086\n",
      "[62]\tvalidation_0-rmse:18220.81445\n",
      "[63]\tvalidation_0-rmse:18209.34570\n",
      "[64]\tvalidation_0-rmse:18205.70117\n",
      "[65]\tvalidation_0-rmse:18196.88281\n",
      "[66]\tvalidation_0-rmse:18187.16797\n",
      "[67]\tvalidation_0-rmse:18185.29688\n",
      "[68]\tvalidation_0-rmse:18169.50977\n",
      "[69]\tvalidation_0-rmse:18169.93164\n",
      "[70]\tvalidation_0-rmse:18168.04688\n",
      "[71]\tvalidation_0-rmse:18158.86523\n",
      "[72]\tvalidation_0-rmse:18159.07227\n",
      "[73]\tvalidation_0-rmse:18154.75781\n",
      "[74]\tvalidation_0-rmse:18142.92188\n",
      "[75]\tvalidation_0-rmse:18131.00195\n",
      "[76]\tvalidation_0-rmse:18125.99414\n",
      "[77]\tvalidation_0-rmse:18107.65430\n",
      "[78]\tvalidation_0-rmse:18099.40234\n",
      "[79]\tvalidation_0-rmse:18098.24805\n",
      "[80]\tvalidation_0-rmse:18096.85938\n",
      "[81]\tvalidation_0-rmse:18087.32422\n",
      "[82]\tvalidation_0-rmse:18085.01562\n",
      "[83]\tvalidation_0-rmse:18082.70312\n",
      "[84]\tvalidation_0-rmse:18073.60156\n",
      "[85]\tvalidation_0-rmse:18068.25781\n",
      "[86]\tvalidation_0-rmse:18060.95117\n",
      "[87]\tvalidation_0-rmse:18057.77930\n",
      "[88]\tvalidation_0-rmse:18057.75781\n",
      "[89]\tvalidation_0-rmse:18059.59375\n",
      "[90]\tvalidation_0-rmse:18052.86523\n",
      "[91]\tvalidation_0-rmse:18064.49219\n",
      "[92]\tvalidation_0-rmse:18047.67773\n",
      "[93]\tvalidation_0-rmse:18035.47266\n",
      "[94]\tvalidation_0-rmse:18033.38281\n",
      "[95]\tvalidation_0-rmse:18017.31250\n",
      "[96]\tvalidation_0-rmse:18017.41602\n",
      "[97]\tvalidation_0-rmse:18008.13867\n",
      "[98]\tvalidation_0-rmse:18004.74023\n",
      "[99]\tvalidation_0-rmse:17999.15820\n"
     ]
    },
    {
     "data": {
      "text/plain": [
       "XGBRegressor(base_score=0.5, booster='gbtree', colsample_bylevel=1,\n",
       "             colsample_bynode=1, colsample_bytree=1, enable_categorical=False,\n",
       "             gamma=0, gpu_id=-1, importance_type=None,\n",
       "             interaction_constraints='', learning_rate=0.1, max_delta_step=0,\n",
       "             max_depth=9, min_child_weight=1, missing=nan,\n",
       "             monotone_constraints='()', n_estimators=100, n_jobs=4,\n",
       "             num_parallel_tree=1, predictor='auto', random_state=42,\n",
       "             reg_alpha=0, reg_lambda=1, scale_pos_weight=1, seed=42,\n",
       "             subsample=1, tree_method='exact', use_label_encoder=False,\n",
       "             validate_parameters=1, verbosity=None)"
      ]
     },
     "execution_count": 31,
     "metadata": {},
     "output_type": "execute_result"
    }
   ],
   "source": [
    "# jeszcze raz zwiekszamy max_depth, bo poprzednio to poprawilo wyniki\n",
    "\n",
    "xgb3 = xgb.XGBRegressor(max_depth=9, seed=42, use_label_encoder=False,\n",
    "                        learning_rate=0.1, min_child_weight=1)\n",
    "\n",
    "xgb3.fit(X_train_c, y_train_c, verbose=True, early_stopping_rounds=5, eval_set=[(X_val_c, y_val_c)])"
   ]
  },
  {
   "cell_type": "code",
   "execution_count": 32,
   "id": "7241e64b",
   "metadata": {},
   "outputs": [
    {
     "name": "stdout",
     "output_type": "stream",
     "text": [
      "RMSE: 17999.16\n"
     ]
    }
   ],
   "source": [
    "predictions = xgb3.predict(X_val_c)\n",
    "mse = mean_squared_error(y_val_c, predictions, squared=False)\n",
    "print('RMSE:', round(mse, 2))"
   ]
  },
  {
   "cell_type": "code",
   "execution_count": 33,
   "id": "812b6d3a",
   "metadata": {},
   "outputs": [
    {
     "name": "stdout",
     "output_type": "stream",
     "text": [
      "[0]\tvalidation_0-rmse:111201.11719\n",
      "[1]\tvalidation_0-rmse:110151.25781\n",
      "[2]\tvalidation_0-rmse:109108.21094\n",
      "[3]\tvalidation_0-rmse:108081.12500\n",
      "[4]\tvalidation_0-rmse:107060.84375\n",
      "[5]\tvalidation_0-rmse:106054.08594\n",
      "[6]\tvalidation_0-rmse:105058.42188\n",
      "[7]\tvalidation_0-rmse:104069.39844\n",
      "[8]\tvalidation_0-rmse:103091.55469\n",
      "[9]\tvalidation_0-rmse:102121.82812\n",
      "[10]\tvalidation_0-rmse:101164.39844\n",
      "[11]\tvalidation_0-rmse:100214.94531\n",
      "[12]\tvalidation_0-rmse:99275.51562\n",
      "[13]\tvalidation_0-rmse:98345.43750\n",
      "[14]\tvalidation_0-rmse:97428.00000\n",
      "[15]\tvalidation_0-rmse:96517.51562\n",
      "[16]\tvalidation_0-rmse:95617.39844\n",
      "[17]\tvalidation_0-rmse:94724.24219\n",
      "[18]\tvalidation_0-rmse:93843.76562\n",
      "[19]\tvalidation_0-rmse:92971.89844\n",
      "[20]\tvalidation_0-rmse:92107.11719\n",
      "[21]\tvalidation_0-rmse:91249.53125\n",
      "[22]\tvalidation_0-rmse:90403.40625\n",
      "[23]\tvalidation_0-rmse:89566.07812\n",
      "[24]\tvalidation_0-rmse:88735.72656\n",
      "[25]\tvalidation_0-rmse:87914.50000\n",
      "[26]\tvalidation_0-rmse:87104.66406\n",
      "[27]\tvalidation_0-rmse:86301.69531\n",
      "[28]\tvalidation_0-rmse:85503.35938\n",
      "[29]\tvalidation_0-rmse:84716.99219\n",
      "[30]\tvalidation_0-rmse:83933.18750\n",
      "[31]\tvalidation_0-rmse:83162.60156\n",
      "[32]\tvalidation_0-rmse:82395.36719\n",
      "[33]\tvalidation_0-rmse:81639.68750\n",
      "[34]\tvalidation_0-rmse:80894.62500\n",
      "[35]\tvalidation_0-rmse:80152.86719\n",
      "[36]\tvalidation_0-rmse:79422.28125\n",
      "[37]\tvalidation_0-rmse:78695.60938\n",
      "[38]\tvalidation_0-rmse:77981.68750\n",
      "[39]\tvalidation_0-rmse:77271.67188\n",
      "[40]\tvalidation_0-rmse:76571.23438\n",
      "[41]\tvalidation_0-rmse:75875.71875\n",
      "[42]\tvalidation_0-rmse:75190.19531\n",
      "[43]\tvalidation_0-rmse:74511.31250\n",
      "[44]\tvalidation_0-rmse:73840.84375\n",
      "[45]\tvalidation_0-rmse:73175.35156\n",
      "[46]\tvalidation_0-rmse:72517.57812\n",
      "[47]\tvalidation_0-rmse:71867.61719\n",
      "[48]\tvalidation_0-rmse:71225.92969\n",
      "[49]\tvalidation_0-rmse:70590.40625\n",
      "[50]\tvalidation_0-rmse:69961.13281\n",
      "[51]\tvalidation_0-rmse:69340.38281\n",
      "[52]\tvalidation_0-rmse:68724.38281\n",
      "[53]\tvalidation_0-rmse:68116.40625\n",
      "[54]\tvalidation_0-rmse:67515.66406\n",
      "[55]\tvalidation_0-rmse:66919.41406\n",
      "[56]\tvalidation_0-rmse:66332.57031\n",
      "[57]\tvalidation_0-rmse:65747.48438\n",
      "[58]\tvalidation_0-rmse:65169.18359\n",
      "[59]\tvalidation_0-rmse:64598.33984\n",
      "[60]\tvalidation_0-rmse:64030.18750\n",
      "[61]\tvalidation_0-rmse:63471.20312\n",
      "[62]\tvalidation_0-rmse:62915.97266\n",
      "[63]\tvalidation_0-rmse:62370.91016\n",
      "[64]\tvalidation_0-rmse:61828.39453\n",
      "[65]\tvalidation_0-rmse:61293.85938\n",
      "[66]\tvalidation_0-rmse:60761.41797\n",
      "[67]\tvalidation_0-rmse:60237.03125\n",
      "[68]\tvalidation_0-rmse:59717.76172\n",
      "[69]\tvalidation_0-rmse:59206.76172\n",
      "[70]\tvalidation_0-rmse:58698.00391\n",
      "[71]\tvalidation_0-rmse:58196.80469\n",
      "[72]\tvalidation_0-rmse:57700.53125\n",
      "[73]\tvalidation_0-rmse:57215.33984\n",
      "[74]\tvalidation_0-rmse:56730.92969\n",
      "[75]\tvalidation_0-rmse:56253.09375\n",
      "[76]\tvalidation_0-rmse:55779.85938\n",
      "[77]\tvalidation_0-rmse:55311.85156\n",
      "[78]\tvalidation_0-rmse:54849.16406\n",
      "[79]\tvalidation_0-rmse:54387.81641\n",
      "[80]\tvalidation_0-rmse:53929.33594\n",
      "[81]\tvalidation_0-rmse:53483.32422\n",
      "[82]\tvalidation_0-rmse:53034.85547\n",
      "[83]\tvalidation_0-rmse:52595.01172\n",
      "[84]\tvalidation_0-rmse:52161.85547\n",
      "[85]\tvalidation_0-rmse:51728.97656\n",
      "[86]\tvalidation_0-rmse:51301.33594\n",
      "[87]\tvalidation_0-rmse:50879.23828\n",
      "[88]\tvalidation_0-rmse:50459.87891\n",
      "[89]\tvalidation_0-rmse:50045.73047\n",
      "[90]\tvalidation_0-rmse:49638.35547\n",
      "[91]\tvalidation_0-rmse:49233.80859\n",
      "[92]\tvalidation_0-rmse:48836.51172\n",
      "[93]\tvalidation_0-rmse:48439.68359\n",
      "[94]\tvalidation_0-rmse:48047.96094\n",
      "[95]\tvalidation_0-rmse:47664.51172\n",
      "[96]\tvalidation_0-rmse:47281.24219\n",
      "[97]\tvalidation_0-rmse:46907.25000\n",
      "[98]\tvalidation_0-rmse:46532.98828\n",
      "[99]\tvalidation_0-rmse:46166.08203\n"
     ]
    },
    {
     "data": {
      "text/plain": [
       "XGBRegressor(base_score=0.5, booster='gbtree', colsample_bylevel=1,\n",
       "             colsample_bynode=1, colsample_bytree=1, enable_categorical=False,\n",
       "             gamma=0, gpu_id=-1, importance_type=None,\n",
       "             interaction_constraints='', learning_rate=0.01, max_delta_step=0,\n",
       "             max_depth=9, min_child_weight=1, missing=nan,\n",
       "             monotone_constraints='()', n_estimators=100, n_jobs=4,\n",
       "             num_parallel_tree=1, predictor='auto', random_state=42,\n",
       "             reg_alpha=0, reg_lambda=1, scale_pos_weight=1, seed=42,\n",
       "             subsample=1, tree_method='exact', use_label_encoder=False,\n",
       "             validate_parameters=1, verbosity=None)"
      ]
     },
     "execution_count": 33,
     "metadata": {},
     "output_type": "execute_result"
    }
   ],
   "source": [
    "# sprawdzmy jak zmiana learning_rate wplynie na trenowanie\n",
    "\n",
    "xgb4 = xgb.XGBRegressor(max_depth=9, seed=42, use_label_encoder=False,\n",
    "                        learning_rate=0.01, min_child_weight=1)\n",
    "\n",
    "xgb4.fit(X_train_c, y_train_c, verbose=True, early_stopping_rounds=5, eval_set=[(X_val_c, y_val_c)])"
   ]
  },
  {
   "cell_type": "code",
   "execution_count": 34,
   "id": "235a1df1",
   "metadata": {},
   "outputs": [
    {
     "name": "stdout",
     "output_type": "stream",
     "text": [
      "RMSE: 46166.07\n"
     ]
    }
   ],
   "source": [
    "predictions = xgb4.predict(X_val_c)\n",
    "mse = mean_squared_error(y_val_c, predictions, squared=False)\n",
    "print('RMSE:', round(mse, 2))"
   ]
  },
  {
   "cell_type": "code",
   "execution_count": 35,
   "id": "6cd1c4aa",
   "metadata": {},
   "outputs": [
    {
     "name": "stdout",
     "output_type": "stream",
     "text": [
      "[0]\tvalidation_0-rmse:101632.64844\n",
      "[1]\tvalidation_0-rmse:92108.19531\n",
      "[2]\tvalidation_0-rmse:83596.77344\n",
      "[3]\tvalidation_0-rmse:75941.35938\n",
      "[4]\tvalidation_0-rmse:69129.64844\n",
      "[5]\tvalidation_0-rmse:62995.04297\n",
      "[6]\tvalidation_0-rmse:57518.46875\n",
      "[7]\tvalidation_0-rmse:52685.89062\n",
      "[8]\tvalidation_0-rmse:48333.33203\n",
      "[9]\tvalidation_0-rmse:44509.54297\n",
      "[10]\tvalidation_0-rmse:41120.36719\n",
      "[11]\tvalidation_0-rmse:38084.35156\n",
      "[12]\tvalidation_0-rmse:35441.97266\n",
      "[13]\tvalidation_0-rmse:33117.86719\n",
      "[14]\tvalidation_0-rmse:31091.70508\n",
      "[15]\tvalidation_0-rmse:29362.00781\n",
      "[16]\tvalidation_0-rmse:27847.28711\n",
      "[17]\tvalidation_0-rmse:26530.89648\n",
      "[18]\tvalidation_0-rmse:25395.98047\n",
      "[19]\tvalidation_0-rmse:24431.92188\n",
      "[20]\tvalidation_0-rmse:23630.35156\n",
      "[21]\tvalidation_0-rmse:22930.41016\n",
      "[22]\tvalidation_0-rmse:22308.59375\n",
      "[23]\tvalidation_0-rmse:21746.56445\n",
      "[24]\tvalidation_0-rmse:21296.05859\n",
      "[25]\tvalidation_0-rmse:20922.40820\n",
      "[26]\tvalidation_0-rmse:20585.98438\n",
      "[27]\tvalidation_0-rmse:20353.48633\n",
      "[28]\tvalidation_0-rmse:20130.46484\n",
      "[29]\tvalidation_0-rmse:19959.76953\n",
      "[30]\tvalidation_0-rmse:19831.59180\n",
      "[31]\tvalidation_0-rmse:19663.99414\n",
      "[32]\tvalidation_0-rmse:19551.47461\n",
      "[33]\tvalidation_0-rmse:19442.00781\n",
      "[34]\tvalidation_0-rmse:19343.96680\n",
      "[35]\tvalidation_0-rmse:19277.74023\n",
      "[36]\tvalidation_0-rmse:19220.79688\n",
      "[37]\tvalidation_0-rmse:19153.67578\n",
      "[38]\tvalidation_0-rmse:19087.96289\n",
      "[39]\tvalidation_0-rmse:19038.90820\n",
      "[40]\tvalidation_0-rmse:18991.70703\n",
      "[41]\tvalidation_0-rmse:18945.91406\n",
      "[42]\tvalidation_0-rmse:18901.60742\n",
      "[43]\tvalidation_0-rmse:18880.51562\n",
      "[44]\tvalidation_0-rmse:18860.96680\n",
      "[45]\tvalidation_0-rmse:18836.62305\n",
      "[46]\tvalidation_0-rmse:18826.32031\n",
      "[47]\tvalidation_0-rmse:18828.07422\n",
      "[48]\tvalidation_0-rmse:18807.92969\n",
      "[49]\tvalidation_0-rmse:18774.21680\n",
      "[50]\tvalidation_0-rmse:18758.01367\n",
      "[51]\tvalidation_0-rmse:18744.69141\n",
      "[52]\tvalidation_0-rmse:18754.08594\n",
      "[53]\tvalidation_0-rmse:18732.81836\n",
      "[54]\tvalidation_0-rmse:18718.13477\n",
      "[55]\tvalidation_0-rmse:18719.81055\n",
      "[56]\tvalidation_0-rmse:18716.97656\n",
      "[57]\tvalidation_0-rmse:18706.21484\n",
      "[58]\tvalidation_0-rmse:18698.75000\n",
      "[59]\tvalidation_0-rmse:18688.31250\n",
      "[60]\tvalidation_0-rmse:18674.26562\n",
      "[61]\tvalidation_0-rmse:18682.15820\n",
      "[62]\tvalidation_0-rmse:18680.68945\n",
      "[63]\tvalidation_0-rmse:18667.21094\n",
      "[64]\tvalidation_0-rmse:18672.27734\n",
      "[65]\tvalidation_0-rmse:18676.62305\n",
      "[66]\tvalidation_0-rmse:18669.29883\n",
      "[67]\tvalidation_0-rmse:18664.88086\n",
      "[68]\tvalidation_0-rmse:18657.98828\n",
      "[69]\tvalidation_0-rmse:18657.94727\n",
      "[70]\tvalidation_0-rmse:18647.87109\n",
      "[71]\tvalidation_0-rmse:18648.19531\n",
      "[72]\tvalidation_0-rmse:18638.35742\n",
      "[73]\tvalidation_0-rmse:18620.78906\n",
      "[74]\tvalidation_0-rmse:18625.41016\n",
      "[75]\tvalidation_0-rmse:18604.13867\n",
      "[76]\tvalidation_0-rmse:18600.98242\n",
      "[77]\tvalidation_0-rmse:18595.87305\n",
      "[78]\tvalidation_0-rmse:18584.86523\n",
      "[79]\tvalidation_0-rmse:18575.91992\n",
      "[80]\tvalidation_0-rmse:18574.32031\n",
      "[81]\tvalidation_0-rmse:18555.80664\n",
      "[82]\tvalidation_0-rmse:18554.25391\n",
      "[83]\tvalidation_0-rmse:18518.18945\n",
      "[84]\tvalidation_0-rmse:18518.52930\n",
      "[85]\tvalidation_0-rmse:18515.98828\n",
      "[86]\tvalidation_0-rmse:18518.18164\n",
      "[87]\tvalidation_0-rmse:18522.66797\n",
      "[88]\tvalidation_0-rmse:18513.18750\n",
      "[89]\tvalidation_0-rmse:18505.25000\n",
      "[90]\tvalidation_0-rmse:18507.30469\n",
      "[91]\tvalidation_0-rmse:18512.06836\n",
      "[92]\tvalidation_0-rmse:18512.91797\n",
      "[93]\tvalidation_0-rmse:18504.08398\n",
      "[94]\tvalidation_0-rmse:18497.38867\n",
      "[95]\tvalidation_0-rmse:18490.79688\n",
      "[96]\tvalidation_0-rmse:18493.85742\n",
      "[97]\tvalidation_0-rmse:18496.25977\n",
      "[98]\tvalidation_0-rmse:18487.08984\n",
      "[99]\tvalidation_0-rmse:18483.62891\n"
     ]
    },
    {
     "data": {
      "text/plain": [
       "XGBRegressor(base_score=0.5, booster='gbtree', colsample_bylevel=1,\n",
       "             colsample_bynode=1, colsample_bytree=1, enable_categorical=False,\n",
       "             gamma=0, gpu_id=-1, importance_type=None,\n",
       "             interaction_constraints='', learning_rate=0.1, max_delta_step=0,\n",
       "             max_depth=9, min_child_weight=3, missing=nan,\n",
       "             monotone_constraints='()', n_estimators=100, n_jobs=4,\n",
       "             num_parallel_tree=1, predictor='auto', random_state=42,\n",
       "             reg_alpha=0, reg_lambda=1, scale_pos_weight=1, seed=42,\n",
       "             subsample=1, tree_method='exact', use_label_encoder=False,\n",
       "             validate_parameters=1, verbosity=None)"
      ]
     },
     "execution_count": 35,
     "metadata": {},
     "output_type": "execute_result"
    }
   ],
   "source": [
    "# wynik się znacząco pogorszył, więc wracamy do poprzedniego learning_rate\n",
    "# zwiększymy jeszcze min_child_weight\n",
    "\n",
    "xgb5 = xgb.XGBRegressor(max_depth=9, seed=42, use_label_encoder=False,\n",
    "                        learning_rate=0.1, min_child_weight=3)\n",
    "\n",
    "xgb5.fit(X_train_c, y_train_c, verbose=True, early_stopping_rounds=5, eval_set=[(X_val_c, y_val_c)])"
   ]
  },
  {
   "cell_type": "code",
   "execution_count": 36,
   "id": "f9b17f5a",
   "metadata": {},
   "outputs": [
    {
     "name": "stdout",
     "output_type": "stream",
     "text": [
      "RMSE: 18483.63\n"
     ]
    }
   ],
   "source": [
    "predictions = xgb5.predict(X_val_c)\n",
    "mse = mean_squared_error(y_val_c, predictions, squared=False)\n",
    "print('RMSE:', round(mse, 2))"
   ]
  },
  {
   "cell_type": "markdown",
   "id": "cca34c99",
   "metadata": {},
   "source": [
    "Pozostaje obliczyć RMSE na najlepszym modelu, tzn. xgb3"
   ]
  },
  {
   "cell_type": "code",
   "execution_count": 37,
   "id": "6aab0e8a",
   "metadata": {},
   "outputs": [
    {
     "name": "stdout",
     "output_type": "stream",
     "text": [
      "RMSE: 19980.61\n"
     ]
    }
   ],
   "source": [
    "predictions = xgb3.predict(X_test_c)\n",
    "mse = mean_squared_error(y_test_c, predictions, squared=False)\n",
    "print('RMSE:', round(mse, 2))"
   ]
  },
  {
   "cell_type": "markdown",
   "id": "1f4abebe",
   "metadata": {},
   "source": [
    "## Zbiór airline_passenger_satisfaction"
   ]
  },
  {
   "cell_type": "code",
   "execution_count": 38,
   "id": "8f99f4ad",
   "metadata": {},
   "outputs": [
    {
     "name": "stdout",
     "output_type": "stream",
     "text": [
      "[0]\tvalidation_0-error:0.11749\n",
      "[1]\tvalidation_0-error:0.11749\n",
      "[2]\tvalidation_0-error:0.11749\n",
      "[3]\tvalidation_0-error:0.11749\n",
      "[4]\tvalidation_0-error:0.11749\n"
     ]
    },
    {
     "data": {
      "text/plain": [
       "XGBClassifier(base_score=0.5, booster='gbtree', colsample_bylevel=1,\n",
       "              colsample_bynode=1, colsample_bytree=1, enable_categorical=False,\n",
       "              gamma=0, gpu_id=-1, importance_type=None,\n",
       "              interaction_constraints='', learning_rate=0.01, max_delta_step=0,\n",
       "              max_depth=3, min_child_weight=2, missing=nan,\n",
       "              monotone_constraints='()', n_estimators=100, n_jobs=4,\n",
       "              num_parallel_tree=1, predictor='auto', random_state=42,\n",
       "              reg_alpha=0, reg_lambda=1, scale_pos_weight=1, seed=42,\n",
       "              subsample=1, tree_method='exact', use_label_encoder=False,\n",
       "              validate_parameters=1, verbosity=None)"
      ]
     },
     "execution_count": 38,
     "metadata": {},
     "output_type": "execute_result"
    }
   ],
   "source": [
    "xgb1 = xgb.XGBClassifier(objective=\"binary:logistic\", seed=42, use_label_encoder=False,\n",
    "                         max_depth=3, min_child_weight=2, learning_rate=0.01)\n",
    "\n",
    "xgb1.fit(X_train_a, y_train_a, verbose=True, early_stopping_rounds=5,\n",
    "         eval_metric=\"error\", eval_set=[(X_val_a, y_val_a)])"
   ]
  },
  {
   "cell_type": "code",
   "execution_count": 39,
   "id": "3968daec",
   "metadata": {},
   "outputs": [
    {
     "name": "stdout",
     "output_type": "stream",
     "text": [
      "F1-score: 0.8728\n"
     ]
    }
   ],
   "source": [
    "predictions = xgb1.predict(X_test_a)\n",
    "f1 = f1_score(y_test_a, predictions)\n",
    "print('F1-score:', round(f1, 4))"
   ]
  },
  {
   "cell_type": "code",
   "execution_count": 40,
   "id": "295973aa",
   "metadata": {},
   "outputs": [
    {
     "name": "stdout",
     "output_type": "stream",
     "text": [
      "[0]\tvalidation_0-error:0.11749\n",
      "[1]\tvalidation_0-error:0.11626\n",
      "[2]\tvalidation_0-error:0.10448\n",
      "[3]\tvalidation_0-error:0.09709\n",
      "[4]\tvalidation_0-error:0.09978\n",
      "[5]\tvalidation_0-error:0.08208\n",
      "[6]\tvalidation_0-error:0.08292\n",
      "[7]\tvalidation_0-error:0.08231\n",
      "[8]\tvalidation_0-error:0.07923\n",
      "[9]\tvalidation_0-error:0.07784\n",
      "[10]\tvalidation_0-error:0.07468\n",
      "[11]\tvalidation_0-error:0.07199\n",
      "[12]\tvalidation_0-error:0.07014\n",
      "[13]\tvalidation_0-error:0.06775\n",
      "[14]\tvalidation_0-error:0.06745\n",
      "[15]\tvalidation_0-error:0.06760\n",
      "[16]\tvalidation_0-error:0.06637\n",
      "[17]\tvalidation_0-error:0.06437\n",
      "[18]\tvalidation_0-error:0.06444\n",
      "[19]\tvalidation_0-error:0.06452\n",
      "[20]\tvalidation_0-error:0.06391\n",
      "[21]\tvalidation_0-error:0.06414\n",
      "[22]\tvalidation_0-error:0.06313\n",
      "[23]\tvalidation_0-error:0.06190\n",
      "[24]\tvalidation_0-error:0.06136\n",
      "[25]\tvalidation_0-error:0.06183\n",
      "[26]\tvalidation_0-error:0.06213\n",
      "[27]\tvalidation_0-error:0.06198\n",
      "[28]\tvalidation_0-error:0.06106\n",
      "[29]\tvalidation_0-error:0.06159\n",
      "[30]\tvalidation_0-error:0.06052\n",
      "[31]\tvalidation_0-error:0.06059\n",
      "[32]\tvalidation_0-error:0.05944\n",
      "[33]\tvalidation_0-error:0.05882\n",
      "[34]\tvalidation_0-error:0.05859\n",
      "[35]\tvalidation_0-error:0.05813\n",
      "[36]\tvalidation_0-error:0.05767\n",
      "[37]\tvalidation_0-error:0.05775\n",
      "[38]\tvalidation_0-error:0.05767\n",
      "[39]\tvalidation_0-error:0.05736\n",
      "[40]\tvalidation_0-error:0.05721\n",
      "[41]\tvalidation_0-error:0.05667\n",
      "[42]\tvalidation_0-error:0.05613\n",
      "[43]\tvalidation_0-error:0.05497\n",
      "[44]\tvalidation_0-error:0.05505\n",
      "[45]\tvalidation_0-error:0.05520\n",
      "[46]\tvalidation_0-error:0.05459\n",
      "[47]\tvalidation_0-error:0.05366\n",
      "[48]\tvalidation_0-error:0.05243\n",
      "[49]\tvalidation_0-error:0.05212\n",
      "[50]\tvalidation_0-error:0.05228\n",
      "[51]\tvalidation_0-error:0.05212\n",
      "[52]\tvalidation_0-error:0.05159\n",
      "[53]\tvalidation_0-error:0.05220\n",
      "[54]\tvalidation_0-error:0.05043\n",
      "[55]\tvalidation_0-error:0.05058\n",
      "[56]\tvalidation_0-error:0.05028\n",
      "[57]\tvalidation_0-error:0.05020\n",
      "[58]\tvalidation_0-error:0.05012\n",
      "[59]\tvalidation_0-error:0.05051\n",
      "[60]\tvalidation_0-error:0.05035\n",
      "[61]\tvalidation_0-error:0.04981\n",
      "[62]\tvalidation_0-error:0.04904\n",
      "[63]\tvalidation_0-error:0.04889\n",
      "[64]\tvalidation_0-error:0.04866\n",
      "[65]\tvalidation_0-error:0.04866\n",
      "[66]\tvalidation_0-error:0.04758\n",
      "[67]\tvalidation_0-error:0.04712\n",
      "[68]\tvalidation_0-error:0.04650\n",
      "[69]\tvalidation_0-error:0.04681\n",
      "[70]\tvalidation_0-error:0.04620\n",
      "[71]\tvalidation_0-error:0.04558\n",
      "[72]\tvalidation_0-error:0.04543\n",
      "[73]\tvalidation_0-error:0.04504\n",
      "[74]\tvalidation_0-error:0.04520\n",
      "[75]\tvalidation_0-error:0.04496\n",
      "[76]\tvalidation_0-error:0.04520\n",
      "[77]\tvalidation_0-error:0.04489\n",
      "[78]\tvalidation_0-error:0.04481\n",
      "[79]\tvalidation_0-error:0.04473\n",
      "[80]\tvalidation_0-error:0.04466\n",
      "[81]\tvalidation_0-error:0.04473\n",
      "[82]\tvalidation_0-error:0.04489\n",
      "[83]\tvalidation_0-error:0.04520\n",
      "[84]\tvalidation_0-error:0.04458\n",
      "[85]\tvalidation_0-error:0.04443\n",
      "[86]\tvalidation_0-error:0.04466\n",
      "[87]\tvalidation_0-error:0.04458\n",
      "[88]\tvalidation_0-error:0.04466\n",
      "[89]\tvalidation_0-error:0.04419\n",
      "[90]\tvalidation_0-error:0.04419\n",
      "[91]\tvalidation_0-error:0.04489\n",
      "[92]\tvalidation_0-error:0.04450\n",
      "[93]\tvalidation_0-error:0.04435\n",
      "[94]\tvalidation_0-error:0.04366\n",
      "[95]\tvalidation_0-error:0.04373\n",
      "[96]\tvalidation_0-error:0.04358\n",
      "[97]\tvalidation_0-error:0.04396\n",
      "[98]\tvalidation_0-error:0.04381\n",
      "[99]\tvalidation_0-error:0.04350\n"
     ]
    },
    {
     "data": {
      "text/plain": [
       "XGBClassifier(base_score=0.5, booster='gbtree', colsample_bylevel=1,\n",
       "              colsample_bynode=1, colsample_bytree=1, enable_categorical=False,\n",
       "              gamma=0, gpu_id=-1, importance_type=None,\n",
       "              interaction_constraints='', learning_rate=0.3, max_delta_step=0,\n",
       "              max_depth=3, min_child_weight=2, missing=nan,\n",
       "              monotone_constraints='()', n_estimators=100, n_jobs=4,\n",
       "              num_parallel_tree=1, predictor='auto', random_state=42,\n",
       "              reg_alpha=0, reg_lambda=1, scale_pos_weight=1, seed=42,\n",
       "              subsample=1, tree_method='exact', use_label_encoder=False,\n",
       "              validate_parameters=1, verbosity=None)"
      ]
     },
     "execution_count": 40,
     "metadata": {},
     "output_type": "execute_result"
    }
   ],
   "source": [
    "# zwiekszamy learning rate\n",
    "\n",
    "xgb2 = xgb.XGBClassifier(objective=\"binary:logistic\", seed=42, use_label_encoder=False,\n",
    "                         max_depth=3, min_child_weight=2, learning_rate=0.3)\n",
    "\n",
    "xgb2.fit(X_train_a, y_train_a, verbose=True, early_stopping_rounds=5,\n",
    "         eval_metric=\"error\", eval_set=[(X_val_a, y_val_a)])"
   ]
  },
  {
   "cell_type": "code",
   "execution_count": 41,
   "id": "66845bb0",
   "metadata": {},
   "outputs": [
    {
     "name": "stdout",
     "output_type": "stream",
     "text": [
      "F1-score: 0.9502\n"
     ]
    }
   ],
   "source": [
    "predictions = xgb2.predict(X_test_a)\n",
    "f1 = f1_score(y_test_a, predictions)\n",
    "print('F1-score:', round(f1, 4))"
   ]
  },
  {
   "cell_type": "code",
   "execution_count": 42,
   "id": "83b6c821",
   "metadata": {},
   "outputs": [
    {
     "name": "stdout",
     "output_type": "stream",
     "text": [
      "[0]\tvalidation_0-error:0.08161\n",
      "[1]\tvalidation_0-error:0.07530\n",
      "[2]\tvalidation_0-error:0.06806\n",
      "[3]\tvalidation_0-error:0.07022\n",
      "[4]\tvalidation_0-error:0.06391\n",
      "[5]\tvalidation_0-error:0.06090\n",
      "[6]\tvalidation_0-error:0.05728\n",
      "[7]\tvalidation_0-error:0.05544\n",
      "[8]\tvalidation_0-error:0.05305\n",
      "[9]\tvalidation_0-error:0.05220\n",
      "[10]\tvalidation_0-error:0.05135\n",
      "[11]\tvalidation_0-error:0.05089\n",
      "[12]\tvalidation_0-error:0.04981\n",
      "[13]\tvalidation_0-error:0.04889\n",
      "[14]\tvalidation_0-error:0.04881\n",
      "[15]\tvalidation_0-error:0.04720\n",
      "[16]\tvalidation_0-error:0.04597\n",
      "[17]\tvalidation_0-error:0.04612\n",
      "[18]\tvalidation_0-error:0.04604\n",
      "[19]\tvalidation_0-error:0.04573\n",
      "[20]\tvalidation_0-error:0.04450\n",
      "[21]\tvalidation_0-error:0.04443\n",
      "[22]\tvalidation_0-error:0.04250\n",
      "[23]\tvalidation_0-error:0.04204\n",
      "[24]\tvalidation_0-error:0.04204\n",
      "[25]\tvalidation_0-error:0.04188\n",
      "[26]\tvalidation_0-error:0.04119\n",
      "[27]\tvalidation_0-error:0.04119\n",
      "[28]\tvalidation_0-error:0.04096\n",
      "[29]\tvalidation_0-error:0.04034\n",
      "[30]\tvalidation_0-error:0.03981\n",
      "[31]\tvalidation_0-error:0.03942\n",
      "[32]\tvalidation_0-error:0.03857\n",
      "[33]\tvalidation_0-error:0.03857\n",
      "[34]\tvalidation_0-error:0.03857\n",
      "[35]\tvalidation_0-error:0.03850\n",
      "[36]\tvalidation_0-error:0.03842\n",
      "[37]\tvalidation_0-error:0.03827\n",
      "[38]\tvalidation_0-error:0.03819\n",
      "[39]\tvalidation_0-error:0.03765\n",
      "[40]\tvalidation_0-error:0.03773\n",
      "[41]\tvalidation_0-error:0.03742\n",
      "[42]\tvalidation_0-error:0.03719\n",
      "[43]\tvalidation_0-error:0.03719\n",
      "[44]\tvalidation_0-error:0.03734\n",
      "[45]\tvalidation_0-error:0.03711\n",
      "[46]\tvalidation_0-error:0.03688\n",
      "[47]\tvalidation_0-error:0.03642\n",
      "[48]\tvalidation_0-error:0.03673\n",
      "[49]\tvalidation_0-error:0.03680\n",
      "[50]\tvalidation_0-error:0.03649\n",
      "[51]\tvalidation_0-error:0.03619\n",
      "[52]\tvalidation_0-error:0.03611\n",
      "[53]\tvalidation_0-error:0.03665\n",
      "[54]\tvalidation_0-error:0.03665\n",
      "[55]\tvalidation_0-error:0.03634\n",
      "[56]\tvalidation_0-error:0.03634\n"
     ]
    },
    {
     "data": {
      "text/plain": [
       "XGBClassifier(base_score=0.5, booster='gbtree', colsample_bylevel=1,\n",
       "              colsample_bynode=1, colsample_bytree=1, enable_categorical=False,\n",
       "              gamma=0, gpu_id=-1, importance_type=None,\n",
       "              interaction_constraints='', learning_rate=0.3, max_delta_step=0,\n",
       "              max_depth=6, min_child_weight=2, missing=nan,\n",
       "              monotone_constraints='()', n_estimators=100, n_jobs=4,\n",
       "              num_parallel_tree=1, predictor='auto', random_state=42,\n",
       "              reg_alpha=0, reg_lambda=1, scale_pos_weight=1, seed=42,\n",
       "              subsample=1, tree_method='exact', use_label_encoder=False,\n",
       "              validate_parameters=1, verbosity=None)"
      ]
     },
     "execution_count": 42,
     "metadata": {},
     "output_type": "execute_result"
    }
   ],
   "source": [
    "# zwiekszamy maksymalną głębokość\n",
    "\n",
    "xgb3 = xgb.XGBClassifier(objective=\"binary:logistic\", seed=42, use_label_encoder=False,\n",
    "                         max_depth=6, min_child_weight=2, learning_rate=0.3)\n",
    "\n",
    "xgb3.fit(X_train_a, y_train_a, verbose=True, early_stopping_rounds=5,\n",
    "         eval_metric=\"error\", eval_set=[(X_val_a, y_val_a)])"
   ]
  },
  {
   "cell_type": "code",
   "execution_count": 43,
   "id": "a06c5720",
   "metadata": {},
   "outputs": [
    {
     "name": "stdout",
     "output_type": "stream",
     "text": [
      "F1-score: 0.9566\n"
     ]
    }
   ],
   "source": [
    "predictions = xgb3.predict(X_test_a)\n",
    "f1 = f1_score(y_test_a, predictions)\n",
    "print('F1-score:', round(f1, 4))"
   ]
  },
  {
   "cell_type": "code",
   "execution_count": 44,
   "id": "54ff3804",
   "metadata": {},
   "outputs": [
    {
     "name": "stdout",
     "output_type": "stream",
     "text": [
      "[0]\tvalidation_0-error:0.08161\n",
      "[1]\tvalidation_0-error:0.07538\n",
      "[2]\tvalidation_0-error:0.06799\n",
      "[3]\tvalidation_0-error:0.06960\n",
      "[4]\tvalidation_0-error:0.06290\n",
      "[5]\tvalidation_0-error:0.06013\n",
      "[6]\tvalidation_0-error:0.05751\n",
      "[7]\tvalidation_0-error:0.05513\n",
      "[8]\tvalidation_0-error:0.05359\n",
      "[9]\tvalidation_0-error:0.05266\n",
      "[10]\tvalidation_0-error:0.05174\n",
      "[11]\tvalidation_0-error:0.05105\n",
      "[12]\tvalidation_0-error:0.05112\n",
      "[13]\tvalidation_0-error:0.05020\n",
      "[14]\tvalidation_0-error:0.04820\n",
      "[15]\tvalidation_0-error:0.04820\n",
      "[16]\tvalidation_0-error:0.04835\n",
      "[17]\tvalidation_0-error:0.04704\n",
      "[18]\tvalidation_0-error:0.04573\n",
      "[19]\tvalidation_0-error:0.04466\n",
      "[20]\tvalidation_0-error:0.04496\n",
      "[21]\tvalidation_0-error:0.04327\n",
      "[22]\tvalidation_0-error:0.04296\n",
      "[23]\tvalidation_0-error:0.04296\n",
      "[24]\tvalidation_0-error:0.04219\n",
      "[25]\tvalidation_0-error:0.04165\n",
      "[26]\tvalidation_0-error:0.04119\n",
      "[27]\tvalidation_0-error:0.04081\n",
      "[28]\tvalidation_0-error:0.04111\n",
      "[29]\tvalidation_0-error:0.04111\n",
      "[30]\tvalidation_0-error:0.04042\n",
      "[31]\tvalidation_0-error:0.03950\n",
      "[32]\tvalidation_0-error:0.03965\n",
      "[33]\tvalidation_0-error:0.03911\n",
      "[34]\tvalidation_0-error:0.03880\n",
      "[35]\tvalidation_0-error:0.03927\n",
      "[36]\tvalidation_0-error:0.03957\n",
      "[37]\tvalidation_0-error:0.03896\n",
      "[38]\tvalidation_0-error:0.03896\n"
     ]
    },
    {
     "data": {
      "text/plain": [
       "XGBClassifier(base_score=0.5, booster='gbtree', colsample_bylevel=1,\n",
       "              colsample_bynode=1, colsample_bytree=1, enable_categorical=False,\n",
       "              gamma=0, gpu_id=-1, importance_type=None,\n",
       "              interaction_constraints='', learning_rate=0.3, max_delta_step=0,\n",
       "              max_depth=6, min_child_weight=10, missing=nan,\n",
       "              monotone_constraints='()', n_estimators=100, n_jobs=4,\n",
       "              num_parallel_tree=1, predictor='auto', random_state=42,\n",
       "              reg_alpha=0, reg_lambda=1, scale_pos_weight=1, seed=42,\n",
       "              subsample=1, tree_method='exact', use_label_encoder=False,\n",
       "              validate_parameters=1, verbosity=None)"
      ]
     },
     "execution_count": 44,
     "metadata": {},
     "output_type": "execute_result"
    }
   ],
   "source": [
    "# zmieniamy min_child_weight\n",
    "\n",
    "xgb4 = xgb.XGBClassifier(objective=\"binary:logistic\", seed=42, use_label_encoder=False,\n",
    "                         max_depth=6, min_child_weight=10, learning_rate=0.3)\n",
    "\n",
    "xgb4.fit(X_train_a, y_train_a, verbose=True, early_stopping_rounds=5,\n",
    "         eval_metric=\"error\", eval_set=[(X_val_a, y_val_a)])"
   ]
  },
  {
   "cell_type": "code",
   "execution_count": 45,
   "id": "4c4386ec",
   "metadata": {},
   "outputs": [
    {
     "name": "stdout",
     "output_type": "stream",
     "text": [
      "F1-score: 0.9554\n"
     ]
    }
   ],
   "source": [
    "predictions = xgb4.predict(X_test_a)\n",
    "f1 = f1_score(y_test_a, predictions)\n",
    "print('F1-score:', round(f1, 4))"
   ]
  },
  {
   "cell_type": "code",
   "execution_count": 46,
   "id": "0a1076ea",
   "metadata": {},
   "outputs": [
    {
     "name": "stdout",
     "output_type": "stream",
     "text": [
      "[0]\tvalidation_0-error:0.05682\n",
      "[1]\tvalidation_0-error:0.05135\n",
      "[2]\tvalidation_0-error:0.04889\n",
      "[3]\tvalidation_0-error:0.04704\n",
      "[4]\tvalidation_0-error:0.04427\n",
      "[5]\tvalidation_0-error:0.04273\n",
      "[6]\tvalidation_0-error:0.04142\n",
      "[7]\tvalidation_0-error:0.04042\n",
      "[8]\tvalidation_0-error:0.04050\n",
      "[9]\tvalidation_0-error:0.03950\n",
      "[10]\tvalidation_0-error:0.03988\n",
      "[11]\tvalidation_0-error:0.03880\n",
      "[12]\tvalidation_0-error:0.03827\n",
      "[13]\tvalidation_0-error:0.03780\n",
      "[14]\tvalidation_0-error:0.03780\n",
      "[15]\tvalidation_0-error:0.03726\n",
      "[16]\tvalidation_0-error:0.03757\n",
      "[17]\tvalidation_0-error:0.03757\n",
      "[18]\tvalidation_0-error:0.03803\n",
      "[19]\tvalidation_0-error:0.03765\n"
     ]
    },
    {
     "data": {
      "text/plain": [
       "XGBClassifier(base_score=0.5, booster='gbtree', colsample_bylevel=1,\n",
       "              colsample_bynode=1, colsample_bytree=1, enable_categorical=False,\n",
       "              gamma=0, gpu_id=-1, importance_type=None,\n",
       "              interaction_constraints='', learning_rate=0.3, max_delta_step=0,\n",
       "              max_depth=10, min_child_weight=1, missing=nan,\n",
       "              monotone_constraints='()', n_estimators=100, n_jobs=4,\n",
       "              num_parallel_tree=1, predictor='auto', random_state=42,\n",
       "              reg_alpha=0, reg_lambda=1, scale_pos_weight=1, seed=42,\n",
       "              subsample=1, tree_method='exact', use_label_encoder=False,\n",
       "              validate_parameters=1, verbosity=None)"
      ]
     },
     "execution_count": 46,
     "metadata": {},
     "output_type": "execute_result"
    }
   ],
   "source": [
    "# zmiana min_child_weight nie zmieniła znacząco wyniku, zwiększmy jeszcze raz max_depth\n",
    "\n",
    "xgb5 = xgb.XGBClassifier(objective=\"binary:logistic\", seed=42, use_label_encoder=False,\n",
    "                         max_depth=10, min_child_weight=1, learning_rate=0.3)\n",
    "\n",
    "xgb5.fit(X_train_a, y_train_a, verbose=True, early_stopping_rounds=5,\n",
    "         eval_metric=\"error\", eval_set=[(X_val_a, y_val_a)])"
   ]
  },
  {
   "cell_type": "code",
   "execution_count": 47,
   "id": "97dfb7be",
   "metadata": {},
   "outputs": [
    {
     "name": "stdout",
     "output_type": "stream",
     "text": [
      "F1-score: 0.9561\n"
     ]
    }
   ],
   "source": [
    "predictions = xgb5.predict(X_test_a)\n",
    "f1 = f1_score(y_test_a, predictions)\n",
    "print('F1-score:', round(f1, 4))"
   ]
  },
  {
   "cell_type": "code",
   "execution_count": 48,
   "id": "8f90b8ff",
   "metadata": {},
   "outputs": [
    {
     "name": "stdout",
     "output_type": "stream",
     "text": [
      "F1-score: 0.9577\n",
      "Accuracy: 0.9639\n"
     ]
    }
   ],
   "source": [
    "# Najlepszy F1 uzyskaliśmy na xgb3, sprawdzamy go na zbiorze testowym\n",
    "\n",
    "predictions = xgb3.predict(X_val_a)\n",
    "f1 = f1_score(y_val_a, predictions)\n",
    "print('F1-score:', round(f1, 4))\n",
    "acc = accuracy_score(y_val_a, predictions)\n",
    "print('Accuracy:', round(acc, 4))"
   ]
  },
  {
   "cell_type": "markdown",
   "id": "caf898b1",
   "metadata": {},
   "source": [
    "Uzyskane wyniki są trochę lepsze niż w przypadku Random Forest."
   ]
  }
 ],
 "metadata": {
  "kernelspec": {
   "display_name": "Python 3 (ipykernel)",
   "language": "python",
   "name": "python3"
  },
  "language_info": {
   "codemirror_mode": {
    "name": "ipython",
    "version": 3
   },
   "file_extension": ".py",
   "mimetype": "text/x-python",
   "name": "python",
   "nbconvert_exporter": "python",
   "pygments_lexer": "ipython3",
   "version": "3.9.7"
  }
 },
 "nbformat": 4,
 "nbformat_minor": 5
}
