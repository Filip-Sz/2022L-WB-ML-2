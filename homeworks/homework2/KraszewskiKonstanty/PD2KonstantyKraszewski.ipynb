{
 "cells": [
  {
   "cell_type": "markdown",
   "metadata": {},
   "source": [
    "# Praca domowa 2\n",
    "\n",
    "## Konstanty Kraszewski\n",
    "\n",
    "Przetestowanie modeli `Random Forest` oraz `XGBoost` na przykładowych zadaniach regresji i klasyfikacji."
   ]
  },
  {
   "cell_type": "code",
   "execution_count": 1,
   "metadata": {},
   "outputs": [],
   "source": [
    "import pandas as pd\n",
    "import matplotlib.pyplot as plt\n",
    "from sklearn.model_selection import train_test_split\n",
    "from sklearn.metrics import accuracy_score, mean_squared_error, r2_score\n",
    "from sklearn.preprocessing import LabelEncoder\n",
    "from sklearn.ensemble import RandomForestClassifier, RandomForestRegressor\n",
    "from xgboost import XGBClassifier, XGBRegressor"
   ]
  },
  {
   "cell_type": "code",
   "execution_count": 2,
   "metadata": {},
   "outputs": [],
   "source": [
    "aps_train = pd.read_csv('../data/airline_passenger_satisfaction/train.csv', index_col=0)\n",
    "aps_test = pd.read_csv('../data/airline_passenger_satisfaction/test.csv', index_col=0)\n",
    "cpp = pd.read_csv('../data/car_prices_poland/Car_Prices_Poland.csv', index_col=0)"
   ]
  },
  {
   "cell_type": "markdown",
   "metadata": {},
   "source": [
    "## Airline passenger satisfaction"
   ]
  },
  {
   "cell_type": "code",
   "execution_count": 3,
   "metadata": {},
   "outputs": [
    {
     "data": {
      "text/html": [
       "<div>\n",
       "<style scoped>\n",
       "    .dataframe tbody tr th:only-of-type {\n",
       "        vertical-align: middle;\n",
       "    }\n",
       "\n",
       "    .dataframe tbody tr th {\n",
       "        vertical-align: top;\n",
       "    }\n",
       "\n",
       "    .dataframe thead th {\n",
       "        text-align: right;\n",
       "    }\n",
       "</style>\n",
       "<table border=\"1\" class=\"dataframe\">\n",
       "  <thead>\n",
       "    <tr style=\"text-align: right;\">\n",
       "      <th></th>\n",
       "      <th>id</th>\n",
       "      <th>Gender</th>\n",
       "      <th>Customer Type</th>\n",
       "      <th>Age</th>\n",
       "      <th>Type of Travel</th>\n",
       "      <th>Class</th>\n",
       "      <th>Flight Distance</th>\n",
       "      <th>Inflight wifi service</th>\n",
       "      <th>Departure/Arrival time convenient</th>\n",
       "      <th>Ease of Online booking</th>\n",
       "      <th>...</th>\n",
       "      <th>Inflight entertainment</th>\n",
       "      <th>On-board service</th>\n",
       "      <th>Leg room service</th>\n",
       "      <th>Baggage handling</th>\n",
       "      <th>Checkin service</th>\n",
       "      <th>Inflight service</th>\n",
       "      <th>Cleanliness</th>\n",
       "      <th>Departure Delay in Minutes</th>\n",
       "      <th>Arrival Delay in Minutes</th>\n",
       "      <th>satisfaction</th>\n",
       "    </tr>\n",
       "  </thead>\n",
       "  <tbody>\n",
       "    <tr>\n",
       "      <th>0</th>\n",
       "      <td>70172</td>\n",
       "      <td>Male</td>\n",
       "      <td>Loyal Customer</td>\n",
       "      <td>13</td>\n",
       "      <td>Personal Travel</td>\n",
       "      <td>Eco Plus</td>\n",
       "      <td>460</td>\n",
       "      <td>3</td>\n",
       "      <td>4</td>\n",
       "      <td>3</td>\n",
       "      <td>...</td>\n",
       "      <td>5</td>\n",
       "      <td>4</td>\n",
       "      <td>3</td>\n",
       "      <td>4</td>\n",
       "      <td>4</td>\n",
       "      <td>5</td>\n",
       "      <td>5</td>\n",
       "      <td>25</td>\n",
       "      <td>18.0</td>\n",
       "      <td>neutral or dissatisfied</td>\n",
       "    </tr>\n",
       "    <tr>\n",
       "      <th>1</th>\n",
       "      <td>5047</td>\n",
       "      <td>Male</td>\n",
       "      <td>disloyal Customer</td>\n",
       "      <td>25</td>\n",
       "      <td>Business travel</td>\n",
       "      <td>Business</td>\n",
       "      <td>235</td>\n",
       "      <td>3</td>\n",
       "      <td>2</td>\n",
       "      <td>3</td>\n",
       "      <td>...</td>\n",
       "      <td>1</td>\n",
       "      <td>1</td>\n",
       "      <td>5</td>\n",
       "      <td>3</td>\n",
       "      <td>1</td>\n",
       "      <td>4</td>\n",
       "      <td>1</td>\n",
       "      <td>1</td>\n",
       "      <td>6.0</td>\n",
       "      <td>neutral or dissatisfied</td>\n",
       "    </tr>\n",
       "    <tr>\n",
       "      <th>2</th>\n",
       "      <td>110028</td>\n",
       "      <td>Female</td>\n",
       "      <td>Loyal Customer</td>\n",
       "      <td>26</td>\n",
       "      <td>Business travel</td>\n",
       "      <td>Business</td>\n",
       "      <td>1142</td>\n",
       "      <td>2</td>\n",
       "      <td>2</td>\n",
       "      <td>2</td>\n",
       "      <td>...</td>\n",
       "      <td>5</td>\n",
       "      <td>4</td>\n",
       "      <td>3</td>\n",
       "      <td>4</td>\n",
       "      <td>4</td>\n",
       "      <td>4</td>\n",
       "      <td>5</td>\n",
       "      <td>0</td>\n",
       "      <td>0.0</td>\n",
       "      <td>satisfied</td>\n",
       "    </tr>\n",
       "    <tr>\n",
       "      <th>3</th>\n",
       "      <td>24026</td>\n",
       "      <td>Female</td>\n",
       "      <td>Loyal Customer</td>\n",
       "      <td>25</td>\n",
       "      <td>Business travel</td>\n",
       "      <td>Business</td>\n",
       "      <td>562</td>\n",
       "      <td>2</td>\n",
       "      <td>5</td>\n",
       "      <td>5</td>\n",
       "      <td>...</td>\n",
       "      <td>2</td>\n",
       "      <td>2</td>\n",
       "      <td>5</td>\n",
       "      <td>3</td>\n",
       "      <td>1</td>\n",
       "      <td>4</td>\n",
       "      <td>2</td>\n",
       "      <td>11</td>\n",
       "      <td>9.0</td>\n",
       "      <td>neutral or dissatisfied</td>\n",
       "    </tr>\n",
       "    <tr>\n",
       "      <th>4</th>\n",
       "      <td>119299</td>\n",
       "      <td>Male</td>\n",
       "      <td>Loyal Customer</td>\n",
       "      <td>61</td>\n",
       "      <td>Business travel</td>\n",
       "      <td>Business</td>\n",
       "      <td>214</td>\n",
       "      <td>3</td>\n",
       "      <td>3</td>\n",
       "      <td>3</td>\n",
       "      <td>...</td>\n",
       "      <td>3</td>\n",
       "      <td>3</td>\n",
       "      <td>4</td>\n",
       "      <td>4</td>\n",
       "      <td>3</td>\n",
       "      <td>3</td>\n",
       "      <td>3</td>\n",
       "      <td>0</td>\n",
       "      <td>0.0</td>\n",
       "      <td>satisfied</td>\n",
       "    </tr>\n",
       "  </tbody>\n",
       "</table>\n",
       "<p>5 rows × 24 columns</p>\n",
       "</div>"
      ],
      "text/plain": [
       "       id  Gender      Customer Type  Age   Type of Travel     Class  \\\n",
       "0   70172    Male     Loyal Customer   13  Personal Travel  Eco Plus   \n",
       "1    5047    Male  disloyal Customer   25  Business travel  Business   \n",
       "2  110028  Female     Loyal Customer   26  Business travel  Business   \n",
       "3   24026  Female     Loyal Customer   25  Business travel  Business   \n",
       "4  119299    Male     Loyal Customer   61  Business travel  Business   \n",
       "\n",
       "   Flight Distance  Inflight wifi service  Departure/Arrival time convenient  \\\n",
       "0              460                      3                                  4   \n",
       "1              235                      3                                  2   \n",
       "2             1142                      2                                  2   \n",
       "3              562                      2                                  5   \n",
       "4              214                      3                                  3   \n",
       "\n",
       "   Ease of Online booking  ...  Inflight entertainment  On-board service  \\\n",
       "0                       3  ...                       5                 4   \n",
       "1                       3  ...                       1                 1   \n",
       "2                       2  ...                       5                 4   \n",
       "3                       5  ...                       2                 2   \n",
       "4                       3  ...                       3                 3   \n",
       "\n",
       "   Leg room service  Baggage handling  Checkin service  Inflight service  \\\n",
       "0                 3                 4                4                 5   \n",
       "1                 5                 3                1                 4   \n",
       "2                 3                 4                4                 4   \n",
       "3                 5                 3                1                 4   \n",
       "4                 4                 4                3                 3   \n",
       "\n",
       "   Cleanliness  Departure Delay in Minutes  Arrival Delay in Minutes  \\\n",
       "0            5                          25                      18.0   \n",
       "1            1                           1                       6.0   \n",
       "2            5                           0                       0.0   \n",
       "3            2                          11                       9.0   \n",
       "4            3                           0                       0.0   \n",
       "\n",
       "              satisfaction  \n",
       "0  neutral or dissatisfied  \n",
       "1  neutral or dissatisfied  \n",
       "2                satisfied  \n",
       "3  neutral or dissatisfied  \n",
       "4                satisfied  \n",
       "\n",
       "[5 rows x 24 columns]"
      ]
     },
     "execution_count": 3,
     "metadata": {},
     "output_type": "execute_result"
    }
   ],
   "source": [
    "aps_train.head()"
   ]
  },
  {
   "cell_type": "code",
   "execution_count": 4,
   "metadata": {},
   "outputs": [],
   "source": [
    "data = [aps_train, aps_test]\n",
    "for i, d in enumerate(data):\n",
    "    d['Gender'] = (d['Gender'] == 'Male') * 1\n",
    "    d['Customer Type'] = (d['Customer Type'] == 'Loyal Customer') * 1\n",
    "    d['Type of Travel'] = (d['Type of Travel'] == 'Personal Travel') * 1\n",
    "    d['satisfaction'] = (d['satisfaction'] == 'satisfied') * 1\n",
    "    d['Class_Eco_Plus'] = (d['Class'] == 'Eco Plus') * 1\n",
    "    d['Class_Business'] = (d['Class'] == 'Business') * 1\n",
    "    d.loc[d['Arrival Delay in Minutes'].isna(), 'Arrival Delay in Minutes'] = d['Arrival Delay in Minutes'].mean()\n",
    "    d.drop(['id', 'Class'], axis = 1, inplace = True)"
   ]
  },
  {
   "cell_type": "code",
   "execution_count": 5,
   "metadata": {
    "scrolled": true
   },
   "outputs": [],
   "source": [
    "X_train_val = aps_train[aps_train.columns[aps_train.columns != 'satisfaction']]\n",
    "y_train_val = aps_train['satisfaction']\n",
    "X_train, X_val, y_train, y_val = train_test_split(X_train_val, y_train_val, test_size=0.25, random_state=123)\n",
    "X_test = aps_test[aps_test.columns[aps_test.columns != 'satisfaction']]\n",
    "y_test = aps_test['satisfaction']"
   ]
  },
  {
   "cell_type": "markdown",
   "metadata": {},
   "source": [
    "### RandomForestClassifier"
   ]
  },
  {
   "cell_type": "code",
   "execution_count": 6,
   "metadata": {},
   "outputs": [
    {
     "name": "stdout",
     "output_type": "stream",
     "text": [
      "------------ (n_estimators= 5, max_depth= 2)\n",
      "Accuracy: 0.84\n",
      "RMSE:     0.40\n",
      "\n",
      "------------ (n_estimators= 5, max_depth= 5)\n",
      "Accuracy: 0.90\n",
      "RMSE:     0.31\n",
      "\n",
      "------------ (n_estimators= 5, max_depth= 8)\n",
      "Accuracy: 0.94\n",
      "RMSE:     0.25\n",
      "\n",
      "------------ (n_estimators=25, max_depth= 2)\n",
      "Accuracy: 0.88\n",
      "RMSE:     0.35\n",
      "\n",
      "------------ (n_estimators=25, max_depth= 5)\n",
      "Accuracy: 0.92\n",
      "RMSE:     0.28\n",
      "\n",
      "------------ (n_estimators=25, max_depth= 8)\n",
      "Accuracy: 0.94\n",
      "RMSE:     0.25\n",
      "\n",
      "------------ (n_estimators=50, max_depth= 2)\n",
      "Accuracy: 0.87\n",
      "RMSE:     0.35\n",
      "\n",
      "------------ (n_estimators=50, max_depth= 5)\n",
      "Accuracy: 0.92\n",
      "RMSE:     0.28\n",
      "\n",
      "------------ (n_estimators=50, max_depth= 8)\n",
      "Accuracy: 0.94\n",
      "RMSE:     0.25\n",
      "\n"
     ]
    }
   ],
   "source": [
    "best_parameters = [[0, 0], [0 ,0]]\n",
    "best_accuracy = 0\n",
    "best_rmse = float('inf')\n",
    "for n_estimators in [5, 25, 50]:\n",
    "    for max_depth in [2, 5, 8]:\n",
    "        rfc = RandomForestClassifier(random_state=123, n_estimators=n_estimators, max_depth=max_depth)\n",
    "        rfc.fit(X_train, y_train)\n",
    "        print(f\"------------ (n_estimators={n_estimators:2d}, max_depth={max_depth:2d})\")\n",
    "        accuracy = accuracy_score(y_val, rfc.predict(X_val))\n",
    "        print(f\"Accuracy: {accuracy:.2f}\")\n",
    "        rmse = mean_squared_error(y_val, rfc.predict(X_val), squared = False)\n",
    "        print(f\"RMSE:     {rmse:.2f}\\n\")\n",
    "        if accuracy > best_accuracy:\n",
    "            best_accuracy = accuracy\n",
    "            best_parameters[0] = [n_estimators, max_depth]\n",
    "        if rmse < best_rmse:\n",
    "            best_rmse = rmse\n",
    "            best_parameters[1] = [n_estimators, max_depth]"
   ]
  },
  {
   "cell_type": "markdown",
   "metadata": {},
   "source": [
    "Widać, że zarówno zwiększanie liczby estymatorów, jak i maksymalnej głębokości prowadzi do polepszenia wyników modelu (przynajmniej dla wybranych przykładowych wartości)."
   ]
  },
  {
   "cell_type": "code",
   "execution_count": 7,
   "metadata": {},
   "outputs": [
    {
     "name": "stdout",
     "output_type": "stream",
     "text": [
      "Best parameters (accuracy=0.94): n_estimators=50, max_depth=8.\n",
      "Best parameters (RMSE=0.25):     n_estimators=50, max_depth=8.\n"
     ]
    }
   ],
   "source": [
    "print(f\"Best parameters (accuracy={best_accuracy:.2f}): n_estimators={best_parameters[0][0]}, max_depth={best_parameters[0][1]}.\")\n",
    "print(f\"Best parameters (RMSE={best_rmse:.2f}):     n_estimators={best_parameters[1][0]}, max_depth={best_parameters[1][1]}.\")"
   ]
  },
  {
   "cell_type": "markdown",
   "metadata": {},
   "source": [
    "W przypadku obydwu metryk najlepsze wyniki zostały osiągnięte dla tych samych parametrów."
   ]
  },
  {
   "cell_type": "code",
   "execution_count": 8,
   "metadata": {},
   "outputs": [
    {
     "name": "stdout",
     "output_type": "stream",
     "text": [
      "Ostateczne wyniki modelu na zbiorze testowym:\n",
      "accuracy: 0.94,\n",
      "RMSE:     0.25.\n"
     ]
    }
   ],
   "source": [
    "rfc = RandomForestClassifier(random_state=123, n_estimators=50, max_depth=8)\n",
    "rfc.fit(X_train, y_train)\n",
    "print(\"Ostateczne wyniki modelu na zbiorze testowym:\")\n",
    "accuracy = accuracy_score(y_test, rfc.predict(X_test))\n",
    "print(f\"accuracy: {accuracy:.2f},\")\n",
    "rmse = mean_squared_error(y_test, rfc.predict(X_test), squared = False)\n",
    "print(f\"RMSE:     {rmse:.2f}.\")"
   ]
  },
  {
   "cell_type": "markdown",
   "metadata": {},
   "source": [
    "### XGBClassifier"
   ]
  },
  {
   "cell_type": "code",
   "execution_count": 9,
   "metadata": {},
   "outputs": [
    {
     "name": "stdout",
     "output_type": "stream",
     "text": [
      "Ostateczne wyniki modelu na zbiorze testowym:\n",
      "accuracy: 0.96,\n",
      "RMSE:     0.19.\n"
     ]
    }
   ],
   "source": [
    "xgbc = XGBClassifier(objective=\"binary:logistic\", seed = 123, use_label_encoder=False)\n",
    "xgbc.fit(X_train, y_train, verbose=False, early_stopping_rounds=15, eval_metric=\"error\", eval_set=[(X_val, y_val)])\n",
    "print(\"Ostateczne wyniki modelu na zbiorze testowym:\")\n",
    "accuracy = accuracy_score(y_test, xgbc.predict(X_test))\n",
    "print(f\"accuracy: {accuracy:.2f},\")\n",
    "rmse = mean_squared_error(y_test, xgbc.predict(X_test), squared = False)\n",
    "print(f\"RMSE:     {rmse:.2f}.\")"
   ]
  },
  {
   "cell_type": "markdown",
   "metadata": {},
   "source": [
    "## Car prices Poland"
   ]
  },
  {
   "cell_type": "code",
   "execution_count": 10,
   "metadata": {},
   "outputs": [
    {
     "data": {
      "text/html": [
       "<div>\n",
       "<style scoped>\n",
       "    .dataframe tbody tr th:only-of-type {\n",
       "        vertical-align: middle;\n",
       "    }\n",
       "\n",
       "    .dataframe tbody tr th {\n",
       "        vertical-align: top;\n",
       "    }\n",
       "\n",
       "    .dataframe thead th {\n",
       "        text-align: right;\n",
       "    }\n",
       "</style>\n",
       "<table border=\"1\" class=\"dataframe\">\n",
       "  <thead>\n",
       "    <tr style=\"text-align: right;\">\n",
       "      <th></th>\n",
       "      <th>mark</th>\n",
       "      <th>model</th>\n",
       "      <th>generation_name</th>\n",
       "      <th>year</th>\n",
       "      <th>mileage</th>\n",
       "      <th>vol_engine</th>\n",
       "      <th>fuel</th>\n",
       "      <th>city</th>\n",
       "      <th>province</th>\n",
       "      <th>price</th>\n",
       "    </tr>\n",
       "  </thead>\n",
       "  <tbody>\n",
       "    <tr>\n",
       "      <th>0</th>\n",
       "      <td>opel</td>\n",
       "      <td>combo</td>\n",
       "      <td>gen-d-2011</td>\n",
       "      <td>2015</td>\n",
       "      <td>139568</td>\n",
       "      <td>1248</td>\n",
       "      <td>Diesel</td>\n",
       "      <td>Janki</td>\n",
       "      <td>Mazowieckie</td>\n",
       "      <td>35900</td>\n",
       "    </tr>\n",
       "    <tr>\n",
       "      <th>1</th>\n",
       "      <td>opel</td>\n",
       "      <td>combo</td>\n",
       "      <td>gen-d-2011</td>\n",
       "      <td>2018</td>\n",
       "      <td>31991</td>\n",
       "      <td>1499</td>\n",
       "      <td>Diesel</td>\n",
       "      <td>Katowice</td>\n",
       "      <td>Śląskie</td>\n",
       "      <td>78501</td>\n",
       "    </tr>\n",
       "    <tr>\n",
       "      <th>2</th>\n",
       "      <td>opel</td>\n",
       "      <td>combo</td>\n",
       "      <td>gen-d-2011</td>\n",
       "      <td>2015</td>\n",
       "      <td>278437</td>\n",
       "      <td>1598</td>\n",
       "      <td>Diesel</td>\n",
       "      <td>Brzeg</td>\n",
       "      <td>Opolskie</td>\n",
       "      <td>27000</td>\n",
       "    </tr>\n",
       "    <tr>\n",
       "      <th>3</th>\n",
       "      <td>opel</td>\n",
       "      <td>combo</td>\n",
       "      <td>gen-d-2011</td>\n",
       "      <td>2016</td>\n",
       "      <td>47600</td>\n",
       "      <td>1248</td>\n",
       "      <td>Diesel</td>\n",
       "      <td>Korfantów</td>\n",
       "      <td>Opolskie</td>\n",
       "      <td>30800</td>\n",
       "    </tr>\n",
       "    <tr>\n",
       "      <th>4</th>\n",
       "      <td>opel</td>\n",
       "      <td>combo</td>\n",
       "      <td>gen-d-2011</td>\n",
       "      <td>2014</td>\n",
       "      <td>103000</td>\n",
       "      <td>1400</td>\n",
       "      <td>CNG</td>\n",
       "      <td>Tarnowskie Góry</td>\n",
       "      <td>Śląskie</td>\n",
       "      <td>35900</td>\n",
       "    </tr>\n",
       "  </tbody>\n",
       "</table>\n",
       "</div>"
      ],
      "text/plain": [
       "   mark  model generation_name  year  mileage  vol_engine    fuel  \\\n",
       "0  opel  combo      gen-d-2011  2015   139568        1248  Diesel   \n",
       "1  opel  combo      gen-d-2011  2018    31991        1499  Diesel   \n",
       "2  opel  combo      gen-d-2011  2015   278437        1598  Diesel   \n",
       "3  opel  combo      gen-d-2011  2016    47600        1248  Diesel   \n",
       "4  opel  combo      gen-d-2011  2014   103000        1400     CNG   \n",
       "\n",
       "              city     province  price  \n",
       "0            Janki  Mazowieckie  35900  \n",
       "1         Katowice      Śląskie  78501  \n",
       "2            Brzeg     Opolskie  27000  \n",
       "3        Korfantów     Opolskie  30800  \n",
       "4  Tarnowskie Góry      Śląskie  35900  "
      ]
     },
     "execution_count": 10,
     "metadata": {},
     "output_type": "execute_result"
    }
   ],
   "source": [
    "cpp.head()"
   ]
  },
  {
   "cell_type": "code",
   "execution_count": 11,
   "metadata": {},
   "outputs": [],
   "source": [
    "cpp['mark'] = LabelEncoder().fit_transform(cpp['mark'])\n",
    "cpp['province'] = LabelEncoder().fit_transform(cpp['province'])\n",
    "encoded = pd.get_dummies(cpp[[\"fuel\"]].astype(str))\n",
    "encoded = encoded.drop(\"fuel_Electric\", axis = 1)\n",
    "cpp = pd.concat([cpp, encoded], axis = 1)\n",
    "cpp.drop(['model', 'generation_name', 'fuel', 'city'], axis = 1, inplace = True)"
   ]
  },
  {
   "cell_type": "code",
   "execution_count": 12,
   "metadata": {
    "scrolled": true
   },
   "outputs": [],
   "source": [
    "X = cpp[cpp.columns[cpp.columns != 'price']]\n",
    "y = cpp['price']\n",
    "X_train_val, X_test, y_train_val, y_test = train_test_split(X, y, test_size=0.2, random_state=123)\n",
    "X_train, X_val, y_train, y_val = train_test_split(X_train_val, y_train_val, test_size=0.25, random_state=123)"
   ]
  },
  {
   "cell_type": "markdown",
   "metadata": {},
   "source": [
    "### RandomForestRegressor"
   ]
  },
  {
   "cell_type": "code",
   "execution_count": 13,
   "metadata": {},
   "outputs": [
    {
     "name": "stdout",
     "output_type": "stream",
     "text": [
      "------------ (n_estimators= 5, max_depth= 2)\n",
      "R^2:   0.60\n",
      "RMSE:  53829.80\n",
      "\n",
      "------------ (n_estimators= 5, max_depth= 5)\n",
      "R^2:   0.80\n",
      "RMSE:  37624.55\n",
      "\n",
      "------------ (n_estimators= 5, max_depth= 8)\n",
      "R^2:   0.84\n",
      "RMSE:  33693.23\n",
      "\n",
      "------------ (n_estimators=25, max_depth= 2)\n",
      "R^2:   0.59\n",
      "RMSE:  54459.37\n",
      "\n",
      "------------ (n_estimators=25, max_depth= 5)\n",
      "R^2:   0.80\n",
      "RMSE:  37877.44\n",
      "\n",
      "------------ (n_estimators=25, max_depth= 8)\n",
      "R^2:   0.85\n",
      "RMSE:  33383.63\n",
      "\n",
      "------------ (n_estimators=50, max_depth= 2)\n",
      "R^2:   0.59\n",
      "RMSE:  54459.46\n",
      "\n",
      "------------ (n_estimators=50, max_depth= 5)\n",
      "R^2:   0.80\n",
      "RMSE:  37728.68\n",
      "\n",
      "------------ (n_estimators=50, max_depth= 8)\n",
      "R^2:   0.85\n",
      "RMSE:  33122.26\n",
      "\n"
     ]
    }
   ],
   "source": [
    "best_parameters = [[0, 0], [0 ,0]]\n",
    "best_r2 = 0\n",
    "best_rmse = float('inf')\n",
    "for n_estimators in [5, 25, 50]:\n",
    "    for max_depth in [2, 5, 8]:\n",
    "        rfc = RandomForestRegressor(random_state=123, n_estimators=n_estimators, max_depth=max_depth)\n",
    "        rfc.fit(X_train, y_train)\n",
    "        print(f\"------------ (n_estimators={n_estimators:2d}, max_depth={max_depth:2d})\")\n",
    "        r2 = r2_score(y_val, rfc.predict(X_val))\n",
    "        print(f\"R^2:   {r2:.2f}\")\n",
    "        rmse = mean_squared_error(y_val, rfc.predict(X_val), squared = False)\n",
    "        print(f\"RMSE:  {rmse:.2f}\\n\")\n",
    "        if r2 > best_r2:\n",
    "            best_r2 = r2\n",
    "            best_parameters[0] = [n_estimators, max_depth]\n",
    "        if rmse < best_rmse:\n",
    "            best_rmse = rmse\n",
    "            best_parameters[1] = [n_estimators, max_depth]"
   ]
  },
  {
   "cell_type": "markdown",
   "metadata": {},
   "source": [
    "O ile w tym przypadku zwiększanie liczby estymatorów również prowadzi do polepszenia wyników modelu, to przy zmianie maksymalnej głębokości nie jest to już tak widoczne."
   ]
  },
  {
   "cell_type": "code",
   "execution_count": 14,
   "metadata": {},
   "outputs": [
    {
     "name": "stdout",
     "output_type": "stream",
     "text": [
      "Best parameters (R^2=0.85):     n_estimators=50, max_depth=8.\n",
      "Best parameters (RMSE=33122.26):  n_estimators=50, max_depth=8.\n"
     ]
    }
   ],
   "source": [
    "print(f\"Best parameters (R^2={best_r2:.2f}):     n_estimators={best_parameters[0][0]}, max_depth={best_parameters[0][1]}.\")\n",
    "print(f\"Best parameters (RMSE={best_rmse:.2f}):  n_estimators={best_parameters[1][0]}, max_depth={best_parameters[1][1]}.\")"
   ]
  },
  {
   "cell_type": "markdown",
   "metadata": {},
   "source": [
    "Również tutaj dla obydwu metryk uzyskujemy te same parametry."
   ]
  },
  {
   "cell_type": "code",
   "execution_count": 15,
   "metadata": {},
   "outputs": [
    {
     "name": "stdout",
     "output_type": "stream",
     "text": [
      "Ostateczne wyniki modelu na zbiorze testowym:\n",
      "R^2:    0.87,\n",
      "RMSE:   30545.16.\n"
     ]
    }
   ],
   "source": [
    "rfc = RandomForestRegressor(random_state=123, n_estimators=50, max_depth=8)\n",
    "rfc.fit(X_train, y_train)\n",
    "print(\"Ostateczne wyniki modelu na zbiorze testowym:\")\n",
    "r2 = r2_score(y_test, rfc.predict(X_test))\n",
    "print(f\"R^2:    {r2:.2f},\")\n",
    "rmse = mean_squared_error(y_test, rfc.predict(X_test), squared = False)\n",
    "print(f\"RMSE:   {rmse:.2f}.\")"
   ]
  },
  {
   "cell_type": "markdown",
   "metadata": {},
   "source": [
    "### XGBRegressor"
   ]
  },
  {
   "cell_type": "code",
   "execution_count": 16,
   "metadata": {},
   "outputs": [
    {
     "name": "stdout",
     "output_type": "stream",
     "text": [
      "Ostateczne wyniki modelu na zbiorze testowym:\n",
      "R^2:   0.91,\n",
      "RMSE:  26385.20.\n"
     ]
    }
   ],
   "source": [
    "xgbc = XGBRegressor(objective=\"reg:squarederror\", seed = 123, use_label_encoder=False)\n",
    "xgbc.fit(X_train, y_train, verbose=False, early_stopping_rounds=15, eval_set=[(X_val, y_val)])\n",
    "print(\"Ostateczne wyniki modelu na zbiorze testowym:\")\n",
    "r2 = r2_score(y_test, xgbc.predict(X_test))\n",
    "print(f\"R^2:   {r2:.2f},\")\n",
    "rmse = mean_squared_error(y_test, xgbc.predict(X_test), squared = False)\n",
    "print(f\"RMSE:  {rmse:.2f}.\")"
   ]
  },
  {
   "cell_type": "markdown",
   "metadata": {},
   "source": [
    "## Podsumowanie\n",
    "\n",
    "Jak widać XGBoost osiągnął lepsze wyniki od lasu losowego zarówno dla zadania klasyfikacji, jak i regresji."
   ]
  }
 ],
 "metadata": {
  "kernelspec": {
   "display_name": "Python 3",
   "language": "python",
   "name": "python3"
  },
  "language_info": {
   "codemirror_mode": {
    "name": "ipython",
    "version": 3
   },
   "file_extension": ".py",
   "mimetype": "text/x-python",
   "name": "python",
   "nbconvert_exporter": "python",
   "pygments_lexer": "ipython3",
   "version": "3.8.5"
  }
 },
 "nbformat": 4,
 "nbformat_minor": 4
}
