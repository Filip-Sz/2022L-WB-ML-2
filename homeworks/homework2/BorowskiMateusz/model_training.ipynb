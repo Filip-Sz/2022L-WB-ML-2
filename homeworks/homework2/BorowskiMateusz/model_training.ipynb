{
 "cells": [
  {
   "cell_type": "code",
   "execution_count": 376,
   "metadata": {},
   "outputs": [],
   "source": [
    "import numpy as np\n",
    "import pandas as pd\n",
    "import matplotlib.pyplot as plt\n",
    "import seaborn as sns\n",
    "\n",
    "import xgboost as xgb\n",
    "\n",
    "from sklearn.model_selection import train_test_split\n",
    "from sklearn.impute import SimpleImputer\n",
    "from sklearn.preprocessing import OneHotEncoder, StandardScaler, LabelEncoder\n",
    "from sklearn.compose import ColumnTransformer\n",
    "from sklearn.pipeline import Pipeline\n",
    "from sklearn.ensemble import RandomForestClassifier, RandomForestRegressor\n",
    "from sklearn.metrics import recall_score, accuracy_score, f1_score, roc_curve, confusion_matrix, mean_squared_error\n",
    "\n",
    "from collections import defaultdict\n",
    "\n",
    "sns.set()"
   ]
  },
  {
   "cell_type": "markdown",
   "metadata": {},
   "source": [
    "## Klasyfikacja"
   ]
  },
  {
   "cell_type": "code",
   "execution_count": 377,
   "metadata": {},
   "outputs": [],
   "source": [
    "train_df = pd.read_csv(\n",
    "    '../data/airline_passenger_satisfaction/train.csv', index_col=0)\n",
    "test_df = pd.read_csv(\n",
    "    '../data/airline_passenger_satisfaction/test.csv', index_col=0)\n"
   ]
  },
  {
   "cell_type": "code",
   "execution_count": 378,
   "metadata": {},
   "outputs": [],
   "source": [
    "train_df, val_df = train_test_split(train_df, random_state=710, test_size=0.2)"
   ]
  },
  {
   "cell_type": "code",
   "execution_count": 379,
   "metadata": {},
   "outputs": [
    {
     "data": {
      "text/html": [
       "<div>\n",
       "<style scoped>\n",
       "    .dataframe tbody tr th:only-of-type {\n",
       "        vertical-align: middle;\n",
       "    }\n",
       "\n",
       "    .dataframe tbody tr th {\n",
       "        vertical-align: top;\n",
       "    }\n",
       "\n",
       "    .dataframe thead th {\n",
       "        text-align: right;\n",
       "    }\n",
       "</style>\n",
       "<table border=\"1\" class=\"dataframe\">\n",
       "  <thead>\n",
       "    <tr style=\"text-align: right;\">\n",
       "      <th></th>\n",
       "      <th>id</th>\n",
       "      <th>Gender</th>\n",
       "      <th>Customer Type</th>\n",
       "      <th>Age</th>\n",
       "      <th>Type of Travel</th>\n",
       "      <th>Class</th>\n",
       "      <th>Flight Distance</th>\n",
       "      <th>Inflight wifi service</th>\n",
       "      <th>Departure/Arrival time convenient</th>\n",
       "      <th>Ease of Online booking</th>\n",
       "      <th>...</th>\n",
       "      <th>Inflight entertainment</th>\n",
       "      <th>On-board service</th>\n",
       "      <th>Leg room service</th>\n",
       "      <th>Baggage handling</th>\n",
       "      <th>Checkin service</th>\n",
       "      <th>Inflight service</th>\n",
       "      <th>Cleanliness</th>\n",
       "      <th>Departure Delay in Minutes</th>\n",
       "      <th>Arrival Delay in Minutes</th>\n",
       "      <th>satisfaction</th>\n",
       "    </tr>\n",
       "  </thead>\n",
       "  <tbody>\n",
       "    <tr>\n",
       "      <th>56437</th>\n",
       "      <td>115299</td>\n",
       "      <td>Female</td>\n",
       "      <td>Loyal Customer</td>\n",
       "      <td>39</td>\n",
       "      <td>Business travel</td>\n",
       "      <td>Business</td>\n",
       "      <td>325</td>\n",
       "      <td>1</td>\n",
       "      <td>1</td>\n",
       "      <td>3</td>\n",
       "      <td>...</td>\n",
       "      <td>4</td>\n",
       "      <td>4</td>\n",
       "      <td>4</td>\n",
       "      <td>4</td>\n",
       "      <td>4</td>\n",
       "      <td>4</td>\n",
       "      <td>3</td>\n",
       "      <td>1</td>\n",
       "      <td>1.0</td>\n",
       "      <td>satisfied</td>\n",
       "    </tr>\n",
       "    <tr>\n",
       "      <th>7268</th>\n",
       "      <td>91149</td>\n",
       "      <td>Male</td>\n",
       "      <td>Loyal Customer</td>\n",
       "      <td>28</td>\n",
       "      <td>Personal Travel</td>\n",
       "      <td>Eco</td>\n",
       "      <td>581</td>\n",
       "      <td>3</td>\n",
       "      <td>3</td>\n",
       "      <td>3</td>\n",
       "      <td>...</td>\n",
       "      <td>5</td>\n",
       "      <td>4</td>\n",
       "      <td>5</td>\n",
       "      <td>3</td>\n",
       "      <td>1</td>\n",
       "      <td>3</td>\n",
       "      <td>5</td>\n",
       "      <td>0</td>\n",
       "      <td>0.0</td>\n",
       "      <td>neutral or dissatisfied</td>\n",
       "    </tr>\n",
       "    <tr>\n",
       "      <th>4355</th>\n",
       "      <td>84666</td>\n",
       "      <td>Female</td>\n",
       "      <td>disloyal Customer</td>\n",
       "      <td>29</td>\n",
       "      <td>Business travel</td>\n",
       "      <td>Business</td>\n",
       "      <td>1090</td>\n",
       "      <td>0</td>\n",
       "      <td>0</td>\n",
       "      <td>0</td>\n",
       "      <td>...</td>\n",
       "      <td>5</td>\n",
       "      <td>5</td>\n",
       "      <td>3</td>\n",
       "      <td>5</td>\n",
       "      <td>5</td>\n",
       "      <td>4</td>\n",
       "      <td>5</td>\n",
       "      <td>0</td>\n",
       "      <td>1.0</td>\n",
       "      <td>satisfied</td>\n",
       "    </tr>\n",
       "    <tr>\n",
       "      <th>36283</th>\n",
       "      <td>83680</td>\n",
       "      <td>Male</td>\n",
       "      <td>Loyal Customer</td>\n",
       "      <td>42</td>\n",
       "      <td>Business travel</td>\n",
       "      <td>Business</td>\n",
       "      <td>577</td>\n",
       "      <td>4</td>\n",
       "      <td>3</td>\n",
       "      <td>4</td>\n",
       "      <td>...</td>\n",
       "      <td>3</td>\n",
       "      <td>3</td>\n",
       "      <td>3</td>\n",
       "      <td>3</td>\n",
       "      <td>4</td>\n",
       "      <td>3</td>\n",
       "      <td>3</td>\n",
       "      <td>18</td>\n",
       "      <td>35.0</td>\n",
       "      <td>satisfied</td>\n",
       "    </tr>\n",
       "    <tr>\n",
       "      <th>54910</th>\n",
       "      <td>76176</td>\n",
       "      <td>Female</td>\n",
       "      <td>Loyal Customer</td>\n",
       "      <td>23</td>\n",
       "      <td>Business travel</td>\n",
       "      <td>Eco Plus</td>\n",
       "      <td>289</td>\n",
       "      <td>5</td>\n",
       "      <td>1</td>\n",
       "      <td>1</td>\n",
       "      <td>...</td>\n",
       "      <td>5</td>\n",
       "      <td>5</td>\n",
       "      <td>3</td>\n",
       "      <td>1</td>\n",
       "      <td>5</td>\n",
       "      <td>4</td>\n",
       "      <td>5</td>\n",
       "      <td>17</td>\n",
       "      <td>5.0</td>\n",
       "      <td>satisfied</td>\n",
       "    </tr>\n",
       "  </tbody>\n",
       "</table>\n",
       "<p>5 rows × 24 columns</p>\n",
       "</div>"
      ],
      "text/plain": [
       "           id  Gender      Customer Type  Age   Type of Travel     Class  \\\n",
       "56437  115299  Female     Loyal Customer   39  Business travel  Business   \n",
       "7268    91149    Male     Loyal Customer   28  Personal Travel       Eco   \n",
       "4355    84666  Female  disloyal Customer   29  Business travel  Business   \n",
       "36283   83680    Male     Loyal Customer   42  Business travel  Business   \n",
       "54910   76176  Female     Loyal Customer   23  Business travel  Eco Plus   \n",
       "\n",
       "       Flight Distance  Inflight wifi service  \\\n",
       "56437              325                      1   \n",
       "7268               581                      3   \n",
       "4355              1090                      0   \n",
       "36283              577                      4   \n",
       "54910              289                      5   \n",
       "\n",
       "       Departure/Arrival time convenient  Ease of Online booking  ...  \\\n",
       "56437                                  1                       3  ...   \n",
       "7268                                   3                       3  ...   \n",
       "4355                                   0                       0  ...   \n",
       "36283                                  3                       4  ...   \n",
       "54910                                  1                       1  ...   \n",
       "\n",
       "       Inflight entertainment  On-board service  Leg room service  \\\n",
       "56437                       4                 4                 4   \n",
       "7268                        5                 4                 5   \n",
       "4355                        5                 5                 3   \n",
       "36283                       3                 3                 3   \n",
       "54910                       5                 5                 3   \n",
       "\n",
       "       Baggage handling  Checkin service  Inflight service  Cleanliness  \\\n",
       "56437                 4                4                 4            3   \n",
       "7268                  3                1                 3            5   \n",
       "4355                  5                5                 4            5   \n",
       "36283                 3                4                 3            3   \n",
       "54910                 1                5                 4            5   \n",
       "\n",
       "       Departure Delay in Minutes  Arrival Delay in Minutes  \\\n",
       "56437                           1                       1.0   \n",
       "7268                            0                       0.0   \n",
       "4355                            0                       1.0   \n",
       "36283                          18                      35.0   \n",
       "54910                          17                       5.0   \n",
       "\n",
       "                  satisfaction  \n",
       "56437                satisfied  \n",
       "7268   neutral or dissatisfied  \n",
       "4355                 satisfied  \n",
       "36283                satisfied  \n",
       "54910                satisfied  \n",
       "\n",
       "[5 rows x 24 columns]"
      ]
     },
     "execution_count": 379,
     "metadata": {},
     "output_type": "execute_result"
    }
   ],
   "source": [
    "train_df.head()"
   ]
  },
  {
   "cell_type": "code",
   "execution_count": 380,
   "metadata": {},
   "outputs": [
    {
     "data": {
      "text/plain": [
       "id                                     0\n",
       "Gender                                 0\n",
       "Customer Type                          0\n",
       "Age                                    0\n",
       "Type of Travel                         0\n",
       "Class                                  0\n",
       "Flight Distance                        0\n",
       "Inflight wifi service                  0\n",
       "Departure/Arrival time convenient      0\n",
       "Ease of Online booking                 0\n",
       "Gate location                          0\n",
       "Food and drink                         0\n",
       "Online boarding                        0\n",
       "Seat comfort                           0\n",
       "Inflight entertainment                 0\n",
       "On-board service                       0\n",
       "Leg room service                       0\n",
       "Baggage handling                       0\n",
       "Checkin service                        0\n",
       "Inflight service                       0\n",
       "Cleanliness                            0\n",
       "Departure Delay in Minutes             0\n",
       "Arrival Delay in Minutes             249\n",
       "satisfaction                           0\n",
       "dtype: int64"
      ]
     },
     "execution_count": 380,
     "metadata": {},
     "output_type": "execute_result"
    }
   ],
   "source": [
    "train_df.isna().sum()\n"
   ]
  },
  {
   "cell_type": "markdown",
   "metadata": {},
   "source": [
    "Zakładam, że jeśli `Arrival Delay in Minutes` jest nullem, to znaczy, że nie było opóźnienia"
   ]
  },
  {
   "cell_type": "code",
   "execution_count": 381,
   "metadata": {},
   "outputs": [
    {
     "name": "stdout",
     "output_type": "stream",
     "text": [
      "<class 'pandas.core.frame.DataFrame'>\n",
      "Int64Index: 83123 entries, 56437 to 91878\n",
      "Data columns (total 24 columns):\n",
      " #   Column                             Non-Null Count  Dtype  \n",
      "---  ------                             --------------  -----  \n",
      " 0   id                                 83123 non-null  int64  \n",
      " 1   Gender                             83123 non-null  object \n",
      " 2   Customer Type                      83123 non-null  object \n",
      " 3   Age                                83123 non-null  int64  \n",
      " 4   Type of Travel                     83123 non-null  object \n",
      " 5   Class                              83123 non-null  object \n",
      " 6   Flight Distance                    83123 non-null  int64  \n",
      " 7   Inflight wifi service              83123 non-null  int64  \n",
      " 8   Departure/Arrival time convenient  83123 non-null  int64  \n",
      " 9   Ease of Online booking             83123 non-null  int64  \n",
      " 10  Gate location                      83123 non-null  int64  \n",
      " 11  Food and drink                     83123 non-null  int64  \n",
      " 12  Online boarding                    83123 non-null  int64  \n",
      " 13  Seat comfort                       83123 non-null  int64  \n",
      " 14  Inflight entertainment             83123 non-null  int64  \n",
      " 15  On-board service                   83123 non-null  int64  \n",
      " 16  Leg room service                   83123 non-null  int64  \n",
      " 17  Baggage handling                   83123 non-null  int64  \n",
      " 18  Checkin service                    83123 non-null  int64  \n",
      " 19  Inflight service                   83123 non-null  int64  \n",
      " 20  Cleanliness                        83123 non-null  int64  \n",
      " 21  Departure Delay in Minutes         83123 non-null  int64  \n",
      " 22  Arrival Delay in Minutes           82874 non-null  float64\n",
      " 23  satisfaction                       83123 non-null  object \n",
      "dtypes: float64(1), int64(18), object(5)\n",
      "memory usage: 15.9+ MB\n"
     ]
    }
   ],
   "source": [
    "train_df.info()\n"
   ]
  },
  {
   "cell_type": "markdown",
   "metadata": {},
   "source": [
    "Występują zmienne kategoryczne, które należy zakodować"
   ]
  },
  {
   "cell_type": "code",
   "execution_count": 382,
   "metadata": {},
   "outputs": [],
   "source": [
    "X_train = train_df.drop(columns=['satisfaction'])\n",
    "y_train = train_df['satisfaction']\n",
    "\n",
    "X_val = val_df.drop(columns=['satisfaction'])\n",
    "y_val = val_df['satisfaction']\n",
    "\n",
    "X_test = test_df.drop(columns=['satisfaction'])\n",
    "y_test = test_df['satisfaction']"
   ]
  },
  {
   "cell_type": "code",
   "execution_count": 383,
   "metadata": {},
   "outputs": [],
   "source": [
    "categorical_columns = X_train.select_dtypes('object').columns.to_list()\n",
    "numeric_columns = X_train.select_dtypes('number').columns.to_list()\n"
   ]
  },
  {
   "cell_type": "code",
   "execution_count": 384,
   "metadata": {},
   "outputs": [],
   "source": [
    "class ColumnDropperTransformer():\n",
    "    def __init__(self, columns):\n",
    "        self.columns = columns\n",
    "\n",
    "    def transform(self, X, y=None):\n",
    "        return X.drop(columns=self.columns)\n",
    "\n",
    "    def fit(self, X, y=None):\n",
    "        return self\n"
   ]
  },
  {
   "cell_type": "code",
   "execution_count": 385,
   "metadata": {},
   "outputs": [],
   "source": [
    "numeric_transformer = Pipeline(\n",
    "                        steps=[\n",
    "                            # id nie wnosi informacji do modelu, więc dropujemy kolumnę\n",
    "                            (\"id_dropper\", ColumnDropperTransformer(columns=['id'])),\n",
    "                            (\"scaler\", StandardScaler())\n",
    "                        ]\n",
    "                      )\n",
    "\n",
    "arrival_delay_imp = Pipeline(\n",
    "                        steps=[\n",
    "                            # jeśli arraval delay jest nullem, to prawdopodobnie go nie było\n",
    "                            ('imputer', SimpleImputer(strategy=\"constant\", fill_value=0)),\n",
    "                            (\"scaler\", StandardScaler())\n",
    "                        ]\n",
    "                      )\n",
    "categorical_transformer = OneHotEncoder(drop='first')\n",
    "\n",
    "numeric_columns_transf = numeric_columns\n",
    "numeric_columns_transf.remove('Arrival Delay in Minutes')\n",
    "\n",
    "preprocessor = ColumnTransformer(\n",
    "    transformers=[\n",
    "        ('arrival_delay_imp', arrival_delay_imp, ['Arrival Delay in Minutes']),\n",
    "        (\"num\", numeric_transformer, numeric_columns_transf),\n",
    "        (\"cat\", categorical_transformer, categorical_columns),\n",
    "    ]\n",
    ")"
   ]
  },
  {
   "cell_type": "code",
   "execution_count": 386,
   "metadata": {},
   "outputs": [
    {
     "data": {
      "text/plain": [
       "array(['neutral or dissatisfied', 'satisfied'], dtype=object)"
      ]
     },
     "execution_count": 386,
     "metadata": {},
     "output_type": "execute_result"
    }
   ],
   "source": [
    "le = LabelEncoder()\n",
    "\n",
    "y_train = le.fit_transform(y_train)\n",
    "\n",
    "y_val = le.transform(y_val)\n",
    "y_test = le.transform(y_test)\n",
    "\n",
    "le.classes_"
   ]
  },
  {
   "cell_type": "code",
   "execution_count": 387,
   "metadata": {},
   "outputs": [],
   "source": [
    "def statistics_classification(y, y_pred, y_pred_proba):\n",
    "    \n",
    "    fpr, tpr, _ = roc_curve(y,  y_pred_proba)\n",
    "    \n",
    "    plt.plot(fpr,tpr)\n",
    "    plt.title('ROC curve')\n",
    "    plt.ylabel('True Positive Rate')\n",
    "    plt.xlabel('False Positive Rate')\n",
    "    plt.show()\n",
    "\n",
    "    # plot confusion matrix\n",
    "    cm = confusion_matrix(y, y_pred)\n",
    "    sns.heatmap(cm, annot=True, fmt=\".0f\")\n",
    "    plt.title('Confusion matrix')\n",
    "    plt.show()\n",
    "\n",
    "    accuracy = accuracy_score(y, y_pred)\n",
    "    recall = recall_score(y, y_pred)\n",
    "    f1 = f1_score(y, y_pred)\n",
    "\n",
    "    print(f'{accuracy=}')\n",
    "    print(f'{recall=}')\n",
    "    print(f'{f1=}')"
   ]
  },
  {
   "cell_type": "markdown",
   "metadata": {},
   "source": [
    "### Random Forest"
   ]
  },
  {
   "cell_type": "code",
   "execution_count": 388,
   "metadata": {},
   "outputs": [],
   "source": [
    "rf_clf = Pipeline(\n",
    "    steps=[\n",
    "        (\"preprocessor\", preprocessor),\n",
    "        (\"classifier\", RandomForestClassifier(random_state=710))\n",
    "    ]\n",
    ")"
   ]
  },
  {
   "cell_type": "code",
   "execution_count": 389,
   "metadata": {},
   "outputs": [
    {
     "data": {
      "text/plain": [
       "Pipeline(steps=[('preprocessor',\n",
       "                 ColumnTransformer(transformers=[('arrival_delay_imp',\n",
       "                                                  Pipeline(steps=[('imputer',\n",
       "                                                                   SimpleImputer(fill_value=0,\n",
       "                                                                                 strategy='constant')),\n",
       "                                                                  ('scaler',\n",
       "                                                                   StandardScaler())]),\n",
       "                                                  ['Arrival Delay in Minutes']),\n",
       "                                                 ('num',\n",
       "                                                  Pipeline(steps=[('id_dropper',\n",
       "                                                                   <__main__.ColumnDropperTransformer object at 0x0000018D2421D910>),\n",
       "                                                                  ('scaler',\n",
       "                                                                   StandardScaler())]),\n",
       "                                                  ['...\n",
       "                                                   'Gate location',\n",
       "                                                   'Food and drink',\n",
       "                                                   'Online boarding',\n",
       "                                                   'Seat comfort',\n",
       "                                                   'Inflight entertainment',\n",
       "                                                   'On-board service',\n",
       "                                                   'Leg room service',\n",
       "                                                   'Baggage handling',\n",
       "                                                   'Checkin service',\n",
       "                                                   'Inflight service',\n",
       "                                                   'Cleanliness',\n",
       "                                                   'Departure Delay in '\n",
       "                                                   'Minutes']),\n",
       "                                                 ('cat',\n",
       "                                                  OneHotEncoder(drop='first'),\n",
       "                                                  ['Gender', 'Customer Type',\n",
       "                                                   'Type of Travel',\n",
       "                                                   'Class'])])),\n",
       "                ('classifier', RandomForestClassifier(random_state=710))])"
      ]
     },
     "execution_count": 389,
     "metadata": {},
     "output_type": "execute_result"
    }
   ],
   "source": [
    "rf_clf.fit(X_train, y_train)"
   ]
  },
  {
   "cell_type": "code",
   "execution_count": 390,
   "metadata": {},
   "outputs": [
    {
     "data": {
      "image/png": "[encoded data removed]",
      "text/plain": [
       "<Figure size 432x288 with 1 Axes>"
      ]
     },
     "metadata": {},
     "output_type": "display_data"
    },
    {
     "data": {
      "image/png": "[encoded data removed]",
      "text/plain": [
       "<Figure size 432x288 with 2 Axes>"
      ]
     },
     "metadata": {},
     "output_type": "display_data"
    },
    {
     "name": "stdout",
     "output_type": "stream",
     "text": [
      "accuracy=0.9605408786872625\n",
      "recall=0.937029124030136\n",
      "f1=0.95310534141599\n"
     ]
    }
   ],
   "source": [
    "y_pred = rf_clf.predict(X_val)\n",
    "y_pred_proba = rf_clf.predict_proba(X_val)[::, 1]\n",
    "\n",
    "statistics_classification(y_val, y_pred, y_pred_proba)"
   ]
  },
  {
   "cell_type": "code",
   "execution_count": 391,
   "metadata": {},
   "outputs": [
    {
     "data": {
      "image/png": "[encoded data removed]",
      "text/plain": [
       "<Figure size 432x288 with 1 Axes>"
      ]
     },
     "metadata": {},
     "output_type": "display_data"
    },
    {
     "data": {
      "image/png": "[encoded data removed]",
      "text/plain": [
       "<Figure size 432x288 with 2 Axes>"
      ]
     },
     "metadata": {},
     "output_type": "display_data"
    },
    {
     "name": "stdout",
     "output_type": "stream",
     "text": [
      "accuracy=0.9424955488186324\n",
      "recall=0.9257843247498032\n",
      "f1=0.9323367872713889\n"
     ]
    }
   ],
   "source": [
    "rf_clf = Pipeline(\n",
    "    steps=[\n",
    "        (\"preprocessor\", preprocessor),\n",
    "        (\"classifier\", RandomForestClassifier(max_depth=10, n_estimators=50, n_jobs=-1, random_state=710))\n",
    "    ]\n",
    ")\n",
    "\n",
    "rf_clf.fit(X_train, y_train)\n",
    "\n",
    "y_pred = rf_clf.predict(X_val)\n",
    "y_pred_proba = rf_clf.predict_proba(X_val)[::, 1]\n",
    "\n",
    "statistics_classification(y_val, y_pred, y_pred_proba)"
   ]
  },
  {
   "cell_type": "code",
   "execution_count": 392,
   "metadata": {},
   "outputs": [
    {
     "data": {
      "image/png": "[encoded data removed]",
      "text/plain": [
       "<Figure size 432x288 with 1 Axes>"
      ]
     },
     "metadata": {},
     "output_type": "display_data"
    },
    {
     "data": {
      "image/png": "[encoded data removed]",
      "text/plain": [
       "<Figure size 432x288 with 2 Axes>"
      ]
     },
     "metadata": {},
     "output_type": "display_data"
    },
    {
     "name": "stdout",
     "output_type": "stream",
     "text": [
      "accuracy=0.9095808671382513\n",
      "recall=0.8766445518947487\n",
      "f1=0.8924503462881346\n"
     ]
    }
   ],
   "source": [
    "rf_clf = Pipeline(\n",
    "    steps=[\n",
    "        (\"preprocessor\", preprocessor),\n",
    "        (\"classifier\", RandomForestClassifier(max_depth=5, n_estimators=10, n_jobs=-1, random_state=710))\n",
    "    ]\n",
    ")\n",
    "\n",
    "rf_clf.fit(X_train, y_train)\n",
    "\n",
    "y_pred = rf_clf.predict(X_val)\n",
    "y_pred_proba = rf_clf.predict_proba(X_val)[::, 1]\n",
    "\n",
    "statistics_classification(y_val, y_pred, y_pred_proba)"
   ]
  },
  {
   "cell_type": "code",
   "execution_count": 393,
   "metadata": {},
   "outputs": [
    {
     "data": {
      "image/png": "[encoded data removed]",
      "text/plain": [
       "<Figure size 432x288 with 1 Axes>"
      ]
     },
     "metadata": {},
     "output_type": "display_data"
    },
    {
     "data": {
      "image/png": "[encoded data removed]",
      "text/plain": [
       "<Figure size 432x288 with 2 Axes>"
      ]
     },
     "metadata": {},
     "output_type": "display_data"
    },
    {
     "name": "stdout",
     "output_type": "stream",
     "text": [
      "accuracy=0.9589047687791733\n",
      "recall=0.9360170920949061\n",
      "f1=0.9512055765055423\n"
     ]
    }
   ],
   "source": [
    "rf_clf = Pipeline(\n",
    "    steps=[\n",
    "        (\"preprocessor\", preprocessor),\n",
    "        (\"classifier\", RandomForestClassifier(max_depth=20, n_estimators=100, n_jobs=-1, random_state=710))\n",
    "    ]\n",
    ")\n",
    "\n",
    "rf_clf.fit(X_train, y_train)\n",
    "\n",
    "y_pred = rf_clf.predict(X_val)\n",
    "y_pred_proba = rf_clf.predict_proba(X_val)[::, 1]\n",
    "\n",
    "statistics_classification(y_val, y_pred, y_pred_proba)"
   ]
  },
  {
   "cell_type": "markdown",
   "metadata": {},
   "source": [
    "Ograniczenie głębokości drzewa (defaultowo ono nie istnieje), spowodowało spadek osiągów na zbiorze walidacyjnym. Ogólnie takie ograniczenie powinno mieć regularyzować model.\n",
    "\n",
    "Sprecyzowanie liczby estymatorów w tym przypadku zdaje się nie mieć wpływu na skuteczność modelu."
   ]
  },
  {
   "cell_type": "markdown",
   "metadata": {},
   "source": [
    "### XGBClassifier"
   ]
  },
  {
   "cell_type": "code",
   "execution_count": 394,
   "metadata": {},
   "outputs": [
    {
     "data": {
      "image/png": "[encoded data removed]",
      "text/plain": [
       "<Figure size 432x288 with 1 Axes>"
      ]
     },
     "metadata": {},
     "output_type": "display_data"
    },
    {
     "data": {
      "image/png": "[encoded data removed]",
      "text/plain": [
       "<Figure size 432x288 with 2 Axes>"
      ]
     },
     "metadata": {},
     "output_type": "display_data"
    },
    {
     "name": "stdout",
     "output_type": "stream",
     "text": [
      "accuracy=0.9612626918820076\n",
      "recall=0.9422017316990892\n",
      "f1=0.9541650059784775\n"
     ]
    }
   ],
   "source": [
    "xgb_clf = Pipeline(\n",
    "    steps=[\n",
    "        (\"preprocessor\", preprocessor),\n",
    "        (\"classifier\", xgb.XGBClassifier(objective=\"binary:logistic\", seed=710, use_label_encoder=False))\n",
    "    ]\n",
    ")\n",
    "\n",
    "xgb_clf.fit(X_train, y_train, classifier__eval_metric=\"error\")\n",
    "\n",
    "y_pred = xgb_clf.predict(X_val)\n",
    "y_pred_proba = xgb_clf.predict_proba(X_val)[::, 1]\n",
    "\n",
    "statistics_classification(y_val, y_pred, y_pred_proba)"
   ]
  },
  {
   "cell_type": "code",
   "execution_count": 395,
   "metadata": {},
   "outputs": [
    {
     "name": "stdout",
     "output_type": "stream",
     "text": [
      "[0]\tvalidation_0-error:0.08898\n",
      "[1]\tvalidation_0-error:0.07738\n",
      "[2]\tvalidation_0-error:0.07069\n",
      "[3]\tvalidation_0-error:0.06559\n",
      "[4]\tvalidation_0-error:0.06400\n",
      "[5]\tvalidation_0-error:0.06410\n",
      "[6]\tvalidation_0-error:0.06044\n",
      "[7]\tvalidation_0-error:0.05818\n",
      "[8]\tvalidation_0-error:0.05674\n",
      "[9]\tvalidation_0-error:0.05587\n",
      "[10]\tvalidation_0-error:0.05337\n",
      "[11]\tvalidation_0-error:0.05346\n",
      "[12]\tvalidation_0-error:0.05356\n",
      "[13]\tvalidation_0-error:0.05289\n",
      "[14]\tvalidation_0-error:0.05144\n",
      "[15]\tvalidation_0-error:0.05168\n",
      "[16]\tvalidation_0-error:0.05077\n",
      "[17]\tvalidation_0-error:0.04995\n",
      "[18]\tvalidation_0-error:0.04913\n",
      "[19]\tvalidation_0-error:0.04846\n",
      "[20]\tvalidation_0-error:0.04740\n",
      "[21]\tvalidation_0-error:0.04673\n",
      "[22]\tvalidation_0-error:0.04596\n",
      "[23]\tvalidation_0-error:0.04557\n",
      "[24]\tvalidation_0-error:0.04499\n",
      "[25]\tvalidation_0-error:0.04437\n",
      "[26]\tvalidation_0-error:0.04442\n",
      "[27]\tvalidation_0-error:0.04437\n",
      "[28]\tvalidation_0-error:0.04393\n",
      "[29]\tvalidation_0-error:0.04393\n",
      "[30]\tvalidation_0-error:0.04336\n",
      "[31]\tvalidation_0-error:0.04307\n",
      "[32]\tvalidation_0-error:0.04235\n",
      "[33]\tvalidation_0-error:0.04220\n",
      "[34]\tvalidation_0-error:0.04230\n",
      "[35]\tvalidation_0-error:0.04191\n",
      "[36]\tvalidation_0-error:0.04163\n",
      "[37]\tvalidation_0-error:0.04148\n",
      "[38]\tvalidation_0-error:0.04134\n",
      "[39]\tvalidation_0-error:0.04109\n",
      "[40]\tvalidation_0-error:0.04095\n",
      "[41]\tvalidation_0-error:0.04052\n",
      "[42]\tvalidation_0-error:0.04061\n",
      "[43]\tvalidation_0-error:0.03994\n",
      "[44]\tvalidation_0-error:0.03994\n",
      "[45]\tvalidation_0-error:0.04004\n",
      "[46]\tvalidation_0-error:0.03980\n",
      "[47]\tvalidation_0-error:0.03980\n",
      "[48]\tvalidation_0-error:0.03965\n",
      "[49]\tvalidation_0-error:0.03936\n",
      "[50]\tvalidation_0-error:0.03883\n",
      "[51]\tvalidation_0-error:0.03864\n",
      "[52]\tvalidation_0-error:0.03869\n",
      "[53]\tvalidation_0-error:0.03864\n",
      "[54]\tvalidation_0-error:0.03869\n",
      "[55]\tvalidation_0-error:0.03864\n",
      "[56]\tvalidation_0-error:0.03845\n",
      "[57]\tvalidation_0-error:0.03845\n",
      "[58]\tvalidation_0-error:0.03859\n",
      "[59]\tvalidation_0-error:0.03869\n",
      "[60]\tvalidation_0-error:0.03826\n",
      "[61]\tvalidation_0-error:0.03859\n",
      "[62]\tvalidation_0-error:0.03898\n",
      "[63]\tvalidation_0-error:0.03855\n",
      "[64]\tvalidation_0-error:0.03859\n"
     ]
    },
    {
     "data": {
      "image/png": "[encoded data removed]",
      "text/plain": [
       "<Figure size 432x288 with 1 Axes>"
      ]
     },
     "metadata": {},
     "output_type": "display_data"
    },
    {
     "data": {
      "image/png": "[encoded data removed]",
      "text/plain": [
       "<Figure size 432x288 with 2 Axes>"
      ]
     },
     "metadata": {},
     "output_type": "display_data"
    },
    {
     "name": "stdout",
     "output_type": "stream",
     "text": [
      "accuracy=0.9617439006785043\n",
      "recall=0.9420892837062859\n",
      "f1=0.9547034357016695\n"
     ]
    }
   ],
   "source": [
    "xgb_clf = Pipeline(\n",
    "    steps=[\n",
    "        (\"preprocessor\", preprocessor),\n",
    "        (\"classifier\", xgb.XGBClassifier(objective=\"binary:logistic\", seed=710, use_label_encoder=False))\n",
    "    ]\n",
    ")\n",
    "\n",
    "xgb_clf.fit(X_train, y_train,\n",
    "            classifier__eval_metric=\"error\",\n",
    "            classifier__early_stopping_rounds=5,\n",
    "            classifier__eval_set=[(xgb_clf['preprocessor'].transform(X_val), y_val)],\n",
    "            classifier__verbose=True)\n",
    "\n",
    "y_pred = xgb_clf.predict(X_val)\n",
    "y_pred_proba = xgb_clf.predict_proba(X_val)[::, 1]\n",
    "\n",
    "statistics_classification(y_val, y_pred, y_pred_proba)"
   ]
  },
  {
   "cell_type": "markdown",
   "metadata": {},
   "source": [
    "Early stopping pomógł w niewielkim stopniu podnieść osiągi modelu"
   ]
  },
  {
   "cell_type": "code",
   "execution_count": 396,
   "metadata": {},
   "outputs": [
    {
     "data": {
      "image/png": "[encoded data removed]",
      "text/plain": [
       "<Figure size 432x288 with 1 Axes>"
      ]
     },
     "metadata": {},
     "output_type": "display_data"
    },
    {
     "data": {
      "image/png": "[encoded data removed]",
      "text/plain": [
       "<Figure size 432x288 with 2 Axes>"
      ]
     },
     "metadata": {},
     "output_type": "display_data"
    },
    {
     "name": "stdout",
     "output_type": "stream",
     "text": [
      "accuracy=0.9614070545209566\n",
      "recall=0.944900483526369\n",
      "f1=0.9544525215810995\n"
     ]
    }
   ],
   "source": [
    "xgb_clf = Pipeline(\n",
    "    steps=[\n",
    "        (\"preprocessor\", preprocessor),\n",
    "        (\"classifier\", xgb.XGBClassifier(objective=\"binary:logistic\", max_depth=10, seed=710, use_label_encoder=False))\n",
    "    ]\n",
    ")\n",
    "\n",
    "xgb_clf.fit(X_train, y_train,\n",
    "            classifier__eval_metric=\"error\")\n",
    "\n",
    "y_pred = xgb_clf.predict(X_val)\n",
    "y_pred_proba = xgb_clf.predict_proba(X_val)[::, 1]\n",
    "\n",
    "statistics_classification(y_val, y_pred, y_pred_proba)"
   ]
  },
  {
   "cell_type": "markdown",
   "metadata": {},
   "source": [
    "Ograniczenie maksymalnej głębokości pozwoliło na drobne poprawienie recallu"
   ]
  },
  {
   "cell_type": "markdown",
   "metadata": {},
   "source": [
    "XGBoost radzi sobie z tym problemem nieznacznie lepiej"
   ]
  },
  {
   "cell_type": "markdown",
   "metadata": {},
   "source": [
    "## Regresja"
   ]
  },
  {
   "cell_type": "markdown",
   "metadata": {},
   "source": [
    "!! `train_df`, `X_train`, `y_train`, będą zawierać teraz inne informacje !!"
   ]
  },
  {
   "cell_type": "code",
   "execution_count": 397,
   "metadata": {},
   "outputs": [],
   "source": [
    "df = pd.read_csv('../data/car_prices_poland/Car_Prices_Poland.csv', index_col=0)\n",
    "cities = pd.read_csv('../data/car_prices_poland/miasta.csv')\n",
    "\n",
    "cities = cities[['Miasto', 'Kategoria']]"
   ]
  },
  {
   "cell_type": "code",
   "execution_count": 398,
   "metadata": {},
   "outputs": [
    {
     "data": {
      "text/plain": [
       "(117927, 10)"
      ]
     },
     "execution_count": 398,
     "metadata": {},
     "output_type": "execute_result"
    }
   ],
   "source": [
    "df.shape"
   ]
  },
  {
   "cell_type": "code",
   "execution_count": 399,
   "metadata": {},
   "outputs": [],
   "source": [
    "train_df, val_df = train_test_split(df, random_state=710, test_size=0.3)\n",
    "val_df, test_df = train_test_split(val_df, random_state=710, test_size=0.3)"
   ]
  },
  {
   "cell_type": "code",
   "execution_count": 400,
   "metadata": {},
   "outputs": [
    {
     "data": {
      "text/html": [
       "<div>\n",
       "<style scoped>\n",
       "    .dataframe tbody tr th:only-of-type {\n",
       "        vertical-align: middle;\n",
       "    }\n",
       "\n",
       "    .dataframe tbody tr th {\n",
       "        vertical-align: top;\n",
       "    }\n",
       "\n",
       "    .dataframe thead th {\n",
       "        text-align: right;\n",
       "    }\n",
       "</style>\n",
       "<table border=\"1\" class=\"dataframe\">\n",
       "  <thead>\n",
       "    <tr style=\"text-align: right;\">\n",
       "      <th></th>\n",
       "      <th>mark</th>\n",
       "      <th>model</th>\n",
       "      <th>generation_name</th>\n",
       "      <th>year</th>\n",
       "      <th>mileage</th>\n",
       "      <th>vol_engine</th>\n",
       "      <th>fuel</th>\n",
       "      <th>city</th>\n",
       "      <th>province</th>\n",
       "      <th>price</th>\n",
       "    </tr>\n",
       "  </thead>\n",
       "  <tbody>\n",
       "    <tr>\n",
       "      <th>23654</th>\n",
       "      <td>audi</td>\n",
       "      <td>s5</td>\n",
       "      <td>NaN</td>\n",
       "      <td>2019</td>\n",
       "      <td>19000</td>\n",
       "      <td>2995</td>\n",
       "      <td>Gasoline</td>\n",
       "      <td>Opole</td>\n",
       "      <td>Opolskie</td>\n",
       "      <td>189000</td>\n",
       "    </tr>\n",
       "    <tr>\n",
       "      <th>72440</th>\n",
       "      <td>toyota</td>\n",
       "      <td>corolla</td>\n",
       "      <td>gen-e21-2019</td>\n",
       "      <td>2019</td>\n",
       "      <td>25329</td>\n",
       "      <td>1197</td>\n",
       "      <td>Gasoline</td>\n",
       "      <td>Grudziądz</td>\n",
       "      <td>Kujawsko-pomorskie</td>\n",
       "      <td>85500</td>\n",
       "    </tr>\n",
       "    <tr>\n",
       "      <th>10218</th>\n",
       "      <td>opel</td>\n",
       "      <td>mokka</td>\n",
       "      <td>NaN</td>\n",
       "      <td>2021</td>\n",
       "      <td>10</td>\n",
       "      <td>1199</td>\n",
       "      <td>Gasoline</td>\n",
       "      <td>Warszawa</td>\n",
       "      <td>Mazowieckie</td>\n",
       "      <td>107800</td>\n",
       "    </tr>\n",
       "    <tr>\n",
       "      <th>37486</th>\n",
       "      <td>volkswagen</td>\n",
       "      <td>golf</td>\n",
       "      <td>gen-vi-2008-2013</td>\n",
       "      <td>2009</td>\n",
       "      <td>163000</td>\n",
       "      <td>1595</td>\n",
       "      <td>LPG</td>\n",
       "      <td>Rumia</td>\n",
       "      <td>Pomorskie</td>\n",
       "      <td>19300</td>\n",
       "    </tr>\n",
       "    <tr>\n",
       "      <th>51018</th>\n",
       "      <td>ford</td>\n",
       "      <td>ka</td>\n",
       "      <td>gen-ii-2008-ka</td>\n",
       "      <td>2010</td>\n",
       "      <td>117781</td>\n",
       "      <td>1242</td>\n",
       "      <td>Gasoline</td>\n",
       "      <td>Końskie</td>\n",
       "      <td>Świętokrzyskie</td>\n",
       "      <td>13500</td>\n",
       "    </tr>\n",
       "  </tbody>\n",
       "</table>\n",
       "</div>"
      ],
      "text/plain": [
       "             mark    model   generation_name  year  mileage  vol_engine  \\\n",
       "23654        audi       s5               NaN  2019    19000        2995   \n",
       "72440      toyota  corolla      gen-e21-2019  2019    25329        1197   \n",
       "10218        opel    mokka               NaN  2021       10        1199   \n",
       "37486  volkswagen     golf  gen-vi-2008-2013  2009   163000        1595   \n",
       "51018        ford       ka    gen-ii-2008-ka  2010   117781        1242   \n",
       "\n",
       "           fuel       city            province   price  \n",
       "23654  Gasoline      Opole            Opolskie  189000  \n",
       "72440  Gasoline  Grudziądz  Kujawsko-pomorskie   85500  \n",
       "10218  Gasoline   Warszawa         Mazowieckie  107800  \n",
       "37486       LPG      Rumia           Pomorskie   19300  \n",
       "51018  Gasoline    Końskie      Świętokrzyskie   13500  "
      ]
     },
     "execution_count": 400,
     "metadata": {},
     "output_type": "execute_result"
    }
   ],
   "source": [
    "train_df.head()"
   ]
  },
  {
   "cell_type": "code",
   "execution_count": 401,
   "metadata": {},
   "outputs": [
    {
     "data": {
      "text/plain": [
       "mark                   0\n",
       "model                  0\n",
       "generation_name    21072\n",
       "year                   0\n",
       "mileage                0\n",
       "vol_engine             0\n",
       "fuel                   0\n",
       "city                   0\n",
       "province               0\n",
       "price                  0\n",
       "dtype: int64"
      ]
     },
     "execution_count": 401,
     "metadata": {},
     "output_type": "execute_result"
    }
   ],
   "source": [
    "train_df.isna().sum()"
   ]
  },
  {
   "cell_type": "code",
   "execution_count": 402,
   "metadata": {},
   "outputs": [
    {
     "name": "stdout",
     "output_type": "stream",
     "text": [
      "<class 'pandas.core.frame.DataFrame'>\n",
      "Int64Index: 82548 entries, 23654 to 91878\n",
      "Data columns (total 10 columns):\n",
      " #   Column           Non-Null Count  Dtype \n",
      "---  ------           --------------  ----- \n",
      " 0   mark             82548 non-null  object\n",
      " 1   model            82548 non-null  object\n",
      " 2   generation_name  61476 non-null  object\n",
      " 3   year             82548 non-null  int64 \n",
      " 4   mileage          82548 non-null  int64 \n",
      " 5   vol_engine       82548 non-null  int64 \n",
      " 6   fuel             82548 non-null  object\n",
      " 7   city             82548 non-null  object\n",
      " 8   province         82548 non-null  object\n",
      " 9   price            82548 non-null  int64 \n",
      "dtypes: int64(4), object(6)\n",
      "memory usage: 6.9+ MB\n"
     ]
    }
   ],
   "source": [
    "train_df.info()"
   ]
  },
  {
   "cell_type": "code",
   "execution_count": 403,
   "metadata": {},
   "outputs": [],
   "source": [
    "X_train = train_df.drop(columns=['price'])\n",
    "y_train = train_df['price']\n",
    "\n",
    "X_val = val_df.drop(columns=['price'])\n",
    "y_val = val_df['price']\n",
    "\n",
    "X_test = test_df.drop(columns=['price'])\n",
    "y_test = test_df['price']"
   ]
  },
  {
   "cell_type": "code",
   "execution_count": 404,
   "metadata": {},
   "outputs": [],
   "source": [
    "class CityEncoderTransformer():\n",
    "    def __init__(self, cities):\n",
    "        # self.cities = cities\n",
    "        self.city_map_dict = defaultdict(lambda: 'Other', dict(zip(cities['Miasto'], cities['Kategoria'])))\n",
    "\n",
    "    def transform(self, X, y=None):\n",
    "        X.loc[:, 'city'] = X['city'].map(self.city_map_dict)\n",
    "        # tmp = X.merge(self.cities, left_on='city', right_on='Miasto', how='left')\n",
    "        # tmp = tmp.drop(columns=['city', 'Miasto'])\n",
    "        # tmp['Kategoria'].fillna('other')\n",
    "        # return tmp\n",
    "        return X\n",
    "\n",
    "    def fit(self, X, y=None):\n",
    "        return self\n"
   ]
  },
  {
   "cell_type": "code",
   "execution_count": 405,
   "metadata": {},
   "outputs": [],
   "source": [
    "categorical_columns = X_train.select_dtypes('object').columns.to_list()\n",
    "numeric_columns = X_train.select_dtypes('number').columns.to_list()\n",
    "\n",
    "numeric_transformer = StandardScaler()\n",
    "\n",
    "city_encoder = Pipeline(\n",
    "                        steps=[\n",
    "                            # kategoryzacja miast\n",
    "                            ('city_enc', CityEncoderTransformer(cities=cities)),\n",
    "                            (\"onehot\", OneHotEncoder(drop='first'))\n",
    "                        ]\n",
    "                      )\n",
    "\n",
    "categorical_transformer = Pipeline(\n",
    "                        steps=[\n",
    "                            # z generation name ciężko wyciągnąć informacje i zawiera dużo braków, więc dropujemy kolumnę\n",
    "                            (\"col_dropper\", ColumnDropperTransformer(columns=['generation_name'])),\n",
    "                            (\"onehot\", OneHotEncoder(drop='first'))\n",
    "                        ]\n",
    "                      )\n",
    "\n",
    "categorical_columns_transf = categorical_columns\n",
    "categorical_columns_transf.remove('city')\n",
    "\n",
    "preprocessor = ColumnTransformer(\n",
    "    transformers=[\n",
    "        ('city_encoder', city_encoder, ['city']),\n",
    "        (\"num\", numeric_transformer, numeric_columns),\n",
    "        (\"cat\", categorical_transformer, categorical_columns_transf),\n",
    "    ]\n",
    ")"
   ]
  },
  {
   "cell_type": "markdown",
   "metadata": {},
   "source": [
    "### Random Forest Regressor"
   ]
  },
  {
   "cell_type": "code",
   "execution_count": 406,
   "metadata": {},
   "outputs": [],
   "source": [
    "rf_reg = Pipeline(\n",
    "    steps=[\n",
    "        (\"preprocessor\", preprocessor),\n",
    "        (\"classifier\", RandomForestRegressor(max_depth=10, random_state=710, n_jobs=-1))\n",
    "    ]\n",
    ")"
   ]
  },
  {
   "cell_type": "code",
   "execution_count": 407,
   "metadata": {},
   "outputs": [
    {
     "data": {
      "text/plain": [
       "Pipeline(steps=[('preprocessor',\n",
       "                 ColumnTransformer(transformers=[('city_encoder',\n",
       "                                                  Pipeline(steps=[('city_enc',\n",
       "                                                                   <__main__.CityEncoderTransformer object at 0x0000018D2361B310>),\n",
       "                                                                  ('onehot',\n",
       "                                                                   OneHotEncoder(drop='first'))]),\n",
       "                                                  ['city']),\n",
       "                                                 ('num', StandardScaler(),\n",
       "                                                  ['year', 'mileage',\n",
       "                                                   'vol_engine']),\n",
       "                                                 ('cat',\n",
       "                                                  Pipeline(steps=[('col_dropper',\n",
       "                                                                   <__main__.ColumnDropperTransformer object at 0x0000018D1BE8FDC0>),\n",
       "                                                                  ('onehot',\n",
       "                                                                   OneHotEncoder(drop='first'))]),\n",
       "                                                  ['mark', 'model',\n",
       "                                                   'generation_name', 'fuel',\n",
       "                                                   'province'])])),\n",
       "                ('classifier',\n",
       "                 RandomForestRegressor(max_depth=10, n_jobs=-1,\n",
       "                                       random_state=710))])"
      ]
     },
     "execution_count": 407,
     "metadata": {},
     "output_type": "execute_result"
    }
   ],
   "source": [
    "rf_reg.fit(X_train, y_train)"
   ]
  },
  {
   "cell_type": "code",
   "execution_count": 408,
   "metadata": {},
   "outputs": [
    {
     "name": "stdout",
     "output_type": "stream",
     "text": [
      "RMSE: 24966.320750863124\n"
     ]
    }
   ],
   "source": [
    "y_pred = rf_reg.predict(X_val)\n",
    "print(f'RMSE: {np.sqrt(mean_squared_error(y_val, y_pred))}')"
   ]
  },
  {
   "cell_type": "code",
   "execution_count": 409,
   "metadata": {},
   "outputs": [
    {
     "name": "stdout",
     "output_type": "stream",
     "text": [
      "RMSE: 33692.01310200933\n"
     ]
    }
   ],
   "source": [
    "rf_reg = Pipeline(\n",
    "    steps=[\n",
    "        (\"preprocessor\", preprocessor),\n",
    "        (\"classifier\", RandomForestRegressor(max_depth=5, random_state=710, n_jobs=-1))\n",
    "    ]\n",
    ")\n",
    "\n",
    "rf_reg.fit(X_train, y_train)\n",
    "\n",
    "y_pred = rf_reg.predict(X_val)\n",
    "print(f'RMSE: {np.sqrt(mean_squared_error(y_val, y_pred))}')"
   ]
  },
  {
   "cell_type": "code",
   "execution_count": 410,
   "metadata": {},
   "outputs": [
    {
     "name": "stdout",
     "output_type": "stream",
     "text": [
      "RMSE: 21525.88793980143\n"
     ]
    }
   ],
   "source": [
    "rf_reg = Pipeline(\n",
    "    steps=[\n",
    "        (\"preprocessor\", preprocessor),\n",
    "        (\"classifier\", RandomForestRegressor(max_depth=15, random_state=710, n_jobs=-1))\n",
    "    ]\n",
    ")\n",
    "\n",
    "rf_reg.fit(X_train, y_train)\n",
    "\n",
    "y_pred = rf_reg.predict(X_val)\n",
    "print(f'RMSE: {np.sqrt(mean_squared_error(y_val, y_pred))}')"
   ]
  },
  {
   "cell_type": "markdown",
   "metadata": {},
   "source": [
    "Jak widać, w tym wypadku większa głębokość pozwala minimalizować błąd średniokwadratowy na zbiorze walidacyjnym (choć w pewnym momencie model zacznie się przetrenowywać)"
   ]
  },
  {
   "cell_type": "markdown",
   "metadata": {},
   "source": [
    "### XGBRegressor"
   ]
  },
  {
   "cell_type": "code",
   "execution_count": 411,
   "metadata": {},
   "outputs": [
    {
     "name": "stdout",
     "output_type": "stream",
     "text": [
      "RMSE: 26783.024412800663\n"
     ]
    }
   ],
   "source": [
    "xgb_reg = Pipeline(\n",
    "    steps=[\n",
    "        (\"preprocessor\", preprocessor),\n",
    "        (\"classifier\", xgb.XGBRegressor(objective ='reg:squarederror', max_depth=5, n_estimators = 10, seed = 710))\n",
    "    ]\n",
    ")\n",
    "\n",
    "xgb_reg.fit(X_train, y_train)\n",
    "\n",
    "y_pred = xgb_reg.predict(X_val)\n",
    "print(f'RMSE: {np.sqrt(mean_squared_error(y_val, y_pred))}')"
   ]
  },
  {
   "cell_type": "code",
   "execution_count": 412,
   "metadata": {},
   "outputs": [
    {
     "name": "stdout",
     "output_type": "stream",
     "text": [
      "RMSE: 21509.137549804553\n"
     ]
    }
   ],
   "source": [
    "xgb_reg = Pipeline(\n",
    "    steps=[\n",
    "        (\"preprocessor\", preprocessor),\n",
    "        (\"classifier\", xgb.XGBRegressor(objective ='reg:squarederror', max_depth=10, n_estimators = 10, seed = 710))\n",
    "    ]\n",
    ")\n",
    "\n",
    "xgb_reg.fit(X_train, y_train)\n",
    "\n",
    "y_pred = xgb_reg.predict(X_val)\n",
    "print(f'RMSE: {np.sqrt(mean_squared_error(y_val, y_pred))}')"
   ]
  },
  {
   "cell_type": "code",
   "execution_count": 413,
   "metadata": {},
   "outputs": [
    {
     "name": "stdout",
     "output_type": "stream",
     "text": [
      "RMSE: 20657.237141972786\n"
     ]
    }
   ],
   "source": [
    "xgb_reg = Pipeline(\n",
    "    steps=[\n",
    "        (\"preprocessor\", preprocessor),\n",
    "        (\"classifier\", xgb.XGBRegressor(objective ='reg:squarederror', max_depth=15, n_estimators = 10, seed = 710))\n",
    "    ]\n",
    ")\n",
    "\n",
    "xgb_reg.fit(X_train, y_train)\n",
    "\n",
    "y_pred = xgb_reg.predict(X_val)\n",
    "print(f'RMSE: {np.sqrt(mean_squared_error(y_val, y_pred))}')"
   ]
  },
  {
   "cell_type": "code",
   "execution_count": 414,
   "metadata": {},
   "outputs": [
    {
     "name": "stdout",
     "output_type": "stream",
     "text": [
      "RMSE: 20480.207170121586\n"
     ]
    }
   ],
   "source": [
    "xgb_reg = Pipeline(\n",
    "    steps=[\n",
    "        (\"preprocessor\", preprocessor),\n",
    "        (\"classifier\", xgb.XGBRegressor(objective ='reg:squarederror', max_depth=35, n_estimators = 10, seed = 710))\n",
    "    ]\n",
    ")\n",
    "\n",
    "xgb_reg.fit(X_train, y_train)\n",
    "\n",
    "y_pred = xgb_reg.predict(X_val)\n",
    "print(f'RMSE: {np.sqrt(mean_squared_error(y_val, y_pred))}')"
   ]
  },
  {
   "cell_type": "markdown",
   "metadata": {},
   "source": [
    "Dalsze podnoszenie głębokości xgboosta zmniejsza błąd, jednak po pewnej wartości zysk jest niewielki"
   ]
  },
  {
   "cell_type": "markdown",
   "metadata": {},
   "source": [
    "Również w przypadku regresji XGBoost osiąga nieznacznie lepsze wyniki. Tym razem jednak jego dodatkową przewagą jest znacznie szybszy przebieg treningu."
   ]
  }
 ],
 "metadata": {
  "interpreter": {
   "hash": "59799a58817d6880ee9f3fb693826ba7dd972c2535e602fec2c8c4252cbc627f"
  },
  "kernelspec": {
   "display_name": "Python 3.9.7 ('wb')",
   "language": "python",
   "name": "python3"
  },
  "language_info": {
   "codemirror_mode": {
    "name": "ipython",
    "version": 3
   },
   "file_extension": ".py",
   "mimetype": "text/x-python",
   "name": "python",
   "nbconvert_exporter": "python",
   "pygments_lexer": "ipython3",
   "version": "3.9.7"
  },
  "orig_nbformat": 4
 },
 "nbformat": 4,
 "nbformat_minor": 2
}
