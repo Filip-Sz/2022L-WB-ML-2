{
 "cells": [
  {
   "cell_type": "code",
   "execution_count": 1,
   "id": "d24d38cd",
   "metadata": {},
   "outputs": [],
   "source": [
    "import pandas as pd\n",
    "import numpy as np\n",
    "import matplotlib.pyplot as plt\n",
    "import seaborn as sns\n",
    "from sklearn.model_selection import train_test_split\n",
    "from sklearn.datasets import make_regression\n",
    "from sklearn.preprocessing import StandardScaler\n",
    "from sklearn.pipeline import Pipeline\n",
    "\n",
    "from tqdm.notebook import tqdm\n",
    "\n",
    "from sklearn.metrics import roc_auc_score, accuracy_score, f1_score, roc_curve\n",
    "from sklearn.tree import DecisionTreeClassifier, DecisionTreeRegressor, plot_tree\n",
    "from sklearn.ensemble import RandomForestClassifier, RandomForestRegressor, BaggingClassifier\n",
    "import xgboost as xgb\n",
    "\n",
    "\n",
    "from sklearn.model_selection import cross_val_score\n",
    "from sklearn.model_selection import StratifiedKFold, KFold\n",
    "\n",
    "from sklearn.model_selection import GridSearchCV, RandomizedSearchCV\n",
    "\n",
    "# ustawia domyślną wielkość wykresów\n",
    "plt.rcParams['figure.figsize'] = (12,8)\n",
    "# to samo tylko dla tekstu\n",
    "plt.rcParams['font.size'] = 16"
   ]
  },
  {
   "cell_type": "code",
   "execution_count": 2,
   "id": "1e89d43b",
   "metadata": {},
   "outputs": [],
   "source": [
    "air_test = pd.read_csv(\"./data/airline_passenger_satisfaction/test.csv\")"
   ]
  },
  {
   "cell_type": "code",
   "execution_count": 3,
   "id": "9cf334c9",
   "metadata": {},
   "outputs": [],
   "source": [
    "air_train = pd.read_csv(\"./data/airline_passenger_satisfaction/train.csv\")"
   ]
  },
  {
   "cell_type": "code",
   "execution_count": 4,
   "id": "f77bea27",
   "metadata": {},
   "outputs": [],
   "source": [
    "air_test[air_test[\"Arrival Delay in Minutes\"].isna()] = 0\n",
    "air_train[air_train[\"Arrival Delay in Minutes\"].isna()] = 0"
   ]
  },
  {
   "cell_type": "code",
   "execution_count": 5,
   "id": "00fd5430",
   "metadata": {},
   "outputs": [
    {
     "data": {
      "text/plain": [
       "Index(['Unnamed: 0', 'id', 'Gender', 'Customer Type', 'Age', 'Type of Travel',\n",
       "       'Class', 'Flight Distance', 'Inflight wifi service',\n",
       "       'Departure/Arrival time convenient', 'Ease of Online booking',\n",
       "       'Gate location', 'Food and drink', 'Online boarding', 'Seat comfort',\n",
       "       'Inflight entertainment', 'On-board service', 'Leg room service',\n",
       "       'Baggage handling', 'Checkin service', 'Inflight service',\n",
       "       'Cleanliness', 'Departure Delay in Minutes', 'Arrival Delay in Minutes',\n",
       "       'satisfaction'],\n",
       "      dtype='object')"
      ]
     },
     "execution_count": 5,
     "metadata": {},
     "output_type": "execute_result"
    }
   ],
   "source": [
    "air_test.columns"
   ]
  },
  {
   "cell_type": "code",
   "execution_count": 6,
   "id": "2250d95c",
   "metadata": {},
   "outputs": [],
   "source": [
    "air_test=air_test.drop([\"Unnamed: 0\",\"id\"], axis=1)\n",
    "air_test['Gender'] = (air_test['Gender'] == 'Female')*1\n",
    "air_train=air_train.drop([\"Unnamed: 0\",\"id\"], axis=1)\n",
    "air_train['Gender'] = (air_train['Gender'] == 'Female')*1"
   ]
  },
  {
   "cell_type": "code",
   "execution_count": 7,
   "id": "4ddf618b",
   "metadata": {},
   "outputs": [
    {
     "data": {
      "text/plain": [
       "array(['Loyal Customer', 'disloyal Customer', 0], dtype=object)"
      ]
     },
     "execution_count": 7,
     "metadata": {},
     "output_type": "execute_result"
    }
   ],
   "source": [
    "air_test[\"Customer Type\"].unique()# 0 ='disloyal Customer'"
   ]
  },
  {
   "cell_type": "code",
   "execution_count": 8,
   "id": "959e6e37",
   "metadata": {},
   "outputs": [],
   "source": [
    "air_train['Customer Type'] = (air_train['Customer Type'] == 'Loyal Customer')*1\n",
    "air_test['Customer Type'] = (air_test['Customer Type'] == 'Loyal Customer')*1"
   ]
  },
  {
   "cell_type": "code",
   "execution_count": 9,
   "id": "ef74081e",
   "metadata": {},
   "outputs": [
    {
     "data": {
      "text/plain": [
       "array([52, 36, 20, 44, 49, 16, 77, 43, 47, 46, 33, 60, 50, 31, 55, 25, 30,\n",
       "       62, 24, 22, 51, 56, 41, 53, 12, 39, 32, 40, 42, 28, 59, 58, 27, 67,\n",
       "       70, 66, 19, 69, 35, 54, 26, 61, 21, 37, 45, 38,  7, 34, 17, 15, 48,\n",
       "       13, 11, 29,  8, 18, 23, 65, 57, 80, 64,  9, 14, 68, 10, 79, 63, 73,\n",
       "       74,  0, 71, 72, 76, 78, 75, 85], dtype=int64)"
      ]
     },
     "execution_count": 9,
     "metadata": {},
     "output_type": "execute_result"
    }
   ],
   "source": [
    "air_test[\"Age\"].unique() # zerowe wiersze"
   ]
  },
  {
   "cell_type": "code",
   "execution_count": 10,
   "id": "e348e94d",
   "metadata": {},
   "outputs": [],
   "source": [
    "air_test=air_test[air_test.Age!=0]\n",
    "air_train=air_train[air_train.Age!=0]"
   ]
  },
  {
   "cell_type": "code",
   "execution_count": 11,
   "id": "2659fd77",
   "metadata": {},
   "outputs": [],
   "source": [
    "air_train['satisfaction'] = (air_train['satisfaction'] == 'satisfied')*1\n",
    "air_test['satisfaction'] = (air_test['satisfaction'] == 'satisfied')*1"
   ]
  },
  {
   "cell_type": "code",
   "execution_count": 12,
   "id": "89d5e9cb",
   "metadata": {},
   "outputs": [],
   "source": [
    "air_train['Type of Travel'] = (air_train['Type of Travel'] == 'Personal Travel')*1\n",
    "air_test['Type of Travel'] = (air_test['Type of Travel'] == 'Personal Travel')*1"
   ]
  },
  {
   "cell_type": "code",
   "execution_count": 13,
   "id": "d1756da3",
   "metadata": {},
   "outputs": [
    {
     "data": {
      "text/plain": [
       "array(['Eco', 'Business', 'Eco Plus'], dtype=object)"
      ]
     },
     "execution_count": 13,
     "metadata": {},
     "output_type": "execute_result"
    }
   ],
   "source": [
    "air_test[\"Class\"].unique()"
   ]
  },
  {
   "cell_type": "code",
   "execution_count": 14,
   "id": "68eced49",
   "metadata": {},
   "outputs": [],
   "source": [
    "air_test[\"Class\"] = (air_test['Class'] == 'Business')*2 + (air_test['Class'] == 'Eco Plus')*1\n",
    "air_train[\"Class\"] = (air_train['Class'] == 'Business')*2 + (air_train['Class'] == 'Eco Plus')*1"
   ]
  },
  {
   "cell_type": "code",
   "execution_count": 15,
   "id": "531dea0b",
   "metadata": {},
   "outputs": [],
   "source": [
    "y_air_train = air_train['satisfaction']\n",
    "X_air_train = air_train.drop(\"satisfaction\", axis = 1)\n",
    "\n",
    "X_air_test, X_air_valid, y_air_test, y_air_valid = train_test_split(air_test.drop(\"satisfaction\", axis = 1), air_test['satisfaction'], random_state=420, train_size=0.7)"
   ]
  },
  {
   "cell_type": "code",
   "execution_count": 16,
   "id": "33147f71",
   "metadata": {},
   "outputs": [],
   "source": [
    "rf = RandomForestClassifier()\n",
    "tree= rf.fit(X_air_train, y_air_train)"
   ]
  },
  {
   "cell_type": "code",
   "execution_count": 17,
   "id": "f5d97d0d",
   "metadata": {},
   "outputs": [
    {
     "data": {
      "text/plain": [
       "0.9629793103448275"
      ]
     },
     "execution_count": 17,
     "metadata": {},
     "output_type": "execute_result"
    }
   ],
   "source": [
    "tree.score(X_air_test, y_air_test)"
   ]
  },
  {
   "cell_type": "code",
   "execution_count": 18,
   "id": "9d8df50c",
   "metadata": {},
   "outputs": [
    {
     "data": {
      "text/plain": [
       "0.9622811534500515"
      ]
     },
     "execution_count": 18,
     "metadata": {},
     "output_type": "execute_result"
    }
   ],
   "source": [
    "tree.score(X_air_valid,y_air_valid)"
   ]
  },
  {
   "cell_type": "code",
   "execution_count": 19,
   "id": "44b24161",
   "metadata": {},
   "outputs": [],
   "source": [
    "rf =RandomForestClassifier(max_depth=4,n_estimators=20)\n",
    "tree= rf.fit(X_air_train, y_air_train)"
   ]
  },
  {
   "cell_type": "code",
   "execution_count": 20,
   "id": "1d9dfba0",
   "metadata": {},
   "outputs": [
    {
     "data": {
      "text/plain": [
       "0.8998068965517242"
      ]
     },
     "execution_count": 20,
     "metadata": {},
     "output_type": "execute_result"
    }
   ],
   "source": [
    "tree.score(X_air_test, y_air_test)"
   ]
  },
  {
   "cell_type": "code",
   "execution_count": 21,
   "id": "f172d8dd",
   "metadata": {
    "scrolled": true
   },
   "outputs": [
    {
     "data": {
      "text/plain": [
       "0.9025489186405767"
      ]
     },
     "execution_count": 21,
     "metadata": {},
     "output_type": "execute_result"
    }
   ],
   "source": [
    "tree.score(X_air_valid,y_air_valid)"
   ]
  },
  {
   "cell_type": "code",
   "execution_count": 22,
   "id": "08173d85",
   "metadata": {},
   "outputs": [],
   "source": [
    "rf =RandomForestClassifier(max_depth=10,n_estimators=200)\n",
    "tree= rf.fit(X_air_train, y_air_train)"
   ]
  },
  {
   "cell_type": "code",
   "execution_count": 23,
   "id": "628b7e37",
   "metadata": {},
   "outputs": [
    {
     "data": {
      "text/plain": [
       "0.9456551724137932"
      ]
     },
     "execution_count": 23,
     "metadata": {},
     "output_type": "execute_result"
    }
   ],
   "source": [
    "tree.score(X_air_test, y_air_test)"
   ]
  },
  {
   "cell_type": "code",
   "execution_count": 24,
   "id": "42ecf8cc",
   "metadata": {
    "scrolled": true
   },
   "outputs": [
    {
     "data": {
      "text/plain": [
       "0.9492790937178167"
      ]
     },
     "execution_count": 24,
     "metadata": {},
     "output_type": "execute_result"
    }
   ],
   "source": [
    "tree.score(X_air_valid,y_air_valid)"
   ]
  },
  {
   "cell_type": "code",
   "execution_count": 25,
   "id": "ee14b84b",
   "metadata": {},
   "outputs": [],
   "source": [
    "#nie poprawiliśmy wyniku"
   ]
  },
  {
   "cell_type": "code",
   "execution_count": 26,
   "id": "25550aa1",
   "metadata": {},
   "outputs": [],
   "source": [
    "xgb_cls = xgb.XGBClassifier(objective=\"binary:logistic\", seed = 42, use_label_encoder=False)"
   ]
  },
  {
   "cell_type": "code",
   "execution_count": 27,
   "id": "c50c02be",
   "metadata": {
    "scrolled": true
   },
   "outputs": [
    {
     "name": "stdout",
     "output_type": "stream",
     "text": [
      "[0]\tvalidation_0-error:0.08055\n",
      "[1]\tvalidation_0-error:0.07382\n",
      "[2]\tvalidation_0-error:0.07189\n",
      "[3]\tvalidation_0-error:0.06720\n",
      "[4]\tvalidation_0-error:0.06168\n",
      "[5]\tvalidation_0-error:0.05975\n",
      "[6]\tvalidation_0-error:0.05699\n",
      "[7]\tvalidation_0-error:0.05302\n",
      "[8]\tvalidation_0-error:0.05203\n",
      "[9]\tvalidation_0-error:0.05087\n",
      "[10]\tvalidation_0-error:0.05004\n",
      "[11]\tvalidation_0-error:0.05048\n",
      "[12]\tvalidation_0-error:0.05037\n",
      "[13]\tvalidation_0-error:0.04833\n",
      "[14]\tvalidation_0-error:0.04739\n",
      "[15]\tvalidation_0-error:0.04668\n",
      "[16]\tvalidation_0-error:0.04601\n",
      "[17]\tvalidation_0-error:0.04557\n",
      "[18]\tvalidation_0-error:0.04469\n",
      "[19]\tvalidation_0-error:0.04436\n",
      "[20]\tvalidation_0-error:0.04397\n",
      "[21]\tvalidation_0-error:0.04392\n",
      "[22]\tvalidation_0-error:0.04342\n",
      "[23]\tvalidation_0-error:0.04188\n",
      "[24]\tvalidation_0-error:0.04116\n",
      "[25]\tvalidation_0-error:0.04083\n",
      "[26]\tvalidation_0-error:0.04044\n",
      "[27]\tvalidation_0-error:0.04011\n",
      "[28]\tvalidation_0-error:0.03917\n",
      "[29]\tvalidation_0-error:0.03890\n",
      "[30]\tvalidation_0-error:0.03884\n",
      "[31]\tvalidation_0-error:0.03851\n",
      "[32]\tvalidation_0-error:0.03857\n",
      "[33]\tvalidation_0-error:0.03846\n",
      "[34]\tvalidation_0-error:0.03823\n",
      "[35]\tvalidation_0-error:0.03790\n",
      "[36]\tvalidation_0-error:0.03752\n",
      "[37]\tvalidation_0-error:0.03757\n",
      "[38]\tvalidation_0-error:0.03752\n",
      "[39]\tvalidation_0-error:0.03763\n",
      "[40]\tvalidation_0-error:0.03757\n",
      "[41]\tvalidation_0-error:0.03735\n",
      "[42]\tvalidation_0-error:0.03713\n",
      "[43]\tvalidation_0-error:0.03724\n",
      "[44]\tvalidation_0-error:0.03746\n",
      "[45]\tvalidation_0-error:0.03691\n",
      "[46]\tvalidation_0-error:0.03697\n",
      "[47]\tvalidation_0-error:0.03708\n",
      "[48]\tvalidation_0-error:0.03685\n",
      "[49]\tvalidation_0-error:0.03685\n",
      "[50]\tvalidation_0-error:0.03652\n",
      "[51]\tvalidation_0-error:0.03652\n",
      "[52]\tvalidation_0-error:0.03647\n",
      "[53]\tvalidation_0-error:0.03625\n",
      "[54]\tvalidation_0-error:0.03641\n",
      "[55]\tvalidation_0-error:0.03619\n",
      "[56]\tvalidation_0-error:0.03625\n",
      "[57]\tvalidation_0-error:0.03608\n",
      "[58]\tvalidation_0-error:0.03641\n",
      "[59]\tvalidation_0-error:0.03614\n",
      "[60]\tvalidation_0-error:0.03641\n",
      "[61]\tvalidation_0-error:0.03658\n"
     ]
    },
    {
     "data": {
      "text/plain": [
       "XGBClassifier(base_score=0.5, booster='gbtree', colsample_bylevel=1,\n",
       "              colsample_bynode=1, colsample_bytree=1, enable_categorical=False,\n",
       "              gamma=0, gpu_id=-1, importance_type=None,\n",
       "              interaction_constraints='', learning_rate=0.300000012,\n",
       "              max_delta_step=0, max_depth=6, min_child_weight=1, missing=nan,\n",
       "              monotone_constraints='()', n_estimators=100, n_jobs=4,\n",
       "              num_parallel_tree=1, predictor='auto', random_state=42,\n",
       "              reg_alpha=0, reg_lambda=1, scale_pos_weight=1, seed=42,\n",
       "              subsample=1, tree_method='exact', use_label_encoder=False,\n",
       "              validate_parameters=1, verbosity=None)"
      ]
     },
     "execution_count": 27,
     "metadata": {},
     "output_type": "execute_result"
    }
   ],
   "source": [
    "xgb_cls.fit(X_air_train, y_air_train, early_stopping_rounds=5, eval_metric=\"error\", eval_set=[(X_air_test, y_air_test)])"
   ]
  },
  {
   "cell_type": "code",
   "execution_count": 28,
   "id": "51f87a94",
   "metadata": {
    "scrolled": true
   },
   "outputs": [
    {
     "data": {
      "text/plain": [
       "0.9616374871266735"
      ]
     },
     "execution_count": 28,
     "metadata": {},
     "output_type": "execute_result"
    }
   ],
   "source": [
    "xgb_cls.score(X_air_valid, y_air_valid)"
   ]
  },
  {
   "cell_type": "code",
   "execution_count": 29,
   "id": "33c67c73",
   "metadata": {},
   "outputs": [],
   "source": [
    "xgb_cls =xgb.XGBClassifier(max_depth=4,n_estimators =20)"
   ]
  },
  {
   "cell_type": "code",
   "execution_count": 30,
   "id": "0a6073b4",
   "metadata": {
    "scrolled": true
   },
   "outputs": [
    {
     "name": "stdout",
     "output_type": "stream",
     "text": [
      "[0]\tvalidation_0-error:0.11189\n",
      "[1]\tvalidation_0-error:0.09550\n",
      "[2]\tvalidation_0-error:0.09495\n"
     ]
    },
    {
     "name": "stderr",
     "output_type": "stream",
     "text": [
      "C:\\Users\\Muffin\\anaconda3\\lib\\site-packages\\xgboost\\sklearn.py:1224: UserWarning: The use of label encoder in XGBClassifier is deprecated and will be removed in a future release. To remove this warning, do the following: 1) Pass option use_label_encoder=False when constructing XGBClassifier object; and 2) Encode your labels (y) as integers starting with 0, i.e. 0, 1, 2, ..., [num_class - 1].\n",
      "  warnings.warn(label_encoder_deprecation_msg, UserWarning)\n"
     ]
    },
    {
     "name": "stdout",
     "output_type": "stream",
     "text": [
      "[3]\tvalidation_0-error:0.08921\n",
      "[4]\tvalidation_0-error:0.09363\n",
      "[5]\tvalidation_0-error:0.09137\n",
      "[6]\tvalidation_0-error:0.08690\n",
      "[7]\tvalidation_0-error:0.07421\n",
      "[8]\tvalidation_0-error:0.07553\n",
      "[9]\tvalidation_0-error:0.07503\n",
      "[10]\tvalidation_0-error:0.07090\n",
      "[11]\tvalidation_0-error:0.07007\n",
      "[12]\tvalidation_0-error:0.06836\n",
      "[13]\tvalidation_0-error:0.06477\n",
      "[14]\tvalidation_0-error:0.06488\n",
      "[15]\tvalidation_0-error:0.06472\n",
      "[16]\tvalidation_0-error:0.06395\n",
      "[17]\tvalidation_0-error:0.06262\n",
      "[18]\tvalidation_0-error:0.06229\n",
      "[19]\tvalidation_0-error:0.06179\n"
     ]
    },
    {
     "data": {
      "text/plain": [
       "XGBClassifier(base_score=0.5, booster='gbtree', colsample_bylevel=1,\n",
       "              colsample_bynode=1, colsample_bytree=1, enable_categorical=False,\n",
       "              gamma=0, gpu_id=-1, importance_type=None,\n",
       "              interaction_constraints='', learning_rate=0.300000012,\n",
       "              max_delta_step=0, max_depth=4, min_child_weight=1, missing=nan,\n",
       "              monotone_constraints='()', n_estimators=20, n_jobs=4,\n",
       "              num_parallel_tree=1, predictor='auto', random_state=0,\n",
       "              reg_alpha=0, reg_lambda=1, scale_pos_weight=1, subsample=1,\n",
       "              tree_method='exact', validate_parameters=1, verbosity=None)"
      ]
     },
     "execution_count": 30,
     "metadata": {},
     "output_type": "execute_result"
    }
   ],
   "source": [
    "xgb_cls.fit(X_air_train, y_air_train, early_stopping_rounds=5, eval_metric=\"error\", eval_set=[(X_air_test, y_air_test)])"
   ]
  },
  {
   "cell_type": "code",
   "execution_count": 31,
   "id": "6dcc1b83",
   "metadata": {
    "scrolled": false
   },
   "outputs": [
    {
     "data": {
      "text/plain": [
       "0.9407826982492276"
      ]
     },
     "execution_count": 31,
     "metadata": {},
     "output_type": "execute_result"
    }
   ],
   "source": [
    "xgb_cls.score(X_air_valid, y_air_valid)"
   ]
  },
  {
   "cell_type": "code",
   "execution_count": 32,
   "id": "e71bdb47",
   "metadata": {},
   "outputs": [],
   "source": [
    "# Najlepszy XGBoost z defaultowymi hiperparametrami"
   ]
  },
  {
   "cell_type": "markdown",
   "id": "484b53ed",
   "metadata": {},
   "source": [
    "# Cars"
   ]
  },
  {
   "cell_type": "code",
   "execution_count": 86,
   "id": "eb0ad97e",
   "metadata": {},
   "outputs": [
    {
     "data": {
      "text/html": [
       "<div>\n",
       "<style scoped>\n",
       "    .dataframe tbody tr th:only-of-type {\n",
       "        vertical-align: middle;\n",
       "    }\n",
       "\n",
       "    .dataframe tbody tr th {\n",
       "        vertical-align: top;\n",
       "    }\n",
       "\n",
       "    .dataframe thead th {\n",
       "        text-align: right;\n",
       "    }\n",
       "</style>\n",
       "<table border=\"1\" class=\"dataframe\">\n",
       "  <thead>\n",
       "    <tr style=\"text-align: right;\">\n",
       "      <th></th>\n",
       "      <th>Unnamed: 0</th>\n",
       "      <th>mark</th>\n",
       "      <th>model</th>\n",
       "      <th>generation_name</th>\n",
       "      <th>year</th>\n",
       "      <th>mileage</th>\n",
       "      <th>vol_engine</th>\n",
       "      <th>fuel</th>\n",
       "      <th>city</th>\n",
       "      <th>province</th>\n",
       "      <th>price</th>\n",
       "    </tr>\n",
       "  </thead>\n",
       "  <tbody>\n",
       "    <tr>\n",
       "      <th>0</th>\n",
       "      <td>0</td>\n",
       "      <td>opel</td>\n",
       "      <td>combo</td>\n",
       "      <td>gen-d-2011</td>\n",
       "      <td>2015</td>\n",
       "      <td>139568</td>\n",
       "      <td>1248</td>\n",
       "      <td>Diesel</td>\n",
       "      <td>Janki</td>\n",
       "      <td>Mazowieckie</td>\n",
       "      <td>35900</td>\n",
       "    </tr>\n",
       "    <tr>\n",
       "      <th>1</th>\n",
       "      <td>1</td>\n",
       "      <td>opel</td>\n",
       "      <td>combo</td>\n",
       "      <td>gen-d-2011</td>\n",
       "      <td>2018</td>\n",
       "      <td>31991</td>\n",
       "      <td>1499</td>\n",
       "      <td>Diesel</td>\n",
       "      <td>Katowice</td>\n",
       "      <td>Śląskie</td>\n",
       "      <td>78501</td>\n",
       "    </tr>\n",
       "    <tr>\n",
       "      <th>2</th>\n",
       "      <td>2</td>\n",
       "      <td>opel</td>\n",
       "      <td>combo</td>\n",
       "      <td>gen-d-2011</td>\n",
       "      <td>2015</td>\n",
       "      <td>278437</td>\n",
       "      <td>1598</td>\n",
       "      <td>Diesel</td>\n",
       "      <td>Brzeg</td>\n",
       "      <td>Opolskie</td>\n",
       "      <td>27000</td>\n",
       "    </tr>\n",
       "    <tr>\n",
       "      <th>3</th>\n",
       "      <td>3</td>\n",
       "      <td>opel</td>\n",
       "      <td>combo</td>\n",
       "      <td>gen-d-2011</td>\n",
       "      <td>2016</td>\n",
       "      <td>47600</td>\n",
       "      <td>1248</td>\n",
       "      <td>Diesel</td>\n",
       "      <td>Korfantów</td>\n",
       "      <td>Opolskie</td>\n",
       "      <td>30800</td>\n",
       "    </tr>\n",
       "    <tr>\n",
       "      <th>4</th>\n",
       "      <td>4</td>\n",
       "      <td>opel</td>\n",
       "      <td>combo</td>\n",
       "      <td>gen-d-2011</td>\n",
       "      <td>2014</td>\n",
       "      <td>103000</td>\n",
       "      <td>1400</td>\n",
       "      <td>CNG</td>\n",
       "      <td>Tarnowskie Góry</td>\n",
       "      <td>Śląskie</td>\n",
       "      <td>35900</td>\n",
       "    </tr>\n",
       "  </tbody>\n",
       "</table>\n",
       "</div>"
      ],
      "text/plain": [
       "   Unnamed: 0  mark  model generation_name  year  mileage  vol_engine    fuel  \\\n",
       "0           0  opel  combo      gen-d-2011  2015   139568        1248  Diesel   \n",
       "1           1  opel  combo      gen-d-2011  2018    31991        1499  Diesel   \n",
       "2           2  opel  combo      gen-d-2011  2015   278437        1598  Diesel   \n",
       "3           3  opel  combo      gen-d-2011  2016    47600        1248  Diesel   \n",
       "4           4  opel  combo      gen-d-2011  2014   103000        1400     CNG   \n",
       "\n",
       "              city     province  price  \n",
       "0            Janki  Mazowieckie  35900  \n",
       "1         Katowice      Śląskie  78501  \n",
       "2            Brzeg     Opolskie  27000  \n",
       "3        Korfantów     Opolskie  30800  \n",
       "4  Tarnowskie Góry      Śląskie  35900  "
      ]
     },
     "execution_count": 86,
     "metadata": {},
     "output_type": "execute_result"
    }
   ],
   "source": [
    "cars = pd.read_csv(\"./data/car_prices_poland/Car_Prices_Poland.csv\")\n",
    "cars.head()"
   ]
  },
  {
   "cell_type": "code",
   "execution_count": 87,
   "id": "2df69c57",
   "metadata": {},
   "outputs": [],
   "source": [
    "cars=cars.drop([\"Unnamed: 0\",\"generation_name\",\"city\",\"model\",\"mark\",\"province\"], axis=1)"
   ]
  },
  {
   "cell_type": "code",
   "execution_count": 88,
   "id": "debb25e0",
   "metadata": {},
   "outputs": [],
   "source": [
    "encoded = pd.get_dummies(cars[[\"fuel\"]].astype(str))\n",
    "encoded = encoded.drop([\"fuel_CNG\"], axis = 1)\n",
    "cars = cars.drop([\"fuel\"], axis=1)\n",
    "cars = pd.concat([cars, encoded], axis = 1)"
   ]
  },
  {
   "cell_type": "code",
   "execution_count": 90,
   "id": "9f91b8c6",
   "metadata": {},
   "outputs": [
    {
     "data": {
      "text/html": [
       "<div>\n",
       "<style scoped>\n",
       "    .dataframe tbody tr th:only-of-type {\n",
       "        vertical-align: middle;\n",
       "    }\n",
       "\n",
       "    .dataframe tbody tr th {\n",
       "        vertical-align: top;\n",
       "    }\n",
       "\n",
       "    .dataframe thead th {\n",
       "        text-align: right;\n",
       "    }\n",
       "</style>\n",
       "<table border=\"1\" class=\"dataframe\">\n",
       "  <thead>\n",
       "    <tr style=\"text-align: right;\">\n",
       "      <th></th>\n",
       "      <th>year</th>\n",
       "      <th>mileage</th>\n",
       "      <th>vol_engine</th>\n",
       "      <th>price</th>\n",
       "      <th>fuel_Diesel</th>\n",
       "      <th>fuel_Electric</th>\n",
       "      <th>fuel_Gasoline</th>\n",
       "      <th>fuel_Hybrid</th>\n",
       "      <th>fuel_LPG</th>\n",
       "    </tr>\n",
       "  </thead>\n",
       "  <tbody>\n",
       "    <tr>\n",
       "      <th>0</th>\n",
       "      <td>2015</td>\n",
       "      <td>139568</td>\n",
       "      <td>1248</td>\n",
       "      <td>35900</td>\n",
       "      <td>1</td>\n",
       "      <td>0</td>\n",
       "      <td>0</td>\n",
       "      <td>0</td>\n",
       "      <td>0</td>\n",
       "    </tr>\n",
       "    <tr>\n",
       "      <th>1</th>\n",
       "      <td>2018</td>\n",
       "      <td>31991</td>\n",
       "      <td>1499</td>\n",
       "      <td>78501</td>\n",
       "      <td>1</td>\n",
       "      <td>0</td>\n",
       "      <td>0</td>\n",
       "      <td>0</td>\n",
       "      <td>0</td>\n",
       "    </tr>\n",
       "    <tr>\n",
       "      <th>2</th>\n",
       "      <td>2015</td>\n",
       "      <td>278437</td>\n",
       "      <td>1598</td>\n",
       "      <td>27000</td>\n",
       "      <td>1</td>\n",
       "      <td>0</td>\n",
       "      <td>0</td>\n",
       "      <td>0</td>\n",
       "      <td>0</td>\n",
       "    </tr>\n",
       "    <tr>\n",
       "      <th>3</th>\n",
       "      <td>2016</td>\n",
       "      <td>47600</td>\n",
       "      <td>1248</td>\n",
       "      <td>30800</td>\n",
       "      <td>1</td>\n",
       "      <td>0</td>\n",
       "      <td>0</td>\n",
       "      <td>0</td>\n",
       "      <td>0</td>\n",
       "    </tr>\n",
       "    <tr>\n",
       "      <th>4</th>\n",
       "      <td>2014</td>\n",
       "      <td>103000</td>\n",
       "      <td>1400</td>\n",
       "      <td>35900</td>\n",
       "      <td>0</td>\n",
       "      <td>0</td>\n",
       "      <td>0</td>\n",
       "      <td>0</td>\n",
       "      <td>0</td>\n",
       "    </tr>\n",
       "    <tr>\n",
       "      <th>...</th>\n",
       "      <td>...</td>\n",
       "      <td>...</td>\n",
       "      <td>...</td>\n",
       "      <td>...</td>\n",
       "      <td>...</td>\n",
       "      <td>...</td>\n",
       "      <td>...</td>\n",
       "      <td>...</td>\n",
       "      <td>...</td>\n",
       "    </tr>\n",
       "    <tr>\n",
       "      <th>117922</th>\n",
       "      <td>2020</td>\n",
       "      <td>40000</td>\n",
       "      <td>1969</td>\n",
       "      <td>222790</td>\n",
       "      <td>0</td>\n",
       "      <td>0</td>\n",
       "      <td>0</td>\n",
       "      <td>1</td>\n",
       "      <td>0</td>\n",
       "    </tr>\n",
       "    <tr>\n",
       "      <th>117923</th>\n",
       "      <td>2017</td>\n",
       "      <td>51000</td>\n",
       "      <td>1969</td>\n",
       "      <td>229900</td>\n",
       "      <td>1</td>\n",
       "      <td>0</td>\n",
       "      <td>0</td>\n",
       "      <td>0</td>\n",
       "      <td>0</td>\n",
       "    </tr>\n",
       "    <tr>\n",
       "      <th>117924</th>\n",
       "      <td>2016</td>\n",
       "      <td>83500</td>\n",
       "      <td>1969</td>\n",
       "      <td>135000</td>\n",
       "      <td>0</td>\n",
       "      <td>0</td>\n",
       "      <td>1</td>\n",
       "      <td>0</td>\n",
       "      <td>0</td>\n",
       "    </tr>\n",
       "    <tr>\n",
       "      <th>117925</th>\n",
       "      <td>2017</td>\n",
       "      <td>174000</td>\n",
       "      <td>1969</td>\n",
       "      <td>154500</td>\n",
       "      <td>1</td>\n",
       "      <td>0</td>\n",
       "      <td>0</td>\n",
       "      <td>0</td>\n",
       "      <td>0</td>\n",
       "    </tr>\n",
       "    <tr>\n",
       "      <th>117926</th>\n",
       "      <td>2016</td>\n",
       "      <td>189020</td>\n",
       "      <td>1969</td>\n",
       "      <td>130000</td>\n",
       "      <td>0</td>\n",
       "      <td>0</td>\n",
       "      <td>1</td>\n",
       "      <td>0</td>\n",
       "      <td>0</td>\n",
       "    </tr>\n",
       "  </tbody>\n",
       "</table>\n",
       "<p>117927 rows × 9 columns</p>\n",
       "</div>"
      ],
      "text/plain": [
       "        year  mileage  vol_engine   price  fuel_Diesel  fuel_Electric  \\\n",
       "0       2015   139568        1248   35900            1              0   \n",
       "1       2018    31991        1499   78501            1              0   \n",
       "2       2015   278437        1598   27000            1              0   \n",
       "3       2016    47600        1248   30800            1              0   \n",
       "4       2014   103000        1400   35900            0              0   \n",
       "...      ...      ...         ...     ...          ...            ...   \n",
       "117922  2020    40000        1969  222790            0              0   \n",
       "117923  2017    51000        1969  229900            1              0   \n",
       "117924  2016    83500        1969  135000            0              0   \n",
       "117925  2017   174000        1969  154500            1              0   \n",
       "117926  2016   189020        1969  130000            0              0   \n",
       "\n",
       "        fuel_Gasoline  fuel_Hybrid  fuel_LPG  \n",
       "0                   0            0         0  \n",
       "1                   0            0         0  \n",
       "2                   0            0         0  \n",
       "3                   0            0         0  \n",
       "4                   0            0         0  \n",
       "...               ...          ...       ...  \n",
       "117922              0            1         0  \n",
       "117923              0            0         0  \n",
       "117924              1            0         0  \n",
       "117925              0            0         0  \n",
       "117926              1            0         0  \n",
       "\n",
       "[117927 rows x 9 columns]"
      ]
     },
     "execution_count": 90,
     "metadata": {},
     "output_type": "execute_result"
    }
   ],
   "source": [
    "cars"
   ]
  },
  {
   "cell_type": "code",
   "execution_count": 91,
   "id": "01a360fa",
   "metadata": {},
   "outputs": [],
   "source": [
    "X_train_val, X_test, y_train_val, y_test = train_test_split(cars.drop(\"price\", axis=1), cars[\"price\"], random_state=21, test_size=0.2)\n",
    "X_train, X_val, y_train, y_val = train_test_split(X_train_val, y_train_val, random_state=22, test_size=0.125)"
   ]
  },
  {
   "cell_type": "code",
   "execution_count": 93,
   "id": "663f3adc",
   "metadata": {},
   "outputs": [],
   "source": [
    "rf =RandomForestRegressor()\n",
    "tree= rf.fit(X_train, y_train)"
   ]
  },
  {
   "cell_type": "code",
   "execution_count": 94,
   "id": "df7a2eac",
   "metadata": {},
   "outputs": [
    {
     "data": {
      "text/plain": [
       "0.8672005258322979"
      ]
     },
     "execution_count": 94,
     "metadata": {},
     "output_type": "execute_result"
    }
   ],
   "source": [
    "tree.score(X_test, y_test)"
   ]
  },
  {
   "cell_type": "code",
   "execution_count": 95,
   "id": "8ff7f31c",
   "metadata": {
    "scrolled": true
   },
   "outputs": [
    {
     "data": {
      "text/plain": [
       "0.8817988172075896"
      ]
     },
     "execution_count": 95,
     "metadata": {},
     "output_type": "execute_result"
    }
   ],
   "source": [
    "tree.score(X_val,y_val)"
   ]
  },
  {
   "cell_type": "code",
   "execution_count": 96,
   "id": "a8992a61",
   "metadata": {},
   "outputs": [],
   "source": [
    "rf =RandomForestRegressor(max_depth=10,n_estimators=200)\n",
    "tree= rf.fit(X_train, y_train)"
   ]
  },
  {
   "cell_type": "code",
   "execution_count": 97,
   "id": "399a347a",
   "metadata": {},
   "outputs": [
    {
     "data": {
      "text/plain": [
       "0.8681302187240776"
      ]
     },
     "execution_count": 97,
     "metadata": {},
     "output_type": "execute_result"
    }
   ],
   "source": [
    "tree.score(X_test, y_test)"
   ]
  },
  {
   "cell_type": "code",
   "execution_count": 98,
   "id": "960bf303",
   "metadata": {
    "scrolled": true
   },
   "outputs": [
    {
     "data": {
      "text/plain": [
       "0.8858420617186482"
      ]
     },
     "execution_count": 98,
     "metadata": {},
     "output_type": "execute_result"
    }
   ],
   "source": [
    "tree.score(X_val,y_val)"
   ]
  },
  {
   "cell_type": "code",
   "execution_count": 99,
   "id": "b865493f",
   "metadata": {},
   "outputs": [],
   "source": [
    "#troszke poprawiliśmy wynik"
   ]
  },
  {
   "cell_type": "code",
   "execution_count": 100,
   "id": "f499fe1e",
   "metadata": {},
   "outputs": [],
   "source": [
    "xgb_cls = xgb.XGBRegressor()"
   ]
  },
  {
   "cell_type": "code",
   "execution_count": 101,
   "id": "d1e8e612",
   "metadata": {
    "scrolled": true
   },
   "outputs": [
    {
     "name": "stdout",
     "output_type": "stream",
     "text": [
      "[0]\tvalidation_0-error:-70956.02344\n",
      "[1]\tvalidation_0-error:-70956.02344\n",
      "[2]\tvalidation_0-error:-70956.02344\n",
      "[3]\tvalidation_0-error:-70956.02344\n",
      "[4]\tvalidation_0-error:-70956.02344\n",
      "[5]\tvalidation_0-error:-70956.02344\n"
     ]
    },
    {
     "data": {
      "text/plain": [
       "XGBRegressor(base_score=0.5, booster='gbtree', colsample_bylevel=1,\n",
       "             colsample_bynode=1, colsample_bytree=1, enable_categorical=False,\n",
       "             gamma=0, gpu_id=-1, importance_type=None,\n",
       "             interaction_constraints='', learning_rate=0.300000012,\n",
       "             max_delta_step=0, max_depth=6, min_child_weight=1, missing=nan,\n",
       "             monotone_constraints='()', n_estimators=100, n_jobs=4,\n",
       "             num_parallel_tree=1, predictor='auto', random_state=0, reg_alpha=0,\n",
       "             reg_lambda=1, scale_pos_weight=1, subsample=1, tree_method='exact',\n",
       "             validate_parameters=1, verbosity=None)"
      ]
     },
     "execution_count": 101,
     "metadata": {},
     "output_type": "execute_result"
    }
   ],
   "source": [
    "xgb_cls.fit(X_train, y_train, early_stopping_rounds=5, eval_metric=\"error\", eval_set=[(X_test, y_test)])"
   ]
  },
  {
   "cell_type": "code",
   "execution_count": 102,
   "id": "983703f3",
   "metadata": {
    "scrolled": true
   },
   "outputs": [
    {
     "data": {
      "text/plain": [
       "0.08163262120809911"
      ]
     },
     "execution_count": 102,
     "metadata": {},
     "output_type": "execute_result"
    }
   ],
   "source": [
    "xgb_cls.score(X_val, y_val)"
   ]
  },
  {
   "cell_type": "code",
   "execution_count": 103,
   "id": "a1cfb2bf",
   "metadata": {},
   "outputs": [],
   "source": [
    "xgb_cls =xgb.XGBRegressor(n_estimators=1000, max_depth=7)"
   ]
  },
  {
   "cell_type": "code",
   "execution_count": 104,
   "id": "22d7fffb",
   "metadata": {
    "scrolled": true
   },
   "outputs": [
    {
     "name": "stdout",
     "output_type": "stream",
     "text": [
      "[0]\tvalidation_0-error:-70956.02344\n",
      "[1]\tvalidation_0-error:-70956.02344\n",
      "[2]\tvalidation_0-error:-70956.02344\n",
      "[3]\tvalidation_0-error:-70956.02344\n",
      "[4]\tvalidation_0-error:-70956.02344\n"
     ]
    },
    {
     "data": {
      "text/plain": [
       "XGBRegressor(base_score=0.5, booster='gbtree', colsample_bylevel=1,\n",
       "             colsample_bynode=1, colsample_bytree=1, enable_categorical=False,\n",
       "             gamma=0, gpu_id=-1, importance_type=None,\n",
       "             interaction_constraints='', learning_rate=0.300000012,\n",
       "             max_delta_step=0, max_depth=7, min_child_weight=1, missing=nan,\n",
       "             monotone_constraints='()', n_estimators=1000, n_jobs=4,\n",
       "             num_parallel_tree=1, predictor='auto', random_state=0, reg_alpha=0,\n",
       "             reg_lambda=1, scale_pos_weight=1, subsample=1, tree_method='exact',\n",
       "             validate_parameters=1, verbosity=None)"
      ]
     },
     "execution_count": 104,
     "metadata": {},
     "output_type": "execute_result"
    }
   ],
   "source": [
    "xgb_cls.fit(X_train, y_train, early_stopping_rounds=5, eval_metric=\"error\", eval_set=[(X_test, y_test)])"
   ]
  },
  {
   "cell_type": "code",
   "execution_count": 105,
   "id": "89d1ff41",
   "metadata": {
    "scrolled": false
   },
   "outputs": [
    {
     "data": {
      "text/plain": [
       "0.08604491471252318"
      ]
     },
     "execution_count": 105,
     "metadata": {},
     "output_type": "execute_result"
    }
   ],
   "source": [
    "xgb_cls.score(X_val, y_val)"
   ]
  },
  {
   "cell_type": "code",
   "execution_count": 106,
   "id": "aa9ece5e",
   "metadata": {},
   "outputs": [],
   "source": [
    "#coś nie wyszło z xgboostem"
   ]
  }
 ],
 "metadata": {
  "kernelspec": {
   "display_name": "Python 3",
   "language": "python",
   "name": "python3"
  },
  "language_info": {
   "codemirror_mode": {
    "name": "ipython",
    "version": 3
   },
   "file_extension": ".py",
   "mimetype": "text/x-python",
   "name": "python",
   "nbconvert_exporter": "python",
   "pygments_lexer": "ipython3",
   "version": "3.8.8"
  }
 },
 "nbformat": 4,
 "nbformat_minor": 5
}
