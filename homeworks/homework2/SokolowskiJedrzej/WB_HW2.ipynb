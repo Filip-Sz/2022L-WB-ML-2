{
 "cells": [
  {
   "cell_type": "markdown",
   "id": "ea3fdce7",
   "metadata": {},
   "source": [
    "# Praca domowa nr 2, Warsztaty Badawcze ML 2\n",
    "\n"
   ]
  },
  {
   "cell_type": "markdown",
   "id": "6f33cb61",
   "metadata": {},
   "source": [
    "Jędrzej Sokołowski 31.03.2022"
   ]
  },
  {
   "cell_type": "markdown",
   "id": "dd31c565",
   "metadata": {},
   "source": [
    "### Wczytanie danych oraz potrzebnych pakietów"
   ]
  },
  {
   "cell_type": "code",
   "execution_count": 468,
   "id": "b7921b02",
   "metadata": {},
   "outputs": [],
   "source": [
    "import xgboost as xgb\n",
    "import pandas as pd\n",
    "import numpy as np\n",
    "import matplotlib.pyplot as plt\n",
    "import seaborn as sns\n",
    "from sklearn.model_selection import train_test_split\n",
    "from sklearn.preprocessing import StandardScaler, OrdinalEncoder\n",
    "\n",
    "from sklearn.preprocessing import LabelEncoder, OneHotEncoder\n",
    "from sklearn.metrics import accuracy_score, r2_score\n",
    "from sklearn.tree import plot_tree\n",
    "from sklearn.ensemble import RandomForestClassifier, RandomForestRegressor\n",
    "\n",
    "import warnings\n",
    "warnings.filterwarnings('ignore')\n",
    "\n",
    "# ustawia domyślną wielkość wykresów\n",
    "plt.rcParams['figure.figsize'] = (12,8)\n",
    "# to samo tylko dla tekstu\n",
    "plt.rcParams['font.size'] = 16\n",
    "\n",
    "cat_test_df = pd.read_csv(\"test_cat.csv\")\n",
    "cat_train_df = pd.read_csv(\"train_cat.csv\")\n",
    "cars_df = pd.read_csv(\"Car_Prices_Poland.csv\")"
   ]
  },
  {
   "cell_type": "markdown",
   "id": "1c309c5d",
   "metadata": {},
   "source": [
    "## Wstęp"
   ]
  },
  {
   "cell_type": "markdown",
   "id": "487e21c2",
   "metadata": {},
   "source": [
    "Poniższy raport przestawia testowanie modeli `Random Forest` oraz `XGBoost` na zadaniach klasyfikacji i regresji dotyczących zbiorów danych posiadających informacje o pasażerach lini lotniczych oraz cenach samochodów w Polsce."
   ]
  },
  {
   "cell_type": "markdown",
   "id": "ca49865a",
   "metadata": {},
   "source": [
    "## Dane z zadaniem klasyfikacji"
   ]
  },
  {
   "cell_type": "code",
   "execution_count": 429,
   "id": "20528e77",
   "metadata": {
    "scrolled": false
   },
   "outputs": [
    {
     "data": {
      "text/html": [
       "<div>\n",
       "<style scoped>\n",
       "    .dataframe tbody tr th:only-of-type {\n",
       "        vertical-align: middle;\n",
       "    }\n",
       "\n",
       "    .dataframe tbody tr th {\n",
       "        vertical-align: top;\n",
       "    }\n",
       "\n",
       "    .dataframe thead th {\n",
       "        text-align: right;\n",
       "    }\n",
       "</style>\n",
       "<table border=\"1\" class=\"dataframe\">\n",
       "  <thead>\n",
       "    <tr style=\"text-align: right;\">\n",
       "      <th></th>\n",
       "      <th>Unnamed: 0</th>\n",
       "      <th>id</th>\n",
       "      <th>Gender</th>\n",
       "      <th>Customer Type</th>\n",
       "      <th>Age</th>\n",
       "      <th>Type of Travel</th>\n",
       "      <th>Class</th>\n",
       "      <th>Flight Distance</th>\n",
       "      <th>Inflight wifi service</th>\n",
       "      <th>Departure/Arrival time convenient</th>\n",
       "      <th>...</th>\n",
       "      <th>Inflight entertainment</th>\n",
       "      <th>On-board service</th>\n",
       "      <th>Leg room service</th>\n",
       "      <th>Baggage handling</th>\n",
       "      <th>Checkin service</th>\n",
       "      <th>Inflight service</th>\n",
       "      <th>Cleanliness</th>\n",
       "      <th>Departure Delay in Minutes</th>\n",
       "      <th>Arrival Delay in Minutes</th>\n",
       "      <th>satisfaction</th>\n",
       "    </tr>\n",
       "  </thead>\n",
       "  <tbody>\n",
       "    <tr>\n",
       "      <th>0</th>\n",
       "      <td>0</td>\n",
       "      <td>19556</td>\n",
       "      <td>Female</td>\n",
       "      <td>Loyal Customer</td>\n",
       "      <td>52</td>\n",
       "      <td>Business travel</td>\n",
       "      <td>Eco</td>\n",
       "      <td>160</td>\n",
       "      <td>5</td>\n",
       "      <td>4</td>\n",
       "      <td>...</td>\n",
       "      <td>5</td>\n",
       "      <td>5</td>\n",
       "      <td>5</td>\n",
       "      <td>5</td>\n",
       "      <td>2</td>\n",
       "      <td>5</td>\n",
       "      <td>5</td>\n",
       "      <td>50</td>\n",
       "      <td>44.0</td>\n",
       "      <td>satisfied</td>\n",
       "    </tr>\n",
       "    <tr>\n",
       "      <th>1</th>\n",
       "      <td>1</td>\n",
       "      <td>90035</td>\n",
       "      <td>Female</td>\n",
       "      <td>Loyal Customer</td>\n",
       "      <td>36</td>\n",
       "      <td>Business travel</td>\n",
       "      <td>Business</td>\n",
       "      <td>2863</td>\n",
       "      <td>1</td>\n",
       "      <td>1</td>\n",
       "      <td>...</td>\n",
       "      <td>4</td>\n",
       "      <td>4</td>\n",
       "      <td>4</td>\n",
       "      <td>4</td>\n",
       "      <td>3</td>\n",
       "      <td>4</td>\n",
       "      <td>5</td>\n",
       "      <td>0</td>\n",
       "      <td>0.0</td>\n",
       "      <td>satisfied</td>\n",
       "    </tr>\n",
       "    <tr>\n",
       "      <th>2</th>\n",
       "      <td>2</td>\n",
       "      <td>12360</td>\n",
       "      <td>Male</td>\n",
       "      <td>disloyal Customer</td>\n",
       "      <td>20</td>\n",
       "      <td>Business travel</td>\n",
       "      <td>Eco</td>\n",
       "      <td>192</td>\n",
       "      <td>2</td>\n",
       "      <td>0</td>\n",
       "      <td>...</td>\n",
       "      <td>2</td>\n",
       "      <td>4</td>\n",
       "      <td>1</td>\n",
       "      <td>3</td>\n",
       "      <td>2</td>\n",
       "      <td>2</td>\n",
       "      <td>2</td>\n",
       "      <td>0</td>\n",
       "      <td>0.0</td>\n",
       "      <td>neutral or dissatisfied</td>\n",
       "    </tr>\n",
       "    <tr>\n",
       "      <th>3</th>\n",
       "      <td>3</td>\n",
       "      <td>77959</td>\n",
       "      <td>Male</td>\n",
       "      <td>Loyal Customer</td>\n",
       "      <td>44</td>\n",
       "      <td>Business travel</td>\n",
       "      <td>Business</td>\n",
       "      <td>3377</td>\n",
       "      <td>0</td>\n",
       "      <td>0</td>\n",
       "      <td>...</td>\n",
       "      <td>1</td>\n",
       "      <td>1</td>\n",
       "      <td>1</td>\n",
       "      <td>1</td>\n",
       "      <td>3</td>\n",
       "      <td>1</td>\n",
       "      <td>4</td>\n",
       "      <td>0</td>\n",
       "      <td>6.0</td>\n",
       "      <td>satisfied</td>\n",
       "    </tr>\n",
       "    <tr>\n",
       "      <th>4</th>\n",
       "      <td>4</td>\n",
       "      <td>36875</td>\n",
       "      <td>Female</td>\n",
       "      <td>Loyal Customer</td>\n",
       "      <td>49</td>\n",
       "      <td>Business travel</td>\n",
       "      <td>Eco</td>\n",
       "      <td>1182</td>\n",
       "      <td>2</td>\n",
       "      <td>3</td>\n",
       "      <td>...</td>\n",
       "      <td>2</td>\n",
       "      <td>2</td>\n",
       "      <td>2</td>\n",
       "      <td>2</td>\n",
       "      <td>4</td>\n",
       "      <td>2</td>\n",
       "      <td>4</td>\n",
       "      <td>0</td>\n",
       "      <td>20.0</td>\n",
       "      <td>satisfied</td>\n",
       "    </tr>\n",
       "  </tbody>\n",
       "</table>\n",
       "<p>5 rows × 25 columns</p>\n",
       "</div>"
      ],
      "text/plain": [
       "   Unnamed: 0     id  Gender      Customer Type  Age   Type of Travel  \\\n",
       "0           0  19556  Female     Loyal Customer   52  Business travel   \n",
       "1           1  90035  Female     Loyal Customer   36  Business travel   \n",
       "2           2  12360    Male  disloyal Customer   20  Business travel   \n",
       "3           3  77959    Male     Loyal Customer   44  Business travel   \n",
       "4           4  36875  Female     Loyal Customer   49  Business travel   \n",
       "\n",
       "      Class  Flight Distance  Inflight wifi service  \\\n",
       "0       Eco              160                      5   \n",
       "1  Business             2863                      1   \n",
       "2       Eco              192                      2   \n",
       "3  Business             3377                      0   \n",
       "4       Eco             1182                      2   \n",
       "\n",
       "   Departure/Arrival time convenient  ...  Inflight entertainment  \\\n",
       "0                                  4  ...                       5   \n",
       "1                                  1  ...                       4   \n",
       "2                                  0  ...                       2   \n",
       "3                                  0  ...                       1   \n",
       "4                                  3  ...                       2   \n",
       "\n",
       "   On-board service  Leg room service  Baggage handling  Checkin service  \\\n",
       "0                 5                 5                 5                2   \n",
       "1                 4                 4                 4                3   \n",
       "2                 4                 1                 3                2   \n",
       "3                 1                 1                 1                3   \n",
       "4                 2                 2                 2                4   \n",
       "\n",
       "   Inflight service  Cleanliness  Departure Delay in Minutes  \\\n",
       "0                 5            5                          50   \n",
       "1                 4            5                           0   \n",
       "2                 2            2                           0   \n",
       "3                 1            4                           0   \n",
       "4                 2            4                           0   \n",
       "\n",
       "   Arrival Delay in Minutes             satisfaction  \n",
       "0                      44.0                satisfied  \n",
       "1                       0.0                satisfied  \n",
       "2                       0.0  neutral or dissatisfied  \n",
       "3                       6.0                satisfied  \n",
       "4                      20.0                satisfied  \n",
       "\n",
       "[5 rows x 25 columns]"
      ]
     },
     "execution_count": 429,
     "metadata": {},
     "output_type": "execute_result"
    }
   ],
   "source": [
    "cat_test_df.head()"
   ]
  },
  {
   "cell_type": "code",
   "execution_count": 381,
   "id": "53b022e0",
   "metadata": {},
   "outputs": [
    {
     "name": "stdout",
     "output_type": "stream",
     "text": [
      "<class 'pandas.core.frame.DataFrame'>\n",
      "RangeIndex: 25976 entries, 0 to 25975\n",
      "Data columns (total 25 columns):\n",
      " #   Column                             Non-Null Count  Dtype  \n",
      "---  ------                             --------------  -----  \n",
      " 0   Unnamed: 0                         25976 non-null  int64  \n",
      " 1   id                                 25976 non-null  int64  \n",
      " 2   Gender                             25976 non-null  object \n",
      " 3   Customer Type                      25976 non-null  object \n",
      " 4   Age                                25976 non-null  int64  \n",
      " 5   Type of Travel                     25976 non-null  object \n",
      " 6   Class                              25976 non-null  object \n",
      " 7   Flight Distance                    25976 non-null  int64  \n",
      " 8   Inflight wifi service              25976 non-null  int64  \n",
      " 9   Departure/Arrival time convenient  25976 non-null  int64  \n",
      " 10  Ease of Online booking             25976 non-null  int64  \n",
      " 11  Gate location                      25976 non-null  int64  \n",
      " 12  Food and drink                     25976 non-null  int64  \n",
      " 13  Online boarding                    25976 non-null  int64  \n",
      " 14  Seat comfort                       25976 non-null  int64  \n",
      " 15  Inflight entertainment             25976 non-null  int64  \n",
      " 16  On-board service                   25976 non-null  int64  \n",
      " 17  Leg room service                   25976 non-null  int64  \n",
      " 18  Baggage handling                   25976 non-null  int64  \n",
      " 19  Checkin service                    25976 non-null  int64  \n",
      " 20  Inflight service                   25976 non-null  int64  \n",
      " 21  Cleanliness                        25976 non-null  int64  \n",
      " 22  Departure Delay in Minutes         25976 non-null  int64  \n",
      " 23  Arrival Delay in Minutes           25893 non-null  float64\n",
      " 24  satisfaction                       25976 non-null  object \n",
      "dtypes: float64(1), int64(19), object(5)\n",
      "memory usage: 5.0+ MB\n"
     ]
    }
   ],
   "source": [
    "cat_test_df.info()"
   ]
  },
  {
   "cell_type": "code",
   "execution_count": 382,
   "id": "bfb56d78",
   "metadata": {
    "scrolled": true
   },
   "outputs": [
    {
     "name": "stdout",
     "output_type": "stream",
     "text": [
      "0.00298352325223283\n",
      "0.0031952571604558053\n"
     ]
    }
   ],
   "source": [
    "print(cat_train_df[cat_train_df[\"Arrival Delay in Minutes\"].isna()].shape[0]/cat_train_df.shape[0])\n",
    "print(cat_test_df[cat_test_df[\"Arrival Delay in Minutes\"].isna()].shape[0]/cat_test_df.shape[0])"
   ]
  },
  {
   "cell_type": "code",
   "execution_count": 383,
   "id": "7e63b975",
   "metadata": {
    "scrolled": true
   },
   "outputs": [
    {
     "data": {
      "text/plain": [
       "array(['neutral or dissatisfied', 'satisfied'], dtype=object)"
      ]
     },
     "execution_count": 383,
     "metadata": {},
     "output_type": "execute_result"
    }
   ],
   "source": [
    "cat_train_df[\"satisfaction\"].unique()"
   ]
  },
  {
   "cell_type": "markdown",
   "id": "a554c428",
   "metadata": {},
   "source": [
    "Jedyne braki w postaci `NaN` występują w kolumnie `Arrival Delay in Minutes`, jako że te wiersze w odpowiadają za mniej niż jeden procent danych, zostaną one usunięte. Zmienna celu przyjmuje tylko dwie wartości, dlatego zakodujemy ją binarnie. Podobnie zrobimy z kolumną `Gender`. Kolumny numeryczne zostaną przeskalowane."
   ]
  },
  {
   "cell_type": "code",
   "execution_count": 384,
   "id": "331355a4",
   "metadata": {},
   "outputs": [],
   "source": [
    "le_train = LabelEncoder()\n",
    "le_test = LabelEncoder()\n",
    "\n",
    "integer_encoded_train = le_train.fit_transform(cat_train_df[\"satisfaction\"])\n",
    "integer_encoded_test = le_test.fit_transform(cat_test_df[\"satisfaction\"])\n",
    "\n",
    "cat_train_df[\"satisfaction\"] = integer_encoded_train\n",
    "cat_test_df[\"satisfaction\"] = integer_encoded_test\n",
    "\n",
    "cat_train_df['Gender'] = (cat_train_df['Gender'] == 'Female')*1\n",
    "cat_test_df['Gender'] = (cat_test_df['Gender'] == 'Female')*1"
   ]
  },
  {
   "cell_type": "code",
   "execution_count": 385,
   "id": "7ffc8d8d",
   "metadata": {},
   "outputs": [
    {
     "name": "stdout",
     "output_type": "stream",
     "text": [
      "['Age', 'Flight Distance', 'Inflight wifi service', 'Departure/Arrival time convenient', 'Ease of Online booking', 'Gate location', 'Food and drink', 'Online boarding', 'Seat comfort', 'Inflight entertainment', 'On-board service', 'Leg room service', 'Baggage handling', 'Checkin service', 'Inflight service', 'Cleanliness', 'Departure Delay in Minutes', 'Arrival Delay in Minutes']\n"
     ]
    }
   ],
   "source": [
    "cat_test_df = cat_test_df.drop(columns = [\"Unnamed: 0\", \"id\"], axis=1)\n",
    "cat_train_df = cat_train_df.drop(columns = [\"Unnamed: 0\", \"id\"], axis=1)\n",
    "\n",
    "cat_test_df = cat_test_df[~cat_test_df[\"Arrival Delay in Minutes\"].isna()]\n",
    "cat_train_df = cat_train_df[~cat_train_df[\"Arrival Delay in Minutes\"].isna()]\n",
    "\n",
    "numeric_columns = list(cat_train_df._get_numeric_data().columns)\n",
    "numeric_columns.remove('satisfaction')\n",
    "numeric_columns.remove('Gender')\n",
    "print(numeric_columns)\n",
    "\n",
    "for col in numeric_columns:\n",
    "    transf1 = cat_test_df[col].values.reshape(-1,1)\n",
    "    scaler1 = StandardScaler().fit(transf1)\n",
    "    cat_test_df[col] = scaler1.transform(transf1)\n",
    "    \n",
    "    transf2 = cat_train_df[col].values.reshape(-1,1)\n",
    "    scaler2 = StandardScaler().fit(transf2)\n",
    "    cat_train_df[col] = scaler2.transform(transf2)\n",
    "    \n",
    "encoded_test = pd.get_dummies(cat_test_df[[\"Customer Type\",\"Type of Travel\", \"Class\"]].astype(str))\n",
    "encoded_test = encoded_test.drop([\"Customer Type_Loyal Customer\", \"Type of Travel_Business travel\", \"Class_Business\"], axis = 1)\n",
    "\n",
    "cat_test_df = cat_test_df.drop([\"Customer Type\",\"Type of Travel\", \"Class\"], axis=1)\n",
    "cat_test_df = pd.concat([cat_test_df, encoded_test], axis = 1)\n",
    "\n",
    "encoded_train = pd.get_dummies(cat_train_df[[\"Customer Type\",\"Type of Travel\", \"Class\"]].astype(str))\n",
    "encoded_train = encoded_train.drop([\"Customer Type_Loyal Customer\", \"Type of Travel_Business travel\", \"Class_Business\"], axis = 1)\n",
    "\n",
    "cat_train_df = cat_train_df.drop([\"Customer Type\",\"Type of Travel\", \"Class\"], axis=1)\n",
    "cat_train_df = pd.concat([cat_train_df, encoded_train], axis = 1)"
   ]
  },
  {
   "cell_type": "code",
   "execution_count": 386,
   "id": "221075e5",
   "metadata": {
    "scrolled": true
   },
   "outputs": [
    {
     "data": {
      "text/html": [
       "<div>\n",
       "<style scoped>\n",
       "    .dataframe tbody tr th:only-of-type {\n",
       "        vertical-align: middle;\n",
       "    }\n",
       "\n",
       "    .dataframe tbody tr th {\n",
       "        vertical-align: top;\n",
       "    }\n",
       "\n",
       "    .dataframe thead th {\n",
       "        text-align: right;\n",
       "    }\n",
       "</style>\n",
       "<table border=\"1\" class=\"dataframe\">\n",
       "  <thead>\n",
       "    <tr style=\"text-align: right;\">\n",
       "      <th></th>\n",
       "      <th>Gender</th>\n",
       "      <th>Age</th>\n",
       "      <th>Flight Distance</th>\n",
       "      <th>Inflight wifi service</th>\n",
       "      <th>Departure/Arrival time convenient</th>\n",
       "      <th>Ease of Online booking</th>\n",
       "      <th>Gate location</th>\n",
       "      <th>Food and drink</th>\n",
       "      <th>Online boarding</th>\n",
       "      <th>Seat comfort</th>\n",
       "      <th>...</th>\n",
       "      <th>Checkin service</th>\n",
       "      <th>Inflight service</th>\n",
       "      <th>Cleanliness</th>\n",
       "      <th>Departure Delay in Minutes</th>\n",
       "      <th>Arrival Delay in Minutes</th>\n",
       "      <th>satisfaction</th>\n",
       "      <th>Customer Type_disloyal Customer</th>\n",
       "      <th>Type of Travel_Personal Travel</th>\n",
       "      <th>Class_Eco</th>\n",
       "      <th>Class_Eco Plus</th>\n",
       "    </tr>\n",
       "  </thead>\n",
       "  <tbody>\n",
       "    <tr>\n",
       "      <th>0</th>\n",
       "      <td>0</td>\n",
       "      <td>-1.745542</td>\n",
       "      <td>-0.731305</td>\n",
       "      <td>0.203521</td>\n",
       "      <td>0.616249</td>\n",
       "      <td>0.173716</td>\n",
       "      <td>-1.547312</td>\n",
       "      <td>1.352401</td>\n",
       "      <td>-0.185632</td>\n",
       "      <td>1.182991</td>\n",
       "      <td>...</td>\n",
       "      <td>0.549773</td>\n",
       "      <td>1.156211</td>\n",
       "      <td>1.305913</td>\n",
       "      <td>0.268966</td>\n",
       "      <td>0.072905</td>\n",
       "      <td>0</td>\n",
       "      <td>0</td>\n",
       "      <td>1</td>\n",
       "      <td>0</td>\n",
       "      <td>1</td>\n",
       "    </tr>\n",
       "    <tr>\n",
       "      <th>1</th>\n",
       "      <td>0</td>\n",
       "      <td>-0.951526</td>\n",
       "      <td>-0.956916</td>\n",
       "      <td>0.203521</td>\n",
       "      <td>-0.695032</td>\n",
       "      <td>0.173716</td>\n",
       "      <td>0.017981</td>\n",
       "      <td>-1.656487</td>\n",
       "      <td>-0.185632</td>\n",
       "      <td>-1.849863</td>\n",
       "      <td>...</td>\n",
       "      <td>-1.821038</td>\n",
       "      <td>0.305580</td>\n",
       "      <td>-1.742432</td>\n",
       "      <td>-0.360682</td>\n",
       "      <td>-0.237184</td>\n",
       "      <td>0</td>\n",
       "      <td>1</td>\n",
       "      <td>0</td>\n",
       "      <td>0</td>\n",
       "      <td>0</td>\n",
       "    </tr>\n",
       "    <tr>\n",
       "      <th>2</th>\n",
       "      <td>1</td>\n",
       "      <td>-0.885358</td>\n",
       "      <td>-0.047454</td>\n",
       "      <td>-0.549571</td>\n",
       "      <td>-0.695032</td>\n",
       "      <td>-0.541118</td>\n",
       "      <td>-0.764666</td>\n",
       "      <td>1.352401</td>\n",
       "      <td>1.296479</td>\n",
       "      <td>1.182991</td>\n",
       "      <td>...</td>\n",
       "      <td>0.549773</td>\n",
       "      <td>0.305580</td>\n",
       "      <td>1.305913</td>\n",
       "      <td>-0.386917</td>\n",
       "      <td>-0.392229</td>\n",
       "      <td>1</td>\n",
       "      <td>0</td>\n",
       "      <td>0</td>\n",
       "      <td>0</td>\n",
       "      <td>0</td>\n",
       "    </tr>\n",
       "    <tr>\n",
       "      <th>3</th>\n",
       "      <td>1</td>\n",
       "      <td>-0.951526</td>\n",
       "      <td>-0.629028</td>\n",
       "      <td>-0.549571</td>\n",
       "      <td>1.271890</td>\n",
       "      <td>1.603383</td>\n",
       "      <td>1.583273</td>\n",
       "      <td>-0.904265</td>\n",
       "      <td>-0.926688</td>\n",
       "      <td>-1.091649</td>\n",
       "      <td>...</td>\n",
       "      <td>-1.821038</td>\n",
       "      <td>0.305580</td>\n",
       "      <td>-0.980345</td>\n",
       "      <td>-0.098328</td>\n",
       "      <td>-0.159662</td>\n",
       "      <td>0</td>\n",
       "      <td>0</td>\n",
       "      <td>0</td>\n",
       "      <td>0</td>\n",
       "      <td>0</td>\n",
       "    </tr>\n",
       "    <tr>\n",
       "      <th>4</th>\n",
       "      <td>0</td>\n",
       "      <td>1.430521</td>\n",
       "      <td>-0.977973</td>\n",
       "      <td>0.203521</td>\n",
       "      <td>-0.039391</td>\n",
       "      <td>0.173716</td>\n",
       "      <td>0.017981</td>\n",
       "      <td>0.600179</td>\n",
       "      <td>1.296479</td>\n",
       "      <td>1.182991</td>\n",
       "      <td>...</td>\n",
       "      <td>-0.240497</td>\n",
       "      <td>-0.545051</td>\n",
       "      <td>-0.218259</td>\n",
       "      <td>-0.386917</td>\n",
       "      <td>-0.392229</td>\n",
       "      <td>1</td>\n",
       "      <td>0</td>\n",
       "      <td>0</td>\n",
       "      <td>0</td>\n",
       "      <td>0</td>\n",
       "    </tr>\n",
       "  </tbody>\n",
       "</table>\n",
       "<p>5 rows × 24 columns</p>\n",
       "</div>"
      ],
      "text/plain": [
       "   Gender       Age  Flight Distance  Inflight wifi service  \\\n",
       "0       0 -1.745542        -0.731305               0.203521   \n",
       "1       0 -0.951526        -0.956916               0.203521   \n",
       "2       1 -0.885358        -0.047454              -0.549571   \n",
       "3       1 -0.951526        -0.629028              -0.549571   \n",
       "4       0  1.430521        -0.977973               0.203521   \n",
       "\n",
       "   Departure/Arrival time convenient  Ease of Online booking  Gate location  \\\n",
       "0                           0.616249                0.173716      -1.547312   \n",
       "1                          -0.695032                0.173716       0.017981   \n",
       "2                          -0.695032               -0.541118      -0.764666   \n",
       "3                           1.271890                1.603383       1.583273   \n",
       "4                          -0.039391                0.173716       0.017981   \n",
       "\n",
       "   Food and drink  Online boarding  Seat comfort  ...  Checkin service  \\\n",
       "0        1.352401        -0.185632      1.182991  ...         0.549773   \n",
       "1       -1.656487        -0.185632     -1.849863  ...        -1.821038   \n",
       "2        1.352401         1.296479      1.182991  ...         0.549773   \n",
       "3       -0.904265        -0.926688     -1.091649  ...        -1.821038   \n",
       "4        0.600179         1.296479      1.182991  ...        -0.240497   \n",
       "\n",
       "   Inflight service  Cleanliness  Departure Delay in Minutes  \\\n",
       "0          1.156211     1.305913                    0.268966   \n",
       "1          0.305580    -1.742432                   -0.360682   \n",
       "2          0.305580     1.305913                   -0.386917   \n",
       "3          0.305580    -0.980345                   -0.098328   \n",
       "4         -0.545051    -0.218259                   -0.386917   \n",
       "\n",
       "   Arrival Delay in Minutes  satisfaction  Customer Type_disloyal Customer  \\\n",
       "0                  0.072905             0                                0   \n",
       "1                 -0.237184             0                                1   \n",
       "2                 -0.392229             1                                0   \n",
       "3                 -0.159662             0                                0   \n",
       "4                 -0.392229             1                                0   \n",
       "\n",
       "   Type of Travel_Personal Travel  Class_Eco  Class_Eco Plus  \n",
       "0                               1          0               1  \n",
       "1                               0          0               0  \n",
       "2                               0          0               0  \n",
       "3                               0          0               0  \n",
       "4                               0          0               0  \n",
       "\n",
       "[5 rows x 24 columns]"
      ]
     },
     "execution_count": 386,
     "metadata": {},
     "output_type": "execute_result"
    }
   ],
   "source": [
    "cat_train_df.head()"
   ]
  },
  {
   "cell_type": "markdown",
   "id": "d649c637",
   "metadata": {},
   "source": [
    "### Podział danych na zbiór treningowy, walidacyjny oraz testowy"
   ]
  },
  {
   "cell_type": "code",
   "execution_count": 387,
   "id": "1641d970",
   "metadata": {
    "scrolled": true
   },
   "outputs": [
    {
     "data": {
      "text/plain": [
       "0.24994690812209203"
      ]
     },
     "execution_count": 387,
     "metadata": {},
     "output_type": "execute_result"
    }
   ],
   "source": [
    "cat_test_df.shape[0]/cat_train_df.shape[0]"
   ]
  },
  {
   "cell_type": "code",
   "execution_count": 388,
   "id": "ad075ff0",
   "metadata": {},
   "outputs": [],
   "source": [
    "y_train = cat_train_df[\"satisfaction\"]\n",
    "X_train = cat_train_df.drop(\"satisfaction\", axis= 1)\n",
    "y_test = cat_test_df[\"satisfaction\"]\n",
    "X_test = cat_test_df.drop(\"satisfaction\", axis= 1)\n",
    "\n",
    "X_train, X_val, y_train, y_val = train_test_split(X_train, y_train, random_state=420, test_size=0.125)"
   ]
  },
  {
   "cell_type": "markdown",
   "id": "0454ddcd",
   "metadata": {},
   "source": [
    "Proporcje dobrane sa tak by zbiory były podzielone w na 70%/10%/20%"
   ]
  },
  {
   "cell_type": "markdown",
   "id": "b711e6ad",
   "metadata": {},
   "source": [
    "### Model `Random Forest`"
   ]
  },
  {
   "cell_type": "code",
   "execution_count": 389,
   "id": "9fa748b5",
   "metadata": {
    "scrolled": true
   },
   "outputs": [
    {
     "name": "stdout",
     "output_type": "stream",
     "text": [
      "0.961147800563859\n"
     ]
    }
   ],
   "source": [
    "rndForest = RandomForestClassifier()\n",
    "rndForest.fit(X_train, y_train)\n",
    "y_pred = rndForest.predict(X_test)\n",
    "print(accuracy_score(y_test, y_pred, normalize=True))"
   ]
  },
  {
   "cell_type": "code",
   "execution_count": 390,
   "id": "413b1759",
   "metadata": {
    "scrolled": true
   },
   "outputs": [
    {
     "name": "stdout",
     "output_type": "stream",
     "text": [
      "0.9592940176881782\n"
     ]
    }
   ],
   "source": [
    "rndForest = RandomForestClassifier(n_estimators=20)\n",
    "rndForest.fit(X_train, y_train)\n",
    "y_pred = rndForest.predict(X_test)\n",
    "print(accuracy_score(y_test, y_pred, normalize=True))"
   ]
  },
  {
   "cell_type": "code",
   "execution_count": 391,
   "id": "7c91bfa7",
   "metadata": {
    "scrolled": true
   },
   "outputs": [
    {
     "name": "stdout",
     "output_type": "stream",
     "text": [
      "0.952921639053026\n"
     ]
    }
   ],
   "source": [
    "rndForest = RandomForestClassifier(n_estimators=5)\n",
    "rndForest.fit(X_train, y_train)\n",
    "y_pred = rndForest.predict(X_test)\n",
    "print(accuracy_score(y_test, y_pred, normalize=True))"
   ]
  },
  {
   "cell_type": "code",
   "execution_count": 392,
   "id": "3ec32d5a",
   "metadata": {
    "scrolled": false
   },
   "outputs": [
    {
     "name": "stdout",
     "output_type": "stream",
     "text": [
      "0.9612250415170123\n"
     ]
    }
   ],
   "source": [
    "rndForest = RandomForestClassifier(max_depth=20)\n",
    "rndForest.fit(X_train, y_train)\n",
    "y_pred = rndForest.predict(X_test)\n",
    "print(accuracy_score(y_test, y_pred, normalize=True))"
   ]
  },
  {
   "cell_type": "code",
   "execution_count": 393,
   "id": "7b88cf79",
   "metadata": {
    "scrolled": true
   },
   "outputs": [
    {
     "name": "stdout",
     "output_type": "stream",
     "text": [
      "0.9202873363457305\n"
     ]
    }
   ],
   "source": [
    "rndForest = RandomForestClassifier(max_depth=5)\n",
    "rndForest.fit(X_train, y_train)\n",
    "y_pred = rndForest.predict(X_test)\n",
    "print(accuracy_score(y_test, y_pred, normalize=True))"
   ]
  },
  {
   "cell_type": "code",
   "execution_count": 394,
   "id": "4c1cb8f3",
   "metadata": {
    "scrolled": true
   },
   "outputs": [
    {
     "name": "stdout",
     "output_type": "stream",
     "text": [
      "0.8734406982582165\n"
     ]
    }
   ],
   "source": [
    "rndForest = RandomForestClassifier(max_depth=2)\n",
    "rndForest.fit(X_train, y_train)\n",
    "y_pred = rndForest.predict(X_test)\n",
    "print(accuracy_score(y_test, y_pred, normalize=True))"
   ]
  },
  {
   "cell_type": "code",
   "execution_count": 395,
   "id": "779ac5da",
   "metadata": {},
   "outputs": [
    {
     "data": {
      "image/png": "[encoded data removed]",
      "text/plain": [
       "<Figure size 864x576 with 1 Axes>"
      ]
     },
     "metadata": {
      "needs_background": "light"
     },
     "output_type": "display_data"
    },
    {
     "name": "stdout",
     "output_type": "stream",
     "text": [
      "0.8423125941374117\n"
     ]
    }
   ],
   "source": [
    "rndForest = RandomForestClassifier(n_estimators = 5, max_depth=2)\n",
    "rndForest.fit(X_train, y_train)\n",
    "plot_tree(rndForest.estimators_[0])\n",
    "plt.show()\n",
    "y_pred = rndForest.predict(X_test)\n",
    "print(accuracy_score(y_test, y_pred, normalize=True))"
   ]
  },
  {
   "cell_type": "markdown",
   "id": "0be0614c",
   "metadata": {},
   "source": [
    "Widzimy, że dla modelu `Random Forest` dokładność wyników była całkiem dobra. Wraz z ograniczeniem hiperparametrów takich jak `max_depth` lub `n_estimators` stopniowo malała celność otrzymywanych rezultatów."
   ]
  },
  {
   "cell_type": "markdown",
   "id": "9c98694c",
   "metadata": {},
   "source": [
    "### Model `XGBoost`"
   ]
  },
  {
   "cell_type": "code",
   "execution_count": null,
   "id": "db42ecc3",
   "metadata": {},
   "outputs": [],
   "source": [
    "xgb_cls = xgb.XGBClassifier(objective=\"binary:logistic\", seed = 420, use_label_encoder=False)\n",
    "xgb_cls.fit(X_train, y_train, verbose=True, eval_metric=\"error\", eval_set=[(X_val, y_val)])"
   ]
  },
  {
   "cell_type": "code",
   "execution_count": 364,
   "id": "901c2b9f",
   "metadata": {
    "scrolled": false
   },
   "outputs": [
    {
     "data": {
      "text/plain": [
       "0.9622677943845827"
      ]
     },
     "execution_count": 364,
     "metadata": {},
     "output_type": "execute_result"
    }
   ],
   "source": [
    "xgb_cls.score(X_test, y_test)"
   ]
  },
  {
   "cell_type": "code",
   "execution_count": null,
   "id": "f9c8963b",
   "metadata": {},
   "outputs": [],
   "source": [
    "xgb_cls = xgb.XGBClassifier(objective=\"binary:logistic\", n_estimators=20, seed = 420, use_label_encoder=False)\n",
    "xgb_cls.fit(X_train, y_train, verbose=True, eval_metric=\"error\", eval_set=[(X_val, y_val)])"
   ]
  },
  {
   "cell_type": "code",
   "execution_count": 368,
   "id": "aadca3fc",
   "metadata": {
    "scrolled": true
   },
   "outputs": [
    {
     "data": {
      "text/plain": [
       "0.9540416328737497"
      ]
     },
     "execution_count": 368,
     "metadata": {},
     "output_type": "execute_result"
    }
   ],
   "source": [
    "xgb_cls.score(X_test, y_test)"
   ]
  },
  {
   "cell_type": "code",
   "execution_count": null,
   "id": "7d18cfa8",
   "metadata": {},
   "outputs": [],
   "source": [
    "xgb_cls = xgb.XGBClassifier(objective=\"binary:logistic\", n_estimators=5, seed = 420, use_label_encoder=False)\n",
    "xgb_cls.fit(X_train, y_train, verbose=True, eval_metric=\"error\", eval_set=[(X_val, y_val)])"
   ]
  },
  {
   "cell_type": "code",
   "execution_count": 370,
   "id": "633af245",
   "metadata": {
    "scrolled": false
   },
   "outputs": [
    {
     "data": {
      "text/plain": [
       "0.9384389603367705"
      ]
     },
     "execution_count": 370,
     "metadata": {},
     "output_type": "execute_result"
    }
   ],
   "source": [
    "xgb_cls.score(X_test, y_test)"
   ]
  },
  {
   "cell_type": "code",
   "execution_count": null,
   "id": "8d9ca241",
   "metadata": {},
   "outputs": [],
   "source": [
    "xgb_cls = xgb.XGBClassifier(objective=\"binary:logistic\", max_depth=20, seed = 420, use_label_encoder=False)\n",
    "xgb_cls.fit(X_train, y_train, verbose=True, eval_metric=\"error\", eval_set=[(X_val, y_val)])"
   ]
  },
  {
   "cell_type": "code",
   "execution_count": 372,
   "id": "9c9ae82c",
   "metadata": {
    "scrolled": true
   },
   "outputs": [
    {
     "data": {
      "text/plain": [
       "0.9632719267755764"
      ]
     },
     "execution_count": 372,
     "metadata": {},
     "output_type": "execute_result"
    }
   ],
   "source": [
    "xgb_cls.score(X_test, y_test)"
   ]
  },
  {
   "cell_type": "code",
   "execution_count": null,
   "id": "4d17ddc3",
   "metadata": {},
   "outputs": [],
   "source": [
    "xgb_cls = xgb.XGBClassifier(objective=\"binary:logistic\", max_depth=5, seed = 420, use_label_encoder=False)\n",
    "xgb_cls.fit(X_train, y_train, verbose=True, eval_metric=\"error\", eval_set=[(X_val, y_val)])"
   ]
  },
  {
   "cell_type": "code",
   "execution_count": 374,
   "id": "75ed45e2",
   "metadata": {
    "scrolled": true
   },
   "outputs": [
    {
     "data": {
      "text/plain": [
       "0.9616884872359325"
      ]
     },
     "execution_count": 374,
     "metadata": {},
     "output_type": "execute_result"
    }
   ],
   "source": [
    "xgb_cls.score(X_test, y_test)"
   ]
  },
  {
   "cell_type": "code",
   "execution_count": null,
   "id": "f3e9bc95",
   "metadata": {},
   "outputs": [],
   "source": [
    "xgb_cls = xgb.XGBClassifier(objective=\"binary:logistic\", max_depth=2, seed = 420, use_label_encoder=False)\n",
    "xgb_cls.fit(X_train, y_train, verbose=True, eval_metric=\"error\", eval_set=[(X_val, y_val)])"
   ]
  },
  {
   "cell_type": "code",
   "execution_count": 376,
   "id": "f459a6de",
   "metadata": {
    "scrolled": true
   },
   "outputs": [
    {
     "data": {
      "text/plain": [
       "0.944193411346696"
      ]
     },
     "execution_count": 376,
     "metadata": {},
     "output_type": "execute_result"
    }
   ],
   "source": [
    "xgb_cls.score(X_test, y_test)"
   ]
  },
  {
   "cell_type": "code",
   "execution_count": null,
   "id": "e1ac0674",
   "metadata": {},
   "outputs": [],
   "source": [
    "xgb_cls = xgb.XGBClassifier(objective=\"binary:logistic\", max_depth=2, n_estimators=5, seed = 420, use_label_encoder=False)\n",
    "xgb_cls.fit(X_train, y_train, verbose=True, eval_metric=\"error\", eval_set=[(X_val, y_val)])"
   ]
  },
  {
   "cell_type": "code",
   "execution_count": 378,
   "id": "06397036",
   "metadata": {},
   "outputs": [
    {
     "data": {
      "text/plain": [
       "0.8686903796392847"
      ]
     },
     "execution_count": 378,
     "metadata": {},
     "output_type": "execute_result"
    }
   ],
   "source": [
    "xgb_cls.score(X_test, y_test)"
   ]
  },
  {
   "cell_type": "markdown",
   "id": "864c3c32",
   "metadata": {},
   "source": [
    "Widzimy, że dla modelu `GXBoost` dokładność wyników znowu była dobra. Dla niektórych wartości hiperparametrów ten model poradził sobie trochę lepiej od modelu `Random Forest`. Poza tym możemy wyciągnąć analogiczne wnioski."
   ]
  },
  {
   "cell_type": "markdown",
   "id": "ea21debc",
   "metadata": {},
   "source": [
    "## Dane z zadaniem regresji"
   ]
  },
  {
   "cell_type": "code",
   "execution_count": 430,
   "id": "90ec7c01",
   "metadata": {
    "scrolled": true
   },
   "outputs": [
    {
     "data": {
      "text/html": [
       "<div>\n",
       "<style scoped>\n",
       "    .dataframe tbody tr th:only-of-type {\n",
       "        vertical-align: middle;\n",
       "    }\n",
       "\n",
       "    .dataframe tbody tr th {\n",
       "        vertical-align: top;\n",
       "    }\n",
       "\n",
       "    .dataframe thead th {\n",
       "        text-align: right;\n",
       "    }\n",
       "</style>\n",
       "<table border=\"1\" class=\"dataframe\">\n",
       "  <thead>\n",
       "    <tr style=\"text-align: right;\">\n",
       "      <th></th>\n",
       "      <th>Unnamed: 0</th>\n",
       "      <th>mark</th>\n",
       "      <th>model</th>\n",
       "      <th>generation_name</th>\n",
       "      <th>year</th>\n",
       "      <th>mileage</th>\n",
       "      <th>vol_engine</th>\n",
       "      <th>fuel</th>\n",
       "      <th>city</th>\n",
       "      <th>province</th>\n",
       "      <th>price</th>\n",
       "    </tr>\n",
       "  </thead>\n",
       "  <tbody>\n",
       "    <tr>\n",
       "      <th>0</th>\n",
       "      <td>0</td>\n",
       "      <td>opel</td>\n",
       "      <td>combo</td>\n",
       "      <td>gen-d-2011</td>\n",
       "      <td>2015</td>\n",
       "      <td>139568</td>\n",
       "      <td>1248</td>\n",
       "      <td>Diesel</td>\n",
       "      <td>Janki</td>\n",
       "      <td>Mazowieckie</td>\n",
       "      <td>35900</td>\n",
       "    </tr>\n",
       "    <tr>\n",
       "      <th>1</th>\n",
       "      <td>1</td>\n",
       "      <td>opel</td>\n",
       "      <td>combo</td>\n",
       "      <td>gen-d-2011</td>\n",
       "      <td>2018</td>\n",
       "      <td>31991</td>\n",
       "      <td>1499</td>\n",
       "      <td>Diesel</td>\n",
       "      <td>Katowice</td>\n",
       "      <td>Śląskie</td>\n",
       "      <td>78501</td>\n",
       "    </tr>\n",
       "    <tr>\n",
       "      <th>2</th>\n",
       "      <td>2</td>\n",
       "      <td>opel</td>\n",
       "      <td>combo</td>\n",
       "      <td>gen-d-2011</td>\n",
       "      <td>2015</td>\n",
       "      <td>278437</td>\n",
       "      <td>1598</td>\n",
       "      <td>Diesel</td>\n",
       "      <td>Brzeg</td>\n",
       "      <td>Opolskie</td>\n",
       "      <td>27000</td>\n",
       "    </tr>\n",
       "    <tr>\n",
       "      <th>3</th>\n",
       "      <td>3</td>\n",
       "      <td>opel</td>\n",
       "      <td>combo</td>\n",
       "      <td>gen-d-2011</td>\n",
       "      <td>2016</td>\n",
       "      <td>47600</td>\n",
       "      <td>1248</td>\n",
       "      <td>Diesel</td>\n",
       "      <td>Korfantów</td>\n",
       "      <td>Opolskie</td>\n",
       "      <td>30800</td>\n",
       "    </tr>\n",
       "    <tr>\n",
       "      <th>4</th>\n",
       "      <td>4</td>\n",
       "      <td>opel</td>\n",
       "      <td>combo</td>\n",
       "      <td>gen-d-2011</td>\n",
       "      <td>2014</td>\n",
       "      <td>103000</td>\n",
       "      <td>1400</td>\n",
       "      <td>CNG</td>\n",
       "      <td>Tarnowskie Góry</td>\n",
       "      <td>Śląskie</td>\n",
       "      <td>35900</td>\n",
       "    </tr>\n",
       "  </tbody>\n",
       "</table>\n",
       "</div>"
      ],
      "text/plain": [
       "   Unnamed: 0  mark  model generation_name  year  mileage  vol_engine    fuel  \\\n",
       "0           0  opel  combo      gen-d-2011  2015   139568        1248  Diesel   \n",
       "1           1  opel  combo      gen-d-2011  2018    31991        1499  Diesel   \n",
       "2           2  opel  combo      gen-d-2011  2015   278437        1598  Diesel   \n",
       "3           3  opel  combo      gen-d-2011  2016    47600        1248  Diesel   \n",
       "4           4  opel  combo      gen-d-2011  2014   103000        1400     CNG   \n",
       "\n",
       "              city     province  price  \n",
       "0            Janki  Mazowieckie  35900  \n",
       "1         Katowice      Śląskie  78501  \n",
       "2            Brzeg     Opolskie  27000  \n",
       "3        Korfantów     Opolskie  30800  \n",
       "4  Tarnowskie Góry      Śląskie  35900  "
      ]
     },
     "execution_count": 430,
     "metadata": {},
     "output_type": "execute_result"
    }
   ],
   "source": [
    "cars_df.head()"
   ]
  },
  {
   "cell_type": "code",
   "execution_count": 431,
   "id": "100ff0d9",
   "metadata": {
    "scrolled": true
   },
   "outputs": [
    {
     "name": "stdout",
     "output_type": "stream",
     "text": [
      "<class 'pandas.core.frame.DataFrame'>\n",
      "RangeIndex: 117927 entries, 0 to 117926\n",
      "Data columns (total 11 columns):\n",
      " #   Column           Non-Null Count   Dtype \n",
      "---  ------           --------------   ----- \n",
      " 0   Unnamed: 0       117927 non-null  int64 \n",
      " 1   mark             117927 non-null  object\n",
      " 2   model            117927 non-null  object\n",
      " 3   generation_name  87842 non-null   object\n",
      " 4   year             117927 non-null  int64 \n",
      " 5   mileage          117927 non-null  int64 \n",
      " 6   vol_engine       117927 non-null  int64 \n",
      " 7   fuel             117927 non-null  object\n",
      " 8   city             117927 non-null  object\n",
      " 9   province         117927 non-null  object\n",
      " 10  price            117927 non-null  int64 \n",
      "dtypes: int64(5), object(6)\n",
      "memory usage: 9.9+ MB\n"
     ]
    }
   ],
   "source": [
    "cars_df.info()"
   ]
  },
  {
   "cell_type": "code",
   "execution_count": 432,
   "id": "a9eba87d",
   "metadata": {},
   "outputs": [],
   "source": [
    "cars_df = cars_df.drop(columns = [\"Unnamed: 0\"], axis=1)"
   ]
  },
  {
   "cell_type": "code",
   "execution_count": 433,
   "id": "c30a5760",
   "metadata": {},
   "outputs": [],
   "source": [
    "cars_df[\"years_old\"] = 2022 - cars_df[\"year\"]\n",
    "cars_df.drop(columns=[\"year\"], axis=1, inplace=True)"
   ]
  },
  {
   "cell_type": "markdown",
   "id": "ffad295a",
   "metadata": {},
   "source": [
    "Jako że 25% wierszy posiada braki w kolumnie `generation_name`, przetestuje model dla dwóch zbiorów danych, takiego bez kolumny `generation_name` oraz takiego z usuniętymi wierszami zawierającymi braki."
   ]
  },
  {
   "cell_type": "code",
   "execution_count": 434,
   "id": "2a343ec0",
   "metadata": {
    "scrolled": true
   },
   "outputs": [
    {
     "data": {
      "text/plain": [
       "0.2551154527801097"
      ]
     },
     "execution_count": 434,
     "metadata": {},
     "output_type": "execute_result"
    }
   ],
   "source": [
    "cars_df[cars_df[\"generation_name\"].isna()].shape[0]/cars_df.shape[0]"
   ]
  },
  {
   "cell_type": "code",
   "execution_count": 435,
   "id": "399f0328",
   "metadata": {
    "scrolled": true
   },
   "outputs": [],
   "source": [
    "cars_df_del_rows = cars_df[~cars_df[\"generation_name\"].isna()]\n",
    "cars_df_del_cols = cars_df.drop(columns=[\"generation_name\"])"
   ]
  },
  {
   "cell_type": "code",
   "execution_count": 436,
   "id": "272c1776",
   "metadata": {
    "scrolled": true
   },
   "outputs": [
    {
     "name": "stdout",
     "output_type": "stream",
     "text": [
      "['mileage', 'vol_engine', 'price', 'years_old']\n"
     ]
    }
   ],
   "source": [
    "numeric_columns = list(cars_df._get_numeric_data().columns)\n",
    "print(numeric_columns)\n",
    "\n",
    "for col in numeric_columns:\n",
    "    transf1 = cars_df_del_cols[col].values.reshape(-1,1)\n",
    "    scaler1 = StandardScaler().fit(transf1)\n",
    "    cars_df_del_cols[col] = scaler1.transform(transf1)\n",
    "        \n",
    "    transf2 = cars_df_del_rows[col].values.reshape(-1,1)\n",
    "    scaler2 = StandardScaler().fit(transf2)\n",
    "    cars_df_del_rows[col] = scaler2.transform(transf2)"
   ]
  },
  {
   "cell_type": "code",
   "execution_count": 437,
   "id": "7e0faaa5",
   "metadata": {},
   "outputs": [
    {
     "name": "stdout",
     "output_type": "stream",
     "text": [
      "['model', 'province', 'mark', 'city', 'generation_name', 'fuel']\n"
     ]
    }
   ],
   "source": [
    "numeric_columns = set(cars_df_del_rows._get_numeric_data().columns)\n",
    "all_columns = set(cars_df_del_rows.columns)\n",
    "\n",
    "cat_cols = list(all_columns.difference(numeric_columns))\n",
    "\n",
    "print(cat_cols)\n",
    "for col in cat_cols:\n",
    "    \n",
    "    if col != \"generation_name\":\n",
    "        encoded1 = pd.get_dummies(cars_df_del_cols[col].astype(str), prefix=str(col))\n",
    "        encoded1.drop(columns=encoded1.columns[0], axis=1, inplace=True)\n",
    "        cars_df_del_cols.drop(columns=[col], axis=1, inplace=True)\n",
    "        cars_df_del_cols = pd.concat([cars_df_del_cols, encoded1], axis=1) \n",
    "\n",
    "    encoded2 = pd.get_dummies(cars_df_del_rows[col].astype(str), prefix=str(col))\n",
    "    encoded2.drop(columns=encoded2.columns[0], axis=1, inplace=True)\n",
    "    cars_df_del_rows.drop(columns=[col], axis=1, inplace=True)\n",
    "    cars_df_del_rows = pd.concat([cars_df_del_rows, encoded2], axis=1) \n",
    "\n"
   ]
  },
  {
   "cell_type": "code",
   "execution_count": 438,
   "id": "c8c6f3b8",
   "metadata": {
    "scrolled": true
   },
   "outputs": [
    {
     "data": {
      "text/plain": [
       "(87842, 4571)"
      ]
     },
     "execution_count": 438,
     "metadata": {},
     "output_type": "execute_result"
    }
   ],
   "source": [
    "cars_df_del_rows.shape"
   ]
  },
  {
   "cell_type": "code",
   "execution_count": 439,
   "id": "601dd54c",
   "metadata": {
    "scrolled": true
   },
   "outputs": [
    {
     "data": {
      "text/plain": [
       "(117927, 4806)"
      ]
     },
     "execution_count": 439,
     "metadata": {},
     "output_type": "execute_result"
    }
   ],
   "source": [
    "cars_df_del_cols.shape"
   ]
  },
  {
   "cell_type": "code",
   "execution_count": 440,
   "id": "f9b400f4",
   "metadata": {
    "scrolled": true
   },
   "outputs": [
    {
     "data": {
      "text/html": [
       "<div>\n",
       "<style scoped>\n",
       "    .dataframe tbody tr th:only-of-type {\n",
       "        vertical-align: middle;\n",
       "    }\n",
       "\n",
       "    .dataframe tbody tr th {\n",
       "        vertical-align: top;\n",
       "    }\n",
       "\n",
       "    .dataframe thead th {\n",
       "        text-align: right;\n",
       "    }\n",
       "</style>\n",
       "<table border=\"1\" class=\"dataframe\">\n",
       "  <thead>\n",
       "    <tr style=\"text-align: right;\">\n",
       "      <th></th>\n",
       "      <th>mileage</th>\n",
       "      <th>vol_engine</th>\n",
       "      <th>price</th>\n",
       "      <th>years_old</th>\n",
       "      <th>model_159</th>\n",
       "      <th>model_2</th>\n",
       "      <th>model_2008</th>\n",
       "      <th>model_206</th>\n",
       "      <th>model_207</th>\n",
       "      <th>model_208</th>\n",
       "      <th>...</th>\n",
       "      <th>city_Żywocice</th>\n",
       "      <th>city_Żórawina</th>\n",
       "      <th>city_Żółwin</th>\n",
       "      <th>city_Żędowice</th>\n",
       "      <th>city_Żłobin</th>\n",
       "      <th>fuel_Diesel</th>\n",
       "      <th>fuel_Electric</th>\n",
       "      <th>fuel_Gasoline</th>\n",
       "      <th>fuel_Hybrid</th>\n",
       "      <th>fuel_LPG</th>\n",
       "    </tr>\n",
       "  </thead>\n",
       "  <tbody>\n",
       "    <tr>\n",
       "      <th>0</th>\n",
       "      <td>-0.015252</td>\n",
       "      <td>-0.876396</td>\n",
       "      <td>-0.405543</td>\n",
       "      <td>-0.364622</td>\n",
       "      <td>0</td>\n",
       "      <td>0</td>\n",
       "      <td>0</td>\n",
       "      <td>0</td>\n",
       "      <td>0</td>\n",
       "      <td>0</td>\n",
       "      <td>...</td>\n",
       "      <td>0</td>\n",
       "      <td>0</td>\n",
       "      <td>0</td>\n",
       "      <td>0</td>\n",
       "      <td>0</td>\n",
       "      <td>1</td>\n",
       "      <td>0</td>\n",
       "      <td>0</td>\n",
       "      <td>0</td>\n",
       "      <td>0</td>\n",
       "    </tr>\n",
       "    <tr>\n",
       "      <th>1</th>\n",
       "      <td>-1.179896</td>\n",
       "      <td>-0.486409</td>\n",
       "      <td>0.096684</td>\n",
       "      <td>-0.891853</td>\n",
       "      <td>0</td>\n",
       "      <td>0</td>\n",
       "      <td>0</td>\n",
       "      <td>0</td>\n",
       "      <td>0</td>\n",
       "      <td>0</td>\n",
       "      <td>...</td>\n",
       "      <td>0</td>\n",
       "      <td>0</td>\n",
       "      <td>0</td>\n",
       "      <td>0</td>\n",
       "      <td>0</td>\n",
       "      <td>1</td>\n",
       "      <td>0</td>\n",
       "      <td>0</td>\n",
       "      <td>0</td>\n",
       "      <td>0</td>\n",
       "    </tr>\n",
       "    <tr>\n",
       "      <th>2</th>\n",
       "      <td>1.488164</td>\n",
       "      <td>-0.332589</td>\n",
       "      <td>-0.510466</td>\n",
       "      <td>-0.364622</td>\n",
       "      <td>0</td>\n",
       "      <td>0</td>\n",
       "      <td>0</td>\n",
       "      <td>0</td>\n",
       "      <td>0</td>\n",
       "      <td>0</td>\n",
       "      <td>...</td>\n",
       "      <td>0</td>\n",
       "      <td>0</td>\n",
       "      <td>0</td>\n",
       "      <td>0</td>\n",
       "      <td>0</td>\n",
       "      <td>1</td>\n",
       "      <td>0</td>\n",
       "      <td>0</td>\n",
       "      <td>0</td>\n",
       "      <td>0</td>\n",
       "    </tr>\n",
       "    <tr>\n",
       "      <th>3</th>\n",
       "      <td>-1.010911</td>\n",
       "      <td>-0.876396</td>\n",
       "      <td>-0.465668</td>\n",
       "      <td>-0.540366</td>\n",
       "      <td>0</td>\n",
       "      <td>0</td>\n",
       "      <td>0</td>\n",
       "      <td>0</td>\n",
       "      <td>0</td>\n",
       "      <td>0</td>\n",
       "      <td>...</td>\n",
       "      <td>0</td>\n",
       "      <td>0</td>\n",
       "      <td>0</td>\n",
       "      <td>0</td>\n",
       "      <td>0</td>\n",
       "      <td>1</td>\n",
       "      <td>0</td>\n",
       "      <td>0</td>\n",
       "      <td>0</td>\n",
       "      <td>0</td>\n",
       "    </tr>\n",
       "    <tr>\n",
       "      <th>4</th>\n",
       "      <td>-0.411142</td>\n",
       "      <td>-0.640228</td>\n",
       "      <td>-0.405543</td>\n",
       "      <td>-0.188879</td>\n",
       "      <td>0</td>\n",
       "      <td>0</td>\n",
       "      <td>0</td>\n",
       "      <td>0</td>\n",
       "      <td>0</td>\n",
       "      <td>0</td>\n",
       "      <td>...</td>\n",
       "      <td>0</td>\n",
       "      <td>0</td>\n",
       "      <td>0</td>\n",
       "      <td>0</td>\n",
       "      <td>0</td>\n",
       "      <td>0</td>\n",
       "      <td>0</td>\n",
       "      <td>0</td>\n",
       "      <td>0</td>\n",
       "      <td>0</td>\n",
       "    </tr>\n",
       "  </tbody>\n",
       "</table>\n",
       "<p>5 rows × 4806 columns</p>\n",
       "</div>"
      ],
      "text/plain": [
       "    mileage  vol_engine     price  years_old  model_159  model_2  model_2008  \\\n",
       "0 -0.015252   -0.876396 -0.405543  -0.364622          0        0           0   \n",
       "1 -1.179896   -0.486409  0.096684  -0.891853          0        0           0   \n",
       "2  1.488164   -0.332589 -0.510466  -0.364622          0        0           0   \n",
       "3 -1.010911   -0.876396 -0.465668  -0.540366          0        0           0   \n",
       "4 -0.411142   -0.640228 -0.405543  -0.188879          0        0           0   \n",
       "\n",
       "   model_206  model_207  model_208  ...  city_Żywocice  city_Żórawina  \\\n",
       "0          0          0          0  ...              0              0   \n",
       "1          0          0          0  ...              0              0   \n",
       "2          0          0          0  ...              0              0   \n",
       "3          0          0          0  ...              0              0   \n",
       "4          0          0          0  ...              0              0   \n",
       "\n",
       "   city_Żółwin  city_Żędowice  city_Żłobin  fuel_Diesel  fuel_Electric  \\\n",
       "0            0              0            0            1              0   \n",
       "1            0              0            0            1              0   \n",
       "2            0              0            0            1              0   \n",
       "3            0              0            0            1              0   \n",
       "4            0              0            0            0              0   \n",
       "\n",
       "   fuel_Gasoline  fuel_Hybrid  fuel_LPG  \n",
       "0              0            0         0  \n",
       "1              0            0         0  \n",
       "2              0            0         0  \n",
       "3              0            0         0  \n",
       "4              0            0         0  \n",
       "\n",
       "[5 rows x 4806 columns]"
      ]
     },
     "execution_count": 440,
     "metadata": {},
     "output_type": "execute_result"
    }
   ],
   "source": [
    "cars_df_del_cols.head()"
   ]
  },
  {
   "cell_type": "code",
   "execution_count": 441,
   "id": "4191aaab",
   "metadata": {},
   "outputs": [
    {
     "data": {
      "text/html": [
       "<div>\n",
       "<style scoped>\n",
       "    .dataframe tbody tr th:only-of-type {\n",
       "        vertical-align: middle;\n",
       "    }\n",
       "\n",
       "    .dataframe tbody tr th {\n",
       "        vertical-align: top;\n",
       "    }\n",
       "\n",
       "    .dataframe thead th {\n",
       "        text-align: right;\n",
       "    }\n",
       "</style>\n",
       "<table border=\"1\" class=\"dataframe\">\n",
       "  <thead>\n",
       "    <tr style=\"text-align: right;\">\n",
       "      <th></th>\n",
       "      <th>mileage</th>\n",
       "      <th>vol_engine</th>\n",
       "      <th>price</th>\n",
       "      <th>years_old</th>\n",
       "      <th>model_3</th>\n",
       "      <th>model_3008</th>\n",
       "      <th>model_5</th>\n",
       "      <th>model_5008</th>\n",
       "      <th>model_6</th>\n",
       "      <th>model_80</th>\n",
       "      <th>...</th>\n",
       "      <th>generation_name_gen-w639-2003</th>\n",
       "      <th>generation_name_gen-x-2017</th>\n",
       "      <th>generation_name_gen-x164-2006-2012</th>\n",
       "      <th>generation_name_gen-x166-2012</th>\n",
       "      <th>generation_name_gen-z30-2004-2012</th>\n",
       "      <th>fuel_Diesel</th>\n",
       "      <th>fuel_Electric</th>\n",
       "      <th>fuel_Gasoline</th>\n",
       "      <th>fuel_Hybrid</th>\n",
       "      <th>fuel_LPG</th>\n",
       "    </tr>\n",
       "  </thead>\n",
       "  <tbody>\n",
       "    <tr>\n",
       "      <th>0</th>\n",
       "      <td>-0.136443</td>\n",
       "      <td>-0.973247</td>\n",
       "      <td>-0.362656</td>\n",
       "      <td>-0.473920</td>\n",
       "      <td>0</td>\n",
       "      <td>0</td>\n",
       "      <td>0</td>\n",
       "      <td>0</td>\n",
       "      <td>0</td>\n",
       "      <td>0</td>\n",
       "      <td>...</td>\n",
       "      <td>0</td>\n",
       "      <td>0</td>\n",
       "      <td>0</td>\n",
       "      <td>0</td>\n",
       "      <td>0</td>\n",
       "      <td>1</td>\n",
       "      <td>0</td>\n",
       "      <td>0</td>\n",
       "      <td>0</td>\n",
       "      <td>0</td>\n",
       "    </tr>\n",
       "    <tr>\n",
       "      <th>1</th>\n",
       "      <td>-1.324679</td>\n",
       "      <td>-0.561455</td>\n",
       "      <td>0.192201</td>\n",
       "      <td>-1.008629</td>\n",
       "      <td>0</td>\n",
       "      <td>0</td>\n",
       "      <td>0</td>\n",
       "      <td>0</td>\n",
       "      <td>0</td>\n",
       "      <td>0</td>\n",
       "      <td>...</td>\n",
       "      <td>0</td>\n",
       "      <td>0</td>\n",
       "      <td>0</td>\n",
       "      <td>0</td>\n",
       "      <td>0</td>\n",
       "      <td>1</td>\n",
       "      <td>0</td>\n",
       "      <td>0</td>\n",
       "      <td>0</td>\n",
       "      <td>0</td>\n",
       "    </tr>\n",
       "    <tr>\n",
       "      <th>2</th>\n",
       "      <td>1.397427</td>\n",
       "      <td>-0.399034</td>\n",
       "      <td>-0.478574</td>\n",
       "      <td>-0.473920</td>\n",
       "      <td>0</td>\n",
       "      <td>0</td>\n",
       "      <td>0</td>\n",
       "      <td>0</td>\n",
       "      <td>0</td>\n",
       "      <td>0</td>\n",
       "      <td>...</td>\n",
       "      <td>0</td>\n",
       "      <td>0</td>\n",
       "      <td>0</td>\n",
       "      <td>0</td>\n",
       "      <td>0</td>\n",
       "      <td>1</td>\n",
       "      <td>0</td>\n",
       "      <td>0</td>\n",
       "      <td>0</td>\n",
       "      <td>0</td>\n",
       "    </tr>\n",
       "    <tr>\n",
       "      <th>3</th>\n",
       "      <td>-1.152271</td>\n",
       "      <td>-0.973247</td>\n",
       "      <td>-0.429081</td>\n",
       "      <td>-0.652157</td>\n",
       "      <td>0</td>\n",
       "      <td>0</td>\n",
       "      <td>0</td>\n",
       "      <td>0</td>\n",
       "      <td>0</td>\n",
       "      <td>0</td>\n",
       "      <td>...</td>\n",
       "      <td>0</td>\n",
       "      <td>0</td>\n",
       "      <td>0</td>\n",
       "      <td>0</td>\n",
       "      <td>0</td>\n",
       "      <td>1</td>\n",
       "      <td>0</td>\n",
       "      <td>0</td>\n",
       "      <td>0</td>\n",
       "      <td>0</td>\n",
       "    </tr>\n",
       "    <tr>\n",
       "      <th>4</th>\n",
       "      <td>-0.540353</td>\n",
       "      <td>-0.723875</td>\n",
       "      <td>-0.362656</td>\n",
       "      <td>-0.295684</td>\n",
       "      <td>0</td>\n",
       "      <td>0</td>\n",
       "      <td>0</td>\n",
       "      <td>0</td>\n",
       "      <td>0</td>\n",
       "      <td>0</td>\n",
       "      <td>...</td>\n",
       "      <td>0</td>\n",
       "      <td>0</td>\n",
       "      <td>0</td>\n",
       "      <td>0</td>\n",
       "      <td>0</td>\n",
       "      <td>0</td>\n",
       "      <td>0</td>\n",
       "      <td>0</td>\n",
       "      <td>0</td>\n",
       "      <td>0</td>\n",
       "    </tr>\n",
       "  </tbody>\n",
       "</table>\n",
       "<p>5 rows × 4571 columns</p>\n",
       "</div>"
      ],
      "text/plain": [
       "    mileage  vol_engine     price  years_old  model_3  model_3008  model_5  \\\n",
       "0 -0.136443   -0.973247 -0.362656  -0.473920        0           0        0   \n",
       "1 -1.324679   -0.561455  0.192201  -1.008629        0           0        0   \n",
       "2  1.397427   -0.399034 -0.478574  -0.473920        0           0        0   \n",
       "3 -1.152271   -0.973247 -0.429081  -0.652157        0           0        0   \n",
       "4 -0.540353   -0.723875 -0.362656  -0.295684        0           0        0   \n",
       "\n",
       "   model_5008  model_6  model_80  ...  generation_name_gen-w639-2003  \\\n",
       "0           0        0         0  ...                              0   \n",
       "1           0        0         0  ...                              0   \n",
       "2           0        0         0  ...                              0   \n",
       "3           0        0         0  ...                              0   \n",
       "4           0        0         0  ...                              0   \n",
       "\n",
       "   generation_name_gen-x-2017  generation_name_gen-x164-2006-2012  \\\n",
       "0                           0                                   0   \n",
       "1                           0                                   0   \n",
       "2                           0                                   0   \n",
       "3                           0                                   0   \n",
       "4                           0                                   0   \n",
       "\n",
       "   generation_name_gen-x166-2012  generation_name_gen-z30-2004-2012  \\\n",
       "0                              0                                  0   \n",
       "1                              0                                  0   \n",
       "2                              0                                  0   \n",
       "3                              0                                  0   \n",
       "4                              0                                  0   \n",
       "\n",
       "   fuel_Diesel  fuel_Electric  fuel_Gasoline  fuel_Hybrid  fuel_LPG  \n",
       "0            1              0              0            0         0  \n",
       "1            1              0              0            0         0  \n",
       "2            1              0              0            0         0  \n",
       "3            1              0              0            0         0  \n",
       "4            0              0              0            0         0  \n",
       "\n",
       "[5 rows x 4571 columns]"
      ]
     },
     "execution_count": 441,
     "metadata": {},
     "output_type": "execute_result"
    }
   ],
   "source": [
    "cars_df_del_rows.head()"
   ]
  },
  {
   "cell_type": "markdown",
   "id": "f48d787f",
   "metadata": {},
   "source": [
    "Wszystkie zminnne kategoryczne zostały zakodowane przy użyciu funkcji `get_dummies`, reszta została odpowiednio przeskalowana."
   ]
  },
  {
   "cell_type": "markdown",
   "id": "c7dc9eb4",
   "metadata": {},
   "source": [
    "## Dane bez kolumny `generation_name`"
   ]
  },
  {
   "cell_type": "markdown",
   "id": "7e4b9810",
   "metadata": {},
   "source": [
    "### Podział danych na zbiór treningowy, walidacyjny oraz testowy"
   ]
  },
  {
   "cell_type": "code",
   "execution_count": 442,
   "id": "935e09b5",
   "metadata": {},
   "outputs": [],
   "source": [
    "y = cars_df_del_cols[\"price\"]\n",
    "X = cars_df_del_cols.drop(\"price\", axis= 1)\n",
    "\n",
    "X_train_val, X_test, y_train_val, y_test = train_test_split(X, y, random_state=420, test_size=0.2)\n",
    "X_train, X_val, y_train, y_val = train_test_split(X_train_val, y_train_val, random_state=420, test_size=0.125)"
   ]
  },
  {
   "cell_type": "markdown",
   "id": "3f38682c",
   "metadata": {},
   "source": [
    "Proporcje dobrane sa tak by zbiory były podzielone w na 70%/10%/20%"
   ]
  },
  {
   "cell_type": "markdown",
   "id": "7da6276d",
   "metadata": {},
   "source": [
    "### Model `Random Forest`"
   ]
  },
  {
   "cell_type": "code",
   "execution_count": 475,
   "id": "189c8f16",
   "metadata": {
    "scrolled": true
   },
   "outputs": [
    {
     "name": "stdout",
     "output_type": "stream",
     "text": [
      "0.9490164656876517\n"
     ]
    }
   ],
   "source": [
    "rndForest = RandomForestRegressor(n_jobs=-1)\n",
    "rndForest.fit(X_train, y_train)\n",
    "y_pred = rndForest.predict(X_val)\n",
    "print(r2_score(y_val, y_pred))"
   ]
  },
  {
   "cell_type": "code",
   "execution_count": 473,
   "id": "71f9276e",
   "metadata": {
    "scrolled": true
   },
   "outputs": [
    {
     "name": "stdout",
     "output_type": "stream",
     "text": [
      "0.9467900230258272\n"
     ]
    }
   ],
   "source": [
    "rndForest = RandomForestRegressor(n_estimators=10)\n",
    "rndForest.fit(X_train, y_train)\n",
    "y_pred = rndForest.predict(X_val)\n",
    "print(r2_score(y_val, y_pred))"
   ]
  },
  {
   "cell_type": "code",
   "execution_count": 472,
   "id": "1ffd3652",
   "metadata": {
    "scrolled": true
   },
   "outputs": [
    {
     "name": "stdout",
     "output_type": "stream",
     "text": [
      "0.9474338383624863\n"
     ]
    }
   ],
   "source": [
    "rndForest = RandomForestRegressor(n_estimators=5)\n",
    "rndForest.fit(X_train, y_train)\n",
    "y_pred = rndForest.predict(X_val)\n",
    "print(r2_score(y_val, y_pred))"
   ]
  },
  {
   "cell_type": "code",
   "execution_count": 474,
   "id": "3baa92c7",
   "metadata": {
    "scrolled": false
   },
   "outputs": [
    {
     "name": "stdout",
     "output_type": "stream",
     "text": [
      "0.9450395502568668\n"
     ]
    }
   ],
   "source": [
    "rndForest = RandomForestRegressor(max_depth=20)\n",
    "rndForest.fit(X_train, y_train)\n",
    "y_pred = rndForest.predict(X_val)\n",
    "print(r2_score(y_val, y_pred))"
   ]
  },
  {
   "cell_type": "code",
   "execution_count": 471,
   "id": "c8df5d53",
   "metadata": {
    "scrolled": true
   },
   "outputs": [
    {
     "name": "stdout",
     "output_type": "stream",
     "text": [
      "0.8464037770938495\n"
     ]
    }
   ],
   "source": [
    "rndForest = RandomForestRegressor(max_depth=5)\n",
    "rndForest.fit(X_train, y_train)\n",
    "y_pred = rndForest.predict(X_val)\n",
    "print(r2_score(y_val, y_pred))"
   ]
  },
  {
   "cell_type": "code",
   "execution_count": 470,
   "id": "0314edf9",
   "metadata": {
    "scrolled": true
   },
   "outputs": [
    {
     "name": "stdout",
     "output_type": "stream",
     "text": [
      "0.6266077307980125\n"
     ]
    }
   ],
   "source": [
    "rndForest = RandomForestRegressor(max_depth=2)\n",
    "rndForest.fit(X_train, y_train)\n",
    "y_pred = rndForest.predict(X_val)\n",
    "print(r2_score(y_val, y_pred))"
   ]
  },
  {
   "cell_type": "code",
   "execution_count": 469,
   "id": "b072e326",
   "metadata": {},
   "outputs": [
    {
     "data": {
      "image/png": "[encoded data removed]",
      "text/plain": [
       "<Figure size 864x576 with 1 Axes>"
      ]
     },
     "metadata": {
      "needs_background": "light"
     },
     "output_type": "display_data"
    },
    {
     "name": "stdout",
     "output_type": "stream",
     "text": [
      "0.6274941221569534\n"
     ]
    }
   ],
   "source": [
    "rndForest = RandomForestRegressor(n_estimators = 5, max_depth=2)\n",
    "rndForest.fit(X_train, y_train)\n",
    "plot_tree(rndForest.estimators_[0])\n",
    "plt.show()\n",
    "y_pred = rndForest.predict(X_val)\n",
    "print(r2_score(y_val, y_pred))"
   ]
  },
  {
   "cell_type": "markdown",
   "id": "6841bd21",
   "metadata": {},
   "source": [
    "Widzimy, że modelu `Random Forest` w pierwszych przypadkach poradził sobie całkiem dobrze. Wraz z ograniczeniem hiperparametrów takich jak `max_depth` lub `n_estimators` stopniowo zmniejszała się jego dokładność."
   ]
  },
  {
   "cell_type": "markdown",
   "id": "df144329",
   "metadata": {},
   "source": [
    "### Model `XGBoost`"
   ]
  },
  {
   "cell_type": "code",
   "execution_count": null,
   "id": "528f936a",
   "metadata": {
    "scrolled": false
   },
   "outputs": [],
   "source": [
    "xgb_cls = xgb.XGBRegressor(objective=\"reg:squarederror\", seed = 420, use_label_encoder=False)\n",
    "xgb_cls.fit(X_train, y_train, verbose=True, eval_metric=\"error\", eval_set=[(X_val, y_val)])"
   ]
  },
  {
   "cell_type": "code",
   "execution_count": 413,
   "id": "106a067c",
   "metadata": {},
   "outputs": [
    {
     "data": {
      "text/plain": [
       "0.9348157500700023"
      ]
     },
     "execution_count": 413,
     "metadata": {},
     "output_type": "execute_result"
    }
   ],
   "source": [
    "xgb_cls.score(X_test, y_test)"
   ]
  },
  {
   "cell_type": "code",
   "execution_count": null,
   "id": "af865ecc",
   "metadata": {},
   "outputs": [],
   "source": [
    "xgb_cls = xgb.XGBRegressor(objective=\"reg:squarederror\", n_estimators=20, seed = 420, use_label_encoder=False)\n",
    "xgb_cls.fit(X_train, y_train, verbose=True, eval_metric=\"error\", eval_set=[(X_val, y_val)])"
   ]
  },
  {
   "cell_type": "code",
   "execution_count": 416,
   "id": "0dc9becc",
   "metadata": {},
   "outputs": [
    {
     "data": {
      "text/plain": [
       "0.9150604152191762"
      ]
     },
     "execution_count": 416,
     "metadata": {},
     "output_type": "execute_result"
    }
   ],
   "source": [
    "xgb_cls.score(X_test, y_test)"
   ]
  },
  {
   "cell_type": "code",
   "execution_count": null,
   "id": "1e22da49",
   "metadata": {},
   "outputs": [],
   "source": [
    "xgb_cls = xgb.XGBRegressor(objective=\"reg:squarederror\", n_estimators=5, seed = 420, use_label_encoder=False)\n",
    "xgb_cls.fit(X_train, y_train, verbose=True, eval_metric=\"error\", eval_set=[(X_val, y_val)])"
   ]
  },
  {
   "cell_type": "code",
   "execution_count": 418,
   "id": "3223f914",
   "metadata": {},
   "outputs": [
    {
     "data": {
      "text/plain": [
       "0.8461601044303295"
      ]
     },
     "execution_count": 418,
     "metadata": {},
     "output_type": "execute_result"
    }
   ],
   "source": [
    "xgb_cls.score(X_test, y_test)"
   ]
  },
  {
   "cell_type": "code",
   "execution_count": null,
   "id": "6557a0e8",
   "metadata": {},
   "outputs": [],
   "source": [
    "xgb_cls = xgb.XGBRegressor(objective=\"reg:squarederror\", max_depth=20, seed = 420, use_label_encoder=False)\n",
    "xgb_cls.fit(X_train, y_train, verbose=True, eval_metric=\"error\", eval_set=[(X_val, y_val)])"
   ]
  },
  {
   "cell_type": "code",
   "execution_count": 420,
   "id": "8aaaa81a",
   "metadata": {
    "scrolled": true
   },
   "outputs": [
    {
     "data": {
      "text/plain": [
       "0.939301988323517"
      ]
     },
     "execution_count": 420,
     "metadata": {},
     "output_type": "execute_result"
    }
   ],
   "source": [
    "xgb_cls.score(X_test, y_test)"
   ]
  },
  {
   "cell_type": "code",
   "execution_count": null,
   "id": "6e2d1cf1",
   "metadata": {},
   "outputs": [],
   "source": [
    "xgb_cls = xgb.XGBRegressor(objective=\"reg:squarederror\", max_depth=5, seed = 420, use_label_encoder=False)\n",
    "xgb_cls.fit(X_train, y_train, verbose=True, eval_metric=\"error\", eval_set=[(X_val, y_val)])"
   ]
  },
  {
   "cell_type": "code",
   "execution_count": 422,
   "id": "f99efbaa",
   "metadata": {},
   "outputs": [
    {
     "data": {
      "text/plain": [
       "0.9259935864467317"
      ]
     },
     "execution_count": 422,
     "metadata": {},
     "output_type": "execute_result"
    }
   ],
   "source": [
    "xgb_cls.score(X_test, y_test)"
   ]
  },
  {
   "cell_type": "code",
   "execution_count": null,
   "id": "1a81168d",
   "metadata": {},
   "outputs": [],
   "source": [
    "xgb_cls = xgb.XGBRegressor(objective=\"reg:squarederror\", max_depth=2, seed = 420, use_label_encoder=False)\n",
    "xgb_cls.fit(X_train, y_train, verbose=True, eval_metric=\"error\", eval_set=[(X_val, y_val)])"
   ]
  },
  {
   "cell_type": "code",
   "execution_count": 424,
   "id": "e8968f82",
   "metadata": {
    "scrolled": true
   },
   "outputs": [
    {
     "data": {
      "text/plain": [
       "0.8928242866210957"
      ]
     },
     "execution_count": 424,
     "metadata": {},
     "output_type": "execute_result"
    }
   ],
   "source": [
    "xgb_cls.score(X_test, y_test)"
   ]
  },
  {
   "cell_type": "code",
   "execution_count": null,
   "id": "ccc8b7a0",
   "metadata": {},
   "outputs": [],
   "source": [
    "xgb_cls = xgb.XGBRegressor(objective=\"reg:squarederror\", max_depth=2, n_estimators=5, seed = 420, use_label_encoder=False)\n",
    "xgb_cls.fit(X_train, y_train, verbose=True, eval_metric=\"error\", eval_set=[(X_val, y_val)])"
   ]
  },
  {
   "cell_type": "code",
   "execution_count": 426,
   "id": "750bfafe",
   "metadata": {},
   "outputs": [
    {
     "data": {
      "text/plain": [
       "0.6868271681253639"
      ]
     },
     "execution_count": 426,
     "metadata": {},
     "output_type": "execute_result"
    }
   ],
   "source": [
    "xgb_cls.score(X_test, y_test)"
   ]
  },
  {
   "cell_type": "markdown",
   "id": "eaebe773",
   "metadata": {},
   "source": [
    "Dla danych bez kolumny `generation_name` model `XGBoost` poradził sobie znacznie lepiej od modelu `Random Forest` gdy hiperparametry `n_estimators` oraz `max_depth` były bardzo ograniczone. W reszcie przypadków model `Random Forest` był lepszy."
   ]
  },
  {
   "cell_type": "markdown",
   "id": "739a5028",
   "metadata": {},
   "source": [
    "## Dane bez wierszy z brakami w kolumnie `generation_name`"
   ]
  },
  {
   "cell_type": "markdown",
   "id": "db0cadde",
   "metadata": {},
   "source": [
    "### Podział danych na zbiór treningowy, walidacyjny oraz testowy"
   ]
  },
  {
   "cell_type": "code",
   "execution_count": 444,
   "id": "77c6938b",
   "metadata": {},
   "outputs": [],
   "source": [
    "y = cars_df_del_rows[\"price\"]\n",
    "X = cars_df_del_rows.drop(\"price\", axis= 1)\n",
    "\n",
    "X_train_val, X_test, y_train_val, y_test = train_test_split(X, y, random_state=420, test_size=0.2)\n",
    "X_train, X_val, y_train, y_val = train_test_split(X_train_val, y_train_val, random_state=420, test_size=0.125)"
   ]
  },
  {
   "cell_type": "markdown",
   "id": "69bf9e71",
   "metadata": {},
   "source": [
    "Proporcje dobrane sa tak by zbiory były podzielone w na 70%/10%/20%"
   ]
  },
  {
   "cell_type": "markdown",
   "id": "239b5733",
   "metadata": {},
   "source": [
    "### Model `Random Forest`"
   ]
  },
  {
   "cell_type": "code",
   "execution_count": 482,
   "id": "a9c1b438",
   "metadata": {
    "scrolled": true
   },
   "outputs": [
    {
     "name": "stdout",
     "output_type": "stream",
     "text": [
      "0.9489269321628379\n"
     ]
    }
   ],
   "source": [
    "rndForest = RandomForestRegressor(n_jobs=-1)\n",
    "rndForest.fit(X_train, y_train)\n",
    "y_pred = rndForest.predict(X_val)\n",
    "print(r2_score(y_val, y_pred))"
   ]
  },
  {
   "cell_type": "code",
   "execution_count": 480,
   "id": "aa22ae56",
   "metadata": {
    "scrolled": true
   },
   "outputs": [
    {
     "name": "stdout",
     "output_type": "stream",
     "text": [
      "0.9412895089803002\n"
     ]
    }
   ],
   "source": [
    "rndForest = RandomForestRegressor(n_estimators=10)\n",
    "rndForest.fit(X_train, y_train)\n",
    "y_pred = rndForest.predict(X_val)\n",
    "print(r2_score(y_val, y_pred))"
   ]
  },
  {
   "cell_type": "code",
   "execution_count": 479,
   "id": "97cd72ff",
   "metadata": {
    "scrolled": true
   },
   "outputs": [
    {
     "name": "stdout",
     "output_type": "stream",
     "text": [
      "0.9444723064496943\n"
     ]
    }
   ],
   "source": [
    "rndForest = RandomForestRegressor(n_estimators=5)\n",
    "rndForest.fit(X_train, y_train)\n",
    "y_pred = rndForest.predict(X_val)\n",
    "print(r2_score(y_val, y_pred))"
   ]
  },
  {
   "cell_type": "code",
   "execution_count": 481,
   "id": "42034210",
   "metadata": {
    "scrolled": false
   },
   "outputs": [
    {
     "name": "stdout",
     "output_type": "stream",
     "text": [
      "0.9487539362246785\n"
     ]
    }
   ],
   "source": [
    "rndForest = RandomForestRegressor(max_depth=20)\n",
    "rndForest.fit(X_train, y_train)\n",
    "y_pred = rndForest.predict(X_val)\n",
    "print(r2_score(y_val, y_pred))"
   ]
  },
  {
   "cell_type": "code",
   "execution_count": 478,
   "id": "ce0b246d",
   "metadata": {
    "scrolled": true
   },
   "outputs": [
    {
     "name": "stdout",
     "output_type": "stream",
     "text": [
      "0.8470820081503427\n"
     ]
    }
   ],
   "source": [
    "rndForest = RandomForestRegressor(max_depth=5)\n",
    "rndForest.fit(X_train, y_train)\n",
    "y_pred = rndForest.predict(X_val)\n",
    "print(r2_score(y_val, y_pred))"
   ]
  },
  {
   "cell_type": "code",
   "execution_count": 477,
   "id": "bbe35431",
   "metadata": {
    "scrolled": true
   },
   "outputs": [
    {
     "name": "stdout",
     "output_type": "stream",
     "text": [
      "0.6317566006910393\n"
     ]
    }
   ],
   "source": [
    "rndForest = RandomForestRegressor(max_depth=2)\n",
    "rndForest.fit(X_train, y_train)\n",
    "y_pred = rndForest.predict(X_val)\n",
    "print(r2_score(y_val, y_pred))"
   ]
  },
  {
   "cell_type": "code",
   "execution_count": 476,
   "id": "3fc1f738",
   "metadata": {},
   "outputs": [
    {
     "data": {
      "image/png": "[encoded data removed]",
      "text/plain": [
       "<Figure size 864x576 with 1 Axes>"
      ]
     },
     "metadata": {
      "needs_background": "light"
     },
     "output_type": "display_data"
    },
    {
     "name": "stdout",
     "output_type": "stream",
     "text": [
      "0.6286654468757288\n"
     ]
    }
   ],
   "source": [
    "rndForest = RandomForestRegressor(n_estimators = 5, max_depth=2)\n",
    "rndForest.fit(X_train, y_train)\n",
    "plot_tree(rndForest.estimators_[0])\n",
    "plt.show()\n",
    "y_pred = rndForest.predict(X_val)\n",
    "print(r2_score(y_val, y_pred))"
   ]
  },
  {
   "cell_type": "markdown",
   "id": "462eed67",
   "metadata": {},
   "source": [
    "Widzimy, że raz jeszcze model `Random Forest` sprawił się nieźle. Za wyjątkiem sytuacji, w których hiperparametr `n_estimators` wynosił odpowiednio 10 oraz 5, wraz z ograniczaniem wartości jego oraz hiperparametru `max_depth`, stopniowo malała skuteczność modelu."
   ]
  },
  {
   "cell_type": "markdown",
   "id": "9d221333",
   "metadata": {},
   "source": [
    "### Model `XGBoost`"
   ]
  },
  {
   "cell_type": "code",
   "execution_count": null,
   "id": "458326f8",
   "metadata": {},
   "outputs": [],
   "source": [
    "xgb_cls = xgb.XGBRegressor(objective=\"reg:squarederror\", seed = 420, use_label_encoder=False)\n",
    "xgb_cls.fit(X_train, y_train, verbose=True, eval_metric=\"error\", eval_set=[(X_val, y_val)])"
   ]
  },
  {
   "cell_type": "code",
   "execution_count": 454,
   "id": "48ae7819",
   "metadata": {},
   "outputs": [
    {
     "data": {
      "text/plain": [
       "0.9445394912169993"
      ]
     },
     "execution_count": 454,
     "metadata": {},
     "output_type": "execute_result"
    }
   ],
   "source": [
    "xgb_cls.score(X_test, y_test)"
   ]
  },
  {
   "cell_type": "code",
   "execution_count": null,
   "id": "8d6d0a1a",
   "metadata": {},
   "outputs": [],
   "source": [
    "xgb_cls = xgb.XGBRegressor(objective=\"reg:squarederror\", n_estimators=20, seed = 420, use_label_encoder=False)\n",
    "xgb_cls.fit(X_train, y_train, verbose=True, eval_metric=\"error\", eval_set=[(X_val, y_val)])"
   ]
  },
  {
   "cell_type": "code",
   "execution_count": 456,
   "id": "fefaf728",
   "metadata": {},
   "outputs": [
    {
     "data": {
      "text/plain": [
       "0.9249229103821766"
      ]
     },
     "execution_count": 456,
     "metadata": {},
     "output_type": "execute_result"
    }
   ],
   "source": [
    "xgb_cls.score(X_test, y_test)"
   ]
  },
  {
   "cell_type": "code",
   "execution_count": null,
   "id": "09c6510b",
   "metadata": {},
   "outputs": [],
   "source": [
    "xgb_cls = xgb.XGBRegressor(objective=\"reg:squarederror\", n_estimators=5, seed = 420, use_label_encoder=False)\n",
    "xgb_cls.fit(X_train, y_train, verbose=True, eval_metric=\"error\", eval_set=[(X_val, y_val)])"
   ]
  },
  {
   "cell_type": "code",
   "execution_count": 458,
   "id": "bbe5f76b",
   "metadata": {},
   "outputs": [
    {
     "data": {
      "text/plain": [
       "0.8560416084959755"
      ]
     },
     "execution_count": 458,
     "metadata": {},
     "output_type": "execute_result"
    }
   ],
   "source": [
    "xgb_cls.score(X_test, y_test)"
   ]
  },
  {
   "cell_type": "code",
   "execution_count": null,
   "id": "d83c3986",
   "metadata": {},
   "outputs": [],
   "source": [
    "xgb_cls = xgb.XGBRegressor(objective=\"reg:squarederror\", max_depth=20, seed = 420, use_label_encoder=False)\n",
    "xgb_cls.fit(X_train, y_train, verbose=True, eval_metric=\"error\", eval_set=[(X_val, y_val)])"
   ]
  },
  {
   "cell_type": "code",
   "execution_count": 460,
   "id": "b8911567",
   "metadata": {
    "scrolled": true
   },
   "outputs": [
    {
     "data": {
      "text/plain": [
       "0.9465169768061462"
      ]
     },
     "execution_count": 460,
     "metadata": {},
     "output_type": "execute_result"
    }
   ],
   "source": [
    "xgb_cls.score(X_test, y_test)"
   ]
  },
  {
   "cell_type": "code",
   "execution_count": null,
   "id": "ee515b2e",
   "metadata": {},
   "outputs": [],
   "source": [
    "xgb_cls = xgb.XGBRegressor(objective=\"reg:squarederror\", max_depth=5, seed = 420, use_label_encoder=False)\n",
    "xgb_cls.fit(X_train, y_train, verbose=True, eval_metric=\"error\", eval_set=[(X_val, y_val)])"
   ]
  },
  {
   "cell_type": "code",
   "execution_count": 462,
   "id": "cf4f7553",
   "metadata": {},
   "outputs": [
    {
     "data": {
      "text/plain": [
       "0.9399977843458353"
      ]
     },
     "execution_count": 462,
     "metadata": {},
     "output_type": "execute_result"
    }
   ],
   "source": [
    "xgb_cls.score(X_test, y_test)"
   ]
  },
  {
   "cell_type": "code",
   "execution_count": null,
   "id": "6082ee88",
   "metadata": {},
   "outputs": [],
   "source": [
    "xgb_cls = xgb.XGBRegressor(objective=\"reg:squarederror\", max_depth=2, seed = 420, use_label_encoder=False)\n",
    "xgb_cls.fit(X_train, y_train, verbose=True, eval_metric=\"error\", eval_set=[(X_val, y_val)])"
   ]
  },
  {
   "cell_type": "code",
   "execution_count": 464,
   "id": "c81d7e93",
   "metadata": {
    "scrolled": true
   },
   "outputs": [
    {
     "data": {
      "text/plain": [
       "0.9055334159507639"
      ]
     },
     "execution_count": 464,
     "metadata": {},
     "output_type": "execute_result"
    }
   ],
   "source": [
    "xgb_cls.score(X_test, y_test)"
   ]
  },
  {
   "cell_type": "code",
   "execution_count": null,
   "id": "57ed2ed6",
   "metadata": {},
   "outputs": [],
   "source": [
    "xgb_cls = xgb.XGBRegressor(objective=\"reg:squarederror\", max_depth=2, n_estimators=5, seed = 420, use_label_encoder=False)\n",
    "xgb_cls.fit(X_train, y_train, verbose=True, eval_metric=\"error\", eval_set=[(X_val, y_val)])"
   ]
  },
  {
   "cell_type": "code",
   "execution_count": 466,
   "id": "aeb182fe",
   "metadata": {},
   "outputs": [
    {
     "data": {
      "text/plain": [
       "0.7040029443359179"
      ]
     },
     "execution_count": 466,
     "metadata": {},
     "output_type": "execute_result"
    }
   ],
   "source": [
    "xgb_cls.score(X_test, y_test)"
   ]
  },
  {
   "cell_type": "markdown",
   "id": "425b0ba5",
   "metadata": {},
   "source": [
    "Sytuacja jest analogiczna do tej z pierwszym zestawem danych, czyli tym niezawierającym kolumny `generation_name`. Model `XGBoost` poradził sobie lepiej dla znacznie ograniczonych wartości hiperparametrów. "
   ]
  },
  {
   "cell_type": "markdown",
   "id": "7cc8bbff",
   "metadata": {},
   "source": [
    "## Wnioski z podziału danych"
   ]
  },
  {
   "cell_type": "markdown",
   "id": "7f3bf40d",
   "metadata": {},
   "source": [
    "Okazało się, że drugi model `GXBoost` oparty na danych zawierających wszystkie kolumny poradził sobie lepiej. Kosztem posiadania wszystkich kolumn było usunięcie ok. 25% wierszy, jednak w każdym teście drugi model uzyskał lepszą dokładność.\n",
    "Dla obu zestawów danych model `Random Forest` miał podobną skuteczność."
   ]
  }
 ],
 "metadata": {
  "kernelspec": {
   "display_name": "Python 3 (ipykernel)",
   "language": "python",
   "name": "python3"
  },
  "language_info": {
   "codemirror_mode": {
    "name": "ipython",
    "version": 3
   },
   "file_extension": ".py",
   "mimetype": "text/x-python",
   "name": "python",
   "nbconvert_exporter": "python",
   "pygments_lexer": "ipython3",
   "version": "3.9.7"
  }
 },
 "nbformat": 4,
 "nbformat_minor": 5
}
